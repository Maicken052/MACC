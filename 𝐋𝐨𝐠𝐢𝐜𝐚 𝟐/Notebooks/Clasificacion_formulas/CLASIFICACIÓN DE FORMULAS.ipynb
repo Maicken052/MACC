{
 "cells": [
  {
   "cell_type": "markdown",
   "metadata": {},
   "source": [
    "<table>\n",
    "    <tr>\n",
    "        <td><img src=\"./img/Macc.png\" width=\"auto\"/></td>\n",
    "        <td>\n",
    "            <table><tr>\n",
    "            <h1 style=\"color:blue;text-align:center\">Lógica para Ciencias de la Computación</h1></td>\n",
    "            </tr></table>   \n",
    "        <td>&nbsp;</td>\n",
    "        <td>\n",
    "            <table><tr>\n",
    "            <tp><p style=\"font-size:150%;text-align:center\">Taller</p></tp>\n",
    "            <tp><p style=\"font-size:150%;text-align:center\">Clasificación de fórmulas</p></tp>\n",
    "            </tr></table>\n",
    "        </td>\n",
    "    </tr>\n",
    "</table>\n",
    "\n",
    "---"
   ]
  },
  {
   "cell_type": "markdown",
   "metadata": {},
   "source": [
    "# Objetivos <a class=\"anchor\" id=\"inicio\"></a>\n",
    "\n",
    "En este notebook vamos a utilizar las herramientas de evaluación del valor de verdad de una fórmula que hemos desarrollado hasta ahora, para clasificarla dentro de una de las categorías que aprendimos en clase. A saber, fórmulas válidas, satisfacibles, falseables, contingentes e inválidas."
   ]
  },
  {
   "cell_type": "markdown",
   "metadata": {},
   "source": [
    "# Secciones\n",
    "\n",
    "1. [SATproblem.](#sat)\n",
    "2. [Clasificación de fórmulas.](#clas)\n",
    "3. [Implicación lógica.](#imp)\n",
    "4. [Eficiencia de los algoritmos (opcional).](#efi)"
   ]
  },
  {
   "cell_type": "markdown",
   "metadata": {},
   "source": [
    "# SATproblem <a class=\"anchor\" id=\"sat\"></a>\n",
    "\n",
    "([Volver al inicio](#inicio))\n",
    "\n",
    "Hemos visto que una fórmula $A$ es satisacible sii existe una interpretación $I$ tal que $A$.valor$(I)=\\texttt{True}$. En lógica computacional, determinar si una fórmula $A$ es satisfacible se conoce como el SATproblem. En teoría de la complejidad, este problema es importante, toda vez que fue el primer problema que se demostró que es NP-completo. Pero esto es parte de otro curso. Para nosotros el SATproblem es importante porque su solución será la base tanto para la clasificación de fórmulas como para la resolución de problemas. \n",
    "\n",
    "Los algoritmos que, dada una fórmula $A$, búscan una interpretación $I$ tal que $A$.valor$(I)=\\texttt{True}$, se conocen como SATsolvers. En este notebook construiremos el primer SATsolver con base en las herramientas que tenemos a nuestra disposición."
   ]
  },
  {
   "cell_type": "markdown",
   "metadata": {},
   "source": [
    "**Ejercicio 1:** \n",
    "\n",
    "Implemente un método `SATtabla` el cual, dada una fórmula $A$, devuelve una interpretación $I$ tal que $A$.valor$(I)=\\texttt{True}$, si es que $A$ es satisfacible. Si no, `SATtabla` debe devolver `None`. Realice este método recorriendo las interpretaciones posibles de la fórmula una a una hasta encontrar una que la haga verdadera.\n",
    "\n",
    "Verifique su implementación para corroborar que las siguientes fórmulas son satisfacibles:\n",
    "\n",
    "**Nota importante:** Estas fórmulas usan simplificación de paréntesis. No olvide que para usar `inorder_to_tree` todos los paréntesis deben estar incluidos.\n",
    "\n",
    "\n",
    "* $\\neg p\\wedge q$\n",
    "* $\\bigl(p\\vee(q\\wedge r)\\bigr)\\wedge\\bigl((\\neg p\\vee \\neg q)\\wedge(\\neg p\\vee\\neg r)\\bigr)$\n",
    "* $(\\neg p\\leftrightarrow (q\\vee r))\\wedge(\\neg q\\vee\\neg p)\\wedge (\\neg r\\vee p)\\wedge (q\\vee r\\vee\\neg p)$\n",
    "\n",
    "Y que las siguientes fórmulas no son satisfacibles:\n",
    "\n",
    "* $p\\wedge (p\\to\\neg p)$\n",
    "* $\\neg(\\neg(p\\wedge q)\\to (\\neg p\\vee\\neg q))$\n",
    "* $(p\\leftrightarrow (q\\to r))\\wedge\\neg((q\\vee p)\\wedge (\\neg r\\vee p)\\wedge (\\neg q\\vee r\\vee\\neg p))$\n",
    "\n"
   ]
  },
  {
   "cell_type": "code",
   "execution_count": 53,
   "metadata": {},
   "outputs": [
    {
     "name": "stdout",
     "output_type": "stream",
     "text": [
      "{'p': False, 'q': True}\n",
      "{'p': True, 'q': False, 'r': False}\n",
      "{'p': False, 'q': True, 'r': False}\n",
      "None\n",
      "None\n",
      "None\n"
     ]
    }
   ],
   "source": [
    "from itertools import product\n",
    "from Logica import *\n",
    "\n",
    "#Creamos una función que nos retorne la lista de interpretaciones según la cantidad de atomos en la formula\n",
    "\n",
    "def interpretaciones_totales(formula):\n",
    "        I=[True,False]\n",
    "        atomos=formula.letras()\n",
    "        cantidad=len(atomos) #Cantidad de atomos\n",
    "        interpretaciones=list(product(I, repeat=cantidad))\n",
    "        return interpretaciones\n",
    "\n",
    "#Creamos una función que nos retorne si la formula es satisfacible o no\n",
    "\n",
    "def SATtabla(formula):\n",
    "    intepretaciones=interpretaciones_totales(formula)\n",
    "    atomos=formula.letras()\n",
    "    cantidad=len(atomos) #Cantidad de atomos\n",
    "    atomos=sorted(list(atomos)) #Atomos organizados\n",
    "    \n",
    "    for I in intepretaciones:\n",
    "        interpretacion={}\n",
    "        for i in range(0,cantidad):\n",
    "            interpretacion[atomos[i]]=I[i] #Le asignamos a cada atomo un valor de verdad\n",
    "        resultado=formula.valor(interpretacion)\n",
    "        if resultado==True:\n",
    "            R=str(interpretacion) #Si la interpretación es verdad, entonces la formula es satisfacible\n",
    "            return R\n",
    "    return None\n",
    "\n",
    "#Prueba 1\n",
    "f1=inorder_to_tree(\"(-pYq)\")\n",
    "print(SATtabla(f1))\n",
    "f2=inorder_to_tree(\"((pO(qYr))Y((-pO-q)Y(-pO-r)))\")\n",
    "print(SATtabla(f2))\n",
    "f3=inorder_to_tree(\"((-p=(qOr))Y((-qO-p)Y((-rOp)Y(qO(rO-p)))))\")\n",
    "print(SATtabla(f3))\n",
    "\n",
    "#Prueba 2\n",
    "f4=inorder_to_tree(\"(pY(p>-p))\")\n",
    "print(SATtabla(f4))\n",
    "f5=inorder_to_tree(\"-(-(pYq)>(-pO-q))\")\n",
    "print(SATtabla(f5))\n",
    "f6=inorder_to_tree(\"((p=(q>r))Y-((qOp)Y((-rOp)Y(-qO(rO-p)))))\")\n",
    "print(SATtabla(f6))"
   ]
  },
  {
   "cell_type": "markdown",
   "metadata": {},
   "source": [
    "---"
   ]
  },
  {
   "cell_type": "markdown",
   "metadata": {},
   "source": [
    "# Clasificación de fórmulas <a class=\"anchor\" id=\"clas\"></a>\n",
    "\n",
    "([Volver al inicio](#inicio))\n",
    "\n",
    "En clase vimos la siguiente clasificación de una fórmula $A$, con base en la cantidad de interpretaciones que la hacen verdadera:\n",
    "\n",
    "<img src=\"./img/clasificacion.png\" width=\"auto\"/>\n",
    "\n"
   ]
  },
  {
   "cell_type": "markdown",
   "metadata": {},
   "source": [
    "**Ejercicio 2:**\n",
    "\n",
    "Complete el siguiente diagrama de flujo que permite realizar la clasificación \"$A$ es válida\", \"$A$ es insatisfacible\", \"$A$ es contingente\", el cual está basado en el uso de un SATsolver para decidir si una fórmula es satisfacible o no:\n",
    "\n",
    "<img src=\"./img/flow1.png\" width=\"auto\"/>"
   ]
  },
  {
   "cell_type": "code",
   "execution_count": null,
   "metadata": {},
   "outputs": [],
   "source": [
    "¿-A es satisfacible?\n",
    "No: A es válida\n",
    "Si: A es contingente"
   ]
  },
  {
   "cell_type": "markdown",
   "metadata": {},
   "source": [
    "---"
   ]
  },
  {
   "cell_type": "markdown",
   "metadata": {},
   "source": [
    "**Ejercicio 3:**\n",
    "\n",
    "Utilice `if`s anidados para implementar el anterior diagrama de flujo en un método `clasifica` de la clase `Formula` que devuelve un string \"Válida\", \"Insatisfacible\" o \"Contingente\" de acuerdo a como corresponda.\n",
    "\n",
    "Compruebe su implementación con las siguientes fórmulas:\n",
    "\n",
    "* $p\\wedge (p\\to\\neg p)$ es insatisfacible.\n",
    "* $p\\to (\\neg p\\to q)$ es válida.\n",
    "* $p\\wedge (q\\to \\neg p)$ es contingente."
   ]
  },
  {
   "cell_type": "code",
   "execution_count": 54,
   "metadata": {},
   "outputs": [
    {
     "name": "stdout",
     "output_type": "stream",
     "text": [
      "Insatisfacible\n",
      "Válida\n",
      "Contingente\n"
     ]
    }
   ],
   "source": [
    "def clasifica(formula):\n",
    "    if SATtabla(formula)!=None: #Si es satisfacible\n",
    "        if (SATtabla(Negacion(formula)))==None:\n",
    "            return \"Válida\"\n",
    "        else:\n",
    "            return \"Contingente\"\n",
    "    else: #Si no es satisfacible\n",
    "        return \"Insatisfacible\"\n",
    "    \n",
    "#Prueba 1\n",
    "f1=inorder_to_tree(\"(pY(p>-p))\")\n",
    "print(clasifica(f1))\n",
    "\n",
    "#Prueba 2\n",
    "f2=inorder_to_tree(\"(p>(-p>q))\")  \n",
    "print(clasifica(f2))\n",
    "\n",
    "#Prueba 3\n",
    "f3=inorder_to_tree(\"(pY(q>-p))\")  \n",
    "print(clasifica(f3))"
   ]
  },
  {
   "cell_type": "markdown",
   "metadata": {},
   "source": [
    "# Implicación lógica <a class=\"anchor\" id=\"imp\"></a>\n",
    "\n",
    "([Volver al inicio](#inicio))\n",
    "\n",
    "Recordemos que en clase vimos la siguiente definición de implicación lógica:\n",
    "\n",
    "$U\\models B$ sii para toda interpretación $I$, si $A_i.\\mbox{valor}(I)=\\texttt{True}$ para todo $A_i\\in U$,        entonces $B.\\mbox{valor}(I)=\\texttt{True}$.\n",
    "\n",
    "También mencionamos que para verificar si hay o no implicación, es muy útil usar el siguiente teorema:\n",
    "\n",
    "*Proposición* Sea $B$ una fórmula y $U=\\{A_1,\\ldots,A_n\\}$ un conjunto de fórmulas:\n",
    "\n",
    "$U\\models B$ sii $\\bigl(A_1\\wedge\\ldots\\wedge A_n\\bigr)\\to B$ es válida."
   ]
  },
  {
   "cell_type": "markdown",
   "metadata": {},
   "source": [
    "**Ejercicio 4:**\n",
    "\n",
    "Complete el siguiente diagrama de flujo para determinar si hay implicación lógica entre un conjunto de fórmulas $U$ y una fórmula $B$ con base en un SATsolver.\n",
    "\n",
    "<img src=\"./img/flow_imp.png\" width=\"auto\"/>"
   ]
  },
  {
   "cell_type": "code",
   "execution_count": null,
   "metadata": {},
   "outputs": [],
   "source": [
    "¿-((𝐴1∧…∧𝐴𝑛)→𝐵)  es satisfacible?\n",
    "Si: 𝑈⊭𝐵 "
   ]
  },
  {
   "cell_type": "markdown",
   "metadata": {},
   "source": [
    "---"
   ]
  },
  {
   "cell_type": "markdown",
   "metadata": {},
   "source": [
    "**Ejercicio 5:**\n",
    "\n",
    "Implemente una función `imp_log` que recibe como argumentos una lista de fórmulas `[A1,...,An]` y una fórmula `B` y devuelve verdadero sii $\\{A_1,\\ldots,A_n\\}\\models B$.\n",
    "\n",
    "Compruebe su código con las siguientes implicaciones:\n",
    "\n",
    "* $U\\,{=}\\,\\{p, \\neg q\\}$; $B\\,{=}\\,\\neg(p\\to q)$.\n",
    "* $U\\,{=}\\,\\{p\\to q, \\neg r, q\\to r\\}$; $B\\,{=}\\,\\neg p$.\n",
    "* $U\\,{=}\\,\\{r\\vee s, \\neg s\\wedge\\neg r, p\\vee q, p\\to q, r\\to s\\}$; $B\\,{=}\\,\\neg p\\wedge\\neg q$.\n",
    "\n",
    "Y compruebe que las siguientes no son implicaciones:\n",
    "\n",
    "* $U\\,{=}\\,\\{p\\wedge r,\\ (p\\wedge q)\\rightarrow\\lnot r \\}$; $B\\,{=}\\, q$\n",
    "* $U\\,{=}\\,\\{p\\rightarrow q,\\ p\\wedge(q\\rightarrow r),\\ r\\rightarrow s \\}$; $B\\,{=}\\,p\\wedge\\lnot s$"
   ]
  },
  {
   "cell_type": "code",
   "execution_count": 55,
   "metadata": {},
   "outputs": [
    {
     "name": "stdout",
     "output_type": "stream",
     "text": [
      "True\n",
      "True\n",
      "True\n",
      "False\n",
      "False\n"
     ]
    }
   ],
   "source": [
    "def imp_log(U, B):\n",
    "    U_form=U[0]  #Primera formula\n",
    "    cant=len(U)  #Longitud de la lista de formulas\n",
    "    for i in range(1, cant):\n",
    "        U_form=\"(\"+U_form+\"Y\"+U[i]+\")\"  #Concatena la formula anterior con la formula nueva\n",
    "    U=inorder_to_tree(U_form)\n",
    "    A=Binario(\">\", U, B)\n",
    "    if SATtabla(Negacion(A))!=None:\n",
    "        return False\n",
    "    else:\n",
    "        return True\n",
    "\n",
    "#Prueba 1\n",
    "U1=['p', '-q']\n",
    "B1=inorder_to_tree('-(p>q)')\n",
    "print(imp_log(U1,B1))\n",
    "\n",
    "#Prueba 2\n",
    "U2=['(p>q)', '-r', '(q>r)']\n",
    "B2=inorder_to_tree('-p')\n",
    "print(imp_log(U2,B2))\n",
    "\n",
    "#Prueba 3\n",
    "U3=['(rOs)', '(-sY-r)', '(pOq)', '(p>q)', '(r>s)']\n",
    "B3=inorder_to_tree('(-pY-q)')\n",
    "print(imp_log(U3,B3))\n",
    "\n",
    "#Prueba 4\n",
    "U4=['(pYr)', '((pYq)>-r)']\n",
    "B4=inorder_to_tree('q')\n",
    "print(imp_log(U4,B4))\n",
    "\n",
    "#Prueba 5\n",
    "U5=['(p>q)', '(pY(q>r))', '(r>s)']\n",
    "B5=inorder_to_tree('(pY-s)')\n",
    "print(imp_log(U5,B5))"
   ]
  },
  {
   "cell_type": "markdown",
   "metadata": {},
   "source": [
    "---"
   ]
  },
  {
   "cell_type": "markdown",
   "metadata": {},
   "source": [
    "# Sección opcional: Eficiencia de los algoritmos <a class=\"anchor\" id=\"efi\"></a>\n",
    "\n",
    "\n",
    "([Volver al inicio](#inicio))\n",
    "\n",
    "Hemos afirmado anteriormente que la eficiencia de los algoritmos es un tema central en las ciencias de la computación. Vamos a comprobar que nuestro SATsolver hasta el momento tiene un comportamiento exponencial de tiempo de ejecución con base en el número de letras proposicionales distintas que haya en la fórmula de entrada. Así pues, vamos a ver que el tiempo que demora el método `SATtabla` al correr sobre una fórmula `A` depende de manera exponencial en el tamaño de `A.letras()`.\n",
    "\n",
    "Definimos nuestras funciones para medir tiempos en una lista de entradas: "
   ]
  },
  {
   "cell_type": "code",
   "execution_count": 56,
   "metadata": {},
   "outputs": [],
   "source": [
    "from time import time\n",
    "import seaborn as sns\n",
    "import pandas as pd\n",
    "\n",
    "def obtiene_tiempos(fun, args, num_it=100):\n",
    "    tiempos_fun = []\n",
    "    for i in range(num_it):\n",
    "        arranca = time()\n",
    "        x = fun(*args)\n",
    "        para = time()\n",
    "        tiempos_fun.append(para - arranca)\n",
    "    return tiempos_fun\n",
    "\n",
    "def compara_entradas(fun, lista_args, N=100):\n",
    "    entradas = []\n",
    "    tiempos = []\n",
    "    for i, args in enumerate(lista_args):\n",
    "        t = obtiene_tiempos(fun, [args], N)\n",
    "        tiempos += t\n",
    "        n = len(t)\n",
    "        entradas += [i+1]*n\n",
    "    df = pd.DataFrame({'Long_entrada':entradas, 'Tiempo_prom':tiempos})\n",
    "    print(df.head())\n",
    "    sns.lineplot(x='Long_entrada',y='Tiempo_prom',data=df)\n",
    "    plt.show()"
   ]
  },
  {
   "cell_type": "markdown",
   "metadata": {},
   "source": [
    "Creamos nuestra lista de fórmulas:"
   ]
  },
  {
   "cell_type": "code",
   "execution_count": 48,
   "metadata": {},
   "outputs": [
    {
     "data": {
      "text/plain": [
       "['Ā',\n",
       " '(Ā=ā)',\n",
       " '((Ā=ā)=-Ă)',\n",
       " '(((Ā=ā)=-Ă)>ă)',\n",
       " '((((Ā=ā)=-Ă)>ă)>Ą)',\n",
       " '(((((Ā=ā)=-Ă)>ă)>Ą)=-ą)',\n",
       " '((((((Ā=ā)=-Ă)>ă)>Ą)=-ą)=Ć)',\n",
       " '(((((((Ā=ā)=-Ă)>ă)>Ą)=-ą)=Ć)>ć)',\n",
       " '((((((((Ā=ā)=-Ă)>ă)>Ą)=-ą)=Ć)>ć)>Ĉ)',\n",
       " '(((((((((Ā=ā)=-Ă)>ă)>Ą)=-ą)=Ć)>ć)>Ĉ)=-ĉ)',\n",
       " '((((((((((Ā=ā)=-Ă)>ă)>Ą)=-ą)=Ć)>ć)>Ĉ)=-ĉ)Y-Ċ)',\n",
       " '(((((((((((Ā=ā)=-Ă)>ă)>Ą)=-ą)=Ć)>ć)>Ĉ)=-ĉ)Y-Ċ)Y-ċ)',\n",
       " '((((((((((((Ā=ā)=-Ă)>ă)>Ą)=-ą)=Ć)>ć)>Ĉ)=-ĉ)Y-Ċ)Y-ċ)>-Č)',\n",
       " '(((((((((((((Ā=ā)=-Ă)>ă)>Ą)=-ą)=Ć)>ć)>Ĉ)=-ĉ)Y-Ċ)Y-ċ)>-Č)O-č)',\n",
       " '((((((((((((((Ā=ā)=-Ă)>ă)>Ą)=-ą)=Ć)>ć)>Ĉ)=-ĉ)Y-Ċ)Y-ċ)>-Č)O-č)=Ď)',\n",
       " '(((((((((((((((Ā=ā)=-Ă)>ă)>Ą)=-ą)=Ć)>ć)>Ĉ)=-ĉ)Y-Ċ)Y-ċ)>-Č)O-č)=Ď)=-ď)',\n",
       " '((((((((((((((((Ā=ā)=-Ă)>ă)>Ą)=-ą)=Ć)>ć)>Ĉ)=-ĉ)Y-Ċ)Y-ċ)>-Č)O-č)=Ď)=-ď)=Đ)',\n",
       " '(((((((((((((((((Ā=ā)=-Ă)>ă)>Ą)=-ą)=Ć)>ć)>Ĉ)=-ĉ)Y-Ċ)Y-ċ)>-Č)O-č)=Ď)=-ď)=Đ)=-đ)',\n",
       " '((((((((((((((((((Ā=ā)=-Ă)>ă)>Ą)=-ą)=Ć)>ć)>Ĉ)=-ĉ)Y-Ċ)Y-ċ)>-Č)O-č)=Ď)=-ď)=Đ)=-đ)=-Ē)',\n",
       " '(((((((((((((((((((Ā=ā)=-Ă)>ă)>Ą)=-ą)=Ć)>ć)>Ĉ)=-ĉ)Y-Ċ)Y-ċ)>-Č)O-č)=Ď)=-ď)=Đ)=-đ)=-Ē)O-ē)']"
      ]
     },
     "execution_count": 48,
     "metadata": {},
     "output_type": "execute_result"
    }
   ],
   "source": [
    "from random import uniform, choice\n",
    "\n",
    "cantidad = 20\n",
    "letras = [chr(i) for i in range(256, 256+cantidad)]\n",
    "lista = [letras[0]]\n",
    "formula = letras[0]\n",
    "for p in letras[1:]:\n",
    "    neg = '-' if uniform(0,1) > .5 else ''\n",
    "    conectivo = choice(['Y','O','>','='])\n",
    "    formula = \"(\" + formula + conectivo + neg + p + \")\"\n",
    "    lista.append(formula)\n",
    "\n",
    "lista"
   ]
  },
  {
   "cell_type": "markdown",
   "metadata": {},
   "source": [
    "Y, finalmente, medimos los tiempos de ejecución para cada fórmula:"
   ]
  },
  {
   "cell_type": "code",
   "execution_count": 52,
   "metadata": {
    "scrolled": false
   },
   "outputs": [
    {
     "name": "stdout",
     "output_type": "stream",
     "text": [
      "   Long_entrada  Tiempo_prom\n",
      "0             1          0.0\n",
      "1             1          0.0\n",
      "2             1          0.0\n",
      "3             1          0.0\n",
      "4             1          0.0\n"
     ]
    },
    {
     "ename": "NameError",
     "evalue": "name 'plt' is not defined",
     "output_type": "error",
     "traceback": [
      "\u001b[1;31m---------------------------------------------------------------------------\u001b[0m",
      "\u001b[1;31mNameError\u001b[0m                                 Traceback (most recent call last)",
      "Input \u001b[1;32mIn [52]\u001b[0m, in \u001b[0;36m<cell line: 2>\u001b[1;34m()\u001b[0m\n\u001b[0;32m      1\u001b[0m fun \u001b[38;5;241m=\u001b[39m \u001b[38;5;28;01mlambda\u001b[39;00m formula: SATtabla(inorder_to_tree(formula))\n\u001b[1;32m----> 2\u001b[0m \u001b[43mcompara_entradas\u001b[49m\u001b[43m(\u001b[49m\u001b[43mfun\u001b[49m\u001b[43m,\u001b[49m\u001b[43m \u001b[49m\u001b[43mlista\u001b[49m\u001b[43m)\u001b[49m\n",
      "Input \u001b[1;32mIn [45]\u001b[0m, in \u001b[0;36mcompara_entradas\u001b[1;34m(fun, lista_args, N)\u001b[0m\n\u001b[0;32m     23\u001b[0m \u001b[38;5;28mprint\u001b[39m(df\u001b[38;5;241m.\u001b[39mhead())\n\u001b[0;32m     24\u001b[0m sns\u001b[38;5;241m.\u001b[39mlineplot(x\u001b[38;5;241m=\u001b[39m\u001b[38;5;124m'\u001b[39m\u001b[38;5;124mLong_entrada\u001b[39m\u001b[38;5;124m'\u001b[39m,y\u001b[38;5;241m=\u001b[39m\u001b[38;5;124m'\u001b[39m\u001b[38;5;124mTiempo_prom\u001b[39m\u001b[38;5;124m'\u001b[39m,data\u001b[38;5;241m=\u001b[39mdf)\n\u001b[1;32m---> 25\u001b[0m \u001b[43mplt\u001b[49m\u001b[38;5;241m.\u001b[39mshow()\n",
      "\u001b[1;31mNameError\u001b[0m: name 'plt' is not defined"
     ]
    },
    {
     "data": {
      "image/png": "[encoded data removed]",
      "text/plain": [
       "<Figure size 432x288 with 1 Axes>"
      ]
     },
     "metadata": {
      "needs_background": "light"
     },
     "output_type": "display_data"
    }
   ],
   "source": [
    "fun = lambda formula: SATtabla(inorder_to_tree(formula))\n",
    "compara_entradas(fun, lista)"
   ]
  },
  {
   "cell_type": "markdown",
   "metadata": {},
   "source": [
    "En esta gráfica es muy fácil apreciar que, a medida que aumentamos el número de letras proposicionales distintas en la fórmula de entrada, el algoritmo se tarda cada vez más en determinar si ella es satisfacible. Más aún, la relación entre el número de letras y el tiempo es claramente exponencial.\n",
    "\n",
    "Como conclusión, vemos que si necesitamos una gran cantidad de letras proposicionales, nuestro SATsolver `SATtabla` resultará completamente ineficiente."
   ]
  },
  {
   "cell_type": "markdown",
   "metadata": {},
   "source": [
    "---"
   ]
  }
 ],
 "metadata": {
  "kernelspec": {
   "display_name": "Python 3 (ipykernel)",
   "language": "python",
   "name": "python3"
  },
  "language_info": {
   "codemirror_mode": {
    "name": "ipython",
    "version": 3
   },
   "file_extension": ".py",
   "mimetype": "text/x-python",
   "name": "python",
   "nbconvert_exporter": "python",
   "pygments_lexer": "ipython3",
   "version": "3.9.12"
  }
 },
 "nbformat": 4,
 "nbformat_minor": 4
}
