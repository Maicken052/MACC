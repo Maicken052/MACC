{
 "cells": [
  {
   "cell_type": "markdown",
   "id": "a2efea3d",
   "metadata": {},
   "source": [
    "FUNCIONES Y COSITAS PARA EL PARCIAL :)"
   ]
  },
  {
   "cell_type": "markdown",
   "id": "0bd9a36d",
   "metadata": {},
   "source": [
    "Interpretación: Todas las posibles evaluaciones de una formula"
   ]
  },
  {
   "cell_type": "markdown",
   "id": "86e088c1",
   "metadata": {},
   "source": [
    "Modelo: Interpretaciones que hacen que una formula sea verdadera"
   ]
  },
  {
   "cell_type": "markdown",
   "id": "70a64a32",
   "metadata": {},
   "source": [
    "Las proposiciones simples son las unicas que pueden tener atomos(letras). (ej= p: Pedro no estudia, q:Pedro saca malas notas, p->q: Como pedro no estudia, saca malas notas)"
   ]
  },
  {
   "cell_type": "markdown",
   "id": "e3e9dc58",
   "metadata": {},
   "source": [
    "---------------------------------------------FUNCIONES RECURSIVAS BASICAS------------------------------------------------------"
   ]
  },
  {
   "cell_type": "markdown",
   "id": "15031aa7",
   "metadata": {},
   "source": [
    "FUNCIÓN PREDECESOR Y RESTA"
   ]
  },
  {
   "cell_type": "code",
   "execution_count": 2,
   "id": "b6c756a8",
   "metadata": {},
   "outputs": [],
   "source": [
    "def Pred(n):\n",
    "\n",
    "  if n==0:\n",
    "\n",
    "    return 0\n",
    "\n",
    "  elif n > 0:\n",
    "\n",
    "    return n - 1\n",
    "\n",
    "def R(m, n):\n",
    "\n",
    "  if n == 0:\n",
    "\n",
    "    return m\n",
    "\n",
    "  elif n > 0:\n",
    "\n",
    "    return Pred(R(m, Pred(n)))"
   ]
  },
  {
   "cell_type": "markdown",
   "id": "c7faaa7f",
   "metadata": {},
   "source": [
    "FUNCION FACTORIAL"
   ]
  },
  {
   "cell_type": "code",
   "execution_count": 3,
   "id": "c1d11022",
   "metadata": {},
   "outputs": [],
   "source": [
    "def fact(n):\n",
    "    if n==0:\n",
    "        return 1\n",
    "    else:\n",
    "        return n*fact(n-1)"
   ]
  },
  {
   "cell_type": "markdown",
   "id": "de427cd4",
   "metadata": {},
   "source": [
    "FUNCION SUCESOR"
   ]
  },
  {
   "cell_type": "code",
   "execution_count": 4,
   "id": "c2415a21",
   "metadata": {},
   "outputs": [],
   "source": [
    "def s(n):\n",
    "    if n==0:\n",
    "        return 1\n",
    "    else:\n",
    "        return 1+s(n-1)"
   ]
  },
  {
   "cell_type": "markdown",
   "id": "63018ff0",
   "metadata": {},
   "source": [
    "FUNCION POTENCIA"
   ]
  },
  {
   "cell_type": "code",
   "execution_count": 5,
   "id": "200fb5be",
   "metadata": {},
   "outputs": [],
   "source": [
    "def pot(n, m):\n",
    "    if n==0:\n",
    "        return 1\n",
    "    elif m==0:\n",
    "        return 1\n",
    "    else:\n",
    "        return n*pot(n, m-1)"
   ]
  },
  {
   "cell_type": "markdown",
   "id": "2ffcf87c",
   "metadata": {},
   "source": [
    "---------------------------------------------------ARBOLES BINARIOS------------------------------------------------------------"
   ]
  },
  {
   "cell_type": "markdown",
   "id": "bbd564ea",
   "metadata": {},
   "source": [
    "CLASE TREE"
   ]
  },
  {
   "cell_type": "code",
   "execution_count": 6,
   "id": "495e127f",
   "metadata": {},
   "outputs": [],
   "source": [
    "class Tree:\n",
    "    def __init__(self, izq, der):\n",
    "        self.left=izq\n",
    "        self.right=der\n",
    "        \n",
    "    def Hoja_o_Rama(self):\n",
    "        if self.left==None:\n",
    "            print(\"Hoja\")\n",
    "        else:\n",
    "            print(\"Rama\")\n",
    "            \n",
    "Hoja=Tree(None, None)\n",
    "Rama=Tree(Hoja, Hoja)"
   ]
  },
  {
   "cell_type": "markdown",
   "id": "c95d7759",
   "metadata": {},
   "source": [
    "FUNCION #NODOS"
   ]
  },
  {
   "cell_type": "code",
   "execution_count": 7,
   "id": "d8fb289d",
   "metadata": {},
   "outputs": [],
   "source": [
    "def num_nodos(A):\n",
    "    if A.left==None:\n",
    "        return 1\n",
    "    else:\n",
    "        return 1+num_nodos(A.left)+num_nodos(A.right)"
   ]
  },
  {
   "cell_type": "markdown",
   "id": "dd3fc801",
   "metadata": {},
   "source": [
    "FUNCION #HOJAS"
   ]
  },
  {
   "cell_type": "code",
   "execution_count": 8,
   "id": "276fc671",
   "metadata": {},
   "outputs": [],
   "source": [
    "def num_Hojas(A):\n",
    "    if A.left==None:\n",
    "        return 1\n",
    "    else:\n",
    "        return num_Hojas(A.left)+num_Hojas(A.right)"
   ]
  },
  {
   "cell_type": "markdown",
   "id": "64f112a2",
   "metadata": {},
   "source": [
    "FUNCION #ARISTAS"
   ]
  },
  {
   "cell_type": "code",
   "execution_count": 9,
   "id": "961c9c45",
   "metadata": {},
   "outputs": [],
   "source": [
    "def num_aristas(A):\n",
    "    if A.left==None:\n",
    "        return 0\n",
    "    else:\n",
    "        return 2+num_aristas(A.left)+num_aristas(A.right)"
   ]
  },
  {
   "cell_type": "markdown",
   "id": "184cc839",
   "metadata": {},
   "source": [
    "FUNCION ALTURA"
   ]
  },
  {
   "cell_type": "code",
   "execution_count": 10,
   "id": "3ba79bd3",
   "metadata": {},
   "outputs": [],
   "source": [
    "def Altura(A):\n",
    "    if A.left == None:\n",
    "        return 0\n",
    "    else:\n",
    "        1 + max(A.left, A.right)"
   ]
  },
  {
   "cell_type": "markdown",
   "id": "b1549336",
   "metadata": {},
   "source": [
    "FUNCION CORTA"
   ]
  },
  {
   "cell_type": "code",
   "execution_count": 11,
   "id": "d196c11d",
   "metadata": {},
   "outputs": [],
   "source": [
    "def Corta(A):\n",
    "    if A.left == None:\n",
    "        return 0\n",
    "    else:\n",
    "        1 + min(A.left, A.right)"
   ]
  },
  {
   "cell_type": "code",
   "execution_count": 12,
   "id": "7663d978",
   "metadata": {},
   "outputs": [
    {
     "ename": "SyntaxError",
     "evalue": "invalid syntax (3030453370.py, line 1)",
     "output_type": "error",
     "traceback": [
      "\u001b[1;36m  Input \u001b[1;32mIn [12]\u001b[1;36m\u001b[0m\n\u001b[1;33m    FUNCION ALTURA DE CADA RAMA\u001b[0m\n\u001b[1;37m            ^\u001b[0m\n\u001b[1;31mSyntaxError\u001b[0m\u001b[1;31m:\u001b[0m invalid syntax\n"
     ]
    }
   ],
   "source": [
    "FUNCION ALTURA DE CADA RAMA"
   ]
  },
  {
   "cell_type": "code",
   "execution_count": null,
   "id": "ad16ab9e",
   "metadata": {},
   "outputs": [],
   "source": [
    "def A_RAMAS(A):\n",
    "    if A.right == None:\n",
    "        return [0]\n",
    "    else:\n",
    "        return [x + 1 for x in F(A.left)] + [x + 1 for x in F(A.right)]"
   ]
  },
  {
   "cell_type": "markdown",
   "id": "58b8e074",
   "metadata": {},
   "source": [
    "--------------------------------------------------------FORMULAS---------------------------------------------------------------"
   ]
  },
  {
   "cell_type": "code",
   "execution_count": null,
   "id": "057daeee",
   "metadata": {},
   "outputs": [],
   "source": [
    "CLASE FORMULA"
   ]
  },
  {
   "cell_type": "code",
   "execution_count": null,
   "id": "1de475f1",
   "metadata": {},
   "outputs": [],
   "source": [
    "class Formula :\n",
    "    \n",
    "    def __init__(self) :\n",
    "        pass\n",
    "\n",
    "    def __str__(self) :    #pasar objeto formula a str\n",
    "        if type(self) == Letra:\n",
    "            return self.letra\n",
    "        elif type(self) == Negacion:\n",
    "            return '-' + str(self.subf)\n",
    "        elif type(self) == Binario:\n",
    "            return \"(\" + str(self.left) + self.conectivo + str(self.right) + \")\"\n",
    "    \n",
    "    def letras(self):    #Obtener un listado de las letras que hay en la formula\n",
    "        if type(self) == Letra:\n",
    "            return set(self.letra)\n",
    "        elif type(self) == Negacion:\n",
    "            return self.subf.letras()\n",
    "        elif type(self) == Binario:\n",
    "            return self.left.letras().union(self.right.letras())\n",
    "        \n",
    "    def sust(self, A, Ap):   #Sustituye una parte de la formula A por ap\n",
    "        if A in self.subforms()==False:\n",
    "            return self\n",
    "        elif A == self:\n",
    "            return Ap\n",
    "        elif type(self) == Negacion:\n",
    "            return Negacion(self.subf.sust(A, Ap))\n",
    "        elif type(self) == Binario:\n",
    "            return Binario(self.conectivo, self.left.sust(A, Ap), self.right.sust(A, Ap))\n",
    "\n",
    "\n",
    "    def subforms(self):    #Obtiene todas las subformulas de una formula\n",
    "        sub=[]\n",
    "        if type(self) == Letra:\n",
    "            sub.append(self.letra)\n",
    "            return sub\n",
    "        if type(self) == Negacion:\n",
    "            sub.extend(tuple((str(self),self.subf.subforms())))\n",
    "            return sub\n",
    "        if type(self) == Binario:\n",
    "            sub.extend(tuple((str(self), self.left.subforms(), self.right.subforms())))\n",
    "            return sub\n",
    "    \n",
    "    def num_letras(self):    #Obtener número de letras de la formula\n",
    "        if type(self) == Letra:\n",
    "            return 1\n",
    "        if type(self) == Negacion:\n",
    "            return self.subf.num_letras()\n",
    "        if type(self) == Binario:\n",
    "            return self.left.num_letras() + self.right.num_letras()\n",
    "        \n",
    "    def num_paren(self) :    #Obtener número de parentesis de la formula\n",
    "        if type(self) == Letra:\n",
    "            return 0\n",
    "        elif type(self) == Negacion:\n",
    "            return self.subf.num_paren()\n",
    "        elif type(self) == Binario:\n",
    "            return 2 + self.left.num_paren() + self.right.num_paren()\n",
    "\n",
    "    def num_conec(self) :    #Obtener número de conectivos de la formula\n",
    "        if type(self) == Letra:\n",
    "            return 0\n",
    "        elif type(self) == Negacion:\n",
    "            return 1 + self.subf.num_conec()\n",
    "        elif type(self) == Binario:\n",
    "            return 1 + self.left.num_conec() + self.right.num_conec()\n",
    "\n",
    "    def valor(self, I) :   #Obtiene el valor de verdad de una formula, con las interpretaciones\n",
    "        if type(self) == Letra:\n",
    "            return I[self.letra]\n",
    "        elif type(self) == Negacion:\n",
    "            return not self.subf.valor(I)\n",
    "        elif type(self) == Binario:\n",
    "            if self.conectivo == 'Y':\n",
    "                return self.left.valor(I) and self.right.valor(I)\n",
    "            if self.conectivo == 'O':\n",
    "                return self.left.valor(I) or self.right.valor(I)\n",
    "            if self.conectivo == '>':\n",
    "                return not self.left.valor(I) or self.right.valor(I)\n",
    "            if self.conectivo == '=':\n",
    "                return (self.left.valor(I) and self.right.valor(I)) or (not self.left.valor(I) and not self.right.valor(I)) \n",
    "        \n",
    "class Letra(Formula) :\n",
    "    def __init__ (self, letra:str) :\n",
    "        self.letra = letra\n",
    "           \n",
    "class Negacion(Formula) :    \n",
    "    def __init__(self, subf:Formula) : \n",
    "        self.subf = subf\n",
    "        \n",
    "class Binario(Formula) :\n",
    "    def __init__(self, conectivo:str, left:Formula, right:Formula) :\n",
    "        assert(conectivo in ['Y','O','>','='])\n",
    "        self.conectivo = conectivo\n",
    "        self.left = left\n",
    "        self.right = right"
   ]
  },
  {
   "cell_type": "markdown",
   "id": "d324facf",
   "metadata": {},
   "source": [
    "FUNCION QUE PASA STR A FORMULA"
   ]
  },
  {
   "cell_type": "code",
   "execution_count": null,
   "id": "70908227",
   "metadata": {},
   "outputs": [],
   "source": [
    "def inorder_to_tree(cadena:str):\n",
    "    conectivos = ['Y', 'O', '>', '=']\n",
    "    if len(cadena) == 1:\n",
    "        return Letra(cadena)\n",
    "    elif cadena[0] == '-':\n",
    "        return Negacion(inorder_to_tree(cadena[1:]))\n",
    "    elif cadena[0] == \"(\":\n",
    "        counter = 0 #Contador de parentesis\n",
    "        for i in range(1, len(cadena)):\n",
    "            if cadena[i] == \"(\":\n",
    "                counter += 1\n",
    "            elif cadena[i] == \")\":\n",
    "                counter -=1\n",
    "            elif cadena[i] in conectivos and counter == 0:\n",
    "                return Binario(cadena[i], inorder_to_tree(cadena[1:i]),inorder_to_tree(cadena[i + 1:-1]))\n",
    "    else:\n",
    "        raise Exception('¡Cadena inválida!')"
   ]
  },
  {
   "cell_type": "markdown",
   "id": "90186d80",
   "metadata": {},
   "source": [
    "FUNCION QUE OBTIENE MODELOS"
   ]
  },
  {
   "cell_type": "code",
   "execution_count": 14,
   "id": "84c07c80",
   "metadata": {},
   "outputs": [],
   "source": [
    "from itertools import product\n",
    " \n",
    "#Creamos una función que nos retorne la lista de interpretaciones según la cantidad de atomos en la formula\n",
    "\n",
    "def interpretaciones_totales(formula):\n",
    "        I=[True,False]\n",
    "        atomos=formula.letras()\n",
    "        cantidad=len(atomos) #Cantidad de atomos\n",
    "        interpretaciones=list(product(I, repeat=cantidad))\n",
    "        return interpretaciones\n",
    "\n",
    "#Creamos una función que nos retorne una lista con los modelos \n",
    "\n",
    "def modelos(formula):\n",
    "    intepretaciones=interpretaciones_totales(formula)\n",
    "    model=[] #Lista con los modelos\n",
    "    atomos=formula.letras()\n",
    "    cantidad=len(atomos) #Cantidad de atomos\n",
    "    atomos=sorted(list(atomos)) #Atomos organizados\n",
    "    \n",
    "    for I in intepretaciones:\n",
    "        interpretacion={}\n",
    "        for i in range(0,cantidad):\n",
    "            interpretacion[atomos[i]]=I[i] #Le asignamos a cada atomo un valor de verdad\n",
    "        resultado=formula.valor(interpretacion)\n",
    "        if resultado==True:\n",
    "            model.append(interpretacion) #Si la interpretación es verdad, entonces se agrega a la lista de modelos\n",
    "    if model==[]:\n",
    "        return \"No hay modelos\"\n",
    "    else:\n",
    "        return \"Los modelos son: \" + str(model)"
   ]
  },
  {
   "cell_type": "code",
   "execution_count": null,
   "id": "98c70d04",
   "metadata": {},
   "outputs": [],
   "source": []
  }
 ],
 "metadata": {
  "kernelspec": {
   "display_name": "Python 3 (ipykernel)",
   "language": "python",
   "name": "python3"
  },
  "language_info": {
   "codemirror_mode": {
    "name": "ipython",
    "version": 3
   },
   "file_extension": ".py",
   "mimetype": "text/x-python",
   "name": "python",
   "nbconvert_exporter": "python",
   "pygments_lexer": "ipython3",
   "version": "3.9.12"
  }
 },
 "nbformat": 4,
 "nbformat_minor": 5
}
