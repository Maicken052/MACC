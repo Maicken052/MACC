{
 "cells": [
  {
   "cell_type": "markdown",
   "metadata": {},
   "source": [
    "<table>\n",
    "    <tr>\n",
    "        <td><img src=\"./img/Macc.png\" width=\"auto\"/></td>\n",
    "        <td>\n",
    "            <table><tr>\n",
    "            <h1 style=\"color:blue;text-align:center\">Lógica para Ciencias de la Computación</h1></td>\n",
    "            </tr></table>   \n",
    "        <td>&nbsp;</td>\n",
    "        <td>\n",
    "            <table><tr>\n",
    "            <tp><p style=\"font-size:150%;text-align:center\">Taller</p></tp>\n",
    "            <tp><p style=\"font-size:150%;text-align:center\">Equivalencia lógica</p></tp>\n",
    "            </tr></table>\n",
    "        </td>\n",
    "    </tr>\n",
    "</table>\n",
    "\n",
    "---"
   ]
  },
  {
   "cell_type": "markdown",
   "metadata": {},
   "source": [
    "# Objetivos <a class=\"anchor\" id=\"inicio\"></a>\n",
    "\n",
    "Una vez tenemos nuestra implementación de las fórmulas de la lógica proposicional como clases en Python, podemos comenzar a hacer pruebas interesantes. En este notebook vamos a determinar si dos fórmulas son equivalentes."
   ]
  },
  {
   "cell_type": "markdown",
   "metadata": {},
   "source": [
    "# Secciones\n",
    "\n",
    "1. [Equivalencia lógica.](#eq)\n",
    "2. [Sustituciones.](#sus)\n",
    "3. [Froma normal conjuntiva.](#fnc)"
   ]
  },
  {
   "cell_type": "markdown",
   "metadata": {},
   "source": [
    "# Equivalencia lógica <a class=\"anchor\" id=\"eq\"></a>\n",
    "\n",
    "([Volver al inicio](#inicio))\n",
    "\n",
    "Sean $A$, $B$, fórmulas. La equivalencia entre $A$ y $B$ (denotada por $A\\equiv B$) se define de la siguiente manera:\n",
    "\n",
    "$$\n",
    "A\\equiv B \\mbox{ si, y solamente si, }A.valor(I)=B.valor(I)\\mbox{ para toda interpretación }I\n",
    "$$\n",
    "\n",
    "Observe que ya habíamos usado la equivalencia anteriormente. Hicimos uso de ella para encontrar cuál era la prioridad de las operaciones booleanas en Python. En este caso revisamos las tablas de verdad de ambas variables para ver si las columnas eran todas iguales.\n",
    "\n",
    "Vamos a operacionalizar esto en una función `chequear_equivalencia` en Python, la cual toma dos fórmulas (como árboles) como argumento. La función debe recorrer cada una de las interpretaciones posibles, y detener si no tienen el mismo valor. Si recorre todas sin detenerse, entonces son equivalentes.\n",
    "\n",
    "Observe que tenemos acceso al archivo `Logica.py`, en el cual están implementadas las fórmulas y la función `inorder_to_tree`:"
   ]
  },
  {
   "cell_type": "code",
   "execution_count": 1,
   "metadata": {},
   "outputs": [],
   "source": [
    "from Logica import *"
   ]
  },
  {
   "cell_type": "code",
   "execution_count": 2,
   "metadata": {},
   "outputs": [
    {
     "data": {
      "text/plain": [
       "True"
      ]
     },
     "execution_count": 2,
     "metadata": {},
     "output_type": "execute_result"
    }
   ],
   "source": [
    "A = inorder_to_tree('--p')\n",
    "I = {'p':True}\n",
    "A.valor(I)"
   ]
  },
  {
   "cell_type": "markdown",
   "metadata": {},
   "source": [
    "**Ejercicio 1:** \n",
    "\n",
    "Implemente la función `chequear_equivalencia`.\n",
    "\n",
    "Verifique su implementación para corroborar las siguientes equivalencias:\n",
    "\n",
    "* $(p\\to q)\\equiv(\\neg p\\vee q)$\n",
    "* $\\neg(p\\wedge q)\\equiv (\\neg p\\vee\\neg q)$\n",
    "* $\\neg(p\\vee q)\\equiv (\\neg p\\wedge\\neg q)$\n",
    "* $\\bigl(p\\vee(q\\wedge r)\\bigr)\\equiv\\bigl((p\\vee q)\\wedge(p\\vee r)\\bigr)$\n",
    "* $\\bigl(p\\wedge(q\\vee r)\\bigr)\\equiv\\bigl((p\\wedge q)\\vee(p\\wedge r)\\bigr)$\n",
    "\n",
    "Corrobore también que las siguientes NO son equivalencias:\n",
    "\n",
    "* $(p\\to q)\\not\\equiv(q\\to p)$\n",
    "* $\\bigl(p\\vee(q\\wedge r)\\bigr)\\not\\equiv\\bigl((p\\wedge q)\\vee(p\\wedge r)\\bigr)$"
   ]
  },
  {
   "cell_type": "code",
   "execution_count": 16,
   "metadata": {},
   "outputs": [
    {
     "name": "stdout",
     "output_type": "stream",
     "text": [
      "(𝑝→𝑞) ≡ (¬𝑝∨𝑞)\n",
      "¬(𝑝∧𝑞) ≡ (¬𝑝∨¬𝑞)\n",
      "¬(𝑝∨𝑞) ≡ (¬𝑝∧¬𝑞)\n",
      "(𝑝∨(𝑞∧𝑟)) ≡ ((𝑝∨𝑞)∧(𝑝∨𝑟))\n",
      "(𝑝∧(𝑞∨𝑟)) ≡ ((𝑝∧𝑞)∨(𝑝∧𝑟))\n",
      "(𝑝→𝑞) ≢  (𝑞→𝑝)\n",
      "(𝑝∨(𝑞∧𝑟)) ≢  ((𝑝∧𝑞)∨(𝑝∧𝑟))\n"
     ]
    }
   ],
   "source": [
    "from itertools import product\n",
    " \n",
    "#Creamos una función que nos retorne la lista de interpretaciones según la cantidad de atomos en la formula\n",
    "\n",
    "def interpretaciones_totales(formula):\n",
    "        I=[True,False]\n",
    "        atomos=formula.letras() #Lista con los atomos de la formula\n",
    "        cantidad=len(atomos) #Cantidad de atomos\n",
    "        interpretaciones=list(product(I, repeat=cantidad))\n",
    "        return interpretaciones\n",
    "\n",
    "#Creamos una función que nos retorne una lista con los modelos \n",
    "\n",
    "def chequear_equivalencia(f1, f2):\n",
    "    #Interpretaciones de cada formula\n",
    "    interpretaciones_f1=interpretaciones_totales(f1)\n",
    "    interpretaciones_f2=interpretaciones_totales(f2)\n",
    "    \n",
    "    #Lista que guarda los valores de verdad de cada formula\n",
    "    resultados_f1=[]\n",
    "    resultados_f2=[]\n",
    "    \n",
    "    #Lista de cantidad de atomos de f1\n",
    "    atomos_f1=f1.letras()\n",
    "    cantidad_f1=len(atomos_f1) \n",
    "    atomos_f1=sorted(list(atomos_f1)) #Atomos organizados\n",
    "    \n",
    "    #Lista de cantidad de atomos de f2\n",
    "    atomos_f2=f2.letras()\n",
    "    cantidad_f2=len(atomos_f2) \n",
    "    atomos_f2=sorted(list(atomos_f2)) #Atomos organizados\n",
    "     \n",
    "    #Llenamos la lista con los valores de verdad de cada interpretación de f1\n",
    "    for I in interpretaciones_f1:\n",
    "        interpretacion_f1={}\n",
    "        for i in range(0,cantidad_f1):\n",
    "            interpretacion_f1[atomos_f1[i]]=I[i] #Le asignamos a cada atomo un valor de verdad\n",
    "        resultado_f1=f1.valor(interpretacion_f1)\n",
    "        resultados_f1.append(resultado_f1)\n",
    "    \n",
    "    #Llenamos la lista con los valores de verdad de cada interpretación de f2\n",
    "    for J in interpretaciones_f2:\n",
    "        interpretacion_f2={}\n",
    "        for i in range(0,cantidad_f2):\n",
    "            interpretacion_f2[atomos_f2[i]]=J[i] #Le asignamos a cada atomo un valor de verdad\n",
    "        resultado_f2=f2.valor(interpretacion_f2)\n",
    "        resultados_f2.append(resultado_f2)\n",
    "        \n",
    "    if resultados_f1!=resultados_f2:\n",
    "        return \"≢ \" #Si las listas son diferentes, no son equivalentes\n",
    "    else:\n",
    "        return \"≡\"\n",
    "\n",
    "    \n",
    "#Prueba 1\n",
    "f_1=inorder_to_tree(\"(p>q)\")\n",
    "f_1_2=inorder_to_tree(\"(-pOq)\")\n",
    "print(f'(𝑝→𝑞) {chequear_equivalencia(f_1, f_1_2)} (¬𝑝∨𝑞)')\n",
    "\n",
    "#Prueba 2\n",
    "f_2=inorder_to_tree(\"-(pYq)\")\n",
    "f_2_2=inorder_to_tree(\"(-pO-q)\")\n",
    "print(f'¬(𝑝∧𝑞) {chequear_equivalencia(f_2, f_2_2)} (¬𝑝∨¬𝑞)')\n",
    "\n",
    "#Prueba 3\n",
    "f_3=inorder_to_tree(\"-(pOq)\")\n",
    "f_3_2=inorder_to_tree(\"(-pY-q)\")\n",
    "print(f'¬(𝑝∨𝑞) {chequear_equivalencia(f_3, f_3_2)} (¬𝑝∧¬𝑞)')\n",
    "\n",
    "#Prueba 4\n",
    "f_4=inorder_to_tree(\"(pO(qYr))\")\n",
    "f_4_2=inorder_to_tree(\"((pOq)Y(pOr))\")\n",
    "print(f'(𝑝∨(𝑞∧𝑟)) {chequear_equivalencia(f_4, f_4_2)} ((𝑝∨𝑞)∧(𝑝∨𝑟))')\n",
    "\n",
    "#Prueba 5\n",
    "f_5=inorder_to_tree(\"(pY(qOr))\")\n",
    "f_5_2=inorder_to_tree(\"((pYq)O(pYr))\")\n",
    "print(f'(𝑝∧(𝑞∨𝑟)) {chequear_equivalencia(f_5, f_5_2)} ((𝑝∧𝑞)∨(𝑝∧𝑟))')\n",
    "\n",
    "#Prueba 6\n",
    "f_6=inorder_to_tree(\"(p>q)\")\n",
    "f_6_2=inorder_to_tree(\"(q>p)\")\n",
    "print(f'(𝑝→𝑞) {chequear_equivalencia(f_6, f_6_2)} (𝑞→𝑝)')\n",
    "\n",
    "#Prueba 7\n",
    "f_7=inorder_to_tree(\"(pO(qYr))\")\n",
    "f_7_2=inorder_to_tree(\"((pYq)O(pYr))\")\n",
    "print(f'(𝑝∨(𝑞∧𝑟)) {chequear_equivalencia(f_7, f_7_2)} ((𝑝∧𝑞)∨(𝑝∧𝑟))')"
   ]
  },
  {
   "cell_type": "markdown",
   "metadata": {},
   "source": [
    "---"
   ]
  },
  {
   "cell_type": "markdown",
   "metadata": {},
   "source": [
    "# Sustituciones <a class=\"anchor\" id=\"sus\"></a>\n",
    "\n",
    "([Volver al inicio](#inicio))\n",
    "\n",
    "Recordemos que el siguiente es el pseudocódigo de sustituir una subfórmula $A$ de $B$ por otra fórmula $A'$:\n",
    "\n",
    "`\n",
    "funcion sust(self, A, A'):\n",
    "    Si A no está en self.subforms()\n",
    "        retornar self\n",
    "    Si no, si A es self\n",
    "        retornar A'\n",
    "    Si no, si self es de tipo Negacion\n",
    "        retornar Negacion(self.subf.sust(A,A'))\n",
    "    Si no, si self es de tipo Binario\n",
    "        retornar Binario(self.conectivo, \n",
    "                         self.left.sust(A,A'), \n",
    "                         self.right.sust(A,A'))\n",
    "`"
   ]
  },
  {
   "cell_type": "markdown",
   "metadata": {},
   "source": [
    "**Ejercicio 2:**\n",
    "\n",
    "Implemente el método sust(A,A').\n",
    "\n",
    "**Nota:** No requiere implementar el método `subforms`, toda vez que este ya está implementado en la clase `Formula` de la librería `Logica`. Observe que dicho método `subforms` devuelve una lista de strings. Tenga esto en cuenta al momento de hacer las comparaciones requeridas por los dos primeros casos del método `sust`.\n"
   ]
  },
  {
   "cell_type": "code",
   "execution_count": 18,
   "metadata": {},
   "outputs": [],
   "source": [
    "def sust(self, A, Ap):   #Sustituye una parte de la formula A por ap\n",
    "        if (str(A) in self.subforms())==False:\n",
    "            return self\n",
    "        elif str(A) == str(self):\n",
    "            return Ap\n",
    "        elif type(self) == Negacion:\n",
    "            return Negacion(self.subf.sust(A, Ap))\n",
    "        elif type(self) == Binario:\n",
    "            return Binario(self.conectivo, self.left.sust(A, Ap), self.right.sust(A, Ap))\n",
    "        \n",
    "setattr(Formula, \"sust\", sust)    "
   ]
  },
  {
   "cell_type": "code",
   "execution_count": 5,
   "metadata": {},
   "outputs": [
    {
     "data": {
      "text/plain": [
       "['(pYq)', '-(pYq)', 'q', 'p']"
      ]
     },
     "execution_count": 5,
     "metadata": {},
     "output_type": "execute_result"
    }
   ],
   "source": [
    "B = inorder_to_tree(\"-(pYq)\")\n",
    "B.subforms()"
   ]
  },
  {
   "cell_type": "markdown",
   "metadata": {},
   "source": [
    "Pruebe su código con el siguiente ejemplo. Debería obtener\n",
    "\n",
    "`\n",
    "Al reemplazar -(pYq) por s en (r>-(pYq))  se obtiene:\n",
    "(r>s)\n",
    "`"
   ]
  },
  {
   "cell_type": "code",
   "execution_count": 19,
   "metadata": {},
   "outputs": [
    {
     "name": "stdout",
     "output_type": "stream",
     "text": [
      "Al reemplazar -(pYq) por s en (r>-(pYq))  se obtiene:\n",
      "(r>s)\n"
     ]
    }
   ],
   "source": [
    "B = inorder_to_tree(\"(r>-(pYq))\")\n",
    "A = inorder_to_tree('-(pYq)')\n",
    "C = Letra('s')\n",
    "D = B.sust(A,C)\n",
    "print(f'Al reemplazar {A} por {C} en {B}  se obtiene:\\n{D}')\n"
   ]
  },
  {
   "cell_type": "markdown",
   "metadata": {},
   "source": [
    "---"
   ]
  },
  {
   "cell_type": "markdown",
   "metadata": {},
   "source": [
    "# Forma Normal Conjuntiva <a class=\"anchor\" id=\"fnc\"></a>\n",
    "\n",
    "([Volver al inicio](#inicio))\n",
    "\n",
    "Procedimiento para transformar una fórmula arbitraria $A$ en una fórmula $A'$ en forma normal conjuntiva, tal que $A\\equiv A'$:\n",
    "\n",
    "1. Eliminar `$\\leftrightarrow$' y '$\\to$'.\n",
    "2. Eliminar dobles negaciones.\n",
    "3. Si $\\neg(B\\wedge C)\\in A.\\mbox{subform}()$, reemplazarla por $\\neg B\\vee\\neg C$.\n",
    "4. Si $\\neg(B\\vee C)\\in A.\\mbox{subform}()$, reemplazarla por $\\neg B\\wedge\\neg C$.\n",
    "5. Eliminar dobles negaciones.\n",
    "6. Si $B\\vee (C\\wedge D)\\in A.\\mbox{subform}()$, reemplazarla por $(B\\vee C)\\wedge (B\\vee D)$.\n"
   ]
  },
  {
   "cell_type": "code",
   "execution_count": 22,
   "metadata": {},
   "outputs": [],
   "source": [
    "from copy import deepcopy\n",
    "\n",
    "def eliminar_imp(self):\n",
    "    if type(self) == Letra:\n",
    "        return self\n",
    "    elif type(self) == Negacion:\n",
    "        return Negacion(self.subf.eliminar_imp())\n",
    "    elif type(self) == Binario:\n",
    "        if self.conectivo == '>':\n",
    "            return Binario('O', Negacion(self.left.eliminar_imp()), self.right.eliminar_imp())\n",
    "        else:\n",
    "            return Binario(self.conectivo, self.left.eliminar_imp(), self.right.eliminar_imp())  \n",
    "\n",
    "setattr(Formula,\"eliminar_imp\",eliminar_imp)\n",
    "\n",
    "def eliminar_doble_imp(self):\n",
    "    if type(self) == Letra:\n",
    "        return self\n",
    "    elif type(self) == Negacion:\n",
    "        return Negacion(self.subf.eliminar_doble_imp())\n",
    "    elif type(self) == Binario:\n",
    "        if self.conectivo == '=':\n",
    "            return Binario('Y',\n",
    "                           Binario('O', \n",
    "                               Negacion(self.left.eliminar_doble_imp()),\n",
    "                               self.right.eliminar_doble_imp(),\n",
    "                              ),\n",
    "                           Binario('O', \n",
    "                               Negacion(self.right.eliminar_doble_imp()),\n",
    "                               self.left.eliminar_doble_imp(),\n",
    "                              ))\n",
    "        else:\n",
    "            return Binario(self.conectivo,\n",
    "                       self.left.eliminar_doble_imp(),\n",
    "                       self.right.eliminar_doble_imp()\n",
    "                      )     \n",
    "\n",
    "setattr(Formula,\"eliminar_doble_imp\",eliminar_doble_imp)\n",
    "        \n",
    "def eliminar_doble_negacion(self):\n",
    "    if type(self) == Letra:\n",
    "        return self\n",
    "    elif type(self) == Negacion:\n",
    "        if type(self.subf) == Negacion:\n",
    "            return deepcopy(self.subf.subf.eliminar_doble_negacion())\n",
    "        else:\n",
    "            return Negacion(self.subf.eliminar_doble_negacion())\n",
    "    elif type(self) == Binario:\n",
    "        return Binario(self.conectivo,\n",
    "                       self.left.eliminar_doble_negacion(),\n",
    "                       self.right.eliminar_doble_negacion()) \n",
    "\n",
    "setattr(Formula,\"eliminar_doble_negacion\",eliminar_doble_negacion)\n",
    "\n",
    "def cambiar_de_morgan_y(self):\n",
    "    if type(self) == Letra:\n",
    "        return self\n",
    "    elif type(self) == Negacion:\n",
    "        if type(self.subf) == Binario:\n",
    "            if self.subf.conectivo == 'Y':\n",
    "                return Binario('O', \n",
    "                               Negacion(self.subf.left.cambiar_de_morgan_y()),\n",
    "                               Negacion(self.subf.right.cambiar_de_morgan_y())\n",
    "                              )\n",
    "            else:\n",
    "                return Negacion(self.subf.cambiar_de_morgan_y()) \n",
    "        else:\n",
    "            return Negacion(self.subf.cambiar_de_morgan_y())\n",
    "    elif type(self) == Binario:\n",
    "        return Binario(self.conectivo,\n",
    "                       self.left.cambiar_de_morgan_y(),\n",
    "                       self.right.cambiar_de_morgan_y()\n",
    "                      ) \n",
    "\n",
    "setattr(Formula,\"cambiar_de_morgan_y\",cambiar_de_morgan_y)\n",
    "\n",
    "def cambiar_de_morgan_o(self):\n",
    "    if type(self) == Letra:\n",
    "        return self\n",
    "    elif type(self) == Negacion:\n",
    "        if type(self.subf) == Binario:\n",
    "            if self.subf.conectivo == 'O':\n",
    "                return Binario('Y', \n",
    "                               Negacion(self.subf.left.cambiar_de_morgan_o()),\n",
    "                               Negacion(self.subf.right.cambiar_de_morgan_o())\n",
    "                              )\n",
    "            else:\n",
    "                return Negacion(self.subf.cambiar_de_morgan_o()) \n",
    "        else:\n",
    "            return Negacion(self.subf.cambiar_de_morgan_o())\n",
    "    elif type(self) == Binario:\n",
    "        return Binario(self.conectivo,\n",
    "                       self.left.cambiar_de_morgan_o(),\n",
    "                       self.right.cambiar_de_morgan_o()\n",
    "                      ) \n",
    "\n",
    "\n",
    "setattr(Formula,\"cambiar_de_morgan_o\",cambiar_de_morgan_o)\n",
    "\n",
    "def distribuir_o_en_y(self):\n",
    "    if type(self) == Letra:\n",
    "        return self\n",
    "    elif type(self) == Negacion:\n",
    "        return Negacion(self.subf.distribuir_o_en_y())\n",
    "    elif type(self) == Binario:\n",
    "        if self.conectivo == 'O':\n",
    "            if type(self.right) == Binario:\n",
    "                if self.right.conectivo == 'Y': # B O (C Y D)\n",
    "                    B = self.left.distribuir_o_en_y()\n",
    "                    C = self.right.left.distribuir_o_en_y()\n",
    "                    D = self.right.right.distribuir_o_en_y()\n",
    "                    return Binario('Y',\n",
    "                                   Binario('O', B, C),\n",
    "                                   Binario('O', B, D)\n",
    "                                  )\n",
    "                else:\n",
    "                    return Binario(self.conectivo,\n",
    "                                   self.left.distribuir_o_en_y(),\n",
    "                                   self.right.distribuir_o_en_y()\n",
    "                                  )                     \n",
    "            elif type(self.left) == Binario:\n",
    "                if self.left.conectivo == 'Y': # (B Y C) O D\n",
    "                    B = self.left.left.distribuir_o_en_y()\n",
    "                    C = self.left.right.distribuir_o_en_y()\n",
    "                    D = self.right.distribuir_o_en_y()\n",
    "                    return Binario('Y',\n",
    "                                   Binario('O', B, D),\n",
    "                                   Binario('O', C, D)\n",
    "                                  )\n",
    "                else:\n",
    "                    return Binario(self.conectivo,\n",
    "                                   self.left.distribuir_o_en_y(),\n",
    "                                   self.right.distribuir_o_en_y()\n",
    "                                  )                     \n",
    "        else:\n",
    "            return Binario(self.conectivo,\n",
    "                           self.left.distribuir_o_en_y(),\n",
    "                           self.right.distribuir_o_en_y()\n",
    "                          ) \n",
    "\n",
    "\n",
    "setattr(Formula,\"distribuir_o_en_y\",distribuir_o_en_y)\n"
   ]
  },
  {
   "cell_type": "code",
   "execution_count": 21,
   "metadata": {},
   "outputs": [
    {
     "name": "stdout",
     "output_type": "stream",
     "text": [
      "Al eliminar las dobles implicaciones de \n",
      "--(-(r>q)=(--pYq))\n",
      "se obtiene:\n",
      "--((--(r>q)O(--pYq))Y(-(--pYq)O-(r>q)))\n",
      "Al eliminar las dobles negaciones se obtiene:\n",
      "(((r>q)O(pYq))Y(-(pYq)O-(r>q)))\n",
      "Al reemplazar -(AYB) por -AO-B se obtiene:\n",
      "(((r>q)O(pYq))Y((-pO-q)O-(r>q)))\n"
     ]
    }
   ],
   "source": [
    "A = inorder_to_tree(\"--(-(r>q)=(--pYq))\")\n",
    "B = A.eliminar_doble_imp()\n",
    "print(f'Al eliminar las dobles implicaciones de \\n{str(A)}\\nse obtiene:\\n{str(B)}')\n",
    "C = B.eliminar_doble_negacion()\n",
    "print(f'Al eliminar las dobles negaciones se obtiene:\\n{str(C)}')\n",
    "D = C.cambiar_de_morgan_y()\n",
    "print(f'Al reemplazar -(AYB) por -AO-B se obtiene:\\n{str(D)}')\n"
   ]
  },
  {
   "cell_type": "markdown",
   "metadata": {},
   "source": [
    "**Ejercicio 3:**\n",
    "\n",
    "Complete todos los métodos de modificación anteriores. Al probar su código con la siguiente celda, la respuesta debe ser:\n",
    "\n",
    "`\n",
    "Fórmula inicial:\n",
    "((pOq)>(rY-s))\n",
    "Al eliminar las implicaciones se obtiene:\n",
    "(-(pOq)O(rY-s))\n",
    "Al reemplazar -(AOB) por -AY-B se obtiene:\n",
    "((-pY-q)O(rY-s))\n",
    "Al distribuir O en Y se obtiene:\n",
    "(((-pY-q)Or)Y((-pY-q)O-s))\n",
    "Al distribuir O en Y se obtiene:\n",
    "(((-pOr)Y(-qOr))Y((-pO-s)Y(-qO-s)))\n",
    "`"
   ]
  },
  {
   "cell_type": "code",
   "execution_count": 23,
   "metadata": {},
   "outputs": [
    {
     "name": "stdout",
     "output_type": "stream",
     "text": [
      "Fórmula inicial:\n",
      "((pOq)>(rY-s))\n",
      "Al eliminar las implicaciones se obtiene:\n",
      "(-(pOq)O(rY-s))\n",
      "Al reemplazar -(AOB) por -AY-B se obtiene:\n",
      "((-pY-q)O(rY-s))\n",
      "Al distribuir O en Y se obtiene:\n",
      "(((-pY-q)Or)Y((-pY-q)O-s))\n",
      "Al distribuir O en Y se obtiene:\n",
      "(((-pOr)Y(-qOr))Y((-pO-s)Y(-qO-s)))\n"
     ]
    }
   ],
   "source": [
    "A = inorder_to_tree(\"((pOq)>(rY-s))\")\n",
    "print(f'Fórmula inicial:\\n{str(A)}')\n",
    "B = A.eliminar_imp()\n",
    "print(f'Al eliminar las implicaciones se obtiene:\\n{str(B)}')\n",
    "C = B.cambiar_de_morgan_o()\n",
    "print(f'Al reemplazar -(AOB) por -AY-B se obtiene:\\n{str(C)}')\n",
    "D = C.distribuir_o_en_y()\n",
    "print(f'Al distribuir O en Y se obtiene:\\n{str(D)}')\n",
    "E = D.distribuir_o_en_y()\n",
    "print(f'Al distribuir O en Y se obtiene:\\n{str(E)}')"
   ]
  },
  {
   "cell_type": "markdown",
   "metadata": {},
   "source": [
    "---"
   ]
  }
 ],
 "metadata": {
  "kernelspec": {
   "display_name": "Python 3 (ipykernel)",
   "language": "python",
   "name": "python3"
  },
  "language_info": {
   "codemirror_mode": {
    "name": "ipython",
    "version": 3
   },
   "file_extension": ".py",
   "mimetype": "text/x-python",
   "name": "python",
   "nbconvert_exporter": "python",
   "pygments_lexer": "ipython3",
   "version": "3.9.12"
  }
 },
 "nbformat": 4,
 "nbformat_minor": 4
}
