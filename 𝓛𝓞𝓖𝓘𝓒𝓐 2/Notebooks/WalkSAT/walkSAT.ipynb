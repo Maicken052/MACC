{
 "cells": [
  {
   "cell_type": "markdown",
   "metadata": {},
   "source": [
    "<table>\n",
    "    <tr>\n",
    "        <td><img src=\"./img/Macc.png\" width=\"auto\"/></td>\n",
    "        <td>\n",
    "            <table><tr>\n",
    "            <h1 style=\"color:blue;text-align:center\">Lógica para Ciencias de la Computación</h1></td>\n",
    "            </tr></table>   \n",
    "        <td>&nbsp;</td>\n",
    "        <td>\n",
    "            <table><tr>\n",
    "            <tp><p style=\"font-size:150%;text-align:center\">Taller</p></tp>\n",
    "            <tp><p style=\"font-size:150%;text-align:center\">Algoritmo WalkSAT</p></tp>\n",
    "            </tr></table>\n",
    "        </td>\n",
    "    </tr>\n",
    "</table>\n",
    "\n",
    "---"
   ]
  },
  {
   "cell_type": "markdown",
   "metadata": {},
   "source": [
    "# Objetivo <a class=\"anchor\" id=\"inicio\"></a>\n",
    "\n",
    "En clase hemos visto el algoritmo walkSAT para encontrar un modelo $I$ para una fórmula $S$ en forma clausal. En este notebook implementaremos este algoritmo en Python.\n",
    "\n",
    "Desarrollaremos la explicación mediante las siguientes secciones."
   ]
  },
  {
   "cell_type": "markdown",
   "metadata": {},
   "source": [
    "# Secciones\n",
    "\n",
    "1. [Funciones auxiliares](#aux)\n",
    "2. [Walksat](#walk)\n",
    "3. [Comparación de tiempos](#comp)\n"
   ]
  },
  {
   "cell_type": "markdown",
   "metadata": {},
   "source": [
    "# Funciones auxiliares <a class=\"anchor\" id=\"aux\"></a>\n",
    "\n",
    "([Volver al inicio](#inicio))\n",
    "\n",
    "Para poder implementar el algoritmo walkSAT requerimos algunas funciones auxiliares:\n",
    "\n",
    "* `interpretacion_aleatoria(letrasp)`: Devuelve una interpretación seleccionando aleatoriamente el valor True o False para cada letra proposicional en `letrasp`. \n",
    "\n",
    "`flip_literal`$(I, \\ell)$: Modifica el valor de verdad asignado por la interpretación $I$ al literal $\\ell$."
   ]
  },
  {
   "cell_type": "code",
   "execution_count": 14,
   "metadata": {},
   "outputs": [],
   "source": [
    "from random import randint\n",
    "from copy import deepcopy\n",
    "\n",
    "def interpretacion_aleatoria(letrasp):\n",
    "    I = {p:randint(0,1)==1 for p in letrasp}\n",
    "    return I\n",
    "\n",
    "def flip_literal(I, l):\n",
    "    p = l[-1]\n",
    "    valor = False if I[p] else True\n",
    "    Ip = deepcopy(I)\n",
    "    Ip[p] = valor\n",
    "    return Ip"
   ]
  },
  {
   "cell_type": "code",
   "execution_count": 15,
   "metadata": {},
   "outputs": [
    {
     "data": {
      "text/plain": [
       "{'p': False, 'q': False, 'r': False}"
      ]
     },
     "execution_count": 15,
     "metadata": {},
     "output_type": "execute_result"
    }
   ],
   "source": [
    "letrasp = ['p', 'q', 'r']\n",
    "I = interpretacion_aleatoria(letrasp)\n",
    "I"
   ]
  },
  {
   "cell_type": "code",
   "execution_count": 16,
   "metadata": {},
   "outputs": [
    {
     "data": {
      "text/plain": [
       "{'p': True, 'q': False, 'r': False}"
      ]
     },
     "execution_count": 16,
     "metadata": {},
     "output_type": "execute_result"
    }
   ],
   "source": [
    "I = flip_literal(I, 'p')\n",
    "I"
   ]
  },
  {
   "cell_type": "markdown",
   "metadata": {},
   "source": [
    "Para manejar la información sobre las letras proposicionales y las cláusulas de la fórmula que vayamos a trabajar, hemos definido una clase `WalkSatEstado` de la siguiente manera:"
   ]
  },
  {
   "cell_type": "code",
   "execution_count": 17,
   "metadata": {},
   "outputs": [],
   "source": [
    "class WalkSatEstado():\n",
    "    \n",
    "    def __init__(self, S):\n",
    "        self.S = S\n",
    "        self.letrasp = list(set([l[-1] for C in self.S for l in C]))\n",
    "        self.I = interpretacion_aleatoria(self.letrasp)\n",
    "        self.I_lits = set([p for p in self.letrasp if self.I[p]] + ['-'+p for p in self.letrasp if not self.I[p]])\n",
    "        self.clausulas_sat = [C for C in self.S if any((True for x in self.I_lits if x in C))]\n",
    "        self.clausulas_unsat = [C for C in self.S if C not in self.clausulas_sat]\n",
    "\n",
    "    def actualizar(self, I):\n",
    "        self.I = I\n",
    "        self.I_lits = set([p for p in self.letrasp if self.I[p]] + ['-'+p for p in self.letrasp if not self.I[p]])\n",
    "        self.clausulas_sat = [C for C in self.S if any((True for x in self.I_lits if x in C))]\n",
    "        self.clausulas_unsat = [C for C in self.S if C not in self.clausulas_sat]\n",
    "       \n",
    "    def SAT(self):\n",
    "        return len(self.clausulas_unsat) == 0\n",
    "\n",
    "    def break_count(self, l):\n",
    "        clausulas_break_count = [C for C in self.clausulas_sat if set(C).intersection(self.I_lits)==set([l])]\n",
    "        return len(clausulas_break_count)"
   ]
  },
  {
   "cell_type": "markdown",
   "metadata": {},
   "source": [
    "Consideremos una fórmula en forma clausal y veamos el correspondiente objeto `WalkSatEstado`:"
   ]
  },
  {
   "cell_type": "code",
   "execution_count": 18,
   "metadata": {},
   "outputs": [
    {
     "name": "stdout",
     "output_type": "stream",
     "text": [
      "Fórmula: [['r'], ['p', '-r'], ['q', '-r'], ['-p', '-q', 'r']]\n",
      "Letras proposicionales: ['p', 'r', 'q']\n",
      "Interpretación: {'p': False, 'r': True, 'q': True}\n",
      "Literales determinados por la interpretación: {'-p', 'r', 'q'}\n",
      "Cláusulas sat: [['r'], ['q', '-r'], ['-p', '-q', 'r']]\n",
      "Cláusulas unsat [['p', '-r']]\n",
      "I hace verdadera la fórmula?: False\n"
     ]
    }
   ],
   "source": [
    "S = [['r'], ['p', '-r'], ['q', '-r'], ['-p', '-q', 'r']]\n",
    "w = WalkSatEstado(S)\n",
    "print(\"Fórmula:\", S)\n",
    "print(\"Letras proposicionales:\", w.letrasp)\n",
    "print(\"Interpretación:\", w.I)\n",
    "print(\"Literales determinados por la interpretación:\", w.I_lits)\n",
    "print(\"Cláusulas sat:\", w.clausulas_sat)\n",
    "print(\"Cláusulas unsat\", w.clausulas_unsat)\n",
    "print(\"I hace verdadera la fórmula?:\", w.SAT())"
   ]
  },
  {
   "cell_type": "markdown",
   "metadata": {},
   "source": [
    "Observe que esta clase tiene definido el método `break_count()` para determinar cuántas cláusulas sat se vuelven unsat si se voltea el valor de un literal:"
   ]
  },
  {
   "cell_type": "code",
   "execution_count": 19,
   "metadata": {},
   "outputs": [
    {
     "data": {
      "text/plain": [
       "0"
      ]
     },
     "execution_count": 19,
     "metadata": {},
     "output_type": "execute_result"
    }
   ],
   "source": [
    "w.break_count('-r')"
   ]
  },
  {
   "cell_type": "markdown",
   "metadata": {},
   "source": [
    "---"
   ]
  },
  {
   "cell_type": "markdown",
   "metadata": {},
   "source": [
    "# WalkSAT <a class=\"anchor\" id=\"walk\"></a>\n",
    "\n",
    "([Volver al inicio](#inicio))\n",
    "\n",
    "Presentamos ahora el algoritmo walkSAT.\n",
    "\n",
    "<img src=\"./img/walksat.png\" width=\"auto\"/>"
   ]
  },
  {
   "cell_type": "markdown",
   "metadata": {},
   "source": [
    "**Ejercicio 1:**\n",
    "\n",
    "Implemente la función `walkSAT`.\n",
    "\n",
    "Pruebe su respuesta con los siguientes ejemplos:\n",
    "\n",
    "1. `S = [['r'], ['p', '-r'], ['q', '-r'], ['-p', '-q', 'r']]` \n",
    "\n",
    "Solución:  $I\\,{=}\\,\\{r: True, p: True, q: True\\}$.\n",
    "\n",
    "2. `S=[['s'], ['-r', '-q'], ['r', 'q'], ['p', '-s'], ['r', '-s'], ['-p', '-r', 's']]` \n",
    "\n",
    "Solución: $I\\,{=}\\,\\{s: True, p: True, r: True, q: False\\}$.\n",
    "\n",
    "3. `S = [['s'], ['p','-t'], ['q','-t'], ['-p','-q','t'], ['t','-s'], ['r','-s'], ['-t','-r','s']]` \n",
    "\n",
    "Solución: $I\\,{=}\\,\\{s: True, t: True, p: True, q: True, r: True\\}$.\n",
    "\n",
    "4. `S = [['p','-q'],['-p','-q'],['q','r'],['-q''-r'],['-p','-r'],['p','-r']]` \n",
    "\n",
    "Solución: Intento fallido."
   ]
  },
  {
   "cell_type": "code",
   "execution_count": 143,
   "metadata": {},
   "outputs": [],
   "source": [
    "from random import choice, uniform\n",
    "\n",
    "def walkSAT(S):\n",
    "    w =  WalkSatEstado(S)\n",
    "    max_flips = 100\n",
    "    max_tries = 100\n",
    "    p = uniform(0, 1)\n",
    "    for i in range (max_tries):\n",
    "        for j in range(max_flips):\n",
    "            w.actualizar(w.I)\n",
    "            if(len(w.clausulas_unsat) == 0):\n",
    "                return \"Satisfacible\", w.I\n",
    "            C = choice(w.clausulas_unsat)\n",
    "            bk = {}\n",
    "            flag = 0\n",
    "            for x in C:\n",
    "                break_count = w.break_count(x)\n",
    "                if break_count == 0:\n",
    "                    v = x\n",
    "                    flag = 1\n",
    "                    break\n",
    "                else:\n",
    "                    bk[x] = break_count\n",
    "                    \n",
    "            if flag != 1:\n",
    "                if uniform(0, 1) <= p:\n",
    "                    v = choice(C)\n",
    "                else:\n",
    "                    MAX = bk[C[0]]\n",
    "                    v = C[0]\n",
    "                    for x in C:\n",
    "                        if(bk[x]<MAX):\n",
    "                            MAX = bk[x]\n",
    "                            v = x\n",
    "            w.I = flip_literal(w.I, v)\n",
    "    return \"intento fallido\""
   ]
  },
  {
   "cell_type": "code",
   "execution_count": 144,
   "metadata": {
    "scrolled": true
   },
   "outputs": [
    {
     "data": {
      "text/plain": [
       "('Satisfacible', {'p': True, 'r': True, 'q': True})"
      ]
     },
     "execution_count": 144,
     "metadata": {},
     "output_type": "execute_result"
    }
   ],
   "source": [
    "S = [['r'], ['p', '-r'], ['q', '-r'], ['-p', '-q', 'r']]\n",
    "walkSAT(S)"
   ]
  },
  {
   "cell_type": "code",
   "execution_count": 146,
   "metadata": {
    "scrolled": true
   },
   "outputs": [
    {
     "data": {
      "text/plain": [
       "('Satisfacible', {'p': True, 's': True, 'r': True, 'q': False})"
      ]
     },
     "execution_count": 146,
     "metadata": {},
     "output_type": "execute_result"
    }
   ],
   "source": [
    "S = [['s'], ['-r', '-q'], ['r', 'q'], ['p', '-s'], ['r', '-s'], ['-p', '-r', 's']]\n",
    "walkSAT(S)"
   ]
  },
  {
   "cell_type": "code",
   "execution_count": 147,
   "metadata": {},
   "outputs": [
    {
     "data": {
      "text/plain": [
       "('Satisfacible', {'s': True, 'r': True, 'q': True, 'p': True, 't': True})"
      ]
     },
     "execution_count": 147,
     "metadata": {},
     "output_type": "execute_result"
    }
   ],
   "source": [
    "S = [['s'], ['p','-t'], ['q','-t'], ['-p','-q','t'], ['t','-s'], ['r','-s'], ['-t','-r','s']]\n",
    "walkSAT(S)"
   ]
  },
  {
   "cell_type": "code",
   "execution_count": 153,
   "metadata": {},
   "outputs": [
    {
     "data": {
      "text/plain": [
       "'intento fallido'"
      ]
     },
     "execution_count": 153,
     "metadata": {},
     "output_type": "execute_result"
    }
   ],
   "source": [
    "S = [['p','-q'],['-p','-q'],['q','r'],['-q','-r'],['-p','-r'],['p','-r']]\n",
    "walkSAT(S)"
   ]
  },
  {
   "cell_type": "markdown",
   "metadata": {},
   "source": [
    "---"
   ]
  },
  {
   "cell_type": "markdown",
   "metadata": {},
   "source": [
    "# Comparación de tiempos <a class=\"anchor\" id=\"comp\"></a>\n",
    "\n",
    "([Volver al inicio](#inicio))\n",
    "\n",
    "Comparamos los tiempos de búsqueda de modelo para fórmulas aleatorias cada vez más grandes, entre los algoritmos DPLL y walkSAT."
   ]
  },
  {
   "cell_type": "markdown",
   "metadata": {},
   "source": [
    "**Ejercicio 2:**\n",
    "\n",
    "Incluya aquí su implementación del DPLL."
   ]
  },
  {
   "cell_type": "code",
   "execution_count": 164,
   "metadata": {},
   "outputs": [],
   "source": [
    "from Logica import *\n",
    "\n",
    "def inorder_to_tree(cadena:str):\n",
    "    conectivos = ['Y', 'O', '>', '=']\n",
    "    if len(cadena) == 1:\n",
    "        return Letra(cadena)\n",
    "    elif cadena[0] == '-':\n",
    "        return Negacion(inorder_to_tree(cadena[1:]))\n",
    "    elif cadena[0] == \"(\":\n",
    "        counter = 0 #Contador de parentesis\n",
    "        for i in range(1, len(cadena)):\n",
    "            if cadena[i] == \"(\":\n",
    "                counter += 1\n",
    "            elif cadena[i] == \")\":\n",
    "                counter -=1\n",
    "            elif cadena[i] in conectivos and counter == 0:\n",
    "                return Binario(cadena[i], inorder_to_tree(cadena[1:i]),inorder_to_tree(cadena[i + 1:-1]))\n",
    "    else:\n",
    "        raise Exception('¡Cadena inválida!')\n",
    "\n",
    "def tseitin(A):\n",
    "    '''\n",
    "    Algoritmo de transformacion de Tseitin\n",
    "    Input: A (cadena) en notacion inorder\n",
    "    Output: B (cadena), Tseitin\n",
    "    '''\n",
    "    # Creamos letras proposicionales nuevas\n",
    "    f = inorder_to_tree(A)\n",
    "    letrasp = f.letras()\n",
    "    cods_letras = [ord(x) for x in letrasp]\n",
    "    m = max(cods_letras) + 256\n",
    "    letrasp_tseitin = [chr(x) for x in range(m, m + f.num_conec())]\n",
    "    letrasp = list(letrasp) + letrasp_tseitin\n",
    "    L = [] # Inicializamos lista de conjunciones\n",
    "    Pila = [] # Inicializamos pila\n",
    "    i = -1 # Inicializamos contador de variables nuevas\n",
    "    s = A[0] # Inicializamos símbolo de trabajo\n",
    "    while len(A) > 0: # Recorremos la cadena\n",
    "        # print(\"Pila:\", Pila, \" L:\", L, \" s:\", s)\n",
    "        if (s in letrasp) and (len(Pila) > 0) and (Pila[-1]=='-'):\n",
    "            i += 1\n",
    "            atomo = letrasp_tseitin[i]\n",
    "            Pila = Pila[:-1]\n",
    "            Pila.append(atomo)\n",
    "            L.append(atomo + \"=-\" + s)\n",
    "            A = A[1:]\n",
    "            if len(A) > 0:\n",
    "                s = A[0]\n",
    "        elif s == ')':\n",
    "            w = Pila[-1]\n",
    "            O = Pila[-2]\n",
    "            v = Pila[-3]\n",
    "            Pila = Pila[:len(Pila)-4]\n",
    "            i += 1\n",
    "            atomo = letrasp_tseitin[i]\n",
    "            L.append(atomo + \"=(\" + v + O + w + \")\")\n",
    "            s = atomo\n",
    "        else:\n",
    "            Pila.append(s)\n",
    "            A = A[1:]\n",
    "            if len(A) > 0:\n",
    "                s = A[0]\n",
    "    if i < 0:\n",
    "        atomo = Pila[-1]\n",
    "    else:\n",
    "        atomo = letrasp_tseitin[i]\n",
    "    B = [[[atomo]]] + [a_clausal(x) for x in L]\n",
    "    B = [val for sublist in B for val in sublist]\n",
    "    return B\n",
    "\n",
    "def dpll(S, I):\n",
    "    S, I = unit_propagate(S, I)\n",
    "    if [] in S:\n",
    "        return \"Insatisfacible\", {}\n",
    "    if len(S) == 0:\n",
    "        return \"Satisfacible\", I    \n",
    "    l = choice(choice(S))\n",
    "    lc = complemento(l)\n",
    "    newS = eliminar_literal(S, l)\n",
    "    newI = extender_I(I, l)\n",
    "    sat, newI = dpll(newS, newI)\n",
    "    if sat == \"Satisfacible\":\n",
    "        return sat, newI\n",
    "    else:\n",
    "        newS = eliminar_literal(S, lc)\n",
    "        newI = extender_I(I, lc)\n",
    "        return dpll(newS, newI)"
   ]
  },
  {
   "cell_type": "markdown",
   "metadata": {},
   "source": [
    "---"
   ]
  },
  {
   "cell_type": "code",
   "execution_count": 159,
   "metadata": {},
   "outputs": [],
   "source": [
    "from time import time\n",
    "import seaborn as sns\n",
    "import pandas as pd\n",
    "import matplotlib.pyplot as plt\n",
    "\n",
    "def obtiene_tiempos(fun, args, num_it=100):\n",
    "    tiempos_fun = []\n",
    "    for i in range(num_it):\n",
    "        arranca = time()\n",
    "        x = fun(*args)\n",
    "        para = time()\n",
    "        tiempos_fun.append(para - arranca)\n",
    "    return tiempos_fun\n",
    "\n",
    "def compara_entradas_funs(funs, nombres_funs, lista_args, N=100):\n",
    "    entradas = []\n",
    "    funcion = []\n",
    "    tiempos = []\n",
    "    lista_dfs = []\n",
    "    for i, args in enumerate(lista_args):\n",
    "        for j, fun in enumerate(funs):\n",
    "            t = obtiene_tiempos(fun, [args], N)\n",
    "            tiempos += t\n",
    "            n = len(t)\n",
    "            entradas += [i+1]*n\n",
    "            funcion += [nombres_funs[j]]*n\n",
    "        df = pd.DataFrame({'Long_entrada':entradas, \n",
    "                           'Funcion':funcion,\n",
    "                           'Tiempo_prom':tiempos})\n",
    "        lista_dfs.append(df)\n",
    "    df = pd.concat(lista_dfs).reset_index()\n",
    "    sns.lineplot(x='Long_entrada',y='Tiempo_prom',hue='Funcion',data=df)\n",
    "    plt.show()"
   ]
  },
  {
   "cell_type": "code",
   "execution_count": 160,
   "metadata": {},
   "outputs": [],
   "source": [
    "from random import uniform, choice\n",
    "\n",
    "cantidad = 10\n",
    "letras = [chr(i) for i in range(256, 256+cantidad)]\n",
    "lista = [letras[0]]\n",
    "formula = letras[0]\n",
    "for p in letras[1:]:\n",
    "            neg1 = '-' if uniform(0,1) > .5 else ''\n",
    "            neg2 = '-' if uniform(0,1) > .5 else ''\n",
    "            neg3 = '-' if uniform(0,1) > .5 else ''\n",
    "            conectivo = choice(['Y','O','>'])\n",
    "            if uniform(0,1) > .5:\n",
    "                formula = neg1 + \"(\" + neg2 + formula + conectivo + neg3 + p + \")\"\n",
    "            else:\n",
    "                formula = neg1 + \"(\" + neg2 + p + conectivo + neg3 + formula + \")\"\n",
    "            lista.append(formula)"
   ]
  },
  {
   "cell_type": "code",
   "execution_count": 165,
   "metadata": {},
   "outputs": [
    {
     "ename": "KeyboardInterrupt",
     "evalue": "",
     "output_type": "error",
     "traceback": [
      "\u001b[1;31m---------------------------------------------------------------------------\u001b[0m",
      "\u001b[1;31mKeyboardInterrupt\u001b[0m                         Traceback (most recent call last)",
      "Input \u001b[1;32mIn [165]\u001b[0m, in \u001b[0;36m<cell line: 5>\u001b[1;34m()\u001b[0m\n\u001b[0;32m      3\u001b[0m sat_walksat \u001b[38;5;241m=\u001b[39m \u001b[38;5;28;01mlambda\u001b[39;00m formula: walkSAT(tseitin(formula))\n\u001b[0;32m      4\u001b[0m funs \u001b[38;5;241m=\u001b[39m [sat_dpll, sat_walksat]\n\u001b[1;32m----> 5\u001b[0m \u001b[43mcompara_entradas_funs\u001b[49m\u001b[43m(\u001b[49m\u001b[43mfuns\u001b[49m\u001b[43m,\u001b[49m\u001b[43m \u001b[49m\u001b[43mnombres\u001b[49m\u001b[43m,\u001b[49m\u001b[43m \u001b[49m\u001b[43mlista\u001b[49m\u001b[43m)\u001b[49m\n",
      "Input \u001b[1;32mIn [159]\u001b[0m, in \u001b[0;36mcompara_entradas_funs\u001b[1;34m(funs, nombres_funs, lista_args, N)\u001b[0m\n\u001b[0;32m     20\u001b[0m \u001b[38;5;28;01mfor\u001b[39;00m i, args \u001b[38;5;129;01min\u001b[39;00m \u001b[38;5;28menumerate\u001b[39m(lista_args):\n\u001b[0;32m     21\u001b[0m     \u001b[38;5;28;01mfor\u001b[39;00m j, fun \u001b[38;5;129;01min\u001b[39;00m \u001b[38;5;28menumerate\u001b[39m(funs):\n\u001b[1;32m---> 22\u001b[0m         t \u001b[38;5;241m=\u001b[39m \u001b[43mobtiene_tiempos\u001b[49m\u001b[43m(\u001b[49m\u001b[43mfun\u001b[49m\u001b[43m,\u001b[49m\u001b[43m \u001b[49m\u001b[43m[\u001b[49m\u001b[43margs\u001b[49m\u001b[43m]\u001b[49m\u001b[43m,\u001b[49m\u001b[43m \u001b[49m\u001b[43mN\u001b[49m\u001b[43m)\u001b[49m\n\u001b[0;32m     23\u001b[0m         tiempos \u001b[38;5;241m+\u001b[39m\u001b[38;5;241m=\u001b[39m t\n\u001b[0;32m     24\u001b[0m         n \u001b[38;5;241m=\u001b[39m \u001b[38;5;28mlen\u001b[39m(t)\n",
      "Input \u001b[1;32mIn [159]\u001b[0m, in \u001b[0;36mobtiene_tiempos\u001b[1;34m(fun, args, num_it)\u001b[0m\n\u001b[0;32m      8\u001b[0m \u001b[38;5;28;01mfor\u001b[39;00m i \u001b[38;5;129;01min\u001b[39;00m \u001b[38;5;28mrange\u001b[39m(num_it):\n\u001b[0;32m      9\u001b[0m     arranca \u001b[38;5;241m=\u001b[39m time()\n\u001b[1;32m---> 10\u001b[0m     x \u001b[38;5;241m=\u001b[39m \u001b[43mfun\u001b[49m\u001b[43m(\u001b[49m\u001b[38;5;241;43m*\u001b[39;49m\u001b[43margs\u001b[49m\u001b[43m)\u001b[49m\n\u001b[0;32m     11\u001b[0m     para \u001b[38;5;241m=\u001b[39m time()\n\u001b[0;32m     12\u001b[0m     tiempos_fun\u001b[38;5;241m.\u001b[39mappend(para \u001b[38;5;241m-\u001b[39m arranca)\n",
      "Input \u001b[1;32mIn [165]\u001b[0m, in \u001b[0;36m<lambda>\u001b[1;34m(formula)\u001b[0m\n\u001b[0;32m      1\u001b[0m nombres \u001b[38;5;241m=\u001b[39m [\u001b[38;5;124m'\u001b[39m\u001b[38;5;124mdpll\u001b[39m\u001b[38;5;124m'\u001b[39m, \u001b[38;5;124m'\u001b[39m\u001b[38;5;124mwalksat\u001b[39m\u001b[38;5;124m'\u001b[39m]\n\u001b[0;32m      2\u001b[0m sat_dpll \u001b[38;5;241m=\u001b[39m \u001b[38;5;28;01mlambda\u001b[39;00m formula: dpll(tseitin(formula), {})\n\u001b[1;32m----> 3\u001b[0m sat_walksat \u001b[38;5;241m=\u001b[39m \u001b[38;5;28;01mlambda\u001b[39;00m formula: \u001b[43mwalkSAT\u001b[49m\u001b[43m(\u001b[49m\u001b[43mtseitin\u001b[49m\u001b[43m(\u001b[49m\u001b[43mformula\u001b[49m\u001b[43m)\u001b[49m\u001b[43m)\u001b[49m\n\u001b[0;32m      4\u001b[0m funs \u001b[38;5;241m=\u001b[39m [sat_dpll, sat_walksat]\n\u001b[0;32m      5\u001b[0m compara_entradas_funs(funs, nombres, lista)\n",
      "Input \u001b[1;32mIn [143]\u001b[0m, in \u001b[0;36mwalkSAT\u001b[1;34m(S)\u001b[0m\n\u001b[0;32m     33\u001b[0m                         MAX \u001b[38;5;241m=\u001b[39m bk[x]\n\u001b[0;32m     34\u001b[0m                         v \u001b[38;5;241m=\u001b[39m x\n\u001b[1;32m---> 35\u001b[0m         w\u001b[38;5;241m.\u001b[39mI \u001b[38;5;241m=\u001b[39m \u001b[43mflip_literal\u001b[49m\u001b[43m(\u001b[49m\u001b[43mw\u001b[49m\u001b[38;5;241;43m.\u001b[39;49m\u001b[43mI\u001b[49m\u001b[43m,\u001b[49m\u001b[43m \u001b[49m\u001b[43mv\u001b[49m\u001b[43m)\u001b[49m\n\u001b[0;32m     36\u001b[0m \u001b[38;5;28;01mreturn\u001b[39;00m \u001b[38;5;124m\"\u001b[39m\u001b[38;5;124mintento fallido\u001b[39m\u001b[38;5;124m\"\u001b[39m\n",
      "Input \u001b[1;32mIn [14]\u001b[0m, in \u001b[0;36mflip_literal\u001b[1;34m(I, l)\u001b[0m\n\u001b[0;32m      9\u001b[0m p \u001b[38;5;241m=\u001b[39m l[\u001b[38;5;241m-\u001b[39m\u001b[38;5;241m1\u001b[39m]\n\u001b[0;32m     10\u001b[0m valor \u001b[38;5;241m=\u001b[39m \u001b[38;5;28;01mFalse\u001b[39;00m \u001b[38;5;28;01mif\u001b[39;00m I[p] \u001b[38;5;28;01melse\u001b[39;00m \u001b[38;5;28;01mTrue\u001b[39;00m\n\u001b[1;32m---> 11\u001b[0m Ip \u001b[38;5;241m=\u001b[39m \u001b[43mdeepcopy\u001b[49m\u001b[43m(\u001b[49m\u001b[43mI\u001b[49m\u001b[43m)\u001b[49m\n\u001b[0;32m     12\u001b[0m Ip[p] \u001b[38;5;241m=\u001b[39m valor\n\u001b[0;32m     13\u001b[0m \u001b[38;5;28;01mreturn\u001b[39;00m Ip\n",
      "File \u001b[1;32mD:\\PROGRAMAS\\Anaconda 3\\lib\\copy.py:146\u001b[0m, in \u001b[0;36mdeepcopy\u001b[1;34m(x, memo, _nil)\u001b[0m\n\u001b[0;32m    144\u001b[0m copier \u001b[38;5;241m=\u001b[39m _deepcopy_dispatch\u001b[38;5;241m.\u001b[39mget(\u001b[38;5;28mcls\u001b[39m)\n\u001b[0;32m    145\u001b[0m \u001b[38;5;28;01mif\u001b[39;00m copier \u001b[38;5;129;01mis\u001b[39;00m \u001b[38;5;129;01mnot\u001b[39;00m \u001b[38;5;28;01mNone\u001b[39;00m:\n\u001b[1;32m--> 146\u001b[0m     y \u001b[38;5;241m=\u001b[39m \u001b[43mcopier\u001b[49m\u001b[43m(\u001b[49m\u001b[43mx\u001b[49m\u001b[43m,\u001b[49m\u001b[43m \u001b[49m\u001b[43mmemo\u001b[49m\u001b[43m)\u001b[49m\n\u001b[0;32m    147\u001b[0m \u001b[38;5;28;01melse\u001b[39;00m:\n\u001b[0;32m    148\u001b[0m     \u001b[38;5;28;01mif\u001b[39;00m \u001b[38;5;28missubclass\u001b[39m(\u001b[38;5;28mcls\u001b[39m, \u001b[38;5;28mtype\u001b[39m):\n",
      "File \u001b[1;32mD:\\PROGRAMAS\\Anaconda 3\\lib\\copy.py:230\u001b[0m, in \u001b[0;36m_deepcopy_dict\u001b[1;34m(x, memo, deepcopy)\u001b[0m\n\u001b[0;32m    228\u001b[0m memo[\u001b[38;5;28mid\u001b[39m(x)] \u001b[38;5;241m=\u001b[39m y\n\u001b[0;32m    229\u001b[0m \u001b[38;5;28;01mfor\u001b[39;00m key, value \u001b[38;5;129;01min\u001b[39;00m x\u001b[38;5;241m.\u001b[39mitems():\n\u001b[1;32m--> 230\u001b[0m     y[deepcopy(key, memo)] \u001b[38;5;241m=\u001b[39m \u001b[43mdeepcopy\u001b[49m\u001b[43m(\u001b[49m\u001b[43mvalue\u001b[49m\u001b[43m,\u001b[49m\u001b[43m \u001b[49m\u001b[43mmemo\u001b[49m\u001b[43m)\u001b[49m\n\u001b[0;32m    231\u001b[0m \u001b[38;5;28;01mreturn\u001b[39;00m y\n",
      "File \u001b[1;32mD:\\PROGRAMAS\\Anaconda 3\\lib\\copy.py:137\u001b[0m, in \u001b[0;36mdeepcopy\u001b[1;34m(x, memo, _nil)\u001b[0m\n\u001b[0;32m    134\u001b[0m \u001b[38;5;28;01mif\u001b[39;00m memo \u001b[38;5;129;01mis\u001b[39;00m \u001b[38;5;28;01mNone\u001b[39;00m:\n\u001b[0;32m    135\u001b[0m     memo \u001b[38;5;241m=\u001b[39m {}\n\u001b[1;32m--> 137\u001b[0m d \u001b[38;5;241m=\u001b[39m \u001b[38;5;28;43mid\u001b[39;49m(x)\n\u001b[0;32m    138\u001b[0m y \u001b[38;5;241m=\u001b[39m memo\u001b[38;5;241m.\u001b[39mget(d, _nil)\n\u001b[0;32m    139\u001b[0m \u001b[38;5;28;01mif\u001b[39;00m y \u001b[38;5;129;01mis\u001b[39;00m \u001b[38;5;129;01mnot\u001b[39;00m _nil:\n",
      "\u001b[1;31mKeyboardInterrupt\u001b[0m: "
     ]
    }
   ],
   "source": [
    "nombres = ['dpll', 'walksat']\n",
    "sat_dpll = lambda formula: dpll(tseitin(formula), {})\n",
    "sat_walksat = lambda formula: walkSAT(tseitin(formula))\n",
    "funs = [sat_dpll, sat_walksat]\n",
    "compara_entradas_funs(funs, nombres, lista)"
   ]
  },
  {
   "cell_type": "markdown",
   "metadata": {},
   "source": [
    "Vemos que en todos los casos el DPLL es más rápido que el walkSAT."
   ]
  },
  {
   "cell_type": "markdown",
   "metadata": {},
   "source": [
    "---"
   ]
  }
 ],
 "metadata": {
  "kernelspec": {
   "display_name": "Python 3 (ipykernel)",
   "language": "python",
   "name": "python3"
  },
  "language_info": {
   "codemirror_mode": {
    "name": "ipython",
    "version": 3
   },
   "file_extension": ".py",
   "mimetype": "text/x-python",
   "name": "python",
   "nbconvert_exporter": "python",
   "pygments_lexer": "ipython3",
   "version": "3.9.12"
  }
 },
 "nbformat": 4,
 "nbformat_minor": 4
}
