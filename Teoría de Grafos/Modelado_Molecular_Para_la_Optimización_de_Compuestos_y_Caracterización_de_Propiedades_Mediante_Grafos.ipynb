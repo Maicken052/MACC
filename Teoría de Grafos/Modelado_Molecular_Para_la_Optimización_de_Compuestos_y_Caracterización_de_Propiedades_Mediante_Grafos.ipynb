{
  "cells": [
    {
      "cell_type": "markdown",
      "metadata": {
        "id": "view-in-github",
        "colab_type": "text"
      },
      "source": [
        "<a href=\"https://colab.research.google.com/github/Maicken052/MACC/blob/main/Modelado_Molecular_Para_la_Optimizaci%C3%B3n_de_Compuestos_y_Caracterizaci%C3%B3n_de_Propiedades_Mediante_Grafos.ipynb\" target=\"_parent\"><img src=\"https://colab.research.google.com/assets/colab-badge.svg\" alt=\"Open In Colab\"/></a>"
      ]
    },
    {
      "cell_type": "markdown",
      "metadata": {
        "id": "eIq0J80w3R8V"
      },
      "source": [
        "# **Modelado Molecular Para la Optimización de Compuestos y Caracterización de Propiedades Mediante Grafos**"
      ]
    },
    {
      "cell_type": "markdown",
      "metadata": {
        "id": "rJSosWQMO-Pa"
      },
      "source": [
        "##**Paquetes para instalación e importación**"
      ]
    },
    {
      "cell_type": "markdown",
      "metadata": {
        "id": "sw6btvocbX7n"
      },
      "source": [
        "Se usó la librería igraph para la modelación de los grafos y mathplotlib junto a itertools como librerías auxiliares.\n"
      ]
    },
    {
      "cell_type": "code",
      "execution_count": null,
      "metadata": {
        "id": "och0G3k-kyzM",
        "colab": {
          "base_uri": "https://localhost:8080/"
        },
        "outputId": "37b8b886-50b2-46f6-c521-34787dde80ce"
      },
      "outputs": [
        {
          "output_type": "stream",
          "name": "stdout",
          "text": [
            "Collecting igraph\n",
            "  Downloading igraph-0.11.4-cp39-abi3-manylinux_2_17_x86_64.manylinux2014_x86_64.whl (3.3 MB)\n",
            "\u001b[2K     \u001b[90m━━━━━━━━━━━━━━━━━━━━━━━━━━━━━━━━━━━━━━━━\u001b[0m \u001b[32m3.3/3.3 MB\u001b[0m \u001b[31m11.7 MB/s\u001b[0m eta \u001b[36m0:00:00\u001b[0m\n",
            "\u001b[?25hCollecting texttable>=1.6.2 (from igraph)\n",
            "  Downloading texttable-1.7.0-py2.py3-none-any.whl (10 kB)\n",
            "Installing collected packages: texttable, igraph\n",
            "Successfully installed igraph-0.11.4 texttable-1.7.0\n"
          ]
        }
      ],
      "source": [
        "pip install igraph;"
      ]
    },
    {
      "cell_type": "code",
      "execution_count": null,
      "metadata": {
        "id": "9TBVxHvTPH29",
        "colab": {
          "base_uri": "https://localhost:8080/"
        },
        "outputId": "5b697fe6-297f-4e57-a64a-5b4c0dfd60a4"
      },
      "outputs": [
        {
          "output_type": "stream",
          "name": "stdout",
          "text": [
            "Collecting cairocffi\n",
            "  Downloading cairocffi-1.6.1-py3-none-any.whl (75 kB)\n",
            "\u001b[?25l     \u001b[90m━━━━━━━━━━━━━━━━━━━━━━━━━━━━━━━━━━━━━━━━\u001b[0m \u001b[32m0.0/75.1 kB\u001b[0m \u001b[31m?\u001b[0m eta \u001b[36m-:--:--\u001b[0m\r\u001b[2K     \u001b[91m━━━━━━━━━━━━━━━━━━━━━━━━━━━━━━━━━━━━━━\u001b[0m\u001b[90m╺\u001b[0m\u001b[90m━\u001b[0m \u001b[32m71.7/75.1 kB\u001b[0m \u001b[31m2.4 MB/s\u001b[0m eta \u001b[36m0:00:01\u001b[0m\r\u001b[2K     \u001b[90m━━━━━━━━━━━━━━━━━━━━━━━━━━━━━━━━━━━━━━━━\u001b[0m \u001b[32m75.1/75.1 kB\u001b[0m \u001b[31m1.7 MB/s\u001b[0m eta \u001b[36m0:00:00\u001b[0m\n",
            "\u001b[?25hRequirement already satisfied: cffi>=1.1.0 in /usr/local/lib/python3.10/dist-packages (from cairocffi) (1.16.0)\n",
            "Requirement already satisfied: pycparser in /usr/local/lib/python3.10/dist-packages (from cffi>=1.1.0->cairocffi) (2.22)\n",
            "Installing collected packages: cairocffi\n",
            "Successfully installed cairocffi-1.6.1\n"
          ]
        }
      ],
      "source": [
        "pip install cairocffi"
      ]
    },
    {
      "cell_type": "code",
      "execution_count": null,
      "metadata": {
        "id": "RojuiuMqTyjt",
        "colab": {
          "base_uri": "https://localhost:8080/"
        },
        "outputId": "618c3d9e-aaaf-4630-dbc0-4788eafd7e1c"
      },
      "outputs": [
        {
          "output_type": "stream",
          "name": "stdout",
          "text": [
            "Requirement already satisfied: numpy in /usr/local/lib/python3.10/dist-packages (1.25.2)\n"
          ]
        }
      ],
      "source": [
        "pip install numpy"
      ]
    },
    {
      "cell_type": "code",
      "execution_count": null,
      "metadata": {
        "id": "3Lu1S_mFU61l"
      },
      "outputs": [],
      "source": [
        "import igraph as ig\n",
        "import matplotlib.pyplot as plt\n",
        "import numpy as np\n",
        "import itertools"
      ]
    },
    {
      "cell_type": "markdown",
      "metadata": {
        "id": "WVKw3wm77BQG"
      },
      "source": [
        "##**Moléculas propuestas**"
      ]
    },
    {
      "cell_type": "markdown",
      "metadata": {
        "id": "mnRvE1Ff7G-9"
      },
      "source": [
        "Ejemplos de moléculas resueltas por el algoritmo:\n",
        "*   **CH3COOH** (Ácido acético)\n",
        "*   **CO2** (Dióxido de carbono)\n",
        "*   **CH3OH** (Metanol)\n",
        "*   **C2H4** (Etileno)\n",
        "*   **CH2O** (Formaldehído)\n",
        "*   **HCOOH** (Ácido fórmico)\n",
        "*   **CH3NH2** (Metilamina)\n",
        "*   **NH3** (Amoníaco)\n",
        "*   **H2O** (Oxidano o Agua)\n",
        "*   **HCONH2** (Formamida)\n",
        "*   **CH3C3H5** (Metilciclopropano)\n",
        "*   **CH3CH2CH2CH2CH3** (Pentano)\n",
        "\n",
        "Observaciones:\n",
        "*   Note que la última fórmula está escrita en forma semidesarrollada, esto para que el algoritmo no tenga que hacer tantas ejecuciones, que es lo que ocurre cuando ponemos la fórmula molecular resumida (C5H12).\n",
        "*   En caso de que la molécula tenga isomeros estructurales, el algoritmo usará el primero que logre resolver, por lo que no es preciso en este aspecto. Es posible que escribiendo la fórmula en forma semidesarrollada en cierto orden (el conveniente para el usuario), de como resultado el isomero deseado.\n",
        "*   Por la manera en que trabaja el algoritmo, no es posible que cree un ciclo aromático.\n",
        "*   Después de los 13 átomos, el algoritmo puede tomar tiempos muy extensos (de 7 minutos a más de una hora dependiendo del tamaño) para ejecutarse dependiendo del tipo de molécula que se le pida, dado que debe probar todas las posibles matrices de adyacencia hasta que una de ellas cumpla con los requisitos.\n",
        "*   Si queremos crear un alcano, debemos pedir solo enlaces simples, ya que esta es su característica principal.\n",
        "\n",
        "\n",
        "\n",
        "\n",
        "\n",
        "\n",
        "\n",
        "\n",
        "\n",
        "\n"
      ]
    },
    {
      "cell_type": "markdown",
      "metadata": {
        "id": "07MN-x-VcpuW"
      },
      "source": [
        "##**Ingresar fórmula molecular**\n",
        "En este apartado el programa pide al ususario la fórmula y crea una lista que descompone el número de átomos dentro de ella para que cada uno funcione como un vértice independiente."
      ]
    },
    {
      "cell_type": "code",
      "source": [
        "atomos_permitidos  = ['C','H','O','N']\n",
        "letras = [chr(i) for i in range(65, 91)] # 65 a 90 son los códigos ASCII para A a Z\n",
        "no_atomos = [letra for letra in letras if letra not in atomos_permitidos] #Letras que no corresponden a los átomos permitidos\n",
        "\n",
        "def lista_vertices(formula):\n",
        "  atomos = [] #lista de vértices compuesta por los átomos de la fórmula\n",
        "  repeticiones = [] #Número de veces que se repite cada átomo según la forma en la que se escribió la fórmula. ej: CH3CH3 retorna repeticiones [1, 3, 1, 3]\n",
        "  dos_digitos = False #Si se encontró un número de dos dígitos previamente, pasa a la siguiente iteración\n",
        "\n",
        "  for i in range(len(formula)):\n",
        "    if dos_digitos:\n",
        "      dos_digitos = False\n",
        "      continue\n",
        "    else:\n",
        "      if formula[i] in atomos_permitidos:#Verifica si es uno de los átomos permitidos\n",
        "        atomos.append(formula[i]) #Lo añade a la lista de vertices\n",
        "        try:\n",
        "          if(int(formula[i+1])>0): #Verifica si hay más de una molécula,\n",
        "            continue\n",
        "        except:\n",
        "          repeticiones.append(1) #Si no hay más de una molécula, añade un 1 a la lista de números\n",
        "          continue\n",
        "\n",
        "      elif formula[i] == ' ' and i == len(formula) - 1: #Si se cuentra un espacio vacio al final, se termina el proceso\n",
        "        break\n",
        "\n",
        "      elif formula[i] in no_atomos or formula[i] == ' ': #En caso de no serlo o de encontrar un espacio vacio en medio de la formula, muestra un error\n",
        "        return \"Fórmula molecular inválida, por favor revise lo que ingresó\",0\n",
        "\n",
        "      elif int(formula[i]) > 0: #Verifica si es un número\n",
        "        if i < len(formula) - 1: #Y no es el último número de la cadena\n",
        "          if formula[i+1] in atomos_permitidos or formula[i+1] in no_atomos or formula[i+1] == ' ':\n",
        "            repeticiones.append(int(formula[i])) #Si lo que le sigue es una letra, añade el número a repeticiones\n",
        "\n",
        "          elif(int(formula[i+1]) >= 0):\n",
        "            repeticiones.append(int(formula[i]+formula[i+1])) #Si le sigue un número, significa que era un número de 2 dígitos, por lo que se concatenan y se activa la flag\n",
        "            dos_digitos = True\n",
        "        else: #Si es el ultimo de la cadena\n",
        "          repeticiones.append(int(formula[i])) #Añade el número\n",
        "\n",
        "  return atomos, repeticiones\n",
        "\n",
        "formula = input(\"Ingrese la fórmula molecular: \")\n",
        "enlace = input(\"Ingrese el número de enlaces máximo deseado (simple, doble, triple) (Si no tiene esta información, ingrese 3): \")\n",
        "formula = formula.upper() #Se coloca el mayúsculas\n",
        "atomos = lista_vertices(formula)[0]\n",
        "repeticiones = lista_vertices(formula)[1]\n",
        "vertices = []\n",
        "\n",
        "if repeticiones != 0: #Si no ocurrió un error\n",
        "  #Se agrega el átomo correspondiente a los vértices según su número de repeticiones\n",
        "  for i in range(len(atomos)):\n",
        "      for j in range(repeticiones[i]):\n",
        "          vertices.append(atomos[i])\n",
        "  #print(f'Vértices: {vertices}')\n",
        "  #print(f'Número máximo de enlaces posibles: {enlace}')\n",
        "else:\n",
        "  print(atomos)"
      ],
      "metadata": {
        "id": "s0sCtCSE730C"
      },
      "execution_count": null,
      "outputs": []
    },
    {
      "cell_type": "markdown",
      "metadata": {
        "id": "gep0ErfVcbGr"
      },
      "source": [
        "##**Creación de la matriz de adyacencia**\n",
        "En este apartado se crea la matriz de adyacencia de la fórmula dada según las reglas de la química orgánica."
      ]
    },
    {
      "cell_type": "markdown",
      "metadata": {
        "id": "gQghUIREa4MB"
      },
      "source": [
        "### *Funciones necesarias*"
      ]
    },
    {
      "cell_type": "code",
      "execution_count": null,
      "metadata": {
        "id": "kqaI10yzK1HG"
      },
      "outputs": [],
      "source": [
        "'''Cualquiera de estas funciones nos dice el estado de un átomo en un momento dado.\n",
        "0 si necesita enlaces, 1 si los enlaces están completos, 2 en cualquier otro caso'''\n",
        "\n",
        "def O_completo(matriz, i, vertice): #El oxígeno necesita 2 enlaces para estar completo\n",
        "  suma_fila = sum(matriz[i])\n",
        "  if (vertice == \"O\" and suma_fila < 2):\n",
        "    ret = 0\n",
        "  elif (vertice == \"O\" and suma_fila == 2):\n",
        "    ret = 1\n",
        "  else:\n",
        "    ret = 2\n",
        "  return ret\n",
        "\n",
        "def H_completo(matriz, i, vertice): #El hidrógeno necesita 1 enlaces para estar completo\n",
        "  suma_fila = sum(matriz[i])\n",
        "  if (vertice == \"H\" and suma_fila < 1):\n",
        "    ret=0\n",
        "  elif (vertice == \"H\" and suma_fila == 1):\n",
        "    ret = 1\n",
        "  else:\n",
        "    ret = 2\n",
        "  return ret\n",
        "\n",
        "def N_completo(matriz, i, vertice): #El Nitrógeno necesita 3 enlaces para estar completo\n",
        "  suma_fila = sum(matriz[i])\n",
        "  if (vertice == \"N\" and suma_fila < 3):\n",
        "    ret=0\n",
        "  elif (vertice == \"N\" and suma_fila == 3):\n",
        "    ret = 1\n",
        "  else:\n",
        "    ret = 2\n",
        "  return ret\n",
        "\n",
        "def C_completo(matriz, i, vertice): #El carbono necesita 4 enlaces para estar completo\n",
        "  suma_fila = sum(matriz[i])\n",
        "  if (vertice == \"C\" and suma_fila < 4):\n",
        "    ret = 0\n",
        "  elif (vertice == \"C\" and suma_fila == 4):\n",
        "    ret = 1\n",
        "  else:\n",
        "    ret = 2\n",
        "  return ret\n",
        "\n",
        "# Verifica si el grafo es conexo\n",
        "def matriz_conexa(matriz):\n",
        "  visitado = [False] * len(matriz)\n",
        "  stack = [0]\n",
        "  while stack:\n",
        "    vertice = stack.pop()\n",
        "    visitado[vertice] = True\n",
        "    for vecino, es_adyacente in enumerate(matriz[vertice]):\n",
        "      if es_adyacente and not visitado[vecino]:\n",
        "        stack.append(vecino)\n",
        "  return all(visitado)\n",
        "\n",
        "#Crea una matriz de 0's\n",
        "def crear_matriz(vertices):\n",
        "  tamano = len(vertices)\n",
        "  matriz = [[0] * tamano for i in range(tamano)]\n",
        "  return matriz\n",
        "\n",
        "#Verificar las sumas en las filas de la matriz de adyacencia (que todos los átomos tengan sus enlaces completos)\n",
        "def enlaces_completos(matriz, vertices):\n",
        "  for i in range(len(vertices)):\n",
        "    vertice = vertices[i]\n",
        "    suma_fila = sum(matriz[i])\n",
        "    if (vertice == \"O\" and suma_fila != 2) or (vertice == \"H\" and suma_fila != 1) or (vertice == \"N\" and suma_fila != 3 ) or (vertice == \"C\" and suma_fila != 4):\n",
        "      return False\n",
        "  return True\n",
        "\n",
        "#Recibe una lista ordenada de vértices y retorna la matriz y la lista en caso de que cumpla las condiciones, de lo contrario retorna una tupla de 0's\n",
        "def llenar_matriz(matriz, vertices, enlaces):\n",
        "  for row in range(len(matriz)):\n",
        "    for col in range(len(matriz)):\n",
        "      for i in range(enlaces): #Realiza el proceso 3 veces (caso de tener que sumar los 3 enlaces del triple enlace de carbono)\n",
        "        if(row == col): #No existen los bucles en estos grafos\n",
        "          break\n",
        "        if(matriz[row][col] <= 3): #Si aún no ha llegado al máximo de enlaces\n",
        "\n",
        "          if(vertices[row] == \"O\" and vertices[col] == \"O\") or (vertices[row ]== 'H' and vertices[col] == 'H'): #Si los átomos son iguales (en el caso del oxígeno y del hidrógeno), no los une\n",
        "            break\n",
        "\n",
        "          elif((vertices[row] == \"H\" or vertices[col] == \"H\") and matriz[row][col] == 1): #Si uno de los átomos es un hidrógeno y ya tiene su enlace, pasa al siguiente índice\n",
        "            break\n",
        "\n",
        "          else:\n",
        "            matriz[row][col] += 1 #Intenta añadir un enlace entre ambos\n",
        "            matriz[col][row] += 1 #Esto por simetría\n",
        "\n",
        "            #Si el átomo de la fila está completo / no tiene forma de obtener más enlaces\n",
        "              #Revisa si el átomo de la columna está completo / no tiene forma de obtener más enlaces\n",
        "              #Si ambas se cumplen, se sigue normal\n",
        "              #Si la que está en las columnas no se cumple (Tiene más enlaces de los que debería), deshace el enlace\n",
        "            #Si en vez de eso el átomo de la fila no podía conseguir más enlaces, deshace el enlace\n",
        "\n",
        "            if O_completo(matriz, row ,vertices[row]) <= 1:\n",
        "              if H_completo(matriz, col, vertices[col]) <= 1:\n",
        "                continue\n",
        "              elif O_completo(matriz, col, vertices[col]) <= 1:\n",
        "                continue\n",
        "              elif C_completo(matriz, col, vertices[col]) <= 1:\n",
        "                continue\n",
        "              elif N_completo(matriz, col, vertices[col]) <= 1:\n",
        "                continue\n",
        "              else:\n",
        "                matriz[row][col] -= 1\n",
        "                matriz[col][row] -= 1\n",
        "                break\n",
        "\n",
        "            elif H_completo(matriz, row, vertices[row]) <= 1:\n",
        "              if H_completo(matriz, col, vertices[col])<=1:\n",
        "                continue\n",
        "              elif O_completo(matriz, col, vertices[col]) <= 1:\n",
        "                continue\n",
        "              elif C_completo(matriz, col, vertices[col]) <= 1:\n",
        "                continue\n",
        "              elif N_completo(matriz, col, vertices[col]) <= 1:\n",
        "                continue\n",
        "              else:\n",
        "                matriz[row][col] -= 1\n",
        "                matriz[col][row] -= 1\n",
        "                break\n",
        "\n",
        "            elif C_completo(matriz, row, vertices[row]) <= 1:\n",
        "              if H_completo(matriz, col, vertices[col]) <= 1:\n",
        "                continue\n",
        "              elif O_completo(matriz, col, vertices[col]) <= 1:\n",
        "                continue\n",
        "              elif C_completo(matriz, col, vertices[col]) <= 1:\n",
        "                continue\n",
        "              elif N_completo(matriz, col, vertices[col]) <= 1:\n",
        "                continue\n",
        "              else:\n",
        "                matriz[row][col] -= 1\n",
        "                matriz[col][row] -= 1\n",
        "                break\n",
        "\n",
        "            elif N_completo(matriz, row, vertices[row]) <= 1:\n",
        "              if H_completo(matriz, col, vertices[col]) <= 1:\n",
        "                continue\n",
        "              elif O_completo(matriz, col, vertices[col]) <= 1:\n",
        "                continue\n",
        "              elif C_completo(matriz, col, vertices[col]) <= 1:\n",
        "                continue\n",
        "              elif N_completo(matriz, col, vertices[col]) <= 1:\n",
        "                continue\n",
        "              else:\n",
        "                matriz[row][col] -= 1\n",
        "                matriz[col][row] -= 1\n",
        "                break\n",
        "            #Si ninguno acepta\n",
        "            else:\n",
        "                matriz[row][col] -= 1\n",
        "                matriz[col][row] -= 1\n",
        "                break\n",
        "        else:\n",
        "          break\n",
        "  if(matriz_conexa(matriz) and enlaces_completos(matriz, vertices)): #Verifica si la matriz es conexa y si están todos los átomos con su respectivo número de enlaces completos\n",
        "    return matriz, vertices\n",
        "  return 0,0\n",
        "\n",
        "#Probamos todas las permutaciones de listas de vértices posibles\n",
        "def formula_a_matriz(matriz, vertices, enlaces):\n",
        "  res = llenar_matriz(matriz, vertices, enlaces)\n",
        "  if res[0] != 0: #Si no retornó un 0\n",
        "    return res\n",
        "  else:\n",
        "    #Hace las posibles permutaciones y elimina las repeticiones (Como cada átomo es considerado distinto, podemos tener resultados en los que el orden sea el mismo, aunque el programa los considere elementos distintos)\n",
        "    perm = set(itertools.permutations(vertices))\n",
        "    perm = [list(permutacion) for permutacion in perm]\n",
        "    tamano = len(vertices)\n",
        "    for p in perm:\n",
        "      matriz = [[0] * tamano for _ in range(tamano)] #reinicia la matriz de los resultados anteriores\n",
        "      res = llenar_matriz(matriz, p, enlaces)\n",
        "      if res[0] != 0:\n",
        "        return res\n",
        "  return 0,0"
      ]
    },
    {
      "cell_type": "markdown",
      "metadata": {
        "id": "SRcHTOHGbG40"
      },
      "source": [
        "### *Resultado obtenido*"
      ]
    },
    {
      "cell_type": "code",
      "execution_count": null,
      "metadata": {
        "id": "4nlq8CO4HFKB"
      },
      "outputs": [],
      "source": [
        "# Creamos la matriz y clonamos los vértices\n",
        "vertices_ = []\n",
        "for i in vertices:\n",
        "  vertices_.append(i)\n",
        "matriz = crear_matriz(vertices_)\n",
        "if(int(enlace)<0):\n",
        "    sol = formula_a_matriz(matriz, vertices_, 3) #Corre el solucionador\n",
        "else:\n",
        "  sol = formula_a_matriz(matriz, vertices_, int(enlace)) #Corre el solucionador\n",
        "matriz = sol[0]\n",
        "vertices = sol[1]\n",
        "if(matriz == 0):#Si no nos da un matriz conexa con enlaces completos\n",
        "  print('Molécula invalida')\n",
        "else:\n",
        "  print('Matriz de adyacencia:')\n",
        "  for fila in matriz: #Imprime la matriz solucionada\n",
        "    print(\" \".join(map(str, fila)))\n"
      ]
    },
    {
      "cell_type": "code",
      "source": [
        "print(vertices)"
      ],
      "metadata": {
        "id": "vvjpXLUMLzLj"
      },
      "execution_count": null,
      "outputs": []
    },
    {
      "cell_type": "markdown",
      "metadata": {
        "id": "jTiUMWNu_D-K"
      },
      "source": [
        "##**Estructura de Lewis (Grafo)**\n",
        "En este apartado podemos ver el resultado de la matriz de adyacencia, que nos muestra cada enlace y átomo, con su color correspondiente (según la normativa internacional)."
      ]
    },
    {
      "cell_type": "code",
      "execution_count": null,
      "metadata": {
        "id": "_cCZCS9btX79"
      },
      "outputs": [],
      "source": [
        "def visualizar_grafo(matriz, formula, vertices):\n",
        "  grafo = ig.Graph.Adjacency(matriz, mode=\"undirected\")\n",
        "  fig, ax = plt.subplots(figsize=(len(matriz),len(matriz)))\n",
        "  ax.set_title(formula, fontsize=25, fontweight='bold')  #Título de la fórmula\n",
        "\n",
        "  #Color correspondiente a cada átomo\n",
        "  colors = []\n",
        "  for i in vertices:\n",
        "    if i == 'C':\n",
        "      colors.append('dimgrey')\n",
        "    elif i == 'H':\n",
        "      colors.append('white')\n",
        "    elif i == 'N':\n",
        "      colors.append('royalblue')\n",
        "    else:\n",
        "      colors.append('lightcoral')\n",
        "  grafo.vs['color'] = colors\n",
        "\n",
        "  # Asignar nombres a los vértices\n",
        "  grafo.vs[\"name\"] = vertices\n",
        "\n",
        "  ig.plot(\n",
        "      grafo,\n",
        "      target=ax,\n",
        "      vertex_size=50,\n",
        "      vertex_label=vertices,\n",
        "      vertex_frame_color=\"black\",\n",
        "      vertex_frame_width=2.0,\n",
        "      vertex_label_size=30.0,\n",
        "      edge_width=4,\n",
        "  )\n",
        "\n",
        "  plt.show()\n",
        "  return grafo"
      ]
    },
    {
      "cell_type": "code",
      "execution_count": null,
      "metadata": {
        "id": "m8zLkvBazyr6"
      },
      "outputs": [],
      "source": [
        "grafo = visualizar_grafo(matriz, formula, vertices)"
      ]
    },
    {
      "cell_type": "markdown",
      "metadata": {
        "id": "To2nDQrKfBMo"
      },
      "source": [
        "##A continuación, se procede a caracterizar la molécula obtenida"
      ]
    },
    {
      "cell_type": "markdown",
      "metadata": {
        "id": "Vz5LtnjbYlRN"
      },
      "source": [
        "##**Masa de la molécula**"
      ]
    },
    {
      "cell_type": "markdown",
      "metadata": {
        "id": "EHSvTdHMixF6"
      },
      "source": [
        "###*Masa de cada átomo*"
      ]
    },
    {
      "cell_type": "code",
      "execution_count": null,
      "metadata": {
        "id": "fGwKkQnxiukJ"
      },
      "outputs": [],
      "source": [
        "# Asignar masas a los vértices\n",
        "masas = []\n",
        "for i in vertices:\n",
        "  if i == \"C\":\n",
        "    masas.append(12.011)\n",
        "  elif i == \"H\":\n",
        "    masas.append(1.00784)\n",
        "  elif i == \"O\":\n",
        "    masas.append(15.999)\n",
        "  elif i == \"N\":\n",
        "    masas.append(14.0067)\n",
        "grafo.vs[\"masa\"] = masas"
      ]
    },
    {
      "cell_type": "markdown",
      "metadata": {
        "id": "47MOnIQ9dwxl"
      },
      "source": [
        "###*Masa total*"
      ]
    },
    {
      "cell_type": "code",
      "execution_count": null,
      "metadata": {
        "id": "ORMCFX1-Yr58"
      },
      "outputs": [],
      "source": [
        "def recorrer_bfs_por_masa(grafo, inicio=0):\n",
        "    \"\"\"\n",
        "    Realiza un recorrido por búsqueda en anchura en el grafo e imprime la masa de cada vértice.\n",
        "\n",
        "    Args:\n",
        "    - grafo: Grafo de igraph.\n",
        "    - inicio: Índice del vértice de inicio para la búsqueda en anchura (por defecto, 0).\n",
        "\n",
        "    Returns:\n",
        "    - masa_total: Masa total de los vértices visitados.\n",
        "    \"\"\"\n",
        "    cola = [inicio]\n",
        "    visitados = set()\n",
        "    masa_total = 0\n",
        "\n",
        "    while cola:\n",
        "      actual = cola.pop(0)\n",
        "      if actual not in visitados:\n",
        "        visitados.add(actual)\n",
        "        vertice = grafo.vs[actual]\n",
        "        masa = vertice[\"masa\"]\n",
        "        masa_total += masa\n",
        "        nombre_vertice = vertice[\"name\"]\n",
        "        vecinos = grafo.neighbors(actual)\n",
        "        cola.extend(vecinos)\n",
        "\n",
        "    return masa_total"
      ]
    },
    {
      "cell_type": "code",
      "execution_count": null,
      "metadata": {
        "id": "4kyD-ueAznuD"
      },
      "outputs": [],
      "source": [
        "# Llamar a la función de búsqueda en anchura con el grafo de ejemplo\n",
        "masa_total_resultante = recorrer_bfs_por_masa(grafo)\n",
        "print(f\"Masa total de los vértices visitados: {masa_total_resultante} U\")"
      ]
    },
    {
      "cell_type": "markdown",
      "metadata": {
        "id": "bGFbbtZYaAIX"
      },
      "source": [
        "###*Zona de masa máxima*"
      ]
    },
    {
      "cell_type": "code",
      "execution_count": null,
      "metadata": {
        "id": "WE3aQw4UeoUA"
      },
      "outputs": [],
      "source": [
        "def suma_masas_adyacentes(grafo):\n",
        "    suma_maxima = 0\n",
        "    vertice_max_suma = None\n",
        "\n",
        "    for vertice_actual in grafo.vs:\n",
        "        indice_actual = vertice_actual.index\n",
        "        masa_actual = vertice_actual[\"masa\"]\n",
        "        vecinos = set(grafo.neighbors(indice_actual))\n",
        "        suma_adyacentes = masa_actual + sum(grafo.vs[vecino][\"masa\"] for vecino in vecinos)\n",
        "\n",
        "        if suma_adyacentes > suma_maxima:\n",
        "            suma_maxima = suma_adyacentes\n",
        "            vertice_max_suma = indice_actual\n",
        "\n",
        "    return vertice_max_suma, suma_maxima"
      ]
    },
    {
      "cell_type": "code",
      "execution_count": null,
      "metadata": {
        "id": "IwvFyOVlz-ay"
      },
      "outputs": [],
      "source": [
        "# Llamar a la función para calcular la suma de masas y encontrar el vértice donde se maximiza\n",
        "vertice_max_suma_masa, suma_maxima_masa = suma_masas_adyacentes(grafo)\n",
        "print(f\"El vértice donde se maximiza la suma de masas es: {grafo.vs[vertice_max_suma_masa]['name']}\")\n",
        "print(f\"La suma máxima de masas es: {suma_maxima_masa} U\")"
      ]
    },
    {
      "cell_type": "markdown",
      "metadata": {
        "id": "Zs-9GQwmaEyh"
      },
      "source": [
        "##**Electronegatividad de la molécula**"
      ]
    },
    {
      "cell_type": "markdown",
      "metadata": {
        "id": "r-W6w5Xgj64d"
      },
      "source": [
        "### *Carga de cada átomo*"
      ]
    },
    {
      "cell_type": "code",
      "execution_count": null,
      "metadata": {
        "id": "fy0OCf00j7XE"
      },
      "outputs": [],
      "source": [
        "# Asignar cargas a los vértices\n",
        "cargas = []\n",
        "for i in vertices:\n",
        "  if i == \"C\":\n",
        "    cargas.append(2.55)\n",
        "  elif i == \"H\":\n",
        "    cargas.append(2.2)\n",
        "  elif i == \"O\":\n",
        "    cargas.append(3.44)\n",
        "  elif i == \"N\":\n",
        "    cargas.append(3.04)\n",
        "grafo.vs[\"electronegatividad\"] = cargas"
      ]
    },
    {
      "cell_type": "markdown",
      "metadata": {
        "id": "9hHa8fZwaI-u"
      },
      "source": [
        "###*Electronegatividad total*"
      ]
    },
    {
      "cell_type": "code",
      "execution_count": null,
      "metadata": {
        "id": "ACT6sg_paSBf"
      },
      "outputs": [],
      "source": [
        "def recorrer_bfs_por_carga(grafo, inicio=0):\n",
        "    \"\"\"\n",
        "    Realiza un recorrido por búsqueda en anchura en el grafo e imprime la carga de cada vértice.\n",
        "\n",
        "    Args:\n",
        "    - grafo: Grafo de igraph.\n",
        "    - inicio: Índice del vértice de inicio para la búsqueda en anchura (por defecto, 0).\n",
        "\n",
        "    Returns:\n",
        "    - carga_total: carga total de los vértices visitados.\n",
        "    \"\"\"\n",
        "    cola = [inicio]\n",
        "    visitados = set()\n",
        "    carga_total = 0\n",
        "\n",
        "    while cola:\n",
        "        actual = cola.pop(0)\n",
        "        if actual not in visitados:\n",
        "            visitados.add(actual)\n",
        "            vertice = grafo.vs[actual]\n",
        "            carga = vertice[\"electronegatividad\"]\n",
        "            carga_total += carga\n",
        "            vecinos = grafo.neighbors(actual)\n",
        "            cola.extend(vecinos)\n",
        "\n",
        "    return carga_total"
      ]
    },
    {
      "cell_type": "code",
      "execution_count": null,
      "metadata": {
        "id": "BKJX0U790Pfm"
      },
      "outputs": [],
      "source": [
        "# Llamar a la función de búsqueda en anchura con el grafo de ejemplo\n",
        "electronegatividad_total_resultante = recorrer_bfs_por_carga(grafo)\n",
        "print(f\"Carga total de los vértices visitados: {electronegatividad_total_resultante} kJ/mol\")"
      ]
    },
    {
      "cell_type": "markdown",
      "metadata": {
        "id": "acdfdZefIlaX"
      },
      "source": [
        "###*Zona de electronegatividad máxima*"
      ]
    },
    {
      "cell_type": "code",
      "execution_count": null,
      "metadata": {
        "id": "uRn-i-BmIrKu"
      },
      "outputs": [],
      "source": [
        "def suma_cargas_adyacentes(grafo):\n",
        "    suma_maxima = 0\n",
        "    vertice_max_suma = None\n",
        "\n",
        "    for vertice_actual in grafo.vs:\n",
        "        indice_actual = vertice_actual.index\n",
        "        carga_actual = vertice_actual[\"electronegatividad\"]\n",
        "        vecinos = set(grafo.neighbors(indice_actual))\n",
        "        suma_adyacentes = carga_actual + sum(grafo.vs[vecino][\"electronegatividad\"] for vecino in vecinos)\n",
        "\n",
        "        if suma_adyacentes > suma_maxima:\n",
        "            suma_maxima = suma_adyacentes\n",
        "            vertice_max_suma = indice_actual\n",
        "\n",
        "    return vertice_max_suma, suma_maxima"
      ]
    },
    {
      "cell_type": "code",
      "execution_count": null,
      "metadata": {
        "id": "C1psWC3B0Unm"
      },
      "outputs": [],
      "source": [
        "# Llamar a la función para calcular la suma de cargas y encontrar el vértice donde se maximiza\n",
        "vertice_max_suma_carga, suma_maxima_carga = suma_cargas_adyacentes(grafo)\n",
        "print(f\"El vértice donde se maximiza la suma de electronegatividades es: {grafo.vs[vertice_max_suma_carga]['name']}\")\n",
        "print(f\"La suma máxima de electronegatividad es: {suma_maxima_carga} kJ/mol\")"
      ]
    },
    {
      "cell_type": "markdown",
      "metadata": {
        "id": "IK4OMg6M2Lne"
      },
      "source": [
        "##**Grupos funcionales presentes en la molécula**"
      ]
    },
    {
      "cell_type": "markdown",
      "source": [
        "### *Alcanos*"
      ],
      "metadata": {
        "id": "4dHARIIOTZtV"
      }
    },
    {
      "cell_type": "code",
      "source": [
        "def es_alcano(matriz, vertices):\n",
        "  x = 0\n",
        "  for i in range(len(vertices)):\n",
        "    for j in range(len(vertices)):\n",
        "      if ((matriz[i][j] == 2 or matriz[i][j] == 3) and vertices[i] == \"C\" and vertices[j] == \"C\") or (vertices[i] != \"C\" and vertices[i] != \"H\") or (vertices[j] != \"C\"and vertices[j] != \"H\"):\n",
        "        return False\n",
        "  return True"
      ],
      "metadata": {
        "id": "D_vWWSdGRx21"
      },
      "execution_count": null,
      "outputs": []
    },
    {
      "cell_type": "code",
      "source": [
        "alcano = es_alcano(matriz, vertices)\n",
        "if alcano:\n",
        "  print('Tiene como grupo funcional un alcano')\n",
        "else:\n",
        "  print('No tiene como grupo funcional un alcano')"
      ],
      "metadata": {
        "id": "FrpFU5tgjxPq"
      },
      "execution_count": null,
      "outputs": []
    },
    {
      "cell_type": "markdown",
      "source": [
        "### *Alquenos*"
      ],
      "metadata": {
        "id": "eO1E7hQ1Crhy"
      }
    },
    {
      "cell_type": "code",
      "source": [
        "def es_alqueno(matriz, vertices):\n",
        "  x=0\n",
        "  for i in range(len(vertices)):\n",
        "    for j in range(len(vertices)):\n",
        "      if ((matriz[i][j] == 3) and vertices[i] == \"C\" and vertices[j] == \"C\") or (vertices[i]!=\"C\" and vertices[i]!=\"H\") or (vertices[j]!=\"C\"and vertices[j]!=\"H\"):\n",
        "        return False\n",
        "      if(matriz[i][j]==2 and vertices[i] == \"C\" and vertices[j] == \"C\"):\n",
        "        x=1\n",
        "\n",
        "  return True if x==1 else False"
      ],
      "metadata": {
        "id": "8ywGkVPYsR2q"
      },
      "execution_count": null,
      "outputs": []
    },
    {
      "cell_type": "code",
      "source": [
        "alqueno = es_alqueno(matriz, vertices)\n",
        "if alqueno:\n",
        "  print('Tiene como grupo funcional un alqueno')\n",
        "else:\n",
        "  print('No tiene como grupo funcional un alqueno')"
      ],
      "metadata": {
        "id": "BD0HBtFIjjT5"
      },
      "execution_count": null,
      "outputs": []
    },
    {
      "cell_type": "markdown",
      "source": [
        "### *Alquinos*"
      ],
      "metadata": {
        "id": "aFoLAYoCCti5"
      }
    },
    {
      "cell_type": "code",
      "source": [
        "def es_alquino(matriz, vertices):\n",
        "  x = 0\n",
        "  for i in range(len(vertices)):\n",
        "    for j in range(len(vertices)):\n",
        "      if (vertices[i] != \"C\" and vertices[i] != \"H\") or (vertices[j] != \"C\" and vertices[j] != \"H\"):\n",
        "        return False\n",
        "      if(matriz[i][j]==3 and vertices[i] == \"C\" and vertices[j] == \"C\"):\n",
        "        x = 1\n",
        "  return True if x == 1 else False"
      ],
      "metadata": {
        "id": "6I2ZifsOJuOL"
      },
      "execution_count": null,
      "outputs": []
    },
    {
      "cell_type": "code",
      "source": [
        "alquino = es_alquino(matriz, vertices)\n",
        "if alquino:\n",
        "  print('Tiene como grupo funcional un alquino')\n",
        "else:\n",
        "  print('No tiene como grupo funcional un alquino')"
      ],
      "metadata": {
        "id": "SilMOxaRi_2e"
      },
      "execution_count": null,
      "outputs": []
    },
    {
      "cell_type": "markdown",
      "metadata": {
        "id": "E5-dBnaB0NJl"
      },
      "source": [
        "###*Acido carboxílico*"
      ]
    },
    {
      "cell_type": "code",
      "execution_count": null,
      "metadata": {
        "id": "u0aYQ3t40Ux-"
      },
      "outputs": [],
      "source": [
        "def es_acido_carboxilico(matriz, vertices):\n",
        "  for i in range(len(vertices)):\n",
        "    for j in range(len(vertices)):\n",
        "      if matriz[i][j] == 2 and vertices[i] == \"C\" and vertices[j] == \"O\": #Revisa si existe un enlace doble entre un carbono y un oxígeno\n",
        "        for h in range(len(vertices)):\n",
        "          if matriz[i][h] == 1 and vertices[i] == \"C\" and vertices[h] == \"O\": #Revisa si existe un enlace doble entre ese carbono y otro oxígeno\n",
        "            for k in range(len(vertices)):\n",
        "              if matriz[h][k] == 1 and vertices[h] == \"O\" and vertices[k] == \"H\": #Revisa si existe un enlace doble entre ese oxígeno y un hidrógeno\n",
        "                return True\n",
        "  return False"
      ]
    },
    {
      "cell_type": "code",
      "execution_count": null,
      "metadata": {
        "id": "UKufIZMP1sfi"
      },
      "outputs": [],
      "source": [
        "acido_carboxilico = es_acido_carboxilico(matriz,vertices)\n",
        "if acido_carboxilico:\n",
        "  print('Tiene como grupo funcional un ácido carboxílico')\n",
        "else:\n",
        "  print('No tiene como grupo funcional un ácido carboxílico')"
      ]
    },
    {
      "cell_type": "markdown",
      "metadata": {
        "id": "I8XwOkEf2SnG"
      },
      "source": [
        "###*Carbonilo*"
      ]
    },
    {
      "cell_type": "code",
      "execution_count": null,
      "metadata": {
        "id": "_DZ4qkMYxPuI"
      },
      "outputs": [],
      "source": [
        "def es_carbonilo(matriz, vertices):\n",
        "  for i in range(len(vertices)):\n",
        "    for j in range(len(vertices)):\n",
        "      if matriz[i][j] == 2 and vertices[i] == \"C\" and vertices[j] == \"O\" and not es_acido_carboxilico(matriz,vertices) and not es_ester(matriz,vertices): #Si existe un doble enlace entre un carbono y un oxígeno, y no tiene un ácido carboxilico como grupo principal\n",
        "        return True\n",
        "  return False"
      ]
    },
    {
      "cell_type": "code",
      "execution_count": null,
      "metadata": {
        "id": "0WNR4grey0a-"
      },
      "outputs": [],
      "source": [
        "carbonilo = es_carbonilo(matriz, vertices)\n",
        "if carbonilo:\n",
        "  print('Tiene como grupo funcional un carbonilo')\n",
        "else:\n",
        "  print('No tiene como grupo funcional un un carbonilo')"
      ]
    },
    {
      "cell_type": "markdown",
      "source": [
        "### Esteres"
      ],
      "metadata": {
        "id": "Jgb6lljCPgfK"
      }
    },
    {
      "cell_type": "code",
      "execution_count": null,
      "metadata": {
        "id": "kQ4BmP9NMJ42"
      },
      "outputs": [],
      "source": [
        "def es_ester(matriz, vertices):\n",
        "  for i in range(len(vertices)):\n",
        "    for j in range(len(vertices)):\n",
        "      if matriz[i][j] == 2 and vertices[i] == \"C\" and vertices[j] == \"O\":\n",
        "        for h in range(len(vertices)):\n",
        "          if matriz[i][h] == 1 and vertices[i] == \"C\" and vertices[h] == \"O\":\n",
        "            for k in range(len(vertices)):\n",
        "              if matriz[h][k] == 1 and vertices[k] == \"C\" and i != k:\n",
        "                suma = 0\n",
        "                for u in range(len(vertices)):\n",
        "                  if matriz[k][u] == 1 and vertices[u] == \"H\":\n",
        "                    suma += 1\n",
        "                if(suma == 3):\n",
        "                  return True\n",
        "  return False"
      ]
    },
    {
      "cell_type": "code",
      "source": [
        "ester = es_ester(matriz, vertices)\n",
        "if ester:\n",
        "  print('Tiene como grupo funcional un ester')\n",
        "else:\n",
        "  print('No tiene como grupo funcional un ester')"
      ],
      "metadata": {
        "id": "j6HHzmBUifxr"
      },
      "execution_count": null,
      "outputs": []
    },
    {
      "cell_type": "markdown",
      "metadata": {
        "id": "uzZ_XZD9MKs5"
      },
      "source": [
        "###*Amida*"
      ]
    },
    {
      "cell_type": "code",
      "execution_count": null,
      "metadata": {
        "id": "vwm9Bs1yMNmz"
      },
      "outputs": [],
      "source": [
        "def es_amida(matriz, vertices):\n",
        "  for i in range(len(vertices)):\n",
        "    for j in range(len(vertices)):\n",
        "      if matriz[i][j] == 2 and vertices[i] == \"C\" and vertices[j] == \"O\": #Si existe un doble enlace entre un carbono y un oxígeno\n",
        "        for h in range(len(vertices)):\n",
        "          if matriz[i][h] == 1 and vertices[i] == \"C\" and vertices[h] == \"N\": #Si ese carbono tiene un enlace con un nitrógeno\n",
        "            return True\n",
        "  return False"
      ]
    },
    {
      "cell_type": "code",
      "execution_count": null,
      "metadata": {
        "id": "4PWtO9PpNHdF"
      },
      "outputs": [],
      "source": [
        "amida = es_amida(matriz, vertices)\n",
        "if amida:\n",
        "  print('Tiene como grupo funcional una amida')\n",
        "else:\n",
        "  print('No tiene como grupo funcional una amida')"
      ]
    },
    {
      "cell_type": "markdown",
      "metadata": {
        "id": "pbgk9He1A7DD"
      },
      "source": [
        "###*Amina primaria*"
      ]
    },
    {
      "cell_type": "code",
      "execution_count": null,
      "metadata": {
        "id": "4rRpWibMBBXX"
      },
      "outputs": [],
      "source": [
        "def es_amina_primaria(matriz, vertices):\n",
        "  for i in range(len(vertices)):\n",
        "    for j in range(len(vertices)):\n",
        "      if matriz[i][j] == 1 and vertices[i] == \"N\" and vertices[j] == \"H\": #Si existe un enlace entre un nitrógeno y un hidrógeno\n",
        "        for h in range(len(vertices)):\n",
        "          if matriz[i][h] == 1 and vertices[i] == \"N\" and vertices[h] == \"H\" and h != j and not es_amida(matriz, vertices): #Si existe un enlace con otro hidrógeno y no es una amida\n",
        "            return True\n",
        "  return False"
      ]
    },
    {
      "cell_type": "code",
      "execution_count": null,
      "metadata": {
        "id": "LQExt0kM2vST"
      },
      "outputs": [],
      "source": [
        "amina_p = es_amina_primaria(matriz, vertices)\n",
        "if amina_p:\n",
        "  print('Tiene como grupo funcional una amina primaria')\n",
        "else:\n",
        "  print('No tiene como grupo funcional una amina primaria')"
      ]
    },
    {
      "cell_type": "markdown",
      "metadata": {
        "id": "siE89Ye7Q5PZ"
      },
      "source": [
        "###*Amina Secundaria*"
      ]
    },
    {
      "cell_type": "code",
      "execution_count": null,
      "metadata": {
        "id": "wdbhkKQ4RBW6"
      },
      "outputs": [],
      "source": [
        "def es_amina_secundaria(matriz, vertices):\n",
        "  for i in range(len(vertices)):\n",
        "    for j in range(len(vertices)):\n",
        "      if matriz[i][j] == 1 and vertices[i] == \"N\" and vertices[j] == \"H\": #Si existe un enlace entre un nitrógeno y un hidrógeno\n",
        "        for h in range(len(vertices)):\n",
        "          if not es_amina_primaria(matriz,vertices) and not es_amida(matriz, vertices):  #Si no existe un enlace con otro hidrógeno y no es una amida\n",
        "            return True\n",
        "  return False"
      ]
    },
    {
      "cell_type": "code",
      "execution_count": null,
      "metadata": {
        "id": "hef5kZd_3XDE"
      },
      "outputs": [],
      "source": [
        "amina_s = es_amina_secundaria(matriz, vertices)\n",
        "if amina_s:\n",
        "  print('Tiene como grupo funcional una amina secundaria')\n",
        "else:\n",
        "  print('No tiene como grupo funcional una amina secundaria')"
      ]
    },
    {
      "cell_type": "markdown",
      "metadata": {
        "id": "KdCN3-e_vllV"
      },
      "source": [
        "##**Indices Topologicos de la molécula**\n",
        "Para los calculos de los indices, requerimos eliminar los hidrogenos para obtener el grafo molecular con los hidrógenos suprimidos, que es el que nos da los valores reales que necesitamos en cada caso."
      ]
    },
    {
      "cell_type": "markdown",
      "source": [
        "### *Grafo molecular con hidrógenos suprimidos*"
      ],
      "metadata": {
        "id": "TQrWMgB9n0ET"
      }
    },
    {
      "cell_type": "code",
      "source": [
        "new_vertices = []\n",
        "for i in vertices:\n",
        "  new_vertices.append(i)\n",
        "new_matriz = np.array(matriz)\n",
        "i = 0\n",
        "\n",
        "while i < len(new_vertices): #Mientras sea posible acceder a los indices de la lista de vértices sin el hidrógeno\n",
        "  if H_completo(new_matriz, i, new_vertices[i]) == 1: #Si seleccionamos un hidrógeno\n",
        "    #Lo removemos tanto de la lista como de la matriz\n",
        "    new_vertices.remove('H')\n",
        "    new_matriz = np.delete(new_matriz, i, axis=0)\n",
        "    new_matriz = np.delete(new_matriz, i, axis=1)\n",
        "  else:\n",
        "    i += 1\n",
        "\n",
        "new_grafo = ig.Graph.Adjacency(new_matriz, mode=\"undirected\") #Creamos un grafo con esta nueva matriz"
      ],
      "metadata": {
        "id": "0S0xbmdXEece"
      },
      "execution_count": null,
      "outputs": []
    },
    {
      "cell_type": "markdown",
      "metadata": {
        "id": "XHjV2l_VvqNb"
      },
      "source": [
        "###*Indice de Randic*\n"
      ]
    },
    {
      "cell_type": "code",
      "execution_count": null,
      "metadata": {
        "id": "2RTAqKiowZM9"
      },
      "outputs": [],
      "source": [
        "def calcular_indice_randic(grafo):\n",
        "    n = grafo.vcount()\n",
        "    suma_indice = 0\n",
        "\n",
        "    for u, v in itertools.combinations(grafo.vs, 2):\n",
        "        d_u = grafo.degree(u)\n",
        "        d_v = grafo.degree(v)\n",
        "        suma_indice += 1 / (d_u * d_v)**0.5\n",
        "\n",
        "    indice_randic = suma_indice\n",
        "\n",
        "    return indice_randic"
      ]
    },
    {
      "cell_type": "code",
      "execution_count": null,
      "metadata": {
        "id": "SlaaMHOE7wtY"
      },
      "outputs": [],
      "source": [
        "# Calcular el índice de Randic\n",
        "indice_randic = calcular_indice_randic(new_grafo)\n",
        "print(f\"El índice de Randic del grafo es: {indice_randic}\")"
      ]
    },
    {
      "cell_type": "markdown",
      "metadata": {
        "id": "NUbKPcoExSJd"
      },
      "source": [
        "###*Indice de Wiener*"
      ]
    },
    {
      "cell_type": "code",
      "execution_count": null,
      "metadata": {
        "id": "-488Td9GxRG2"
      },
      "outputs": [],
      "source": [
        "def calcular_indice_wiener(grafo):\n",
        "    n = grafo.vcount()\n",
        "    indice_wiener = 0\n",
        "\n",
        "    for u, v in itertools.combinations(grafo.vs, 2):\n",
        "        distancia_uv = grafo.distances(source=u.index, target=v.index, mode=ig.ALL)[0][0]\n",
        "        indice_wiener += distancia_uv\n",
        "\n",
        "    return indice_wiener"
      ]
    },
    {
      "cell_type": "code",
      "execution_count": null,
      "metadata": {
        "id": "ni9wwD5j73gk"
      },
      "outputs": [],
      "source": [
        "# Calcular el índice de Wiener\n",
        "indice_wiener = calcular_indice_wiener(new_grafo)\n",
        "print(f\"El índice de Wiener del grafo es: {indice_wiener}\")"
      ]
    },
    {
      "cell_type": "markdown",
      "metadata": {
        "id": "DatY_aLk888i"
      },
      "source": [
        "### *Caminos de wiener*"
      ]
    },
    {
      "cell_type": "code",
      "execution_count": null,
      "metadata": {
        "id": "Srj030u_9Emm"
      },
      "outputs": [],
      "source": [
        "def caminos_de_wiener(matriz, vertices, grafo):\n",
        "  caminos = {'p1':0, 'p2':0, 'p3':0, 'p4':0, 'p5':0, 'p6':0, 'p7':0, 'p8':0} #Números de caminos de wiener necesarios para el modelo\n",
        "\n",
        "  i = -1\n",
        "  for v in grafo.vs: #Nombramos los vértices con números para que coincidan con los nombres de las aristas\n",
        "    i += 1\n",
        "    v['name'] = i\n",
        "\n",
        "  matriz_resultado = crear_matriz(vertices)\n",
        "  for i in range(len(vertices)):\n",
        "    for j in range(len(vertices)):\n",
        "      if i == j:\n",
        "        matriz_resultado[i][j] = 0 #No contamos distancias de 0\n",
        "      else:\n",
        "        camino_mas_corto = grafo.get_shortest_paths(i, to=j, output=\"vpath\")\n",
        "        matriz_resultado[i][j] = len(camino_mas_corto[0]) - 1 #A el resultado, que resulta ser la lista de vértices recorridos, lo convertimos en su longitud y le restamos uno, que resulta en la longitud del camino\n",
        "  grafo.vs['name'] = vertices #Le devolvemos su nombre original\n",
        "\n",
        "  #Tomamos Solo una de las partes de la matriz simétrica, para no repetir números en la cuenta\n",
        "  matriz_np = np.array(matriz_resultado)\n",
        "  parte_superior = np.triu(matriz_np, k=1)\n",
        "\n",
        "  #Por cada longitud i de camino encontrada, le sumamos 1 a su contador pi\n",
        "  for i in range(len(vertices)):\n",
        "    for j in range(len(vertices)):\n",
        "      if parte_superior[i][j] == 1:\n",
        "        caminos['p1'] += 1\n",
        "      elif parte_superior[i][j] == 2:\n",
        "        caminos['p2'] += 1\n",
        "      elif parte_superior[i][j] == 3:\n",
        "        caminos['p3'] += 1\n",
        "      elif parte_superior[i][j] == 4:\n",
        "        caminos['p4'] += 1\n",
        "      elif parte_superior[i][j] == 5:\n",
        "        caminos['p5'] += 1\n",
        "      elif parte_superior[i][j] == 6:\n",
        "        caminos['p6'] += 1\n",
        "      elif parte_superior[i][j] == 7:\n",
        "        caminos['p7'] += 1\n",
        "      elif parte_superior[i][j] == 8:\n",
        "        caminos['p8'] += 1\n",
        "      else:\n",
        "        continue\n",
        "\n",
        "  return caminos"
      ]
    },
    {
      "cell_type": "code",
      "execution_count": null,
      "metadata": {
        "id": "iWA_Oz4gLeT6"
      },
      "outputs": [],
      "source": [
        "caminos_wiener = caminos_de_wiener(new_matriz, new_vertices, new_grafo)\n",
        "caminos = \", \".join([f\"{llave}: {valor}\" for llave, valor in caminos_wiener.items()])\n",
        "print(f'Los caminos de wiener son: {caminos}')"
      ]
    },
    {
      "cell_type": "markdown",
      "metadata": {
        "id": "6462J__BE7Xc"
      },
      "source": [
        "### *Metiles*\n",
        "Se hace la aclaración de que estos metiles no son los mismos que los definidos por la IUPAC (número de ramificaciones CH3)."
      ]
    },
    {
      "cell_type": "code",
      "execution_count": null,
      "metadata": {
        "id": "dlOO7EihFzcI"
      },
      "outputs": [],
      "source": [
        "def metiles(grafo, vertices):\n",
        "  grados_vertices = grafo.degree() #Obtenemos el grado de todos los vértices\n",
        "  m = 0 #Número de metiles\n",
        "  for i in range(len(grados_vertices)):\n",
        "    if grados_vertices[i] == 1: #Si encuentra un vértice de grado 1\n",
        "      for j in range(len(grados_vertices)):\n",
        "        if grados_vertices[j] >= 3: #Si encuentra un vértice de grado mayor o igual a 3\n",
        "          if grafo.are_connected(i, j): #Y si esos dos vértices están conectados\n",
        "            m += 1 #Encontramos un metil\n",
        "  return m"
      ]
    },
    {
      "cell_type": "code",
      "execution_count": null,
      "metadata": {
        "id": "RqRgzuvXGlfr"
      },
      "outputs": [],
      "source": [
        "num_metiles = metiles(new_grafo, new_vertices)\n",
        "print(f'el número de metiles es: {num_metiles}')"
      ]
    },
    {
      "cell_type": "markdown",
      "source": [
        "### *Modelo para hallar el punto de ebullición de un alcano*\n",
        "Se usa el modelo propuesto en el informe. Cabe recalcar que solo funciona para alcanos, y que tiene una desviación estandar de 4.3 °C"
      ],
      "metadata": {
        "id": "2nzM1AolVGdh"
      }
    },
    {
      "cell_type": "code",
      "source": [
        "def punto_de_ebullicion(new_matriz, new_vertices, caminos, metil):\n",
        "  for i in range(len(new_vertices)):\n",
        "    if new_vertices[i] != 'C': #Si encuentra algo que no sea un carbono\n",
        "      return 'No es posible calcular la temperatura dado que no es un alcano'\n",
        "    for j in range(len(new_vertices)):\n",
        "      if new_matriz[i][j] == 2 or new_matriz[i][j] == 3: #Si tiene enlaces dobles o triples\n",
        "        return 'No es posible calcular la temperatura dado que no es un alcano'\n",
        "\n",
        "  modelo = -167.49997 + 84.28344*caminos['p1']**0.46072 + 15.94534*caminos['p2']**0.00348 + 17.42198*caminos['p3']**0.53517 + 11.16515*caminos['p4']**0.00164 + 4.74582*caminos['p5']**0.00089 + 5.23270*caminos['p6']**0.00143 + 6.67018*caminos['p7']**0.14687 + 5.27829*caminos['p8']**0.96677 - 5.53723*metil**0.00072\n",
        "  return modelo"
      ],
      "metadata": {
        "id": "oKdywNPEVOBk"
      },
      "execution_count": null,
      "outputs": []
    },
    {
      "cell_type": "code",
      "source": [
        "ebullicion = punto_de_ebullicion(new_matriz, new_vertices, caminos_wiener, num_metiles)\n",
        "if(type(ebullicion) == float):\n",
        "  print(f'Su punto de ebullición aproximado es: {ebullicion}')\n",
        "else:\n",
        "  print(ebullicion)"
      ],
      "metadata": {
        "id": "rRkzpFXaYjky"
      },
      "execution_count": null,
      "outputs": []
    },
    {
      "cell_type": "markdown",
      "metadata": {
        "id": "T9xLIMEtVyFc"
      },
      "source": [
        "##**Resumen**"
      ]
    },
    {
      "cell_type": "code",
      "execution_count": null,
      "metadata": {
        "id": "dGSFzKLzP8DV"
      },
      "outputs": [],
      "source": [
        "print(f\"Resumen de la molecula {formula}: \")\n",
        "print(\"\")\n",
        "visualizar_grafo(matriz, formula, vertices)\n",
        "print(\"\")\n",
        "\n",
        "print(f'''Masa total: {masa_total_resultante} U\n",
        "La masa máxima se concentra en: {grafo.vs[vertice_max_suma_masa]['name']}\n",
        "Electronegatividad total: {electronegatividad_total_resultante} kJ/mol\n",
        "La electronegatividad máxima se concentra en: {grafo.vs[vertice_max_suma_carga]['name']}\n",
        "Su índice de Randic es: {indice_randic}\n",
        "Su índice de Wiener es: {indice_wiener}\n",
        "Sus caminos de Wiener son:\n",
        "{caminos}\n",
        "Su número de metiles es: {num_metiles}\n",
        "''')\n",
        "print('Su grupo funcional principal es:')\n",
        "if(es_acido_carboxilico(matriz,vertices)):\n",
        "  print(\"ácido carboxilico\")\n",
        "elif(es_amida(matriz,vertices)):\n",
        "  print(\"Amida\")\n",
        "elif(es_amina_primaria(matriz,vertices)):\n",
        "  print(\"Amina primaria\")\n",
        "elif(es_amina_secundaria(matriz,vertices)):\n",
        "  print(\"Amina secundaria\")\n",
        "elif(es_carbonilo(matriz,vertices)):\n",
        "  print(\"Carbonilo\")\n",
        "elif(es_acido_carboxilico(matriz,vertices)):\n",
        "  print(\"Acido carboxílico\")\n",
        "elif(es_ester(matriz,vertices)):\n",
        "  print(\"Ester\")\n",
        "elif(es_alcano(matriz,vertices)):\n",
        "  print(\"Alcano\")\n",
        "elif(es_alqueno(matriz,vertices)):\n",
        "  print(\"Alqueno\")\n",
        "elif(es_alquino(matriz,vertices)):\n",
        "  print(\"Alquino\")\n",
        "else:\n",
        "  print(\"No se encuentra dentro de los grupos funcionales reconocibles.\")\n",
        "\n",
        "if(type(ebullicion) == float):\n",
        "  print(f'Su punto de ebullición aproximado es: {ebullicion}°C')\n"
      ]
    }
  ],
  "metadata": {
    "colab": {
      "provenance": [],
      "collapsed_sections": [
        "rJSosWQMO-Pa",
        "Vz5LtnjbYlRN",
        "EHSvTdHMixF6",
        "47MOnIQ9dwxl",
        "bGFbbtZYaAIX",
        "Zs-9GQwmaEyh",
        "r-W6w5Xgj64d",
        "9hHa8fZwaI-u",
        "acdfdZefIlaX",
        "E5-dBnaB0NJl",
        "I8XwOkEf2SnG",
        "uzZ_XZD9MKs5",
        "pbgk9He1A7DD",
        "XHjV2l_VvqNb",
        "NUbKPcoExSJd"
      ],
      "include_colab_link": true
    },
    "kernelspec": {
      "display_name": "Python 3",
      "name": "python3"
    },
    "language_info": {
      "name": "python"
    }
  },
  "nbformat": 4,
  "nbformat_minor": 0
}