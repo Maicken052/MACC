{
  "nbformat": 4,
  "nbformat_minor": 0,
  "metadata": {
    "colab": {
      "provenance": [],
      "include_colab_link": true
    },
    "kernelspec": {
      "name": "python3",
      "display_name": "Python 3"
    },
    "language_info": {
      "name": "python"
    }
  },
  "cells": [
    {
      "cell_type": "markdown",
      "metadata": {
        "id": "view-in-github",
        "colab_type": "text"
      },
      "source": [
        "<a href=\"https://colab.research.google.com/github/Maicken052/MACC/blob/main/Caso_de_Estudio_2.ipynb\" target=\"_parent\"><img src=\"https://colab.research.google.com/assets/colab-badge.svg\" alt=\"Open In Colab\"/></a>"
      ]
    },
    {
      "cell_type": "markdown",
      "source": [
        "#***Caso de Estudio:***\n",
        "## Aprendizaje automático de máquina - Universidad del Rosario\n",
        "### Samuel Fernando De Dios Pérez <br> Robert Daniel Fonseca Lesmez <br> Escuela de Ingeniería, Ciencia y Tecnología"
      ],
      "metadata": {
        "id": "30JmFzLRXVxU"
      }
    },
    {
      "cell_type": "markdown",
      "source": [
        "## **Librerias a usar**"
      ],
      "metadata": {
        "id": "tEHKFAHjXk9A"
      }
    },
    {
      "cell_type": "code",
      "execution_count": null,
      "metadata": {
        "id": "o8ivI-o9W3fg"
      },
      "outputs": [],
      "source": [
        "import pandas as pd\n",
        "import numpy as np\n",
        "import matplotlib.pyplot as plt\n",
        "import seaborn as sns\n",
        "import sklearn\n",
        "\n",
        "from sklearn.preprocessing import StandardScaler #preprosesamiento de datos\n",
        "from sklearn.model_selection import train_test_split #entrenar los datos\n",
        "from sklearn.metrics import confusion_matrix, accuracy_score, classification_report, r2_score, roc_auc_score #usar las metricas de errores, para verificar que los datos estan bien\n",
        "from sklearn.tree import DecisionTreeRegressor, DecisionTreeClassifier, export_text, plot_tree\n",
        "from sklearn.neighbors import KNeighborsClassifier, kneighbors_graph\n",
        "from sklearn.naive_bayes import GaussianNB\n",
        "\n",
        "from sklearn.metrics import roc_curve, auc\n",
        "from sklearn.manifold import TSNE\n",
        "from sklearn.metrics import precision_recall_curve\n",
        "from sklearn.metrics import average_precision_score\n",
        "\n",
        "from tensorflow import keras\n",
        "from keras import layers, models\n",
        "\n",
        "import plotly.express as px"
      ]
    },
    {
      "cell_type": "markdown",
      "source": [
        "## **Importar el dataset**"
      ],
      "metadata": {
        "id": "MQn_wSAHYc56"
      }
    },
    {
      "cell_type": "code",
      "source": [
        "data_ori=pd.read_csv('/content/drive/MyDrive/Uni/maquinas 2024-1/nasa.csv')\n",
        "data=data_ori.copy()"
      ],
      "metadata": {
        "id": "NI7_nSybYgTZ"
      },
      "execution_count": null,
      "outputs": []
    },
    {
      "cell_type": "markdown",
      "source": [
        "## **Preprocesamiento de los datos**\n",
        "\n",
        "\n"
      ],
      "metadata": {
        "id": "WuvzxKP3Yqyp"
      }
    },
    {
      "cell_type": "code",
      "source": [
        "print(data.isnull().sum(), '\\n') #Revisar la cantidad de datos nulos"
      ],
      "metadata": {
        "id": "RzdgXx7NY1zp",
        "colab": {
          "base_uri": "https://localhost:8080/"
        },
        "outputId": "f283918e-1c32-485b-fc45-aa7e784f0cd1"
      },
      "execution_count": null,
      "outputs": [
        {
          "output_type": "stream",
          "name": "stdout",
          "text": [
            "Neo Reference ID                0\n",
            "Name                            0\n",
            "Absolute Magnitude              0\n",
            "Est Dia in KM(min)              0\n",
            "Est Dia in KM(max)              0\n",
            "Est Dia in M(min)               0\n",
            "Est Dia in M(max)               0\n",
            "Est Dia in Miles(min)           0\n",
            "Est Dia in Miles(max)           0\n",
            "Est Dia in Feet(min)            0\n",
            "Est Dia in Feet(max)            0\n",
            "Close Approach Date             0\n",
            "Epoch Date Close Approach       0\n",
            "Relative Velocity km per sec    0\n",
            "Relative Velocity km per hr     0\n",
            "Miles per hour                  0\n",
            "Miss Dist.(Astronomical)        0\n",
            "Miss Dist.(lunar)               0\n",
            "Miss Dist.(kilometers)          0\n",
            "Miss Dist.(miles)               0\n",
            "Orbiting Body                   0\n",
            "Orbit ID                        0\n",
            "Orbit Determination Date        0\n",
            "Orbit Uncertainity              0\n",
            "Minimum Orbit Intersection      0\n",
            "Jupiter Tisserand Invariant     0\n",
            "Epoch Osculation                0\n",
            "Eccentricity                    0\n",
            "Semi Major Axis                 0\n",
            "Inclination                     0\n",
            "Asc Node Longitude              0\n",
            "Orbital Period                  0\n",
            "Perihelion Distance             0\n",
            "Perihelion Arg                  0\n",
            "Aphelion Dist                   0\n",
            "Perihelion Time                 0\n",
            "Mean Anomaly                    0\n",
            "Mean Motion                     0\n",
            "Equinox                         0\n",
            "Hazardous                       0\n",
            "dtype: int64 \n",
            "\n"
          ]
        }
      ]
    },
    {
      "cell_type": "markdown",
      "source": [
        "Como no hay datos nulos, dejamos las filas como están"
      ],
      "metadata": {
        "id": "wz20iItfnRMr"
      }
    },
    {
      "cell_type": "markdown",
      "source": [
        "Se procede a eliminar las filas innecesarias para el modelo (fechas, datos no numéricos, ID's, y filas con mucha correlación)"
      ],
      "metadata": {
        "id": "aoJo1PH3l9yt"
      }
    },
    {
      "cell_type": "code",
      "source": [
        "data = data.drop([\"Hazardous\",\n",
        "                \"Neo Reference ID\",\n",
        "                  \"Name\",\n",
        "                  \"Equinox\",\n",
        "                  \"Orbiting Body\",\n",
        "                  \"Est Dia in KM(min)\",\n",
        "                  \"Est Dia in KM(max)\",\n",
        "                  \"Est Dia in M(min)\",\n",
        "                  \"Est Dia in M(max)\",\n",
        "                  \"Est Dia in Feet(min)\",\n",
        "                  \"Est Dia in Feet(max)\",\n",
        "                  \"Close Approach Date\",\n",
        "                  \"Relative Velocity km per sec\",\n",
        "                  \"Miss Dist.(Astronomical)\",\n",
        "                  \"Miss Dist.(lunar)\",\n",
        "                  \"Miss Dist.(kilometers)\",\n",
        "                  \"Orbit ID\",\n",
        "                  \"Orbit Determination Date\",\n",
        "                  \"Est Dia in Miles(min)\",\n",
        "                  \"Relative Velocity km per hr\",\n",
        "                  \"Jupiter Tisserand Invariant\",\n",
        "                  \"Perihelion Time\",\n",
        "                  \"Aphelion Dist\",\n",
        "                  \"Semi Major Axis\",\n",
        "                  \"Orbit Uncertainity\",\n",
        "                  \"Eccentricity\",\n",
        "                  \"Miles per hour\",\n",
        "                  \"Orbital Period\",\n",
        "                  \"Absolute Magnitude\",\n",
        "                  \"Perihelion Distance\"],\n",
        "                axis=1)"
      ],
      "metadata": {
        "id": "an4q-NKh16HO"
      },
      "execution_count": null,
      "outputs": []
    },
    {
      "cell_type": "code",
      "source": [
        "print(f'Número de filas: {data.shape[0]}, Número de columnas: {data.shape[1]}') #Número de filas y columnas\n",
        "data.head() #Visualización del dataset"
      ],
      "metadata": {
        "id": "eZaBJIXBY8ih",
        "colab": {
          "base_uri": "https://localhost:8080/",
          "height": 288
        },
        "outputId": "03013db5-cc95-456e-ab9a-6fc82f7cf3f0"
      },
      "execution_count": null,
      "outputs": [
        {
          "output_type": "stream",
          "name": "stdout",
          "text": [
            "Número de filas: 4687, Número de columnas: 40\n"
          ]
        },
        {
          "output_type": "execute_result",
          "data": {
            "text/plain": [
              "   Neo Reference ID     Name  Absolute Magnitude  Est Dia in KM(min)  \\\n",
              "0           3703080  3703080                21.6            0.127220   \n",
              "1           3723955  3723955                21.3            0.146068   \n",
              "2           2446862  2446862                20.3            0.231502   \n",
              "3           3092506  3092506                27.4            0.008801   \n",
              "4           3514799  3514799                21.6            0.127220   \n",
              "\n",
              "   Est Dia in KM(max)  Est Dia in M(min)  Est Dia in M(max)  \\\n",
              "0            0.284472         127.219879         284.472297   \n",
              "1            0.326618         146.067964         326.617897   \n",
              "2            0.517654         231.502122         517.654482   \n",
              "3            0.019681           8.801465          19.680675   \n",
              "4            0.284472         127.219879         284.472297   \n",
              "\n",
              "   Est Dia in Miles(min)  Est Dia in Miles(max)  Est Dia in Feet(min)  ...  \\\n",
              "0               0.079051               0.176763            417.388066  ...   \n",
              "1               0.090762               0.202951            479.225620  ...   \n",
              "2               0.143849               0.321655            759.521423  ...   \n",
              "3               0.005469               0.012229             28.876199  ...   \n",
              "4               0.079051               0.176763            417.388066  ...   \n",
              "\n",
              "   Asc Node Longitude Orbital Period  Perihelion Distance  Perihelion Arg  \\\n",
              "0          314.373913     609.599786             0.808259       57.257470   \n",
              "1          136.717242     425.869294             0.718200      313.091975   \n",
              "2          259.475979     643.580228             0.950791      248.415038   \n",
              "3           57.173266     514.082140             0.983902       18.707701   \n",
              "4           84.629307     495.597821             0.967687      158.263596   \n",
              "\n",
              "   Aphelion Dist  Perihelion Time  Mean Anomaly  Mean Motion  Equinox  \\\n",
              "0       2.005764     2.458162e+06    264.837533     0.590551    J2000   \n",
              "1       1.497352     2.457795e+06    173.741112     0.845330    J2000   \n",
              "2       1.966857     2.458120e+06    292.893654     0.559371    J2000   \n",
              "3       1.527904     2.457902e+06     68.741007     0.700277    J2000   \n",
              "4       1.483543     2.457814e+06    135.142133     0.726395    J2000   \n",
              "\n",
              "   Hazardous  \n",
              "0       True  \n",
              "1      False  \n",
              "2       True  \n",
              "3      False  \n",
              "4       True  \n",
              "\n",
              "[5 rows x 40 columns]"
            ],
            "text/html": [
              "\n",
              "  <div id=\"df-a776985a-65d2-426a-b4e2-73f33387a404\" class=\"colab-df-container\">\n",
              "    <div>\n",
              "<style scoped>\n",
              "    .dataframe tbody tr th:only-of-type {\n",
              "        vertical-align: middle;\n",
              "    }\n",
              "\n",
              "    .dataframe tbody tr th {\n",
              "        vertical-align: top;\n",
              "    }\n",
              "\n",
              "    .dataframe thead th {\n",
              "        text-align: right;\n",
              "    }\n",
              "</style>\n",
              "<table border=\"1\" class=\"dataframe\">\n",
              "  <thead>\n",
              "    <tr style=\"text-align: right;\">\n",
              "      <th></th>\n",
              "      <th>Neo Reference ID</th>\n",
              "      <th>Name</th>\n",
              "      <th>Absolute Magnitude</th>\n",
              "      <th>Est Dia in KM(min)</th>\n",
              "      <th>Est Dia in KM(max)</th>\n",
              "      <th>Est Dia in M(min)</th>\n",
              "      <th>Est Dia in M(max)</th>\n",
              "      <th>Est Dia in Miles(min)</th>\n",
              "      <th>Est Dia in Miles(max)</th>\n",
              "      <th>Est Dia in Feet(min)</th>\n",
              "      <th>...</th>\n",
              "      <th>Asc Node Longitude</th>\n",
              "      <th>Orbital Period</th>\n",
              "      <th>Perihelion Distance</th>\n",
              "      <th>Perihelion Arg</th>\n",
              "      <th>Aphelion Dist</th>\n",
              "      <th>Perihelion Time</th>\n",
              "      <th>Mean Anomaly</th>\n",
              "      <th>Mean Motion</th>\n",
              "      <th>Equinox</th>\n",
              "      <th>Hazardous</th>\n",
              "    </tr>\n",
              "  </thead>\n",
              "  <tbody>\n",
              "    <tr>\n",
              "      <th>0</th>\n",
              "      <td>3703080</td>\n",
              "      <td>3703080</td>\n",
              "      <td>21.6</td>\n",
              "      <td>0.127220</td>\n",
              "      <td>0.284472</td>\n",
              "      <td>127.219879</td>\n",
              "      <td>284.472297</td>\n",
              "      <td>0.079051</td>\n",
              "      <td>0.176763</td>\n",
              "      <td>417.388066</td>\n",
              "      <td>...</td>\n",
              "      <td>314.373913</td>\n",
              "      <td>609.599786</td>\n",
              "      <td>0.808259</td>\n",
              "      <td>57.257470</td>\n",
              "      <td>2.005764</td>\n",
              "      <td>2.458162e+06</td>\n",
              "      <td>264.837533</td>\n",
              "      <td>0.590551</td>\n",
              "      <td>J2000</td>\n",
              "      <td>True</td>\n",
              "    </tr>\n",
              "    <tr>\n",
              "      <th>1</th>\n",
              "      <td>3723955</td>\n",
              "      <td>3723955</td>\n",
              "      <td>21.3</td>\n",
              "      <td>0.146068</td>\n",
              "      <td>0.326618</td>\n",
              "      <td>146.067964</td>\n",
              "      <td>326.617897</td>\n",
              "      <td>0.090762</td>\n",
              "      <td>0.202951</td>\n",
              "      <td>479.225620</td>\n",
              "      <td>...</td>\n",
              "      <td>136.717242</td>\n",
              "      <td>425.869294</td>\n",
              "      <td>0.718200</td>\n",
              "      <td>313.091975</td>\n",
              "      <td>1.497352</td>\n",
              "      <td>2.457795e+06</td>\n",
              "      <td>173.741112</td>\n",
              "      <td>0.845330</td>\n",
              "      <td>J2000</td>\n",
              "      <td>False</td>\n",
              "    </tr>\n",
              "    <tr>\n",
              "      <th>2</th>\n",
              "      <td>2446862</td>\n",
              "      <td>2446862</td>\n",
              "      <td>20.3</td>\n",
              "      <td>0.231502</td>\n",
              "      <td>0.517654</td>\n",
              "      <td>231.502122</td>\n",
              "      <td>517.654482</td>\n",
              "      <td>0.143849</td>\n",
              "      <td>0.321655</td>\n",
              "      <td>759.521423</td>\n",
              "      <td>...</td>\n",
              "      <td>259.475979</td>\n",
              "      <td>643.580228</td>\n",
              "      <td>0.950791</td>\n",
              "      <td>248.415038</td>\n",
              "      <td>1.966857</td>\n",
              "      <td>2.458120e+06</td>\n",
              "      <td>292.893654</td>\n",
              "      <td>0.559371</td>\n",
              "      <td>J2000</td>\n",
              "      <td>True</td>\n",
              "    </tr>\n",
              "    <tr>\n",
              "      <th>3</th>\n",
              "      <td>3092506</td>\n",
              "      <td>3092506</td>\n",
              "      <td>27.4</td>\n",
              "      <td>0.008801</td>\n",
              "      <td>0.019681</td>\n",
              "      <td>8.801465</td>\n",
              "      <td>19.680675</td>\n",
              "      <td>0.005469</td>\n",
              "      <td>0.012229</td>\n",
              "      <td>28.876199</td>\n",
              "      <td>...</td>\n",
              "      <td>57.173266</td>\n",
              "      <td>514.082140</td>\n",
              "      <td>0.983902</td>\n",
              "      <td>18.707701</td>\n",
              "      <td>1.527904</td>\n",
              "      <td>2.457902e+06</td>\n",
              "      <td>68.741007</td>\n",
              "      <td>0.700277</td>\n",
              "      <td>J2000</td>\n",
              "      <td>False</td>\n",
              "    </tr>\n",
              "    <tr>\n",
              "      <th>4</th>\n",
              "      <td>3514799</td>\n",
              "      <td>3514799</td>\n",
              "      <td>21.6</td>\n",
              "      <td>0.127220</td>\n",
              "      <td>0.284472</td>\n",
              "      <td>127.219879</td>\n",
              "      <td>284.472297</td>\n",
              "      <td>0.079051</td>\n",
              "      <td>0.176763</td>\n",
              "      <td>417.388066</td>\n",
              "      <td>...</td>\n",
              "      <td>84.629307</td>\n",
              "      <td>495.597821</td>\n",
              "      <td>0.967687</td>\n",
              "      <td>158.263596</td>\n",
              "      <td>1.483543</td>\n",
              "      <td>2.457814e+06</td>\n",
              "      <td>135.142133</td>\n",
              "      <td>0.726395</td>\n",
              "      <td>J2000</td>\n",
              "      <td>True</td>\n",
              "    </tr>\n",
              "  </tbody>\n",
              "</table>\n",
              "<p>5 rows × 40 columns</p>\n",
              "</div>\n",
              "    <div class=\"colab-df-buttons\">\n",
              "\n",
              "  <div class=\"colab-df-container\">\n",
              "    <button class=\"colab-df-convert\" onclick=\"convertToInteractive('df-a776985a-65d2-426a-b4e2-73f33387a404')\"\n",
              "            title=\"Convert this dataframe to an interactive table.\"\n",
              "            style=\"display:none;\">\n",
              "\n",
              "  <svg xmlns=\"http://www.w3.org/2000/svg\" height=\"24px\" viewBox=\"0 -960 960 960\">\n",
              "    <path d=\"M120-120v-720h720v720H120Zm60-500h600v-160H180v160Zm220 220h160v-160H400v160Zm0 220h160v-160H400v160ZM180-400h160v-160H180v160Zm440 0h160v-160H620v160ZM180-180h160v-160H180v160Zm440 0h160v-160H620v160Z\"/>\n",
              "  </svg>\n",
              "    </button>\n",
              "\n",
              "  <style>\n",
              "    .colab-df-container {\n",
              "      display:flex;\n",
              "      gap: 12px;\n",
              "    }\n",
              "\n",
              "    .colab-df-convert {\n",
              "      background-color: #E8F0FE;\n",
              "      border: none;\n",
              "      border-radius: 50%;\n",
              "      cursor: pointer;\n",
              "      display: none;\n",
              "      fill: #1967D2;\n",
              "      height: 32px;\n",
              "      padding: 0 0 0 0;\n",
              "      width: 32px;\n",
              "    }\n",
              "\n",
              "    .colab-df-convert:hover {\n",
              "      background-color: #E2EBFA;\n",
              "      box-shadow: 0px 1px 2px rgba(60, 64, 67, 0.3), 0px 1px 3px 1px rgba(60, 64, 67, 0.15);\n",
              "      fill: #174EA6;\n",
              "    }\n",
              "\n",
              "    .colab-df-buttons div {\n",
              "      margin-bottom: 4px;\n",
              "    }\n",
              "\n",
              "    [theme=dark] .colab-df-convert {\n",
              "      background-color: #3B4455;\n",
              "      fill: #D2E3FC;\n",
              "    }\n",
              "\n",
              "    [theme=dark] .colab-df-convert:hover {\n",
              "      background-color: #434B5C;\n",
              "      box-shadow: 0px 1px 3px 1px rgba(0, 0, 0, 0.15);\n",
              "      filter: drop-shadow(0px 1px 2px rgba(0, 0, 0, 0.3));\n",
              "      fill: #FFFFFF;\n",
              "    }\n",
              "  </style>\n",
              "\n",
              "    <script>\n",
              "      const buttonEl =\n",
              "        document.querySelector('#df-a776985a-65d2-426a-b4e2-73f33387a404 button.colab-df-convert');\n",
              "      buttonEl.style.display =\n",
              "        google.colab.kernel.accessAllowed ? 'block' : 'none';\n",
              "\n",
              "      async function convertToInteractive(key) {\n",
              "        const element = document.querySelector('#df-a776985a-65d2-426a-b4e2-73f33387a404');\n",
              "        const dataTable =\n",
              "          await google.colab.kernel.invokeFunction('convertToInteractive',\n",
              "                                                    [key], {});\n",
              "        if (!dataTable) return;\n",
              "\n",
              "        const docLinkHtml = 'Like what you see? Visit the ' +\n",
              "          '<a target=\"_blank\" href=https://colab.research.google.com/notebooks/data_table.ipynb>data table notebook</a>'\n",
              "          + ' to learn more about interactive tables.';\n",
              "        element.innerHTML = '';\n",
              "        dataTable['output_type'] = 'display_data';\n",
              "        await google.colab.output.renderOutput(dataTable, element);\n",
              "        const docLink = document.createElement('div');\n",
              "        docLink.innerHTML = docLinkHtml;\n",
              "        element.appendChild(docLink);\n",
              "      }\n",
              "    </script>\n",
              "  </div>\n",
              "\n",
              "\n",
              "<div id=\"df-ee107696-30a8-4bfe-966f-007c3573a422\">\n",
              "  <button class=\"colab-df-quickchart\" onclick=\"quickchart('df-ee107696-30a8-4bfe-966f-007c3573a422')\"\n",
              "            title=\"Suggest charts\"\n",
              "            style=\"display:none;\">\n",
              "\n",
              "<svg xmlns=\"http://www.w3.org/2000/svg\" height=\"24px\"viewBox=\"0 0 24 24\"\n",
              "     width=\"24px\">\n",
              "    <g>\n",
              "        <path d=\"M19 3H5c-1.1 0-2 .9-2 2v14c0 1.1.9 2 2 2h14c1.1 0 2-.9 2-2V5c0-1.1-.9-2-2-2zM9 17H7v-7h2v7zm4 0h-2V7h2v10zm4 0h-2v-4h2v4z\"/>\n",
              "    </g>\n",
              "</svg>\n",
              "  </button>\n",
              "\n",
              "<style>\n",
              "  .colab-df-quickchart {\n",
              "      --bg-color: #E8F0FE;\n",
              "      --fill-color: #1967D2;\n",
              "      --hover-bg-color: #E2EBFA;\n",
              "      --hover-fill-color: #174EA6;\n",
              "      --disabled-fill-color: #AAA;\n",
              "      --disabled-bg-color: #DDD;\n",
              "  }\n",
              "\n",
              "  [theme=dark] .colab-df-quickchart {\n",
              "      --bg-color: #3B4455;\n",
              "      --fill-color: #D2E3FC;\n",
              "      --hover-bg-color: #434B5C;\n",
              "      --hover-fill-color: #FFFFFF;\n",
              "      --disabled-bg-color: #3B4455;\n",
              "      --disabled-fill-color: #666;\n",
              "  }\n",
              "\n",
              "  .colab-df-quickchart {\n",
              "    background-color: var(--bg-color);\n",
              "    border: none;\n",
              "    border-radius: 50%;\n",
              "    cursor: pointer;\n",
              "    display: none;\n",
              "    fill: var(--fill-color);\n",
              "    height: 32px;\n",
              "    padding: 0;\n",
              "    width: 32px;\n",
              "  }\n",
              "\n",
              "  .colab-df-quickchart:hover {\n",
              "    background-color: var(--hover-bg-color);\n",
              "    box-shadow: 0 1px 2px rgba(60, 64, 67, 0.3), 0 1px 3px 1px rgba(60, 64, 67, 0.15);\n",
              "    fill: var(--button-hover-fill-color);\n",
              "  }\n",
              "\n",
              "  .colab-df-quickchart-complete:disabled,\n",
              "  .colab-df-quickchart-complete:disabled:hover {\n",
              "    background-color: var(--disabled-bg-color);\n",
              "    fill: var(--disabled-fill-color);\n",
              "    box-shadow: none;\n",
              "  }\n",
              "\n",
              "  .colab-df-spinner {\n",
              "    border: 2px solid var(--fill-color);\n",
              "    border-color: transparent;\n",
              "    border-bottom-color: var(--fill-color);\n",
              "    animation:\n",
              "      spin 1s steps(1) infinite;\n",
              "  }\n",
              "\n",
              "  @keyframes spin {\n",
              "    0% {\n",
              "      border-color: transparent;\n",
              "      border-bottom-color: var(--fill-color);\n",
              "      border-left-color: var(--fill-color);\n",
              "    }\n",
              "    20% {\n",
              "      border-color: transparent;\n",
              "      border-left-color: var(--fill-color);\n",
              "      border-top-color: var(--fill-color);\n",
              "    }\n",
              "    30% {\n",
              "      border-color: transparent;\n",
              "      border-left-color: var(--fill-color);\n",
              "      border-top-color: var(--fill-color);\n",
              "      border-right-color: var(--fill-color);\n",
              "    }\n",
              "    40% {\n",
              "      border-color: transparent;\n",
              "      border-right-color: var(--fill-color);\n",
              "      border-top-color: var(--fill-color);\n",
              "    }\n",
              "    60% {\n",
              "      border-color: transparent;\n",
              "      border-right-color: var(--fill-color);\n",
              "    }\n",
              "    80% {\n",
              "      border-color: transparent;\n",
              "      border-right-color: var(--fill-color);\n",
              "      border-bottom-color: var(--fill-color);\n",
              "    }\n",
              "    90% {\n",
              "      border-color: transparent;\n",
              "      border-bottom-color: var(--fill-color);\n",
              "    }\n",
              "  }\n",
              "</style>\n",
              "\n",
              "  <script>\n",
              "    async function quickchart(key) {\n",
              "      const quickchartButtonEl =\n",
              "        document.querySelector('#' + key + ' button');\n",
              "      quickchartButtonEl.disabled = true;  // To prevent multiple clicks.\n",
              "      quickchartButtonEl.classList.add('colab-df-spinner');\n",
              "      try {\n",
              "        const charts = await google.colab.kernel.invokeFunction(\n",
              "            'suggestCharts', [key], {});\n",
              "      } catch (error) {\n",
              "        console.error('Error during call to suggestCharts:', error);\n",
              "      }\n",
              "      quickchartButtonEl.classList.remove('colab-df-spinner');\n",
              "      quickchartButtonEl.classList.add('colab-df-quickchart-complete');\n",
              "    }\n",
              "    (() => {\n",
              "      let quickchartButtonEl =\n",
              "        document.querySelector('#df-ee107696-30a8-4bfe-966f-007c3573a422 button');\n",
              "      quickchartButtonEl.style.display =\n",
              "        google.colab.kernel.accessAllowed ? 'block' : 'none';\n",
              "    })();\n",
              "  </script>\n",
              "</div>\n",
              "\n",
              "    </div>\n",
              "  </div>\n"
            ],
            "application/vnd.google.colaboratory.intrinsic+json": {
              "type": "dataframe",
              "variable_name": "data"
            }
          },
          "metadata": {},
          "execution_count": 8
        }
      ]
    },
    {
      "cell_type": "markdown",
      "source": [
        "Tenemos una baja cantidad de filas, así que podemos sospechar que habrán problemas a la hora de entrenar el modelo (sesgos en la cantidad de positivos o negativos)"
      ],
      "metadata": {
        "id": "Lbw7PktTnhlh"
      }
    },
    {
      "cell_type": "code",
      "source": [
        "ocurrencias = data['Hazardous'].value_counts()\n",
        "print(ocurrencias)"
      ],
      "metadata": {
        "colab": {
          "base_uri": "https://localhost:8080/"
        },
        "id": "0kw79feouP2V",
        "outputId": "a865cf16-26b3-491e-de5d-1c03163fee3c"
      },
      "execution_count": null,
      "outputs": [
        {
          "output_type": "stream",
          "name": "stdout",
          "text": [
            "False    3932\n",
            "True      755\n",
            "Name: Hazardous, dtype: int64\n"
          ]
        }
      ]
    },
    {
      "cell_type": "markdown",
      "source": [
        "Acá confirmamos que puede existir un sesgo con los verdaderos, ya que son muy pocos en comparación con los falsos."
      ],
      "metadata": {
        "id": "2ACoFkMduzFP"
      }
    },
    {
      "cell_type": "code",
      "source": [
        "print(data.nunique()) #Diferentes tipos de valores por columna"
      ],
      "metadata": {
        "id": "CTuuVVGXZCZZ",
        "colab": {
          "base_uri": "https://localhost:8080/"
        },
        "outputId": "5dcfeee4-5bb1-47bb-8ef3-fdbd064ff0c1"
      },
      "execution_count": null,
      "outputs": [
        {
          "output_type": "stream",
          "name": "stdout",
          "text": [
            "Neo Reference ID                3692\n",
            "Name                            3692\n",
            "Absolute Magnitude               269\n",
            "Est Dia in KM(min)               269\n",
            "Est Dia in KM(max)               269\n",
            "Est Dia in M(min)                269\n",
            "Est Dia in M(max)                269\n",
            "Est Dia in Miles(min)            269\n",
            "Est Dia in Miles(max)            269\n",
            "Est Dia in Feet(min)             269\n",
            "Est Dia in Feet(max)             269\n",
            "Close Approach Date              777\n",
            "Epoch Date Close Approach        777\n",
            "Relative Velocity km per sec    4687\n",
            "Relative Velocity km per hr     4687\n",
            "Miles per hour                  4687\n",
            "Miss Dist.(Astronomical)        4673\n",
            "Miss Dist.(lunar)               4660\n",
            "Miss Dist.(kilometers)          4661\n",
            "Miss Dist.(miles)               4660\n",
            "Orbiting Body                      1\n",
            "Orbit ID                         188\n",
            "Orbit Determination Date         457\n",
            "Orbit Uncertainity                10\n",
            "Minimum Orbit Intersection      3678\n",
            "Jupiter Tisserand Invariant     2495\n",
            "Epoch Osculation                 429\n",
            "Eccentricity                    3692\n",
            "Semi Major Axis                 3692\n",
            "Inclination                     3692\n",
            "Asc Node Longitude              3692\n",
            "Orbital Period                  3692\n",
            "Perihelion Distance             3692\n",
            "Perihelion Arg                  3692\n",
            "Aphelion Dist                   3692\n",
            "Perihelion Time                 3688\n",
            "Mean Anomaly                    3692\n",
            "Mean Motion                     3692\n",
            "Equinox                            1\n",
            "Hazardous                          2\n",
            "dtype: int64\n"
          ]
        }
      ]
    },
    {
      "cell_type": "code",
      "source": [
        "#Tipos de datos\n",
        "categorical_data = data.select_dtypes(include=object)\n",
        "print(categorical_data.columns)\n",
        "numeric_data = data.select_dtypes(include=np.number)\n",
        "print(numeric_data.columns)"
      ],
      "metadata": {
        "id": "LTRJa9IAZujT",
        "colab": {
          "base_uri": "https://localhost:8080/"
        },
        "outputId": "b22b132f-f7fd-4f6b-b884-8d016e9c26bd"
      },
      "execution_count": null,
      "outputs": [
        {
          "output_type": "stream",
          "name": "stdout",
          "text": [
            "Index(['Close Approach Date', 'Orbiting Body', 'Orbit Determination Date',\n",
            "       'Equinox'],\n",
            "      dtype='object')\n",
            "Index(['Neo Reference ID', 'Name', 'Absolute Magnitude', 'Est Dia in KM(min)',\n",
            "       'Est Dia in KM(max)', 'Est Dia in M(min)', 'Est Dia in M(max)',\n",
            "       'Est Dia in Miles(min)', 'Est Dia in Miles(max)',\n",
            "       'Est Dia in Feet(min)', 'Est Dia in Feet(max)',\n",
            "       'Epoch Date Close Approach', 'Relative Velocity km per sec',\n",
            "       'Relative Velocity km per hr', 'Miles per hour',\n",
            "       'Miss Dist.(Astronomical)', 'Miss Dist.(lunar)',\n",
            "       'Miss Dist.(kilometers)', 'Miss Dist.(miles)', 'Orbit ID',\n",
            "       'Orbit Uncertainity', 'Minimum Orbit Intersection',\n",
            "       'Jupiter Tisserand Invariant', 'Epoch Osculation', 'Eccentricity',\n",
            "       'Semi Major Axis', 'Inclination', 'Asc Node Longitude',\n",
            "       'Orbital Period', 'Perihelion Distance', 'Perihelion Arg',\n",
            "       'Aphelion Dist', 'Perihelion Time', 'Mean Anomaly', 'Mean Motion'],\n",
            "      dtype='object')\n"
          ]
        }
      ]
    },
    {
      "cell_type": "markdown",
      "source": [
        "Con los cambios realizados anteriormente, podemos observar que todas las variables terminan siendo numéricas, por lo que sirven para entrenar el modelo."
      ],
      "metadata": {
        "id": "MO3y-Ctvmqmk"
      }
    },
    {
      "cell_type": "markdown",
      "source": [
        "## **Insights**"
      ],
      "metadata": {
        "id": "ViCggnzCZo4M"
      }
    },
    {
      "cell_type": "code",
      "source": [
        "#Visualización de la matriz de correlación\n",
        "correlation_matrix = data.corr()\n",
        "cov_matrix = data.cov()\n",
        "plt.figure(figsize=(25, 7))\n",
        "plt.subplot(1,2,1)\n",
        "sns.heatmap(correlation_matrix, annot=True, cmap='coolwarm', fmt=\".2f\", linewidths=0.5)\n",
        "plt.title('Correlation Heatmap')"
      ],
      "metadata": {
        "id": "1x7Fvq8JZMES",
        "colab": {
          "base_uri": "https://localhost:8080/",
          "height": 818
        },
        "outputId": "0f077271-f616-45b9-b8a6-d7bdb321b111"
      },
      "execution_count": null,
      "outputs": [
        {
          "output_type": "execute_result",
          "data": {
            "text/plain": [
              "Text(0.5, 1.0, 'Correlation Heatmap')"
            ]
          },
          "metadata": {},
          "execution_count": 33
        },
        {
          "output_type": "display_data",
          "data": {
            "text/plain": [
              "<Figure size 2500x700 with 2 Axes>"
            ],
            "image/png": "[encoded data removed]"
          },
          "metadata": {}
        }
      ]
    },
    {
      "cell_type": "markdown",
      "source": [
        "Podemos ver que las columnas restantes poseen baja correlación, por lo que no eliminaremos más de ellas."
      ],
      "metadata": {
        "id": "8K4aa06_n6gF"
      }
    },
    {
      "source": [
        "# @title Epoch Date Close Approach\n",
        "\n",
        "from matplotlib import pyplot as plt\n",
        "data['Epoch Date Close Approach'].plot(kind='line', figsize=(8, 4), title='Epoch Date Close Approach')\n",
        "plt.gca().spines[['top', 'right']].set_visible(False)"
      ],
      "cell_type": "code",
      "execution_count": null,
      "outputs": [
        {
          "output_type": "display_data",
          "data": {
            "text/plain": [
              "<Figure size 800x400 with 1 Axes>"
            ],
            "image/png": "[encoded data removed]"
          },
          "metadata": {}
        }
      ],
      "metadata": {
        "colab": {
          "base_uri": "https://localhost:8080/",
          "height": 391
        },
        "id": "kjZ68M1ryo_4",
        "outputId": "6648db91-6566-4dda-d61f-3f2f1aff55b5"
      }
    },
    {
      "source": [
        "# @title Minimum Orbit Intersection\n",
        "\n",
        "from matplotlib import pyplot as plt\n",
        "data['Minimum Orbit Intersection'].plot(kind='hist', bins=20, title='Minimum Orbit Intersection')\n",
        "plt.gca().spines[['top', 'right',]].set_visible(False)"
      ],
      "cell_type": "code",
      "execution_count": null,
      "outputs": [
        {
          "output_type": "display_data",
          "data": {
            "text/plain": [
              "<Figure size 640x480 with 1 Axes>"
            ],
            "image/png": "[encoded data removed]"
          },
          "metadata": {}
        }
      ],
      "metadata": {
        "id": "vGjnsn0jx5c8",
        "colab": {
          "base_uri": "https://localhost:8080/",
          "height": 452
        },
        "outputId": "486c9380-a4e2-4cc0-fb31-5a4b0ee9e4de"
      }
    },
    {
      "cell_type": "markdown",
      "source": [
        "## **Modelos de clasificación**"
      ],
      "metadata": {
        "id": "sPsfnvcd0alq"
      }
    },
    {
      "cell_type": "markdown",
      "source": [
        "Previo al uso de cualquier modelo, dividimos los datos en train y test con su debida estandarización, además, quitamos la adiposidad dado que está muy relacionada con la obesidad, y lo mejor es no repetir información para no sesgar el modelo."
      ],
      "metadata": {
        "id": "BXY0tVNC0alq"
      }
    },
    {
      "cell_type": "code",
      "source": [
        "X = data.drop([\"Hazardous\",\n",
        "                \"Neo Reference ID\",\n",
        "                  \"Name\",\n",
        "                  \"Equinox\",\n",
        "                  \"Orbiting Body\",\n",
        "                  \"Est Dia in KM(min)\",\n",
        "                  \"Est Dia in KM(max)\",\n",
        "                  \"Est Dia in M(min)\",\n",
        "                  \"Est Dia in M(max)\",\n",
        "                  \"Est Dia in Feet(min)\",\n",
        "                  \"Est Dia in Feet(max)\",\n",
        "                  \"Close Approach Date\",\n",
        "                  \"Relative Velocity km per sec\",\n",
        "                  \"Miss Dist.(Astronomical)\",\n",
        "                  \"Miss Dist.(lunar)\",\n",
        "                  \"Miss Dist.(kilometers)\",\n",
        "                  \"Orbit ID\",\n",
        "                  \"Orbit Determination Date\",\n",
        "                  \"Est Dia in Miles(min)\",\n",
        "                  \"Relative Velocity km per hr\",\n",
        "                  \"Jupiter Tisserand Invariant\",\n",
        "                  \"Perihelion Time\",\n",
        "                  \"Aphelion Dist\",\n",
        "                  \"Semi Major Axis\",\n",
        "                  \"Orbit Uncertainity\",\n",
        "                  \"Eccentricity\",\n",
        "                  \"Miles per hour\",\n",
        "                  \"Orbital Period\",\n",
        "                  \"Absolute Magnitude\",\n",
        "                  \"Perihelion Distance\"],\n",
        "                axis=1)\n",
        "y = data['Hazardous']\n",
        "X_train, X_test, y_train, y_test = train_test_split(X, y, test_size=0.3, random_state=123)\n",
        "sc = StandardScaler()\n",
        "X_train_sc = sc.fit_transform(X_train)\n",
        "X_test_sc = sc.transform(X_test)"
      ],
      "metadata": {
        "id": "gFmOiLWj0alq"
      },
      "execution_count": null,
      "outputs": []
    },
    {
      "cell_type": "code",
      "source": [
        "print(X_train.shape, X_test.shape)"
      ],
      "metadata": {
        "colab": {
          "base_uri": "https://localhost:8080/"
        },
        "outputId": "86df56b2-3b54-4130-8ef6-581653429678",
        "id": "rimCfmhM0alq"
      },
      "execution_count": null,
      "outputs": [
        {
          "output_type": "stream",
          "name": "stdout",
          "text": [
            "(3280, 10) (1407, 10)\n"
          ]
        }
      ]
    },
    {
      "cell_type": "markdown",
      "source": [
        "###**KNN**"
      ],
      "metadata": {
        "id": "hf5qEb5q0alr"
      }
    },
    {
      "cell_type": "markdown",
      "source": [
        "Previo a la creación del modelo final, veamos cuál es el mejor número de vecinos usando vecinos con peso. El peso a asignar será la distancia que tenga con cada vecino (si es menos distancia, menos peso, y si es más distancia, más peso)"
      ],
      "metadata": {
        "id": "ivu1T1Bb0alr"
      }
    },
    {
      "cell_type": "code",
      "source": [
        "dist = []\n",
        "\n",
        "for i in range(2, 30):\n",
        "  kn_prueba = KNeighborsClassifier(n_neighbors=i, weights='distance')\n",
        "  kn_prueba.fit(X_train, y_train)\n",
        "  dist.append(kn_prueba.score(X_test, y_test))\n",
        "\n",
        "plt.plot(range(2,30), dist, marker='o')\n",
        "plt.title('distancia de minkowski')\n",
        "plt.xlabel('número de vecinos')\n",
        "plt.ylabel('distancia con los vecinos de prueba')\n",
        "plt.show()"
      ],
      "metadata": {
        "colab": {
          "base_uri": "https://localhost:8080/",
          "height": 472
        },
        "outputId": "4309db30-9318-4a59-d276-188356969506",
        "id": "dVkQS6mf0alr"
      },
      "execution_count": null,
      "outputs": [
        {
          "output_type": "display_data",
          "data": {
            "text/plain": [
              "<Figure size 640x480 with 1 Axes>"
            ],
            "image/png": "[encoded data removed]"
          },
          "metadata": {}
        }
      ]
    },
    {
      "cell_type": "markdown",
      "source": [
        "Vemos que uno de los intervalos con mejor número de vecinos está entre 16 y 19, así que usamos uno de estos, en este caso, 17, para evitar el uso de vecinos impares. Se usan distintas métricas de distancia con el fin de saber cuál nos da mejores resultados, pero en general podemos obtener la misma exactitud máxima con cualquiera, por lo que dejamos la default, es decir, minkowski."
      ],
      "metadata": {
        "id": "rzljGOQg0alr"
      }
    },
    {
      "cell_type": "markdown",
      "source": [
        "**Creación del modelo**"
      ],
      "metadata": {
        "id": "6QQIhyI60alr"
      }
    },
    {
      "cell_type": "code",
      "source": [
        "knn = KNeighborsClassifier(n_neighbors=17, weights='distance')\n",
        "knn.fit(X_train_sc, y_train)\n",
        "y_pred_knn = knn.predict(X_test_sc)"
      ],
      "metadata": {
        "id": "ckE53dTP0alr"
      },
      "execution_count": null,
      "outputs": []
    },
    {
      "cell_type": "markdown",
      "source": [
        "**Reporte y métricas**"
      ],
      "metadata": {
        "id": "xwN4Mrop0alr"
      }
    },
    {
      "cell_type": "code",
      "source": [
        "print(f'los diagnosticos predecidos son:\\n {y_pred_knn}\\n')\n",
        "print(f'La precisión del modelo es: {accuracy_score(y_test,y_pred_knn)}\\n')\n",
        "print(f'La matriz de confusión es:\\n {confusion_matrix(y_test,y_pred_knn)}\\n')\n",
        "print(\"Classification Report:\\n\", classification_report(y_test, y_pred_knn))"
      ],
      "metadata": {
        "colab": {
          "base_uri": "https://localhost:8080/"
        },
        "outputId": "110818fa-e18f-4295-9329-f2b517966335",
        "id": "SEHjxg3R0alr"
      },
      "execution_count": null,
      "outputs": [
        {
          "output_type": "stream",
          "name": "stdout",
          "text": [
            "los diagnosticos predecidos son:\n",
            " [False False False ... False False False]\n",
            "\n",
            "La precisión del modelo es: 0.8500355366027008\n",
            "\n",
            "La matriz de confusión es:\n",
            " [[1147    8]\n",
            " [ 203   49]]\n",
            "\n",
            "Classification Report:\n",
            "               precision    recall  f1-score   support\n",
            "\n",
            "       False       0.85      0.99      0.92      1155\n",
            "        True       0.86      0.19      0.32       252\n",
            "\n",
            "    accuracy                           0.85      1407\n",
            "   macro avg       0.85      0.59      0.62      1407\n",
            "weighted avg       0.85      0.85      0.81      1407\n",
            "\n"
          ]
        }
      ]
    },
    {
      "cell_type": "markdown",
      "source": [
        "###**Naive Bayes**"
      ],
      "metadata": {
        "id": "H0HvuL-50alr"
      }
    },
    {
      "cell_type": "markdown",
      "source": [
        "**Creación del modelo**"
      ],
      "metadata": {
        "id": "0JGXuXgs0als"
      }
    },
    {
      "cell_type": "code",
      "source": [
        "naive = GaussianNB()\n",
        "naive.fit(X_train_sc, y_train)\n",
        "y_pred_naive = naive.predict(X_test_sc)"
      ],
      "metadata": {
        "id": "5txfOLYp0als"
      },
      "execution_count": null,
      "outputs": []
    },
    {
      "cell_type": "markdown",
      "source": [
        "**Reporte y métricas**"
      ],
      "metadata": {
        "id": "lpbpuoZB0als"
      }
    },
    {
      "cell_type": "code",
      "source": [
        "print(f'los diagnosticos predecidos son:\\n {y_pred_naive}\\n')\n",
        "print(f'La precisión del modelo es: {accuracy_score(y_test,y_pred_naive)}\\n')\n",
        "print(f'La matriz de confusión es:\\n {confusion_matrix(y_test,y_pred_naive)}\\n')\n",
        "print(\"Classification Report:\\n\", classification_report(y_test, y_pred_naive))"
      ],
      "metadata": {
        "colab": {
          "base_uri": "https://localhost:8080/"
        },
        "outputId": "b782793f-b1c3-4fb9-9402-3c5fabd66b5f",
        "id": "--5uDtVh0als"
      },
      "execution_count": null,
      "outputs": [
        {
          "output_type": "stream",
          "name": "stdout",
          "text": [
            "los diagnosticos predecidos son:\n",
            " [ True False False ... False False False]\n",
            "\n",
            "La precisión del modelo es: 0.8130774697938877\n",
            "\n",
            "La matriz de confusión es:\n",
            " [[975 180]\n",
            " [ 83 169]]\n",
            "\n",
            "Classification Report:\n",
            "               precision    recall  f1-score   support\n",
            "\n",
            "       False       0.92      0.84      0.88      1155\n",
            "        True       0.48      0.67      0.56       252\n",
            "\n",
            "    accuracy                           0.81      1407\n",
            "   macro avg       0.70      0.76      0.72      1407\n",
            "weighted avg       0.84      0.81      0.82      1407\n",
            "\n"
          ]
        }
      ]
    },
    {
      "cell_type": "markdown",
      "source": [
        "###**Red**"
      ],
      "metadata": {
        "id": "wj3McyeNvOdF"
      }
    },
    {
      "cell_type": "markdown",
      "source": [
        "**Creación del modelo**"
      ],
      "metadata": {
        "id": "rtyMjyJLvOdH"
      }
    },
    {
      "cell_type": "code",
      "source": [
        "model = keras.models.Sequential([keras.layers.Dense(12, activation='relu', input_shape=X_train_sc.shape[1:]),\n",
        "                                 keras.layers.Dense(24, activation='sigmoid'),\n",
        "                                 keras.layers.Dense(12, activation='sigmoid'),\n",
        "                                 keras.layers.Dense(7, activation='sigmoid'),\n",
        "                                 keras.layers.Dense(5, activation='sigmoid'),\n",
        "                                 keras.layers.Dense(1, activation='sigmoid')\n",
        "                                 ])"
      ],
      "metadata": {
        "id": "ZZgx8HDrvOdH"
      },
      "execution_count": null,
      "outputs": []
    },
    {
      "cell_type": "code",
      "source": [
        "from tensorflow.keras.optimizers import RMSprop\n",
        "\n",
        "optimizer = RMSprop(learning_rate=0.00001)\n",
        "model.compile(optimizer=optimizer,loss='BinaryCrossentropy',metrics=['accuracy', 'Recall', 'Precision'])"
      ],
      "metadata": {
        "id": "rTXMym6Kv4dx"
      },
      "execution_count": null,
      "outputs": []
    },
    {
      "cell_type": "code",
      "source": [
        "historial=model.fit(X_train_sc, y_train, epochs=150)"
      ],
      "metadata": {
        "colab": {
          "base_uri": "https://localhost:8080/"
        },
        "id": "5brGiImRwG0h",
        "outputId": "3d4fbf96-26c2-4bfa-966c-a9a1a1103486"
      },
      "execution_count": null,
      "outputs": [
        {
          "output_type": "stream",
          "name": "stdout",
          "text": [
            "Epoch 1/150\n",
            "103/103 [==============================] - 1s 2ms/step - loss: 0.6957 - accuracy: 0.1534 - recall: 1.0000 - precision: 0.1534\n",
            "Epoch 2/150\n",
            "103/103 [==============================] - 0s 2ms/step - loss: 0.6932 - accuracy: 0.4851 - recall: 0.4811 - precision: 0.1449\n",
            "Epoch 3/150\n",
            "103/103 [==============================] - 0s 2ms/step - loss: 0.6906 - accuracy: 0.8466 - recall: 0.0000e+00 - precision: 0.0000e+00\n",
            "Epoch 4/150\n",
            "103/103 [==============================] - 0s 2ms/step - loss: 0.6880 - accuracy: 0.8466 - recall: 0.0000e+00 - precision: 0.0000e+00\n",
            "Epoch 5/150\n",
            "103/103 [==============================] - 0s 3ms/step - loss: 0.6856 - accuracy: 0.8466 - recall: 0.0000e+00 - precision: 0.0000e+00\n",
            "Epoch 6/150\n",
            "103/103 [==============================] - 0s 4ms/step - loss: 0.6830 - accuracy: 0.8466 - recall: 0.0000e+00 - precision: 0.0000e+00\n",
            "Epoch 7/150\n",
            "103/103 [==============================] - 0s 4ms/step - loss: 0.6805 - accuracy: 0.8466 - recall: 0.0000e+00 - precision: 0.0000e+00\n",
            "Epoch 8/150\n",
            "103/103 [==============================] - 0s 4ms/step - loss: 0.6781 - accuracy: 0.8466 - recall: 0.0000e+00 - precision: 0.0000e+00\n",
            "Epoch 9/150\n",
            "103/103 [==============================] - 0s 3ms/step - loss: 0.6756 - accuracy: 0.8466 - recall: 0.0000e+00 - precision: 0.0000e+00\n",
            "Epoch 10/150\n",
            "103/103 [==============================] - 0s 3ms/step - loss: 0.6732 - accuracy: 0.8466 - recall: 0.0000e+00 - precision: 0.0000e+00\n",
            "Epoch 11/150\n",
            "103/103 [==============================] - 0s 3ms/step - loss: 0.6708 - accuracy: 0.8466 - recall: 0.0000e+00 - precision: 0.0000e+00\n",
            "Epoch 12/150\n",
            "103/103 [==============================] - 0s 3ms/step - loss: 0.6683 - accuracy: 0.8466 - recall: 0.0000e+00 - precision: 0.0000e+00\n",
            "Epoch 13/150\n",
            "103/103 [==============================] - 0s 4ms/step - loss: 0.6660 - accuracy: 0.8466 - recall: 0.0000e+00 - precision: 0.0000e+00\n",
            "Epoch 14/150\n",
            "103/103 [==============================] - 0s 4ms/step - loss: 0.6636 - accuracy: 0.8466 - recall: 0.0000e+00 - precision: 0.0000e+00\n",
            "Epoch 15/150\n",
            "103/103 [==============================] - 0s 4ms/step - loss: 0.6612 - accuracy: 0.8466 - recall: 0.0000e+00 - precision: 0.0000e+00\n",
            "Epoch 16/150\n",
            "103/103 [==============================] - 0s 2ms/step - loss: 0.6589 - accuracy: 0.8466 - recall: 0.0000e+00 - precision: 0.0000e+00\n",
            "Epoch 17/150\n",
            "103/103 [==============================] - 0s 2ms/step - loss: 0.6565 - accuracy: 0.8466 - recall: 0.0000e+00 - precision: 0.0000e+00\n",
            "Epoch 18/150\n",
            "103/103 [==============================] - 0s 3ms/step - loss: 0.6542 - accuracy: 0.8466 - recall: 0.0000e+00 - precision: 0.0000e+00\n",
            "Epoch 19/150\n",
            "103/103 [==============================] - 0s 2ms/step - loss: 0.6519 - accuracy: 0.8466 - recall: 0.0000e+00 - precision: 0.0000e+00\n",
            "Epoch 20/150\n",
            "103/103 [==============================] - 0s 2ms/step - loss: 0.6496 - accuracy: 0.8466 - recall: 0.0000e+00 - precision: 0.0000e+00\n",
            "Epoch 21/150\n",
            "103/103 [==============================] - 0s 2ms/step - loss: 0.6474 - accuracy: 0.8466 - recall: 0.0000e+00 - precision: 0.0000e+00\n",
            "Epoch 22/150\n",
            "103/103 [==============================] - 0s 2ms/step - loss: 0.6451 - accuracy: 0.8466 - recall: 0.0000e+00 - precision: 0.0000e+00\n",
            "Epoch 23/150\n",
            "103/103 [==============================] - 0s 2ms/step - loss: 0.6429 - accuracy: 0.8466 - recall: 0.0000e+00 - precision: 0.0000e+00\n",
            "Epoch 24/150\n",
            "103/103 [==============================] - 0s 2ms/step - loss: 0.6407 - accuracy: 0.8466 - recall: 0.0000e+00 - precision: 0.0000e+00\n",
            "Epoch 25/150\n",
            "103/103 [==============================] - 0s 2ms/step - loss: 0.6384 - accuracy: 0.8466 - recall: 0.0000e+00 - precision: 0.0000e+00\n",
            "Epoch 26/150\n",
            "103/103 [==============================] - 0s 3ms/step - loss: 0.6363 - accuracy: 0.8466 - recall: 0.0000e+00 - precision: 0.0000e+00\n",
            "Epoch 27/150\n",
            "103/103 [==============================] - 0s 4ms/step - loss: 0.6341 - accuracy: 0.8466 - recall: 0.0000e+00 - precision: 0.0000e+00\n",
            "Epoch 28/150\n",
            "103/103 [==============================] - 0s 2ms/step - loss: 0.6319 - accuracy: 0.8466 - recall: 0.0000e+00 - precision: 0.0000e+00\n",
            "Epoch 29/150\n",
            "103/103 [==============================] - 0s 3ms/step - loss: 0.6298 - accuracy: 0.8466 - recall: 0.0000e+00 - precision: 0.0000e+00\n",
            "Epoch 30/150\n",
            "103/103 [==============================] - 0s 2ms/step - loss: 0.6277 - accuracy: 0.8466 - recall: 0.0000e+00 - precision: 0.0000e+00\n",
            "Epoch 31/150\n",
            "103/103 [==============================] - 0s 2ms/step - loss: 0.6255 - accuracy: 0.8466 - recall: 0.0000e+00 - precision: 0.0000e+00\n",
            "Epoch 32/150\n",
            "103/103 [==============================] - 0s 2ms/step - loss: 0.6234 - accuracy: 0.8466 - recall: 0.0000e+00 - precision: 0.0000e+00\n",
            "Epoch 33/150\n",
            "103/103 [==============================] - 0s 2ms/step - loss: 0.6213 - accuracy: 0.8466 - recall: 0.0000e+00 - precision: 0.0000e+00\n",
            "Epoch 34/150\n",
            "103/103 [==============================] - 0s 2ms/step - loss: 0.6193 - accuracy: 0.8466 - recall: 0.0000e+00 - precision: 0.0000e+00\n",
            "Epoch 35/150\n",
            "103/103 [==============================] - 0s 2ms/step - loss: 0.6172 - accuracy: 0.8466 - recall: 0.0000e+00 - precision: 0.0000e+00\n",
            "Epoch 36/150\n",
            "103/103 [==============================] - 0s 2ms/step - loss: 0.6152 - accuracy: 0.8466 - recall: 0.0000e+00 - precision: 0.0000e+00\n",
            "Epoch 37/150\n",
            "103/103 [==============================] - 0s 2ms/step - loss: 0.6132 - accuracy: 0.8466 - recall: 0.0000e+00 - precision: 0.0000e+00\n",
            "Epoch 38/150\n",
            "103/103 [==============================] - 0s 2ms/step - loss: 0.6111 - accuracy: 0.8466 - recall: 0.0000e+00 - precision: 0.0000e+00\n",
            "Epoch 39/150\n",
            "103/103 [==============================] - 0s 2ms/step - loss: 0.6092 - accuracy: 0.8466 - recall: 0.0000e+00 - precision: 0.0000e+00\n",
            "Epoch 40/150\n",
            "103/103 [==============================] - 0s 2ms/step - loss: 0.6072 - accuracy: 0.8466 - recall: 0.0000e+00 - precision: 0.0000e+00\n",
            "Epoch 41/150\n",
            "103/103 [==============================] - 0s 2ms/step - loss: 0.6052 - accuracy: 0.8466 - recall: 0.0000e+00 - precision: 0.0000e+00\n",
            "Epoch 42/150\n",
            "103/103 [==============================] - 0s 2ms/step - loss: 0.6033 - accuracy: 0.8466 - recall: 0.0000e+00 - precision: 0.0000e+00\n",
            "Epoch 43/150\n",
            "103/103 [==============================] - 0s 2ms/step - loss: 0.6013 - accuracy: 0.8466 - recall: 0.0000e+00 - precision: 0.0000e+00\n",
            "Epoch 44/150\n",
            "103/103 [==============================] - 0s 4ms/step - loss: 0.5994 - accuracy: 0.8466 - recall: 0.0000e+00 - precision: 0.0000e+00\n",
            "Epoch 45/150\n",
            "103/103 [==============================] - 0s 2ms/step - loss: 0.5975 - accuracy: 0.8466 - recall: 0.0000e+00 - precision: 0.0000e+00\n",
            "Epoch 46/150\n",
            "103/103 [==============================] - 0s 2ms/step - loss: 0.5956 - accuracy: 0.8466 - recall: 0.0000e+00 - precision: 0.0000e+00\n",
            "Epoch 47/150\n",
            "103/103 [==============================] - 0s 2ms/step - loss: 0.5938 - accuracy: 0.8466 - recall: 0.0000e+00 - precision: 0.0000e+00\n",
            "Epoch 48/150\n",
            "103/103 [==============================] - 0s 2ms/step - loss: 0.5919 - accuracy: 0.8466 - recall: 0.0000e+00 - precision: 0.0000e+00\n",
            "Epoch 49/150\n",
            "103/103 [==============================] - 0s 2ms/step - loss: 0.5901 - accuracy: 0.8466 - recall: 0.0000e+00 - precision: 0.0000e+00\n",
            "Epoch 50/150\n",
            "103/103 [==============================] - 0s 2ms/step - loss: 0.5883 - accuracy: 0.8466 - recall: 0.0000e+00 - precision: 0.0000e+00\n",
            "Epoch 51/150\n",
            "103/103 [==============================] - 0s 2ms/step - loss: 0.5865 - accuracy: 0.8466 - recall: 0.0000e+00 - precision: 0.0000e+00\n",
            "Epoch 52/150\n",
            "103/103 [==============================] - 0s 2ms/step - loss: 0.5846 - accuracy: 0.8466 - recall: 0.0000e+00 - precision: 0.0000e+00\n",
            "Epoch 53/150\n",
            "103/103 [==============================] - 0s 2ms/step - loss: 0.5828 - accuracy: 0.8466 - recall: 0.0000e+00 - precision: 0.0000e+00\n",
            "Epoch 54/150\n",
            "103/103 [==============================] - 0s 2ms/step - loss: 0.5811 - accuracy: 0.8466 - recall: 0.0000e+00 - precision: 0.0000e+00\n",
            "Epoch 55/150\n",
            "103/103 [==============================] - 0s 4ms/step - loss: 0.5793 - accuracy: 0.8466 - recall: 0.0000e+00 - precision: 0.0000e+00\n",
            "Epoch 56/150\n",
            "103/103 [==============================] - 0s 3ms/step - loss: 0.5776 - accuracy: 0.8466 - recall: 0.0000e+00 - precision: 0.0000e+00\n",
            "Epoch 57/150\n",
            "103/103 [==============================] - 0s 3ms/step - loss: 0.5758 - accuracy: 0.8466 - recall: 0.0000e+00 - precision: 0.0000e+00\n",
            "Epoch 58/150\n",
            "103/103 [==============================] - 0s 4ms/step - loss: 0.5741 - accuracy: 0.8466 - recall: 0.0000e+00 - precision: 0.0000e+00\n",
            "Epoch 59/150\n",
            "103/103 [==============================] - 0s 3ms/step - loss: 0.5724 - accuracy: 0.8466 - recall: 0.0000e+00 - precision: 0.0000e+00\n",
            "Epoch 60/150\n",
            "103/103 [==============================] - 0s 4ms/step - loss: 0.5707 - accuracy: 0.8466 - recall: 0.0000e+00 - precision: 0.0000e+00\n",
            "Epoch 61/150\n",
            "103/103 [==============================] - 0s 4ms/step - loss: 0.5691 - accuracy: 0.8466 - recall: 0.0000e+00 - precision: 0.0000e+00\n",
            "Epoch 62/150\n",
            "103/103 [==============================] - 0s 4ms/step - loss: 0.5674 - accuracy: 0.8466 - recall: 0.0000e+00 - precision: 0.0000e+00\n",
            "Epoch 63/150\n",
            "103/103 [==============================] - 0s 4ms/step - loss: 0.5657 - accuracy: 0.8466 - recall: 0.0000e+00 - precision: 0.0000e+00\n",
            "Epoch 64/150\n",
            "103/103 [==============================] - 0s 4ms/step - loss: 0.5641 - accuracy: 0.8466 - recall: 0.0000e+00 - precision: 0.0000e+00\n",
            "Epoch 65/150\n",
            "103/103 [==============================] - 0s 4ms/step - loss: 0.5625 - accuracy: 0.8466 - recall: 0.0000e+00 - precision: 0.0000e+00\n",
            "Epoch 66/150\n",
            "103/103 [==============================] - 0s 2ms/step - loss: 0.5609 - accuracy: 0.8466 - recall: 0.0000e+00 - precision: 0.0000e+00\n",
            "Epoch 67/150\n",
            "103/103 [==============================] - 0s 2ms/step - loss: 0.5593 - accuracy: 0.8466 - recall: 0.0000e+00 - precision: 0.0000e+00\n",
            "Epoch 68/150\n",
            "103/103 [==============================] - 0s 2ms/step - loss: 0.5577 - accuracy: 0.8466 - recall: 0.0000e+00 - precision: 0.0000e+00\n",
            "Epoch 69/150\n",
            "103/103 [==============================] - 0s 2ms/step - loss: 0.5561 - accuracy: 0.8466 - recall: 0.0000e+00 - precision: 0.0000e+00\n",
            "Epoch 70/150\n",
            "103/103 [==============================] - 0s 2ms/step - loss: 0.5546 - accuracy: 0.8466 - recall: 0.0000e+00 - precision: 0.0000e+00\n",
            "Epoch 71/150\n",
            "103/103 [==============================] - 0s 2ms/step - loss: 0.5530 - accuracy: 0.8466 - recall: 0.0000e+00 - precision: 0.0000e+00\n",
            "Epoch 72/150\n",
            "103/103 [==============================] - 0s 2ms/step - loss: 0.5515 - accuracy: 0.8466 - recall: 0.0000e+00 - precision: 0.0000e+00\n",
            "Epoch 73/150\n",
            "103/103 [==============================] - 0s 2ms/step - loss: 0.5500 - accuracy: 0.8466 - recall: 0.0000e+00 - precision: 0.0000e+00\n",
            "Epoch 74/150\n",
            "103/103 [==============================] - 0s 5ms/step - loss: 0.5485 - accuracy: 0.8466 - recall: 0.0000e+00 - precision: 0.0000e+00\n",
            "Epoch 75/150\n",
            "103/103 [==============================] - 1s 5ms/step - loss: 0.5470 - accuracy: 0.8466 - recall: 0.0000e+00 - precision: 0.0000e+00\n",
            "Epoch 76/150\n",
            "103/103 [==============================] - 0s 4ms/step - loss: 0.5456 - accuracy: 0.8466 - recall: 0.0000e+00 - precision: 0.0000e+00\n",
            "Epoch 77/150\n",
            "103/103 [==============================] - 1s 6ms/step - loss: 0.5441 - accuracy: 0.8466 - recall: 0.0000e+00 - precision: 0.0000e+00\n",
            "Epoch 78/150\n",
            "103/103 [==============================] - 1s 5ms/step - loss: 0.5426 - accuracy: 0.8466 - recall: 0.0000e+00 - precision: 0.0000e+00\n",
            "Epoch 79/150\n",
            "103/103 [==============================] - 0s 4ms/step - loss: 0.5412 - accuracy: 0.8466 - recall: 0.0000e+00 - precision: 0.0000e+00\n",
            "Epoch 80/150\n",
            "103/103 [==============================] - 0s 4ms/step - loss: 0.5398 - accuracy: 0.8466 - recall: 0.0000e+00 - precision: 0.0000e+00\n",
            "Epoch 81/150\n",
            "103/103 [==============================] - 0s 3ms/step - loss: 0.5384 - accuracy: 0.8466 - recall: 0.0000e+00 - precision: 0.0000e+00\n",
            "Epoch 82/150\n",
            "103/103 [==============================] - 0s 3ms/step - loss: 0.5370 - accuracy: 0.8466 - recall: 0.0000e+00 - precision: 0.0000e+00\n",
            "Epoch 83/150\n",
            "103/103 [==============================] - 0s 2ms/step - loss: 0.5356 - accuracy: 0.8466 - recall: 0.0000e+00 - precision: 0.0000e+00\n",
            "Epoch 84/150\n",
            "103/103 [==============================] - 0s 2ms/step - loss: 0.5343 - accuracy: 0.8466 - recall: 0.0000e+00 - precision: 0.0000e+00\n",
            "Epoch 85/150\n",
            "103/103 [==============================] - 0s 2ms/step - loss: 0.5329 - accuracy: 0.8466 - recall: 0.0000e+00 - precision: 0.0000e+00\n",
            "Epoch 86/150\n",
            "103/103 [==============================] - 0s 2ms/step - loss: 0.5315 - accuracy: 0.8466 - recall: 0.0000e+00 - precision: 0.0000e+00\n",
            "Epoch 87/150\n",
            "103/103 [==============================] - 0s 2ms/step - loss: 0.5302 - accuracy: 0.8466 - recall: 0.0000e+00 - precision: 0.0000e+00\n",
            "Epoch 88/150\n",
            "103/103 [==============================] - 0s 2ms/step - loss: 0.5289 - accuracy: 0.8466 - recall: 0.0000e+00 - precision: 0.0000e+00\n",
            "Epoch 89/150\n",
            "103/103 [==============================] - 0s 2ms/step - loss: 0.5276 - accuracy: 0.8466 - recall: 0.0000e+00 - precision: 0.0000e+00\n",
            "Epoch 90/150\n",
            "103/103 [==============================] - 0s 2ms/step - loss: 0.5263 - accuracy: 0.8466 - recall: 0.0000e+00 - precision: 0.0000e+00\n",
            "Epoch 91/150\n",
            "103/103 [==============================] - 0s 2ms/step - loss: 0.5250 - accuracy: 0.8466 - recall: 0.0000e+00 - precision: 0.0000e+00\n",
            "Epoch 92/150\n",
            "103/103 [==============================] - 0s 2ms/step - loss: 0.5237 - accuracy: 0.8466 - recall: 0.0000e+00 - precision: 0.0000e+00\n",
            "Epoch 93/150\n",
            "103/103 [==============================] - 0s 2ms/step - loss: 0.5225 - accuracy: 0.8466 - recall: 0.0000e+00 - precision: 0.0000e+00\n",
            "Epoch 94/150\n",
            "103/103 [==============================] - 0s 2ms/step - loss: 0.5212 - accuracy: 0.8466 - recall: 0.0000e+00 - precision: 0.0000e+00\n",
            "Epoch 95/150\n",
            "103/103 [==============================] - 0s 2ms/step - loss: 0.5200 - accuracy: 0.8466 - recall: 0.0000e+00 - precision: 0.0000e+00\n",
            "Epoch 96/150\n",
            "103/103 [==============================] - 0s 2ms/step - loss: 0.5188 - accuracy: 0.8466 - recall: 0.0000e+00 - precision: 0.0000e+00\n",
            "Epoch 97/150\n",
            "103/103 [==============================] - 0s 2ms/step - loss: 0.5176 - accuracy: 0.8466 - recall: 0.0000e+00 - precision: 0.0000e+00\n",
            "Epoch 98/150\n",
            "103/103 [==============================] - 0s 2ms/step - loss: 0.5164 - accuracy: 0.8466 - recall: 0.0000e+00 - precision: 0.0000e+00\n",
            "Epoch 99/150\n",
            "103/103 [==============================] - 0s 3ms/step - loss: 0.5152 - accuracy: 0.8466 - recall: 0.0000e+00 - precision: 0.0000e+00\n",
            "Epoch 100/150\n",
            "103/103 [==============================] - 0s 4ms/step - loss: 0.5140 - accuracy: 0.8466 - recall: 0.0000e+00 - precision: 0.0000e+00\n",
            "Epoch 101/150\n",
            "103/103 [==============================] - 1s 6ms/step - loss: 0.5129 - accuracy: 0.8466 - recall: 0.0000e+00 - precision: 0.0000e+00\n",
            "Epoch 102/150\n",
            "103/103 [==============================] - 1s 6ms/step - loss: 0.5117 - accuracy: 0.8466 - recall: 0.0000e+00 - precision: 0.0000e+00\n",
            "Epoch 103/150\n",
            "103/103 [==============================] - 1s 6ms/step - loss: 0.5106 - accuracy: 0.8466 - recall: 0.0000e+00 - precision: 0.0000e+00\n",
            "Epoch 104/150\n",
            "103/103 [==============================] - 1s 5ms/step - loss: 0.5094 - accuracy: 0.8466 - recall: 0.0000e+00 - precision: 0.0000e+00\n",
            "Epoch 105/150\n",
            "103/103 [==============================] - 0s 3ms/step - loss: 0.5083 - accuracy: 0.8466 - recall: 0.0000e+00 - precision: 0.0000e+00\n",
            "Epoch 106/150\n",
            "103/103 [==============================] - 0s 3ms/step - loss: 0.5072 - accuracy: 0.8466 - recall: 0.0000e+00 - precision: 0.0000e+00\n",
            "Epoch 107/150\n",
            "103/103 [==============================] - 0s 4ms/step - loss: 0.5061 - accuracy: 0.8466 - recall: 0.0000e+00 - precision: 0.0000e+00\n",
            "Epoch 108/150\n",
            "103/103 [==============================] - 0s 3ms/step - loss: 0.5050 - accuracy: 0.8466 - recall: 0.0000e+00 - precision: 0.0000e+00\n",
            "Epoch 109/150\n",
            "103/103 [==============================] - 0s 2ms/step - loss: 0.5040 - accuracy: 0.8466 - recall: 0.0000e+00 - precision: 0.0000e+00\n",
            "Epoch 110/150\n",
            "103/103 [==============================] - 0s 2ms/step - loss: 0.5029 - accuracy: 0.8466 - recall: 0.0000e+00 - precision: 0.0000e+00\n",
            "Epoch 111/150\n",
            "103/103 [==============================] - 0s 2ms/step - loss: 0.5018 - accuracy: 0.8466 - recall: 0.0000e+00 - precision: 0.0000e+00\n",
            "Epoch 112/150\n",
            "103/103 [==============================] - 0s 2ms/step - loss: 0.5008 - accuracy: 0.8466 - recall: 0.0000e+00 - precision: 0.0000e+00\n",
            "Epoch 113/150\n",
            "103/103 [==============================] - 0s 2ms/step - loss: 0.4998 - accuracy: 0.8466 - recall: 0.0000e+00 - precision: 0.0000e+00\n",
            "Epoch 114/150\n",
            "103/103 [==============================] - 0s 2ms/step - loss: 0.4988 - accuracy: 0.8466 - recall: 0.0000e+00 - precision: 0.0000e+00\n",
            "Epoch 115/150\n",
            "103/103 [==============================] - 0s 2ms/step - loss: 0.4978 - accuracy: 0.8466 - recall: 0.0000e+00 - precision: 0.0000e+00\n",
            "Epoch 116/150\n",
            "103/103 [==============================] - 0s 2ms/step - loss: 0.4968 - accuracy: 0.8466 - recall: 0.0000e+00 - precision: 0.0000e+00\n",
            "Epoch 117/150\n",
            "103/103 [==============================] - 0s 2ms/step - loss: 0.4958 - accuracy: 0.8466 - recall: 0.0000e+00 - precision: 0.0000e+00\n",
            "Epoch 118/150\n",
            "103/103 [==============================] - 0s 2ms/step - loss: 0.4948 - accuracy: 0.8466 - recall: 0.0000e+00 - precision: 0.0000e+00\n",
            "Epoch 119/150\n",
            "103/103 [==============================] - 0s 2ms/step - loss: 0.4938 - accuracy: 0.8466 - recall: 0.0000e+00 - precision: 0.0000e+00\n",
            "Epoch 120/150\n",
            "103/103 [==============================] - 0s 2ms/step - loss: 0.4929 - accuracy: 0.8466 - recall: 0.0000e+00 - precision: 0.0000e+00\n",
            "Epoch 121/150\n",
            "103/103 [==============================] - 0s 2ms/step - loss: 0.4919 - accuracy: 0.8466 - recall: 0.0000e+00 - precision: 0.0000e+00\n",
            "Epoch 122/150\n",
            "103/103 [==============================] - 0s 2ms/step - loss: 0.4910 - accuracy: 0.8466 - recall: 0.0000e+00 - precision: 0.0000e+00\n",
            "Epoch 123/150\n",
            "103/103 [==============================] - 0s 2ms/step - loss: 0.4901 - accuracy: 0.8466 - recall: 0.0000e+00 - precision: 0.0000e+00\n",
            "Epoch 124/150\n",
            "103/103 [==============================] - 0s 2ms/step - loss: 0.4892 - accuracy: 0.8466 - recall: 0.0000e+00 - precision: 0.0000e+00\n",
            "Epoch 125/150\n",
            "103/103 [==============================] - 0s 2ms/step - loss: 0.4883 - accuracy: 0.8466 - recall: 0.0000e+00 - precision: 0.0000e+00\n",
            "Epoch 126/150\n",
            "103/103 [==============================] - 0s 2ms/step - loss: 0.4874 - accuracy: 0.8466 - recall: 0.0000e+00 - precision: 0.0000e+00\n",
            "Epoch 127/150\n",
            "103/103 [==============================] - 0s 2ms/step - loss: 0.4865 - accuracy: 0.8466 - recall: 0.0000e+00 - precision: 0.0000e+00\n",
            "Epoch 128/150\n",
            "103/103 [==============================] - 0s 2ms/step - loss: 0.4856 - accuracy: 0.8466 - recall: 0.0000e+00 - precision: 0.0000e+00\n",
            "Epoch 129/150\n",
            "103/103 [==============================] - 0s 2ms/step - loss: 0.4848 - accuracy: 0.8466 - recall: 0.0000e+00 - precision: 0.0000e+00\n",
            "Epoch 130/150\n",
            "103/103 [==============================] - 0s 2ms/step - loss: 0.4839 - accuracy: 0.8466 - recall: 0.0000e+00 - precision: 0.0000e+00\n",
            "Epoch 131/150\n",
            "103/103 [==============================] - 0s 2ms/step - loss: 0.4831 - accuracy: 0.8466 - recall: 0.0000e+00 - precision: 0.0000e+00\n",
            "Epoch 132/150\n",
            "103/103 [==============================] - 0s 2ms/step - loss: 0.4822 - accuracy: 0.8466 - recall: 0.0000e+00 - precision: 0.0000e+00\n",
            "Epoch 133/150\n",
            "103/103 [==============================] - 0s 2ms/step - loss: 0.4814 - accuracy: 0.8466 - recall: 0.0000e+00 - precision: 0.0000e+00\n",
            "Epoch 134/150\n",
            "103/103 [==============================] - 0s 2ms/step - loss: 0.4806 - accuracy: 0.8466 - recall: 0.0000e+00 - precision: 0.0000e+00\n",
            "Epoch 135/150\n",
            "103/103 [==============================] - 0s 2ms/step - loss: 0.4798 - accuracy: 0.8466 - recall: 0.0000e+00 - precision: 0.0000e+00\n",
            "Epoch 136/150\n",
            "103/103 [==============================] - 0s 2ms/step - loss: 0.4790 - accuracy: 0.8466 - recall: 0.0000e+00 - precision: 0.0000e+00\n",
            "Epoch 137/150\n",
            "103/103 [==============================] - 0s 2ms/step - loss: 0.4783 - accuracy: 0.8466 - recall: 0.0000e+00 - precision: 0.0000e+00\n",
            "Epoch 138/150\n",
            "103/103 [==============================] - 0s 2ms/step - loss: 0.4775 - accuracy: 0.8466 - recall: 0.0000e+00 - precision: 0.0000e+00\n",
            "Epoch 139/150\n",
            "103/103 [==============================] - 0s 2ms/step - loss: 0.4767 - accuracy: 0.8466 - recall: 0.0000e+00 - precision: 0.0000e+00\n",
            "Epoch 140/150\n",
            "103/103 [==============================] - 0s 2ms/step - loss: 0.4760 - accuracy: 0.8466 - recall: 0.0000e+00 - precision: 0.0000e+00\n",
            "Epoch 141/150\n",
            "103/103 [==============================] - 0s 2ms/step - loss: 0.4752 - accuracy: 0.8466 - recall: 0.0000e+00 - precision: 0.0000e+00\n",
            "Epoch 142/150\n",
            "103/103 [==============================] - 0s 2ms/step - loss: 0.4745 - accuracy: 0.8466 - recall: 0.0000e+00 - precision: 0.0000e+00\n",
            "Epoch 143/150\n",
            "103/103 [==============================] - 0s 2ms/step - loss: 0.4738 - accuracy: 0.8466 - recall: 0.0000e+00 - precision: 0.0000e+00\n",
            "Epoch 144/150\n",
            "103/103 [==============================] - 0s 2ms/step - loss: 0.4730 - accuracy: 0.8466 - recall: 0.0000e+00 - precision: 0.0000e+00\n",
            "Epoch 145/150\n",
            "103/103 [==============================] - 0s 2ms/step - loss: 0.4723 - accuracy: 0.8466 - recall: 0.0000e+00 - precision: 0.0000e+00\n",
            "Epoch 146/150\n",
            "103/103 [==============================] - 0s 2ms/step - loss: 0.4716 - accuracy: 0.8466 - recall: 0.0000e+00 - precision: 0.0000e+00\n",
            "Epoch 147/150\n",
            "103/103 [==============================] - 0s 2ms/step - loss: 0.4709 - accuracy: 0.8466 - recall: 0.0000e+00 - precision: 0.0000e+00\n",
            "Epoch 148/150\n",
            "103/103 [==============================] - 0s 2ms/step - loss: 0.4702 - accuracy: 0.8466 - recall: 0.0000e+00 - precision: 0.0000e+00\n",
            "Epoch 149/150\n",
            "103/103 [==============================] - 0s 2ms/step - loss: 0.4696 - accuracy: 0.8466 - recall: 0.0000e+00 - precision: 0.0000e+00\n",
            "Epoch 150/150\n",
            "103/103 [==============================] - 0s 3ms/step - loss: 0.4689 - accuracy: 0.8466 - recall: 0.0000e+00 - precision: 0.0000e+00\n"
          ]
        }
      ]
    },
    {
      "cell_type": "code",
      "source": [
        "model.evaluate(X_test, y_test)"
      ],
      "metadata": {
        "id": "t3UxUByuhZT-",
        "colab": {
          "base_uri": "https://localhost:8080/"
        },
        "outputId": "5041790b-d27e-4ae6-b110-0524cd48e67f"
      },
      "execution_count": null,
      "outputs": [
        {
          "output_type": "stream",
          "name": "stdout",
          "text": [
            "44/44 [==============================] - 1s 3ms/step - loss: 0.4940 - accuracy: 0.8209 - recall: 0.0000e+00 - precision: 0.0000e+00\n"
          ]
        },
        {
          "output_type": "execute_result",
          "data": {
            "text/plain": [
              "[0.49396997690200806, 0.8208954930305481, 0.0, 0.0]"
            ]
          },
          "metadata": {},
          "execution_count": 26
        }
      ]
    },
    {
      "cell_type": "code",
      "source": [
        "y_pred=model.predict(X_test_sc)\n",
        "\n",
        "y_pred_u = [y_pred[i][0] for i in range(len(y_pred))]\n",
        "\n",
        "y_pred_bi = [1 if y_pred_u[i]>=0.5 else 0 for i in range(len(y_pred_u))]\n"
      ],
      "metadata": {
        "id": "W2NLBRnfxBo6"
      },
      "execution_count": null,
      "outputs": []
    },
    {
      "cell_type": "code",
      "source": [
        "model.summary()"
      ],
      "metadata": {
        "id": "IFREe3EFxKlS"
      },
      "execution_count": null,
      "outputs": []
    },
    {
      "cell_type": "markdown",
      "source": [
        "**Reporte y métricas**"
      ],
      "metadata": {
        "id": "rWaO3gKlvOdH"
      }
    },
    {
      "cell_type": "code",
      "source": [
        "print(f'los diagnosticos predecidos son:\\n {y_pred_naive}\\n')\n",
        "print(f'La precisión del modelo es: {accuracy_score(y_test,y_pred_naive)}\\n')\n",
        "print(f'La matriz de confusión es:\\n {confusion_matrix(y_test,y_pred_naive)}\\n')\n",
        "print(\"Classification Report:\\n\", classification_report(y_test, y_pred_naive))"
      ],
      "metadata": {
        "id": "HnEEjrkFvOdH"
      },
      "execution_count": null,
      "outputs": []
    },
    {
      "cell_type": "markdown",
      "source": [
        "###**Graficas de verificación y comparación de los resultados y el modelo**"
      ],
      "metadata": {
        "id": "qTJfwLbc0alt"
      }
    },
    {
      "cell_type": "markdown",
      "source": [
        "**Matriz de confusión**\n",
        "\n",
        "\n",
        "\n",
        "*   Verdadero Positivo (TP): Los casos que el modelo ha clasificado correctamente como positivos.\n",
        "*   Falso Negativo (FN): Los casos positivos que el modelo ha clasificado incorrectamente como negativos.\n",
        "*   Falso Positivo (FP): Los casos negativos que el modelo ha clasificado incorrectamente como positivos.\n",
        "*   Verdadero Negativo (TN): Los casos que el modelo ha clasificado correctamente como negativos.\n",
        "\n",
        "Se desea que los TP y TN sean los más altos."
      ],
      "metadata": {
        "id": "VqPIg7vw0alt"
      }
    },
    {
      "cell_type": "code",
      "source": [
        "plt.figure(figsize=(12, 4))\n",
        "\n",
        "\n",
        "#segunda grafica\n",
        "plt.subplot(1, 3, 1)\n",
        "# Calcular la matriz de confusión\n",
        "cm = confusion_matrix(y_test, y_pred_knn)\n",
        "\n",
        "# Crear el gráfico de la matriz de confusión\n",
        "sns.heatmap(cm, annot=True, cmap='Blues', fmt='g', cbar=False)\n",
        "plt.xlabel('Predicción')\n",
        "plt.ylabel('Valores reales')\n",
        "plt.title('Matriz de confusión KNN')\n",
        "\n",
        "\n",
        "#tercera grafica\n",
        "plt.subplot(1, 3, 2)\n",
        "# Calcular la matriz de confusión\n",
        "cm = confusion_matrix(y_test, y_pred_naive)\n",
        "\n",
        "# Crear el gráfico de la matriz de confusión\n",
        "sns.heatmap(cm, annot=True, cmap='Blues', fmt='g', cbar=False)\n",
        "plt.xlabel('Predicción')\n",
        "plt.ylabel('Valores reales')\n",
        "plt.title('Matriz de confusión Naive-Bayes')\n",
        "\n",
        "plt.subplot(1, 3, 3)\n",
        "# Calcular la matriz de confusión\n",
        "cm = confusion_matrix(y_test, y_pred_bi)\n",
        "\n",
        "# Crear el gráfico de la matriz de confusión\n",
        "sns.heatmap(cm, annot=True, cmap='Blues', fmt='g', cbar=False)\n",
        "plt.xlabel('Predicción')\n",
        "plt.ylabel('Valores reales')\n",
        "plt.title('Matriz de confusión Red')\n",
        "\n",
        "\n",
        "\n",
        "plt.show()"
      ],
      "metadata": {
        "id": "jkyck25s0alt"
      },
      "execution_count": null,
      "outputs": []
    },
    {
      "cell_type": "markdown",
      "source": [
        "**Curva ROC**\n",
        "\n",
        "La curva ROC representa la tasa de verdaderos positivos en el eje y y la tasa de falsos positivos en el eje x para diferentes umbrales de clasificación.\n",
        "\n",
        "Nos dice que tan bueno es el modelo para distinguir entre dos clases.\n",
        "\n",
        "* Sensibilidad (recall): Proporción de identificados correctamente con 1. $$sensibilidad=\\frac{TP}{TP+FN}$$\n",
        "* Especificidad: Proporción de identificados correctamente con 0. $$especificidad=\\frac{TN}{TN+FP}$$\n",
        "\n",
        "La curva ROC es la gráfica que relaciona 1-especificidad y la sensibilidad.\n",
        "\n",
        "$AUC$ es el área bajo la curva ROC y nos dice el porcentaje para distinguir entre clases. Nunca se debe de aproximar a $0.5$."
      ],
      "metadata": {
        "id": "YatXAUak0alt"
      }
    },
    {
      "cell_type": "code",
      "source": [
        "plt.figure(figsize=(15, 4))\n",
        "\n",
        "\n",
        "#segunda grafica\n",
        "plt.subplot(1, 2, 1)\n",
        "# Obtener las probabilidades de predicción para la clase positiva\n",
        "y_scores = knn.predict_proba(X_test_sc)[:, 1]\n",
        "\n",
        "# Calcular la curva ROC y el área bajo la curva (AUC)\n",
        "fpr, tpr, thresholds = roc_curve(y_test, y_scores)\n",
        "roc_auc = auc(fpr, tpr)\n",
        "\n",
        "# Graficar la curva ROC\n",
        "plt.plot(fpr, tpr, color='#03045e', lw=2, label='Curva ROC (AUC-ROC = %0.2f)' % roc_auc)\n",
        "plt.fill_between(fpr, tpr, alpha=0.2)\n",
        "plt.plot([0, 1], [0, 1], color='#0096c7', lw=2, linestyle='--', label='Recta del 50 (área = 0.5)')\n",
        "plt.xlim([0.0, 1.0])\n",
        "plt.ylim([0.0, 1.03])\n",
        "plt.xlabel('Tasa de falsos positivos (1-especificidad)')\n",
        "plt.ylabel('Tasa de verdaderos positivos (sensibilidad)')\n",
        "plt.title('Curva ROC del KNN')\n",
        "plt.grid(True)\n",
        "plt.legend(loc=\"lower right\")\n",
        "\n",
        "\n",
        "#tercera grafica\n",
        "plt.subplot(1, 2, 2)\n",
        "# Obtener las probabilidades de predicción para la clase positiva\n",
        "y_scores = naive.predict_proba(X_test_sc)[:, 1]\n",
        "\n",
        "# Calcular la curva ROC y el área bajo la curva (AUC)\n",
        "fpr, tpr, thresholds = roc_curve(y_test, y_scores)\n",
        "roc_auc = auc(fpr, tpr)\n",
        "\n",
        "# Graficar la curva ROC\n",
        "plt.plot(fpr, tpr, color='#03045e', lw=2, label='Curva ROC (AUC-ROC = %0.2f)' % roc_auc)\n",
        "plt.fill_between(fpr, tpr, alpha=0.2)\n",
        "plt.plot([0, 1], [0, 1], color='#0096c7', lw=2, linestyle='--', label='Recta del 50 (área = 0.5)')\n",
        "plt.xlim([0.0, 1.0])\n",
        "plt.ylim([0.0, 1.03])\n",
        "plt.xlabel('Tasa de falsos positivos (1-especificidad)')\n",
        "plt.ylabel('Tasa de verdaderos positivos (sensibilidad)')\n",
        "plt.title('Curva ROC de Naive-Bayes')\n",
        "plt.grid(True)\n",
        "plt.legend(loc=\"lower right\")\n",
        "\n",
        "\n",
        "\n",
        "\n",
        "plt.show()"
      ],
      "metadata": {
        "id": "WoS8HNLS0alt"
      },
      "execution_count": null,
      "outputs": []
    },
    {
      "cell_type": "markdown",
      "source": [
        "**$F_{\\beta}$ score**\n",
        "\n",
        "$$F_\\beta = (1 + \\beta^{2}) \\cdot \\frac{precision \\times recall}{\\left(\\beta^{2} \\cdot precision\\right) + recall}$$\n",
        "\n",
        "$\\beta$ es un parámetro que controla la relación de la precisión con el recall.\n",
        "\n",
        "Un valor de $\\beta>1$ da más peso a la precisión, si $F_{\\beta} \\xrightarrow{\\beta\\rightarrow\\infty}precision$.\n",
        "\n",
        "Un valor de $\\beta<1$ da más peso al recall.\n",
        "\n",
        "Un valor de $\\beta = 1$ da el mismo peso."
      ],
      "metadata": {
        "id": "A2amgw0-0alu"
      }
    },
    {
      "cell_type": "code",
      "source": [
        "# Valores de beta\n",
        "betas = np.linspace(0, 2, 20)\n",
        "\n",
        "\n",
        "plt.figure(figsize=(15, 5))\n",
        "\n",
        "#segunda grafica\n",
        "plt.subplot(1, 2, 1)\n",
        "\n",
        "#Matriz de confusión\n",
        "mc = confusion_matrix(y_test, y_pred_knn)\n",
        "\n",
        "# Precisión y recall\n",
        "precision = mc[0][0]/(mc[0][0] + mc[0][1])\n",
        "recall = mc[0][0]/(mc[0][0] + mc[1][0])\n",
        "\n",
        "# Calcular el F-beta score para cada valor de beta\n",
        "f_beta_scores = [(1 + beta**2) * (precision * recall) / ((beta**2 * precision) + recall) for beta in betas]\n",
        "\n",
        "# Graficar el F-beta score en función de beta\n",
        "plt.plot(betas, f_beta_scores)\n",
        "plt.xlabel('Valor de beta')\n",
        "plt.ylabel('F-beta score')\n",
        "plt.title(f'F-Beta score del KNN')\n",
        "plt.grid(True)\n",
        "\n",
        "\n",
        "#tercera grafica\n",
        "plt.subplot(1, 2, 2)\n",
        "\n",
        "#Matriz de confusión\n",
        "mc = confusion_matrix(y_test, y_pred_naive)\n",
        "\n",
        "# Precisión y recall\n",
        "precision = mc[0][0]/(mc[0][0] + mc[0][1])\n",
        "recall = mc[0][0]/(mc[0][0] + mc[1][0])\n",
        "\n",
        "# Calcular el F-beta score para cada valor de beta\n",
        "f_beta_scores = [(1 + beta**2) * (precision * recall) / ((beta**2 * precision) + recall) for beta in betas]\n",
        "\n",
        "# Graficar el F-beta score en función de beta\n",
        "plt.plot(betas, f_beta_scores)\n",
        "plt.xlabel('Valor de beta')\n",
        "plt.ylabel('F-beta score')\n",
        "plt.title(f'F-Beta score de Naive-Bayes')\n",
        "plt.grid(True)\n",
        "\n",
        "plt.show()"
      ],
      "metadata": {
        "id": "rxOgBvNF0alu"
      },
      "execution_count": null,
      "outputs": []
    },
    {
      "cell_type": "markdown",
      "source": [
        "cambio de algoritmo en knn no hace cambios\n",
        "\n",
        "a todos los modelos les cuesta detectar el 1, puesto que la base tiene muchos mas 0 que 1"
      ],
      "metadata": {
        "id": "XSxnZSKv0alu"
      }
    },
    {
      "cell_type": "markdown",
      "source": [
        "Finalmente, vemos que las mejores métricas para analizar este problema son la precisión y el recall, dado que nos dejan ver que el modelo tiene problemas para clasificar los casos positivos, cualesquiera que sea el modelo usado. El mejor modelo en este caso, que es el árbol, sigue teniendo problemas con la detección de casos positivos porque su recall es de 0.44 y su precisión de 0.65. Esto se relaciona con el AUC-ROC, puesto que esto nos dice la capacidad del modelo de diferenciar las clases, dando un área de 0.69."
      ],
      "metadata": {
        "id": "pRCfEmqz0alu"
      }
    },
    {
      "cell_type": "code",
      "source": [
        "plt.figure(figsize=(12, 4))\n",
        "\n",
        "plt.subplot(1, 3, 1)\n",
        "plt.hist([y_pred_knn, y_test], bins=[-0.5, 0.5, 1.5], color=['skyblue', 'blue'], edgecolor='black', alpha=0.7, label=['Predicciones', 'Reales'])\n",
        "plt.xlabel('Diagnóstico')\n",
        "plt.ylabel('Frecuencia')\n",
        "plt.title('KNN')\n",
        "plt.legend()\n",
        "plt.xticks([0, 1])\n",
        "\n",
        "plt.subplot(1, 3, 2)\n",
        "plt.hist([y_pred_naive, y_test], bins=[-0.5, 0.5, 1.5], color=['skyblue', 'blue'], edgecolor='black', alpha=0.7, label=['Predicciones', 'Reales'])\n",
        "plt.xlabel('Diagnóstico')\n",
        "plt.ylabel('Frecuencia')\n",
        "plt.title('Naive-Bayes')\n",
        "plt.legend()\n",
        "plt.xticks([0, 1])\n",
        "\n",
        "plt.subplot(1, 3, 3)\n",
        "plt.hist([y_pred_bi, y_test], bins=[-0.5, 0.5, 1.5], color=['skyblue', 'blue'], edgecolor='black', alpha=0.7, label=['Predicciones', 'Reales'])\n",
        "plt.xlabel('Diagnóstico')\n",
        "plt.ylabel('Frecuencia')\n",
        "plt.title('Redes')\n",
        "plt.legend()\n",
        "plt.xticks([0, 1])\n",
        "plt.show()"
      ],
      "metadata": {
        "colab": {
          "base_uri": "https://localhost:8080/",
          "height": 411
        },
        "id": "8jvfFBaS336e",
        "outputId": "b9f68c6c-5cf5-4ab0-c7d9-d63477418b36"
      },
      "execution_count": null,
      "outputs": [
        {
          "output_type": "display_data",
          "data": {
            "text/plain": [
              "<Figure size 1200x400 with 3 Axes>"
            ],
            "image/png": "[encoded data removed]"
          },
          "metadata": {}
        }
      ]
    }
  ]
}