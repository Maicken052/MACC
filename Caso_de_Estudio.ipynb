{
  "nbformat": 4,
  "nbformat_minor": 0,
  "metadata": {
    "colab": {
      "provenance": [],
      "include_colab_link": true
    },
    "kernelspec": {
      "name": "python3",
      "display_name": "Python 3"
    },
    "language_info": {
      "name": "python"
    }
  },
  "cells": [
    {
      "cell_type": "markdown",
      "metadata": {
        "id": "view-in-github",
        "colab_type": "text"
      },
      "source": [
        "<a href=\"https://colab.research.google.com/github/Maicken052/MACC/blob/main/Caso_de_Estudio.ipynb\" target=\"_parent\"><img src=\"https://colab.research.google.com/assets/colab-badge.svg\" alt=\"Open In Colab\"/></a>"
      ]
    },
    {
      "cell_type": "markdown",
      "source": [
        "#***Caso de Estudio:***\n",
        "## Aprendizaje automático de máquina - Universidad del Rosario\n",
        "### Samuel Fernando De Dios Pérez <br> Robert Daniel Fonseca Lesmez <br> Escuela de Ingeniería, Ciencia y Tecnología"
      ],
      "metadata": {
        "id": "30JmFzLRXVxU"
      }
    },
    {
      "cell_type": "markdown",
      "source": [
        "## **Librerias a usar**"
      ],
      "metadata": {
        "id": "tEHKFAHjXk9A"
      }
    },
    {
      "cell_type": "code",
      "execution_count": null,
      "metadata": {
        "id": "o8ivI-o9W3fg"
      },
      "outputs": [],
      "source": [
        "import pandas as pd\n",
        "import numpy as np\n",
        "import matplotlib.pyplot as plt\n",
        "import seaborn as sns\n",
        "import sklearn\n",
        "\n",
        "from sklearn.preprocessing import StandardScaler #preprosesamiento de datos\n",
        "from sklearn.model_selection import train_test_split #entrenar los datos\n",
        "from sklearn.linear_model import LinearRegression #hacer la regresion\n",
        "from sklearn.metrics import mean_absolute_error, mean_squared_error, confusion_matrix, accuracy_score, classification_report, r2_score #usar las metricas de errores, para verificar que los datos estan bien\n",
        "from sklearn.tree import DecisionTreeRegressor, DecisionTreeClassifier, export_text, plot_tree\n",
        "from sklearn.neighbors import KNeighborsClassifier, kneighbors_graph\n",
        "from sklearn.naive_bayes import GaussianNB\n",
        "\n",
        "from sklearn.metrics import roc_curve, auc\n",
        "from sklearn.manifold import TSNE\n",
        "from sklearn.metrics import precision_recall_curve\n",
        "from sklearn.metrics import average_precision_score"
      ]
    },
    {
      "cell_type": "markdown",
      "source": [
        "## **Importar el dataset**"
      ],
      "metadata": {
        "id": "MQn_wSAHYc56"
      }
    },
    {
      "cell_type": "code",
      "source": [
        "from google.colab import drive\n",
        "drive.mount('/content/drive')"
      ],
      "metadata": {
        "id": "eUaMjhiQYcsR",
        "colab": {
          "base_uri": "https://localhost:8080/"
        },
        "outputId": "4df715a9-4949-4fdb-ea04-c2acf5161de4"
      },
      "execution_count": null,
      "outputs": [
        {
          "output_type": "stream",
          "name": "stdout",
          "text": [
            "Mounted at /content/drive\n"
          ]
        }
      ]
    },
    {
      "cell_type": "code",
      "source": [
        "data_ori=pd.read_csv('/content/SAHeart.csv')\n",
        "data=data_ori.copy()"
      ],
      "metadata": {
        "id": "NI7_nSybYgTZ"
      },
      "execution_count": null,
      "outputs": []
    },
    {
      "cell_type": "markdown",
      "source": [
        "## **Preprocesamiento de los datos**\n",
        "\n",
        "\n"
      ],
      "metadata": {
        "id": "WuvzxKP3Yqyp"
      }
    },
    {
      "cell_type": "markdown",
      "source": [
        "Tenemos la siguiente descripción de las variables:\n",
        "\n",
        "*   ***sbp:*** Presión Arterial Sistólica, Es la presión máxima ejercida en las arterias durante los latidos del corazón. Esta medida es crucial para evaluar la salud cardiovascular, ya que niveles altos pueden indicar un mayor riesgo de enfermedades cardíacas y otros problemas de salud.\n",
        "*   ***tobacco:*** Esta variable representa la cantidad acumulada de tabaco consumida, medida en kilogramos. El tabaquismo está fuertemente asociado con enfermedades cardíacas y una variedad de otros problemas de salud, por lo que esta medida puede ser importante para evaluar el riesgo cardiovascular.\n",
        "*   ***ldl:*** El LDL es conocido comúnmente como el \"colesterol malo\". Niveles elevados de LDL en la sangre pueden aumentar el riesgo de enfermedades cardíacas al contribuir al depósito de placa en las arterias.\n",
        "*   ***adiposity:*** Esta variable representa la presencia de sobrepeso severo, que puede ser un factor de riesgo importante para una variedad de problemas de salud, incluyendo enfermedades cardíacas, diabetes y problemas articulares.\n",
        "*   ***famhist:***  Indica si hay antecedentes familiares de enfermedades cardíacas, lo cual puede aumentar el riesgo individual de desarrollar enfermedades cardiovasculares.\n",
        "*   ***typea:*** Se refiere a un tipo de comportamiento caracterizado por la impaciencia, la competitividad y la tendencia a experimentar estrés de manera constante. Este tipo de comportamiento ha sido asociado con un mayor riesgo de enfermedades cardíacas.\n",
        "*   ***obesity:*** Esta variable representa la acumulación excesiva de grasa en el cuerpo, lo cual puede contribuir a una variedad de problemas de salud, incluyendo enfermedades cardíacas, diabetes tipo 2 y ciertos tipos de cáncer.\n",
        "*   ***alcohol:*** Indica la cantidad y frecuencia de consumo de alcohol en el momento del estudio. El consumo excesivo de alcohol puede tener efectos negativos en la salud cardiovascular y general.\n",
        "*   ***age:*** La edad en la que los participantes del estudio fueron evaluados por primera vez. La edad es un factor importante a considerar en la evaluación del riesgo cardiovascular, ya que el riesgo tiende a aumentar con la edad.\n",
        "*   ***chd:*** Esta variable representa la presencia o ausencia de enfermedad coronaria, una condición en la que las arterias que suministran sangre al corazón están obstruidas o dañadas, lo que puede llevar a ataques cardíacos y otros problemas cardíacos graves.\n"
      ],
      "metadata": {
        "id": "q7fKsP6HhihW"
      }
    },
    {
      "cell_type": "code",
      "source": [
        "print(data.isnull().sum(), '\\n') #Revisar la cantidad de datos nulos"
      ],
      "metadata": {
        "id": "RzdgXx7NY1zp",
        "colab": {
          "base_uri": "https://localhost:8080/"
        },
        "outputId": "920ab79a-8dc0-40f1-bee7-0c734a2aa0a9"
      },
      "execution_count": null,
      "outputs": [
        {
          "output_type": "stream",
          "name": "stdout",
          "text": [
            "sbp          0\n",
            "tobacco      0\n",
            "ldl          0\n",
            "adiposity    0\n",
            "famhist      0\n",
            "typea        0\n",
            "obesity      0\n",
            "alcohol      0\n",
            "age          0\n",
            "chd          0\n",
            "dtype: int64 \n",
            "\n"
          ]
        }
      ]
    },
    {
      "cell_type": "markdown",
      "source": [
        "Como no hay datos nulos, dejamos las filas como están"
      ],
      "metadata": {
        "id": "wz20iItfnRMr"
      }
    },
    {
      "cell_type": "code",
      "source": [
        "data.info() #Información de las columnas"
      ],
      "metadata": {
        "id": "4eyU450iYudZ",
        "colab": {
          "base_uri": "https://localhost:8080/"
        },
        "outputId": "90b45aa6-65a9-4fcf-fe6f-7863bc15b561"
      },
      "execution_count": null,
      "outputs": [
        {
          "output_type": "stream",
          "name": "stdout",
          "text": [
            "<class 'pandas.core.frame.DataFrame'>\n",
            "RangeIndex: 462 entries, 0 to 461\n",
            "Data columns (total 11 columns):\n",
            " #   Column     Non-Null Count  Dtype  \n",
            "---  ------     --------------  -----  \n",
            " 0   row.names  462 non-null    int64  \n",
            " 1   sbp        462 non-null    int64  \n",
            " 2   tobacco    462 non-null    float64\n",
            " 3   ldl        462 non-null    float64\n",
            " 4   adiposity  462 non-null    float64\n",
            " 5   famhist    462 non-null    object \n",
            " 6   typea      462 non-null    int64  \n",
            " 7   obesity    462 non-null    float64\n",
            " 8   alcohol    462 non-null    float64\n",
            " 9   age        462 non-null    int64  \n",
            " 10  chd        462 non-null    int64  \n",
            "dtypes: float64(5), int64(5), object(1)\n",
            "memory usage: 39.8+ KB\n"
          ]
        }
      ]
    },
    {
      "cell_type": "code",
      "source": [
        "print(f'Número de filas: {data.shape[0]}, Número de columnas: {data.shape[1]}') #Número de filas y columnas\n",
        "data.head() #Visualización del dataset"
      ],
      "metadata": {
        "id": "eZaBJIXBY8ih",
        "colab": {
          "base_uri": "https://localhost:8080/",
          "height": 223
        },
        "outputId": "6978d43b-75d6-4b39-deca-523f61300f7d"
      },
      "execution_count": null,
      "outputs": [
        {
          "output_type": "stream",
          "name": "stdout",
          "text": [
            "Número de filas: 462, Número de columnas: 11\n"
          ]
        },
        {
          "output_type": "execute_result",
          "data": {
            "text/plain": [
              "   row.names  sbp  tobacco   ldl  adiposity  famhist  typea  obesity  alcohol  \\\n",
              "0          1  160    12.00  5.73      23.11  Present     49    25.30    97.20   \n",
              "1          2  144     0.01  4.41      28.61   Absent     55    28.87     2.06   \n",
              "2          3  118     0.08  3.48      32.28  Present     52    29.14     3.81   \n",
              "3          4  170     7.50  6.41      38.03  Present     51    31.99    24.26   \n",
              "4          5  134    13.60  3.50      27.78  Present     60    25.99    57.34   \n",
              "\n",
              "   age  chd  \n",
              "0   52    1  \n",
              "1   63    1  \n",
              "2   46    0  \n",
              "3   58    1  \n",
              "4   49    1  "
            ],
            "text/html": [
              "\n",
              "  <div id=\"df-e665bbe1-0fac-472a-82f6-50b5de7b9be2\" class=\"colab-df-container\">\n",
              "    <div>\n",
              "<style scoped>\n",
              "    .dataframe tbody tr th:only-of-type {\n",
              "        vertical-align: middle;\n",
              "    }\n",
              "\n",
              "    .dataframe tbody tr th {\n",
              "        vertical-align: top;\n",
              "    }\n",
              "\n",
              "    .dataframe thead th {\n",
              "        text-align: right;\n",
              "    }\n",
              "</style>\n",
              "<table border=\"1\" class=\"dataframe\">\n",
              "  <thead>\n",
              "    <tr style=\"text-align: right;\">\n",
              "      <th></th>\n",
              "      <th>row.names</th>\n",
              "      <th>sbp</th>\n",
              "      <th>tobacco</th>\n",
              "      <th>ldl</th>\n",
              "      <th>adiposity</th>\n",
              "      <th>famhist</th>\n",
              "      <th>typea</th>\n",
              "      <th>obesity</th>\n",
              "      <th>alcohol</th>\n",
              "      <th>age</th>\n",
              "      <th>chd</th>\n",
              "    </tr>\n",
              "  </thead>\n",
              "  <tbody>\n",
              "    <tr>\n",
              "      <th>0</th>\n",
              "      <td>1</td>\n",
              "      <td>160</td>\n",
              "      <td>12.00</td>\n",
              "      <td>5.73</td>\n",
              "      <td>23.11</td>\n",
              "      <td>Present</td>\n",
              "      <td>49</td>\n",
              "      <td>25.30</td>\n",
              "      <td>97.20</td>\n",
              "      <td>52</td>\n",
              "      <td>1</td>\n",
              "    </tr>\n",
              "    <tr>\n",
              "      <th>1</th>\n",
              "      <td>2</td>\n",
              "      <td>144</td>\n",
              "      <td>0.01</td>\n",
              "      <td>4.41</td>\n",
              "      <td>28.61</td>\n",
              "      <td>Absent</td>\n",
              "      <td>55</td>\n",
              "      <td>28.87</td>\n",
              "      <td>2.06</td>\n",
              "      <td>63</td>\n",
              "      <td>1</td>\n",
              "    </tr>\n",
              "    <tr>\n",
              "      <th>2</th>\n",
              "      <td>3</td>\n",
              "      <td>118</td>\n",
              "      <td>0.08</td>\n",
              "      <td>3.48</td>\n",
              "      <td>32.28</td>\n",
              "      <td>Present</td>\n",
              "      <td>52</td>\n",
              "      <td>29.14</td>\n",
              "      <td>3.81</td>\n",
              "      <td>46</td>\n",
              "      <td>0</td>\n",
              "    </tr>\n",
              "    <tr>\n",
              "      <th>3</th>\n",
              "      <td>4</td>\n",
              "      <td>170</td>\n",
              "      <td>7.50</td>\n",
              "      <td>6.41</td>\n",
              "      <td>38.03</td>\n",
              "      <td>Present</td>\n",
              "      <td>51</td>\n",
              "      <td>31.99</td>\n",
              "      <td>24.26</td>\n",
              "      <td>58</td>\n",
              "      <td>1</td>\n",
              "    </tr>\n",
              "    <tr>\n",
              "      <th>4</th>\n",
              "      <td>5</td>\n",
              "      <td>134</td>\n",
              "      <td>13.60</td>\n",
              "      <td>3.50</td>\n",
              "      <td>27.78</td>\n",
              "      <td>Present</td>\n",
              "      <td>60</td>\n",
              "      <td>25.99</td>\n",
              "      <td>57.34</td>\n",
              "      <td>49</td>\n",
              "      <td>1</td>\n",
              "    </tr>\n",
              "  </tbody>\n",
              "</table>\n",
              "</div>\n",
              "    <div class=\"colab-df-buttons\">\n",
              "\n",
              "  <div class=\"colab-df-container\">\n",
              "    <button class=\"colab-df-convert\" onclick=\"convertToInteractive('df-e665bbe1-0fac-472a-82f6-50b5de7b9be2')\"\n",
              "            title=\"Convert this dataframe to an interactive table.\"\n",
              "            style=\"display:none;\">\n",
              "\n",
              "  <svg xmlns=\"http://www.w3.org/2000/svg\" height=\"24px\" viewBox=\"0 -960 960 960\">\n",
              "    <path d=\"M120-120v-720h720v720H120Zm60-500h600v-160H180v160Zm220 220h160v-160H400v160Zm0 220h160v-160H400v160ZM180-400h160v-160H180v160Zm440 0h160v-160H620v160ZM180-180h160v-160H180v160Zm440 0h160v-160H620v160Z\"/>\n",
              "  </svg>\n",
              "    </button>\n",
              "\n",
              "  <style>\n",
              "    .colab-df-container {\n",
              "      display:flex;\n",
              "      gap: 12px;\n",
              "    }\n",
              "\n",
              "    .colab-df-convert {\n",
              "      background-color: #E8F0FE;\n",
              "      border: none;\n",
              "      border-radius: 50%;\n",
              "      cursor: pointer;\n",
              "      display: none;\n",
              "      fill: #1967D2;\n",
              "      height: 32px;\n",
              "      padding: 0 0 0 0;\n",
              "      width: 32px;\n",
              "    }\n",
              "\n",
              "    .colab-df-convert:hover {\n",
              "      background-color: #E2EBFA;\n",
              "      box-shadow: 0px 1px 2px rgba(60, 64, 67, 0.3), 0px 1px 3px 1px rgba(60, 64, 67, 0.15);\n",
              "      fill: #174EA6;\n",
              "    }\n",
              "\n",
              "    .colab-df-buttons div {\n",
              "      margin-bottom: 4px;\n",
              "    }\n",
              "\n",
              "    [theme=dark] .colab-df-convert {\n",
              "      background-color: #3B4455;\n",
              "      fill: #D2E3FC;\n",
              "    }\n",
              "\n",
              "    [theme=dark] .colab-df-convert:hover {\n",
              "      background-color: #434B5C;\n",
              "      box-shadow: 0px 1px 3px 1px rgba(0, 0, 0, 0.15);\n",
              "      filter: drop-shadow(0px 1px 2px rgba(0, 0, 0, 0.3));\n",
              "      fill: #FFFFFF;\n",
              "    }\n",
              "  </style>\n",
              "\n",
              "    <script>\n",
              "      const buttonEl =\n",
              "        document.querySelector('#df-e665bbe1-0fac-472a-82f6-50b5de7b9be2 button.colab-df-convert');\n",
              "      buttonEl.style.display =\n",
              "        google.colab.kernel.accessAllowed ? 'block' : 'none';\n",
              "\n",
              "      async function convertToInteractive(key) {\n",
              "        const element = document.querySelector('#df-e665bbe1-0fac-472a-82f6-50b5de7b9be2');\n",
              "        const dataTable =\n",
              "          await google.colab.kernel.invokeFunction('convertToInteractive',\n",
              "                                                    [key], {});\n",
              "        if (!dataTable) return;\n",
              "\n",
              "        const docLinkHtml = 'Like what you see? Visit the ' +\n",
              "          '<a target=\"_blank\" href=https://colab.research.google.com/notebooks/data_table.ipynb>data table notebook</a>'\n",
              "          + ' to learn more about interactive tables.';\n",
              "        element.innerHTML = '';\n",
              "        dataTable['output_type'] = 'display_data';\n",
              "        await google.colab.output.renderOutput(dataTable, element);\n",
              "        const docLink = document.createElement('div');\n",
              "        docLink.innerHTML = docLinkHtml;\n",
              "        element.appendChild(docLink);\n",
              "      }\n",
              "    </script>\n",
              "  </div>\n",
              "\n",
              "\n",
              "<div id=\"df-c3e7228c-a224-4ee8-bd39-ccc76564ae42\">\n",
              "  <button class=\"colab-df-quickchart\" onclick=\"quickchart('df-c3e7228c-a224-4ee8-bd39-ccc76564ae42')\"\n",
              "            title=\"Suggest charts\"\n",
              "            style=\"display:none;\">\n",
              "\n",
              "<svg xmlns=\"http://www.w3.org/2000/svg\" height=\"24px\"viewBox=\"0 0 24 24\"\n",
              "     width=\"24px\">\n",
              "    <g>\n",
              "        <path d=\"M19 3H5c-1.1 0-2 .9-2 2v14c0 1.1.9 2 2 2h14c1.1 0 2-.9 2-2V5c0-1.1-.9-2-2-2zM9 17H7v-7h2v7zm4 0h-2V7h2v10zm4 0h-2v-4h2v4z\"/>\n",
              "    </g>\n",
              "</svg>\n",
              "  </button>\n",
              "\n",
              "<style>\n",
              "  .colab-df-quickchart {\n",
              "      --bg-color: #E8F0FE;\n",
              "      --fill-color: #1967D2;\n",
              "      --hover-bg-color: #E2EBFA;\n",
              "      --hover-fill-color: #174EA6;\n",
              "      --disabled-fill-color: #AAA;\n",
              "      --disabled-bg-color: #DDD;\n",
              "  }\n",
              "\n",
              "  [theme=dark] .colab-df-quickchart {\n",
              "      --bg-color: #3B4455;\n",
              "      --fill-color: #D2E3FC;\n",
              "      --hover-bg-color: #434B5C;\n",
              "      --hover-fill-color: #FFFFFF;\n",
              "      --disabled-bg-color: #3B4455;\n",
              "      --disabled-fill-color: #666;\n",
              "  }\n",
              "\n",
              "  .colab-df-quickchart {\n",
              "    background-color: var(--bg-color);\n",
              "    border: none;\n",
              "    border-radius: 50%;\n",
              "    cursor: pointer;\n",
              "    display: none;\n",
              "    fill: var(--fill-color);\n",
              "    height: 32px;\n",
              "    padding: 0;\n",
              "    width: 32px;\n",
              "  }\n",
              "\n",
              "  .colab-df-quickchart:hover {\n",
              "    background-color: var(--hover-bg-color);\n",
              "    box-shadow: 0 1px 2px rgba(60, 64, 67, 0.3), 0 1px 3px 1px rgba(60, 64, 67, 0.15);\n",
              "    fill: var(--button-hover-fill-color);\n",
              "  }\n",
              "\n",
              "  .colab-df-quickchart-complete:disabled,\n",
              "  .colab-df-quickchart-complete:disabled:hover {\n",
              "    background-color: var(--disabled-bg-color);\n",
              "    fill: var(--disabled-fill-color);\n",
              "    box-shadow: none;\n",
              "  }\n",
              "\n",
              "  .colab-df-spinner {\n",
              "    border: 2px solid var(--fill-color);\n",
              "    border-color: transparent;\n",
              "    border-bottom-color: var(--fill-color);\n",
              "    animation:\n",
              "      spin 1s steps(1) infinite;\n",
              "  }\n",
              "\n",
              "  @keyframes spin {\n",
              "    0% {\n",
              "      border-color: transparent;\n",
              "      border-bottom-color: var(--fill-color);\n",
              "      border-left-color: var(--fill-color);\n",
              "    }\n",
              "    20% {\n",
              "      border-color: transparent;\n",
              "      border-left-color: var(--fill-color);\n",
              "      border-top-color: var(--fill-color);\n",
              "    }\n",
              "    30% {\n",
              "      border-color: transparent;\n",
              "      border-left-color: var(--fill-color);\n",
              "      border-top-color: var(--fill-color);\n",
              "      border-right-color: var(--fill-color);\n",
              "    }\n",
              "    40% {\n",
              "      border-color: transparent;\n",
              "      border-right-color: var(--fill-color);\n",
              "      border-top-color: var(--fill-color);\n",
              "    }\n",
              "    60% {\n",
              "      border-color: transparent;\n",
              "      border-right-color: var(--fill-color);\n",
              "    }\n",
              "    80% {\n",
              "      border-color: transparent;\n",
              "      border-right-color: var(--fill-color);\n",
              "      border-bottom-color: var(--fill-color);\n",
              "    }\n",
              "    90% {\n",
              "      border-color: transparent;\n",
              "      border-bottom-color: var(--fill-color);\n",
              "    }\n",
              "  }\n",
              "</style>\n",
              "\n",
              "  <script>\n",
              "    async function quickchart(key) {\n",
              "      const quickchartButtonEl =\n",
              "        document.querySelector('#' + key + ' button');\n",
              "      quickchartButtonEl.disabled = true;  // To prevent multiple clicks.\n",
              "      quickchartButtonEl.classList.add('colab-df-spinner');\n",
              "      try {\n",
              "        const charts = await google.colab.kernel.invokeFunction(\n",
              "            'suggestCharts', [key], {});\n",
              "      } catch (error) {\n",
              "        console.error('Error during call to suggestCharts:', error);\n",
              "      }\n",
              "      quickchartButtonEl.classList.remove('colab-df-spinner');\n",
              "      quickchartButtonEl.classList.add('colab-df-quickchart-complete');\n",
              "    }\n",
              "    (() => {\n",
              "      let quickchartButtonEl =\n",
              "        document.querySelector('#df-c3e7228c-a224-4ee8-bd39-ccc76564ae42 button');\n",
              "      quickchartButtonEl.style.display =\n",
              "        google.colab.kernel.accessAllowed ? 'block' : 'none';\n",
              "    })();\n",
              "  </script>\n",
              "</div>\n",
              "\n",
              "    </div>\n",
              "  </div>\n"
            ],
            "application/vnd.google.colaboratory.intrinsic+json": {
              "type": "dataframe",
              "variable_name": "data",
              "summary": "{\n  \"name\": \"data\",\n  \"rows\": 462,\n  \"fields\": [\n    {\n      \"column\": \"row.names\",\n      \"properties\": {\n        \"dtype\": \"number\",\n        \"std\": 133,\n        \"min\": 1,\n        \"max\": 463,\n        \"num_unique_values\": 462,\n        \"samples\": [\n          226,\n          31,\n          40\n        ],\n        \"semantic_type\": \"\",\n        \"description\": \"\"\n      }\n    },\n    {\n      \"column\": \"sbp\",\n      \"properties\": {\n        \"dtype\": \"number\",\n        \"std\": 20,\n        \"min\": 101,\n        \"max\": 218,\n        \"num_unique_values\": 62,\n        \"samples\": [\n          176,\n          178,\n          160\n        ],\n        \"semantic_type\": \"\",\n        \"description\": \"\"\n      }\n    },\n    {\n      \"column\": \"tobacco\",\n      \"properties\": {\n        \"dtype\": \"number\",\n        \"std\": 4.593024078404592,\n        \"min\": 0.0,\n        \"max\": 31.2,\n        \"num_unique_values\": 214,\n        \"samples\": [\n          6.0,\n          2.38,\n          3.7\n        ],\n        \"semantic_type\": \"\",\n        \"description\": \"\"\n      }\n    },\n    {\n      \"column\": \"ldl\",\n      \"properties\": {\n        \"dtype\": \"number\",\n        \"std\": 2.0709091610593253,\n        \"min\": 0.98,\n        \"max\": 15.33,\n        \"num_unique_values\": 329,\n        \"samples\": [\n          5.8,\n          6.58,\n          5.13\n        ],\n        \"semantic_type\": \"\",\n        \"description\": \"\"\n      }\n    },\n    {\n      \"column\": \"adiposity\",\n      \"properties\": {\n        \"dtype\": \"number\",\n        \"std\": 7.7806985958397625,\n        \"min\": 6.74,\n        \"max\": 42.49,\n        \"num_unique_values\": 408,\n        \"samples\": [\n          26.35,\n          27.68,\n          33.23\n        ],\n        \"semantic_type\": \"\",\n        \"description\": \"\"\n      }\n    },\n    {\n      \"column\": \"famhist\",\n      \"properties\": {\n        \"dtype\": \"category\",\n        \"num_unique_values\": 2,\n        \"samples\": [\n          \"Absent\",\n          \"Present\"\n        ],\n        \"semantic_type\": \"\",\n        \"description\": \"\"\n      }\n    },\n    {\n      \"column\": \"typea\",\n      \"properties\": {\n        \"dtype\": \"number\",\n        \"std\": 9,\n        \"min\": 13,\n        \"max\": 78,\n        \"num_unique_values\": 54,\n        \"samples\": [\n          57,\n          20\n        ],\n        \"semantic_type\": \"\",\n        \"description\": \"\"\n      }\n    },\n    {\n      \"column\": \"obesity\",\n      \"properties\": {\n        \"dtype\": \"number\",\n        \"std\": 4.2136802268977664,\n        \"min\": 14.7,\n        \"max\": 46.58,\n        \"num_unique_values\": 400,\n        \"samples\": [\n          19.48,\n          24.32\n        ],\n        \"semantic_type\": \"\",\n        \"description\": \"\"\n      }\n    },\n    {\n      \"column\": \"alcohol\",\n      \"properties\": {\n        \"dtype\": \"number\",\n        \"std\": 24.481058691658575,\n        \"min\": 0.0,\n        \"max\": 147.19,\n        \"num_unique_values\": 249,\n        \"samples\": [\n          7.85,\n          2.62\n        ],\n        \"semantic_type\": \"\",\n        \"description\": \"\"\n      }\n    },\n    {\n      \"column\": \"age\",\n      \"properties\": {\n        \"dtype\": \"number\",\n        \"std\": 14,\n        \"min\": 15,\n        \"max\": 64,\n        \"num_unique_values\": 49,\n        \"samples\": [\n          62,\n          47\n        ],\n        \"semantic_type\": \"\",\n        \"description\": \"\"\n      }\n    },\n    {\n      \"column\": \"chd\",\n      \"properties\": {\n        \"dtype\": \"number\",\n        \"std\": 0,\n        \"min\": 0,\n        \"max\": 1,\n        \"num_unique_values\": 2,\n        \"samples\": [\n          0,\n          1\n        ],\n        \"semantic_type\": \"\",\n        \"description\": \"\"\n      }\n    }\n  ]\n}"
            }
          },
          "metadata": {},
          "execution_count": 7
        }
      ]
    },
    {
      "cell_type": "markdown",
      "source": [
        "Tenemos una baja cantidad de filas, así que podemos sospechar que habrán problemas a la hora de entrenar el modelo (sesgos en la cantidad de positivos o negativos)"
      ],
      "metadata": {
        "id": "Lbw7PktTnhlh"
      }
    },
    {
      "cell_type": "code",
      "source": [
        "print(data.nunique()) #Diferentes tipos de valores por columna"
      ],
      "metadata": {
        "id": "CTuuVVGXZCZZ",
        "colab": {
          "base_uri": "https://localhost:8080/"
        },
        "outputId": "b8e99fd5-9333-4d6d-fe2a-099b8392d2c6"
      },
      "execution_count": null,
      "outputs": [
        {
          "output_type": "stream",
          "name": "stdout",
          "text": [
            "row.names    462\n",
            "sbp           62\n",
            "tobacco      214\n",
            "ldl          329\n",
            "adiposity    408\n",
            "famhist        2\n",
            "typea         54\n",
            "obesity      400\n",
            "alcohol      249\n",
            "age           49\n",
            "chd            2\n",
            "dtype: int64\n"
          ]
        }
      ]
    },
    {
      "cell_type": "markdown",
      "source": [
        "Se procede a eliminar el nombre de la fila dado que es innecesario para el modelo"
      ],
      "metadata": {
        "id": "aoJo1PH3l9yt"
      }
    },
    {
      "cell_type": "code",
      "source": [
        "data = data.drop(['row.names'], axis=1)"
      ],
      "metadata": {
        "id": "EE3VAlr-RYnd"
      },
      "execution_count": null,
      "outputs": []
    },
    {
      "cell_type": "markdown",
      "source": [
        "Además, se cambia el tipo de variable de famhist, de categórica a numérica, por medio de 1's y 0's, 1 si está presente y 0 si es ausente."
      ],
      "metadata": {
        "id": "mTSiUsWHmEF-"
      }
    },
    {
      "cell_type": "code",
      "source": [
        "data['famhist'] = data['famhist'].replace({'Present': 1, 'Absent': 0})"
      ],
      "metadata": {
        "id": "xX5r2PptQsbj"
      },
      "execution_count": null,
      "outputs": []
    },
    {
      "cell_type": "code",
      "source": [
        "data.describe() #Ver la información completa del dataset"
      ],
      "metadata": {
        "id": "IqURzBncZSmy",
        "colab": {
          "base_uri": "https://localhost:8080/",
          "height": 300
        },
        "outputId": "73f92823-7b06-43c8-aa7a-6c975db4fca0"
      },
      "execution_count": null,
      "outputs": [
        {
          "output_type": "execute_result",
          "data": {
            "text/plain": [
              "              sbp     tobacco         ldl   adiposity     famhist       typea  \\\n",
              "count  462.000000  462.000000  462.000000  462.000000  462.000000  462.000000   \n",
              "mean   138.326840    3.635649    4.740325   25.406732    0.415584   53.103896   \n",
              "std     20.496317    4.593024    2.070909    7.780699    0.493357    9.817534   \n",
              "min    101.000000    0.000000    0.980000    6.740000    0.000000   13.000000   \n",
              "25%    124.000000    0.052500    3.282500   19.775000    0.000000   47.000000   \n",
              "50%    134.000000    2.000000    4.340000   26.115000    0.000000   53.000000   \n",
              "75%    148.000000    5.500000    5.790000   31.227500    1.000000   60.000000   \n",
              "max    218.000000   31.200000   15.330000   42.490000    1.000000   78.000000   \n",
              "\n",
              "          obesity     alcohol         age         chd  \n",
              "count  462.000000  462.000000  462.000000  462.000000  \n",
              "mean    26.044113   17.044394   42.816017    0.346320  \n",
              "std      4.213680   24.481059   14.608956    0.476313  \n",
              "min     14.700000    0.000000   15.000000    0.000000  \n",
              "25%     22.985000    0.510000   31.000000    0.000000  \n",
              "50%     25.805000    7.510000   45.000000    0.000000  \n",
              "75%     28.497500   23.892500   55.000000    1.000000  \n",
              "max     46.580000  147.190000   64.000000    1.000000  "
            ],
            "text/html": [
              "\n",
              "  <div id=\"df-2261fbfe-49eb-43d3-b0ef-db729bb28771\" class=\"colab-df-container\">\n",
              "    <div>\n",
              "<style scoped>\n",
              "    .dataframe tbody tr th:only-of-type {\n",
              "        vertical-align: middle;\n",
              "    }\n",
              "\n",
              "    .dataframe tbody tr th {\n",
              "        vertical-align: top;\n",
              "    }\n",
              "\n",
              "    .dataframe thead th {\n",
              "        text-align: right;\n",
              "    }\n",
              "</style>\n",
              "<table border=\"1\" class=\"dataframe\">\n",
              "  <thead>\n",
              "    <tr style=\"text-align: right;\">\n",
              "      <th></th>\n",
              "      <th>sbp</th>\n",
              "      <th>tobacco</th>\n",
              "      <th>ldl</th>\n",
              "      <th>adiposity</th>\n",
              "      <th>famhist</th>\n",
              "      <th>typea</th>\n",
              "      <th>obesity</th>\n",
              "      <th>alcohol</th>\n",
              "      <th>age</th>\n",
              "      <th>chd</th>\n",
              "    </tr>\n",
              "  </thead>\n",
              "  <tbody>\n",
              "    <tr>\n",
              "      <th>count</th>\n",
              "      <td>462.000000</td>\n",
              "      <td>462.000000</td>\n",
              "      <td>462.000000</td>\n",
              "      <td>462.000000</td>\n",
              "      <td>462.000000</td>\n",
              "      <td>462.000000</td>\n",
              "      <td>462.000000</td>\n",
              "      <td>462.000000</td>\n",
              "      <td>462.000000</td>\n",
              "      <td>462.000000</td>\n",
              "    </tr>\n",
              "    <tr>\n",
              "      <th>mean</th>\n",
              "      <td>138.326840</td>\n",
              "      <td>3.635649</td>\n",
              "      <td>4.740325</td>\n",
              "      <td>25.406732</td>\n",
              "      <td>0.415584</td>\n",
              "      <td>53.103896</td>\n",
              "      <td>26.044113</td>\n",
              "      <td>17.044394</td>\n",
              "      <td>42.816017</td>\n",
              "      <td>0.346320</td>\n",
              "    </tr>\n",
              "    <tr>\n",
              "      <th>std</th>\n",
              "      <td>20.496317</td>\n",
              "      <td>4.593024</td>\n",
              "      <td>2.070909</td>\n",
              "      <td>7.780699</td>\n",
              "      <td>0.493357</td>\n",
              "      <td>9.817534</td>\n",
              "      <td>4.213680</td>\n",
              "      <td>24.481059</td>\n",
              "      <td>14.608956</td>\n",
              "      <td>0.476313</td>\n",
              "    </tr>\n",
              "    <tr>\n",
              "      <th>min</th>\n",
              "      <td>101.000000</td>\n",
              "      <td>0.000000</td>\n",
              "      <td>0.980000</td>\n",
              "      <td>6.740000</td>\n",
              "      <td>0.000000</td>\n",
              "      <td>13.000000</td>\n",
              "      <td>14.700000</td>\n",
              "      <td>0.000000</td>\n",
              "      <td>15.000000</td>\n",
              "      <td>0.000000</td>\n",
              "    </tr>\n",
              "    <tr>\n",
              "      <th>25%</th>\n",
              "      <td>124.000000</td>\n",
              "      <td>0.052500</td>\n",
              "      <td>3.282500</td>\n",
              "      <td>19.775000</td>\n",
              "      <td>0.000000</td>\n",
              "      <td>47.000000</td>\n",
              "      <td>22.985000</td>\n",
              "      <td>0.510000</td>\n",
              "      <td>31.000000</td>\n",
              "      <td>0.000000</td>\n",
              "    </tr>\n",
              "    <tr>\n",
              "      <th>50%</th>\n",
              "      <td>134.000000</td>\n",
              "      <td>2.000000</td>\n",
              "      <td>4.340000</td>\n",
              "      <td>26.115000</td>\n",
              "      <td>0.000000</td>\n",
              "      <td>53.000000</td>\n",
              "      <td>25.805000</td>\n",
              "      <td>7.510000</td>\n",
              "      <td>45.000000</td>\n",
              "      <td>0.000000</td>\n",
              "    </tr>\n",
              "    <tr>\n",
              "      <th>75%</th>\n",
              "      <td>148.000000</td>\n",
              "      <td>5.500000</td>\n",
              "      <td>5.790000</td>\n",
              "      <td>31.227500</td>\n",
              "      <td>1.000000</td>\n",
              "      <td>60.000000</td>\n",
              "      <td>28.497500</td>\n",
              "      <td>23.892500</td>\n",
              "      <td>55.000000</td>\n",
              "      <td>1.000000</td>\n",
              "    </tr>\n",
              "    <tr>\n",
              "      <th>max</th>\n",
              "      <td>218.000000</td>\n",
              "      <td>31.200000</td>\n",
              "      <td>15.330000</td>\n",
              "      <td>42.490000</td>\n",
              "      <td>1.000000</td>\n",
              "      <td>78.000000</td>\n",
              "      <td>46.580000</td>\n",
              "      <td>147.190000</td>\n",
              "      <td>64.000000</td>\n",
              "      <td>1.000000</td>\n",
              "    </tr>\n",
              "  </tbody>\n",
              "</table>\n",
              "</div>\n",
              "    <div class=\"colab-df-buttons\">\n",
              "\n",
              "  <div class=\"colab-df-container\">\n",
              "    <button class=\"colab-df-convert\" onclick=\"convertToInteractive('df-2261fbfe-49eb-43d3-b0ef-db729bb28771')\"\n",
              "            title=\"Convert this dataframe to an interactive table.\"\n",
              "            style=\"display:none;\">\n",
              "\n",
              "  <svg xmlns=\"http://www.w3.org/2000/svg\" height=\"24px\" viewBox=\"0 -960 960 960\">\n",
              "    <path d=\"M120-120v-720h720v720H120Zm60-500h600v-160H180v160Zm220 220h160v-160H400v160Zm0 220h160v-160H400v160ZM180-400h160v-160H180v160Zm440 0h160v-160H620v160ZM180-180h160v-160H180v160Zm440 0h160v-160H620v160Z\"/>\n",
              "  </svg>\n",
              "    </button>\n",
              "\n",
              "  <style>\n",
              "    .colab-df-container {\n",
              "      display:flex;\n",
              "      gap: 12px;\n",
              "    }\n",
              "\n",
              "    .colab-df-convert {\n",
              "      background-color: #E8F0FE;\n",
              "      border: none;\n",
              "      border-radius: 50%;\n",
              "      cursor: pointer;\n",
              "      display: none;\n",
              "      fill: #1967D2;\n",
              "      height: 32px;\n",
              "      padding: 0 0 0 0;\n",
              "      width: 32px;\n",
              "    }\n",
              "\n",
              "    .colab-df-convert:hover {\n",
              "      background-color: #E2EBFA;\n",
              "      box-shadow: 0px 1px 2px rgba(60, 64, 67, 0.3), 0px 1px 3px 1px rgba(60, 64, 67, 0.15);\n",
              "      fill: #174EA6;\n",
              "    }\n",
              "\n",
              "    .colab-df-buttons div {\n",
              "      margin-bottom: 4px;\n",
              "    }\n",
              "\n",
              "    [theme=dark] .colab-df-convert {\n",
              "      background-color: #3B4455;\n",
              "      fill: #D2E3FC;\n",
              "    }\n",
              "\n",
              "    [theme=dark] .colab-df-convert:hover {\n",
              "      background-color: #434B5C;\n",
              "      box-shadow: 0px 1px 3px 1px rgba(0, 0, 0, 0.15);\n",
              "      filter: drop-shadow(0px 1px 2px rgba(0, 0, 0, 0.3));\n",
              "      fill: #FFFFFF;\n",
              "    }\n",
              "  </style>\n",
              "\n",
              "    <script>\n",
              "      const buttonEl =\n",
              "        document.querySelector('#df-2261fbfe-49eb-43d3-b0ef-db729bb28771 button.colab-df-convert');\n",
              "      buttonEl.style.display =\n",
              "        google.colab.kernel.accessAllowed ? 'block' : 'none';\n",
              "\n",
              "      async function convertToInteractive(key) {\n",
              "        const element = document.querySelector('#df-2261fbfe-49eb-43d3-b0ef-db729bb28771');\n",
              "        const dataTable =\n",
              "          await google.colab.kernel.invokeFunction('convertToInteractive',\n",
              "                                                    [key], {});\n",
              "        if (!dataTable) return;\n",
              "\n",
              "        const docLinkHtml = 'Like what you see? Visit the ' +\n",
              "          '<a target=\"_blank\" href=https://colab.research.google.com/notebooks/data_table.ipynb>data table notebook</a>'\n",
              "          + ' to learn more about interactive tables.';\n",
              "        element.innerHTML = '';\n",
              "        dataTable['output_type'] = 'display_data';\n",
              "        await google.colab.output.renderOutput(dataTable, element);\n",
              "        const docLink = document.createElement('div');\n",
              "        docLink.innerHTML = docLinkHtml;\n",
              "        element.appendChild(docLink);\n",
              "      }\n",
              "    </script>\n",
              "  </div>\n",
              "\n",
              "\n",
              "<div id=\"df-dc2afd4c-616d-415d-8704-8d84bb5ba409\">\n",
              "  <button class=\"colab-df-quickchart\" onclick=\"quickchart('df-dc2afd4c-616d-415d-8704-8d84bb5ba409')\"\n",
              "            title=\"Suggest charts\"\n",
              "            style=\"display:none;\">\n",
              "\n",
              "<svg xmlns=\"http://www.w3.org/2000/svg\" height=\"24px\"viewBox=\"0 0 24 24\"\n",
              "     width=\"24px\">\n",
              "    <g>\n",
              "        <path d=\"M19 3H5c-1.1 0-2 .9-2 2v14c0 1.1.9 2 2 2h14c1.1 0 2-.9 2-2V5c0-1.1-.9-2-2-2zM9 17H7v-7h2v7zm4 0h-2V7h2v10zm4 0h-2v-4h2v4z\"/>\n",
              "    </g>\n",
              "</svg>\n",
              "  </button>\n",
              "\n",
              "<style>\n",
              "  .colab-df-quickchart {\n",
              "      --bg-color: #E8F0FE;\n",
              "      --fill-color: #1967D2;\n",
              "      --hover-bg-color: #E2EBFA;\n",
              "      --hover-fill-color: #174EA6;\n",
              "      --disabled-fill-color: #AAA;\n",
              "      --disabled-bg-color: #DDD;\n",
              "  }\n",
              "\n",
              "  [theme=dark] .colab-df-quickchart {\n",
              "      --bg-color: #3B4455;\n",
              "      --fill-color: #D2E3FC;\n",
              "      --hover-bg-color: #434B5C;\n",
              "      --hover-fill-color: #FFFFFF;\n",
              "      --disabled-bg-color: #3B4455;\n",
              "      --disabled-fill-color: #666;\n",
              "  }\n",
              "\n",
              "  .colab-df-quickchart {\n",
              "    background-color: var(--bg-color);\n",
              "    border: none;\n",
              "    border-radius: 50%;\n",
              "    cursor: pointer;\n",
              "    display: none;\n",
              "    fill: var(--fill-color);\n",
              "    height: 32px;\n",
              "    padding: 0;\n",
              "    width: 32px;\n",
              "  }\n",
              "\n",
              "  .colab-df-quickchart:hover {\n",
              "    background-color: var(--hover-bg-color);\n",
              "    box-shadow: 0 1px 2px rgba(60, 64, 67, 0.3), 0 1px 3px 1px rgba(60, 64, 67, 0.15);\n",
              "    fill: var(--button-hover-fill-color);\n",
              "  }\n",
              "\n",
              "  .colab-df-quickchart-complete:disabled,\n",
              "  .colab-df-quickchart-complete:disabled:hover {\n",
              "    background-color: var(--disabled-bg-color);\n",
              "    fill: var(--disabled-fill-color);\n",
              "    box-shadow: none;\n",
              "  }\n",
              "\n",
              "  .colab-df-spinner {\n",
              "    border: 2px solid var(--fill-color);\n",
              "    border-color: transparent;\n",
              "    border-bottom-color: var(--fill-color);\n",
              "    animation:\n",
              "      spin 1s steps(1) infinite;\n",
              "  }\n",
              "\n",
              "  @keyframes spin {\n",
              "    0% {\n",
              "      border-color: transparent;\n",
              "      border-bottom-color: var(--fill-color);\n",
              "      border-left-color: var(--fill-color);\n",
              "    }\n",
              "    20% {\n",
              "      border-color: transparent;\n",
              "      border-left-color: var(--fill-color);\n",
              "      border-top-color: var(--fill-color);\n",
              "    }\n",
              "    30% {\n",
              "      border-color: transparent;\n",
              "      border-left-color: var(--fill-color);\n",
              "      border-top-color: var(--fill-color);\n",
              "      border-right-color: var(--fill-color);\n",
              "    }\n",
              "    40% {\n",
              "      border-color: transparent;\n",
              "      border-right-color: var(--fill-color);\n",
              "      border-top-color: var(--fill-color);\n",
              "    }\n",
              "    60% {\n",
              "      border-color: transparent;\n",
              "      border-right-color: var(--fill-color);\n",
              "    }\n",
              "    80% {\n",
              "      border-color: transparent;\n",
              "      border-right-color: var(--fill-color);\n",
              "      border-bottom-color: var(--fill-color);\n",
              "    }\n",
              "    90% {\n",
              "      border-color: transparent;\n",
              "      border-bottom-color: var(--fill-color);\n",
              "    }\n",
              "  }\n",
              "</style>\n",
              "\n",
              "  <script>\n",
              "    async function quickchart(key) {\n",
              "      const quickchartButtonEl =\n",
              "        document.querySelector('#' + key + ' button');\n",
              "      quickchartButtonEl.disabled = true;  // To prevent multiple clicks.\n",
              "      quickchartButtonEl.classList.add('colab-df-spinner');\n",
              "      try {\n",
              "        const charts = await google.colab.kernel.invokeFunction(\n",
              "            'suggestCharts', [key], {});\n",
              "      } catch (error) {\n",
              "        console.error('Error during call to suggestCharts:', error);\n",
              "      }\n",
              "      quickchartButtonEl.classList.remove('colab-df-spinner');\n",
              "      quickchartButtonEl.classList.add('colab-df-quickchart-complete');\n",
              "    }\n",
              "    (() => {\n",
              "      let quickchartButtonEl =\n",
              "        document.querySelector('#df-dc2afd4c-616d-415d-8704-8d84bb5ba409 button');\n",
              "      quickchartButtonEl.style.display =\n",
              "        google.colab.kernel.accessAllowed ? 'block' : 'none';\n",
              "    })();\n",
              "  </script>\n",
              "</div>\n",
              "\n",
              "    </div>\n",
              "  </div>\n"
            ],
            "application/vnd.google.colaboratory.intrinsic+json": {
              "type": "dataframe",
              "summary": "{\n  \"name\": \"data\",\n  \"rows\": 8,\n  \"fields\": [\n    {\n      \"column\": \"sbp\",\n      \"properties\": {\n        \"dtype\": \"number\",\n        \"std\": 130.68742282570946,\n        \"min\": 20.496317175467627,\n        \"max\": 462.0,\n        \"num_unique_values\": 8,\n        \"samples\": [\n          138.32683982683983,\n          134.0,\n          462.0\n        ],\n        \"semantic_type\": \"\",\n        \"description\": \"\"\n      }\n    },\n    {\n      \"column\": \"tobacco\",\n      \"properties\": {\n        \"dtype\": \"number\",\n        \"std\": 161.29089833920912,\n        \"min\": 0.0,\n        \"max\": 462.0,\n        \"num_unique_values\": 8,\n        \"samples\": [\n          3.635649350649351,\n          2.0,\n          462.0\n        ],\n        \"semantic_type\": \"\",\n        \"description\": \"\"\n      }\n    },\n    {\n      \"column\": \"ldl\",\n      \"properties\": {\n        \"dtype\": \"number\",\n        \"std\": 161.55621652160278,\n        \"min\": 0.98,\n        \"max\": 462.0,\n        \"num_unique_values\": 8,\n        \"samples\": [\n          4.740324675324675,\n          4.34,\n          462.0\n        ],\n        \"semantic_type\": \"\",\n        \"description\": \"\"\n      }\n    },\n    {\n      \"column\": \"adiposity\",\n      \"properties\": {\n        \"dtype\": \"number\",\n        \"std\": 155.72909669661664,\n        \"min\": 6.74,\n        \"max\": 462.0,\n        \"num_unique_values\": 8,\n        \"samples\": [\n          25.4067316017316,\n          26.115000000000002,\n          462.0\n        ],\n        \"semantic_type\": \"\",\n        \"description\": \"\"\n      }\n    },\n    {\n      \"column\": \"famhist\",\n      \"properties\": {\n        \"dtype\": \"number\",\n        \"std\": 163.19527114475156,\n        \"min\": 0.0,\n        \"max\": 462.0,\n        \"num_unique_values\": 5,\n        \"samples\": [\n          0.4155844155844156,\n          1.0,\n          0.4933567175747401\n        ],\n        \"semantic_type\": \"\",\n        \"description\": \"\"\n      }\n    },\n    {\n      \"column\": \"typea\",\n      \"properties\": {\n        \"dtype\": \"number\",\n        \"std\": 149.27187541208806,\n        \"min\": 9.817534115584078,\n        \"max\": 462.0,\n        \"num_unique_values\": 8,\n        \"samples\": [\n          53.103896103896105,\n          53.0,\n          462.0\n        ],\n        \"semantic_type\": \"\",\n        \"description\": \"\"\n      }\n    },\n    {\n      \"column\": \"obesity\",\n      \"properties\": {\n        \"dtype\": \"number\",\n        \"std\": 155.28296029438135,\n        \"min\": 4.2136802268977664,\n        \"max\": 462.0,\n        \"num_unique_values\": 8,\n        \"samples\": [\n          26.04411255411255,\n          25.805,\n          462.0\n        ],\n        \"semantic_type\": \"\",\n        \"description\": \"\"\n      }\n    },\n    {\n      \"column\": \"alcohol\",\n      \"properties\": {\n        \"dtype\": \"number\",\n        \"std\": 159.63289414041645,\n        \"min\": 0.0,\n        \"max\": 462.0,\n        \"num_unique_values\": 8,\n        \"samples\": [\n          17.044393939393935,\n          7.51,\n          462.0\n        ],\n        \"semantic_type\": \"\",\n        \"description\": \"\"\n      }\n    },\n    {\n      \"column\": \"age\",\n      \"properties\": {\n        \"dtype\": \"number\",\n        \"std\": 150.86182604527482,\n        \"min\": 14.608956444552494,\n        \"max\": 462.0,\n        \"num_unique_values\": 8,\n        \"samples\": [\n          42.816017316017316,\n          45.0,\n          462.0\n        ],\n        \"semantic_type\": \"\",\n        \"description\": \"\"\n      }\n    },\n    {\n      \"column\": \"chd\",\n      \"properties\": {\n        \"dtype\": \"number\",\n        \"std\": 163.19963095476027,\n        \"min\": 0.0,\n        \"max\": 462.0,\n        \"num_unique_values\": 5,\n        \"samples\": [\n          0.3463203463203463,\n          1.0,\n          0.4763125365907827\n        ],\n        \"semantic_type\": \"\",\n        \"description\": \"\"\n      }\n    }\n  ]\n}"
            }
          },
          "metadata": {},
          "execution_count": 14
        }
      ]
    },
    {
      "cell_type": "code",
      "source": [
        "#Tipos de datos\n",
        "categorical_data = data.select_dtypes(include=object)\n",
        "print(categorical_data.columns)\n",
        "numeric_data = data.select_dtypes(include=np.number)\n",
        "print(numeric_data.columns)"
      ],
      "metadata": {
        "id": "LTRJa9IAZujT",
        "colab": {
          "base_uri": "https://localhost:8080/"
        },
        "outputId": "f5539b16-a588-407a-8b7b-474e9efeb0c6"
      },
      "execution_count": null,
      "outputs": [
        {
          "output_type": "stream",
          "name": "stdout",
          "text": [
            "Index([], dtype='object')\n",
            "Index(['sbp', 'tobacco', 'ldl', 'adiposity', 'famhist', 'typea', 'obesity',\n",
            "       'alcohol', 'age', 'chd'],\n",
            "      dtype='object')\n"
          ]
        }
      ]
    },
    {
      "cell_type": "markdown",
      "source": [
        "Con el cambio realizado anteriormente, podemos observar que todas las variables terminan siendo numéricas, por lo que sirven para entrenar el modelo."
      ],
      "metadata": {
        "id": "MO3y-Ctvmqmk"
      }
    },
    {
      "cell_type": "code",
      "source": [
        "#Visualización de la matriz de correlación\n",
        "correlation_matrix = data.corr()\n",
        "plt.figure(figsize=(10, 8))\n",
        "sns.heatmap(correlation_matrix, annot=True, cmap='coolwarm', fmt=\".2f\", linewidths=0.5)\n",
        "plt.title('Correlation Heatmap')\n",
        "plt.show()"
      ],
      "metadata": {
        "id": "1x7Fvq8JZMES",
        "colab": {
          "base_uri": "https://localhost:8080/",
          "height": 699
        },
        "outputId": "0d2eb0f5-4037-4228-de90-66f456bcd902"
      },
      "execution_count": null,
      "outputs": [
        {
          "output_type": "display_data",
          "data": {
            "text/plain": [
              "<Figure size 1000x800 with 2 Axes>"
            ],
            "image/png": "[encoded data removed]"
          },
          "metadata": {}
        }
      ]
    },
    {
      "cell_type": "markdown",
      "source": [
        "Como la adiposidad y la obesidad están muy relacionadas, entonces se eliminará una de las dos con el fin de quitar carga al modelo a la hora de entrenarlo."
      ],
      "metadata": {
        "id": "8K4aa06_n6gF"
      }
    },
    {
      "cell_type": "markdown",
      "source": [
        "## **Insights**"
      ],
      "metadata": {
        "id": "ViCggnzCZo4M"
      }
    },
    {
      "cell_type": "code",
      "source": [
        "plt.figure(figsize=(12, 10))\n",
        "for i, feature in enumerate(data.columns):\n",
        "    plt.subplot(3, 3, i+1)\n",
        "    plt.hist(df[feature], bins=20)\n",
        "    plt.title(f'Distribución de {feature}')\n",
        "    plt.xlabel(feature)\n",
        "    plt.ylabel('Frecuencia')\n",
        "plt.tight_layout()\n",
        "plt.show()"
      ],
      "metadata": {
        "id": "GyEXumaiZ2cs"
      },
      "execution_count": null,
      "outputs": []
    },
    {
      "cell_type": "code",
      "source": [
        "plt.figure(figsize=(8, 6))\n",
        "sns.histplot(data=data, x='Glucose', hue='Diagnosis', kde=True, bins=30,  multiple='stack',  palette='muted')\n",
        "plt.title('Distribución de Glucose por Diagnosis')\n",
        "plt.xlabel('Glucose')\n",
        "plt.ylabel('Frecuencia')\n",
        "plt.legend(['No Diabetes', 'Diabetes'])\n",
        "plt.show()"
      ],
      "metadata": {
        "id": "15M4VeJBZ29l"
      },
      "execution_count": null,
      "outputs": []
    },
    {
      "cell_type": "markdown",
      "source": [
        "## **Modelos de regresión**"
      ],
      "metadata": {
        "id": "tYgwVgAvZ_yd"
      }
    },
    {
      "cell_type": "markdown",
      "source": [
        "Previo al uso de cualquier modelo, dividimos los datos en train y test con su debida estandarización, además, quitamos la adiposidad dado que está muy relacionada con la obesidad, y lo mejor es no repetir información para no sesgar el modelo."
      ],
      "metadata": {
        "id": "2vYtqS4MbA9-"
      }
    },
    {
      "cell_type": "code",
      "source": [
        "X = data.drop(['chd', 'adiposity'],axis=1)\n",
        "y = data['chd']\n",
        "X_train, X_test, y_train, y_test = train_test_split(X, y, test_size=0.2, random_state=911)\n",
        "sc = StandardScaler()\n",
        "X_train_sc = sc.fit_transform(X_train)\n",
        "X_test_sc = sc.transform(X_test)"
      ],
      "metadata": {
        "id": "64pOaETAafn0"
      },
      "execution_count": null,
      "outputs": []
    },
    {
      "cell_type": "code",
      "source": [
        "print(X_train.shape, X_test.shape)"
      ],
      "metadata": {
        "id": "FplKCyIrdCC8",
        "colab": {
          "base_uri": "https://localhost:8080/"
        },
        "outputId": "0e5f46ee-ca37-49dd-a53d-ea04fe5e951a"
      },
      "execution_count": null,
      "outputs": [
        {
          "output_type": "stream",
          "name": "stdout",
          "text": [
            "(369, 8) (93, 8)\n"
          ]
        }
      ]
    },
    {
      "cell_type": "markdown",
      "source": [
        "## **Modelos de clasificación**"
      ],
      "metadata": {
        "id": "9NXUpPrWQCGE"
      }
    },
    {
      "cell_type": "markdown",
      "source": [
        "###**Arbol de clasificación**"
      ],
      "metadata": {
        "id": "BJwmpq2AcAzR"
      }
    },
    {
      "cell_type": "markdown",
      "source": [
        "previo a la creación del modelo final, veamos cuál es la mejor profundidad y el mejor criterio, sumado a la mejor división para cada criterio."
      ],
      "metadata": {
        "id": "NMt6T651d3bP"
      }
    },
    {
      "cell_type": "code",
      "source": [
        "criterions = ['gini', 'log_loss', 'entropy']\n",
        "s = ['best', 'random']\n",
        "\n",
        "#Usar diferentes profundidades para cada criterio y ver cuál es más preciso\n",
        "for j in range(2, 50, 2):\n",
        "  for sp in s:\n",
        "    for i in range(2, 20, 2):\n",
        "      for c in criterions:\n",
        "        tree = DecisionTreeClassifier(max_depth=i, criterion=c, splitter=sp, min_samples_split=j)\n",
        "        tree.fit(X_train_sc,y_train)\n",
        "        y_pred_tree = tree.predict(X_test_sc)\n",
        "        if accuracy_score(y_test,y_pred_tree) > 0.70 and sp == 'best':\n",
        "          print(f'La profundidad es: {i}, el criterio es: {c} y decisiones: {sp}, y min: {j}')\n",
        "          print(f'La precisión del modelo es: {accuracy_score(y_test,y_pred_tree)}', '\\n')"
      ],
      "metadata": {
        "id": "jlyGb_NHd2MP",
        "colab": {
          "base_uri": "https://localhost:8080/"
        },
        "outputId": "02f5b839-53ba-448a-a5fa-7681284a379c"
      },
      "execution_count": null,
      "outputs": [
        {
          "output_type": "stream",
          "name": "stdout",
          "text": [
            "La profundidad es: 6, el criterio es: log_loss y decisiones: best, y min: 6\n",
            "La precisión del modelo es: 0.7096774193548387 \n",
            "\n",
            "La profundidad es: 6, el criterio es: entropy y decisiones: best, y min: 6\n",
            "La precisión del modelo es: 0.7096774193548387 \n",
            "\n",
            "La profundidad es: 6, el criterio es: log_loss y decisiones: best, y min: 8\n",
            "La precisión del modelo es: 0.7096774193548387 \n",
            "\n",
            "La profundidad es: 6, el criterio es: entropy y decisiones: best, y min: 8\n",
            "La precisión del modelo es: 0.7096774193548387 \n",
            "\n",
            "La profundidad es: 6, el criterio es: log_loss y decisiones: best, y min: 10\n",
            "La precisión del modelo es: 0.7096774193548387 \n",
            "\n",
            "La profundidad es: 6, el criterio es: entropy y decisiones: best, y min: 10\n",
            "La precisión del modelo es: 0.7096774193548387 \n",
            "\n",
            "La profundidad es: 6, el criterio es: log_loss y decisiones: best, y min: 12\n",
            "La precisión del modelo es: 0.7096774193548387 \n",
            "\n",
            "La profundidad es: 6, el criterio es: entropy y decisiones: best, y min: 12\n",
            "La precisión del modelo es: 0.7096774193548387 \n",
            "\n",
            "La profundidad es: 6, el criterio es: log_loss y decisiones: best, y min: 22\n",
            "La precisión del modelo es: 0.7096774193548387 \n",
            "\n",
            "La profundidad es: 6, el criterio es: entropy y decisiones: best, y min: 22\n",
            "La precisión del modelo es: 0.7096774193548387 \n",
            "\n",
            "La profundidad es: 6, el criterio es: log_loss y decisiones: best, y min: 24\n",
            "La precisión del modelo es: 0.7096774193548387 \n",
            "\n",
            "La profundidad es: 6, el criterio es: entropy y decisiones: best, y min: 24\n",
            "La precisión del modelo es: 0.7096774193548387 \n",
            "\n",
            "La profundidad es: 6, el criterio es: log_loss y decisiones: best, y min: 26\n",
            "La precisión del modelo es: 0.7096774193548387 \n",
            "\n",
            "La profundidad es: 6, el criterio es: entropy y decisiones: best, y min: 26\n",
            "La precisión del modelo es: 0.7096774193548387 \n",
            "\n",
            "La profundidad es: 6, el criterio es: log_loss y decisiones: best, y min: 28\n",
            "La precisión del modelo es: 0.7096774193548387 \n",
            "\n",
            "La profundidad es: 6, el criterio es: entropy y decisiones: best, y min: 28\n",
            "La precisión del modelo es: 0.7096774193548387 \n",
            "\n",
            "La profundidad es: 6, el criterio es: log_loss y decisiones: best, y min: 30\n",
            "La precisión del modelo es: 0.7096774193548387 \n",
            "\n",
            "La profundidad es: 6, el criterio es: entropy y decisiones: best, y min: 30\n",
            "La precisión del modelo es: 0.7096774193548387 \n",
            "\n",
            "La profundidad es: 6, el criterio es: log_loss y decisiones: best, y min: 32\n",
            "La precisión del modelo es: 0.7096774193548387 \n",
            "\n",
            "La profundidad es: 6, el criterio es: entropy y decisiones: best, y min: 32\n",
            "La precisión del modelo es: 0.7096774193548387 \n",
            "\n",
            "La profundidad es: 6, el criterio es: log_loss y decisiones: best, y min: 34\n",
            "La precisión del modelo es: 0.7096774193548387 \n",
            "\n",
            "La profundidad es: 6, el criterio es: entropy y decisiones: best, y min: 34\n",
            "La precisión del modelo es: 0.7096774193548387 \n",
            "\n",
            "La profundidad es: 6, el criterio es: log_loss y decisiones: best, y min: 36\n",
            "La precisión del modelo es: 0.7096774193548387 \n",
            "\n",
            "La profundidad es: 6, el criterio es: entropy y decisiones: best, y min: 36\n",
            "La precisión del modelo es: 0.7096774193548387 \n",
            "\n",
            "La profundidad es: 6, el criterio es: log_loss y decisiones: best, y min: 38\n",
            "La precisión del modelo es: 0.7096774193548387 \n",
            "\n",
            "La profundidad es: 6, el criterio es: entropy y decisiones: best, y min: 38\n",
            "La precisión del modelo es: 0.7096774193548387 \n",
            "\n",
            "La profundidad es: 6, el criterio es: log_loss y decisiones: best, y min: 40\n",
            "La precisión del modelo es: 0.7096774193548387 \n",
            "\n",
            "La profundidad es: 6, el criterio es: entropy y decisiones: best, y min: 40\n",
            "La precisión del modelo es: 0.7096774193548387 \n",
            "\n",
            "La profundidad es: 6, el criterio es: log_loss y decisiones: best, y min: 42\n",
            "La precisión del modelo es: 0.7096774193548387 \n",
            "\n",
            "La profundidad es: 6, el criterio es: entropy y decisiones: best, y min: 42\n",
            "La precisión del modelo es: 0.7096774193548387 \n",
            "\n",
            "La profundidad es: 8, el criterio es: log_loss y decisiones: best, y min: 42\n",
            "La precisión del modelo es: 0.7096774193548387 \n",
            "\n",
            "La profundidad es: 8, el criterio es: entropy y decisiones: best, y min: 42\n",
            "La precisión del modelo es: 0.7096774193548387 \n",
            "\n",
            "La profundidad es: 10, el criterio es: log_loss y decisiones: best, y min: 42\n",
            "La precisión del modelo es: 0.7096774193548387 \n",
            "\n",
            "La profundidad es: 10, el criterio es: entropy y decisiones: best, y min: 42\n",
            "La precisión del modelo es: 0.7096774193548387 \n",
            "\n",
            "La profundidad es: 12, el criterio es: log_loss y decisiones: best, y min: 42\n",
            "La precisión del modelo es: 0.7096774193548387 \n",
            "\n",
            "La profundidad es: 12, el criterio es: entropy y decisiones: best, y min: 42\n",
            "La precisión del modelo es: 0.7096774193548387 \n",
            "\n",
            "La profundidad es: 14, el criterio es: log_loss y decisiones: best, y min: 42\n",
            "La precisión del modelo es: 0.7096774193548387 \n",
            "\n",
            "La profundidad es: 14, el criterio es: entropy y decisiones: best, y min: 42\n",
            "La precisión del modelo es: 0.7096774193548387 \n",
            "\n",
            "La profundidad es: 16, el criterio es: log_loss y decisiones: best, y min: 42\n",
            "La precisión del modelo es: 0.7096774193548387 \n",
            "\n",
            "La profundidad es: 16, el criterio es: entropy y decisiones: best, y min: 42\n",
            "La precisión del modelo es: 0.7096774193548387 \n",
            "\n",
            "La profundidad es: 18, el criterio es: log_loss y decisiones: best, y min: 42\n",
            "La precisión del modelo es: 0.7096774193548387 \n",
            "\n",
            "La profundidad es: 18, el criterio es: entropy y decisiones: best, y min: 42\n",
            "La precisión del modelo es: 0.7096774193548387 \n",
            "\n",
            "La profundidad es: 6, el criterio es: log_loss y decisiones: best, y min: 44\n",
            "La precisión del modelo es: 0.7096774193548387 \n",
            "\n",
            "La profundidad es: 6, el criterio es: entropy y decisiones: best, y min: 44\n",
            "La precisión del modelo es: 0.7096774193548387 \n",
            "\n",
            "La profundidad es: 8, el criterio es: log_loss y decisiones: best, y min: 44\n",
            "La precisión del modelo es: 0.7096774193548387 \n",
            "\n",
            "La profundidad es: 8, el criterio es: entropy y decisiones: best, y min: 44\n",
            "La precisión del modelo es: 0.7096774193548387 \n",
            "\n",
            "La profundidad es: 10, el criterio es: log_loss y decisiones: best, y min: 44\n",
            "La precisión del modelo es: 0.7096774193548387 \n",
            "\n",
            "La profundidad es: 10, el criterio es: entropy y decisiones: best, y min: 44\n",
            "La precisión del modelo es: 0.7096774193548387 \n",
            "\n",
            "La profundidad es: 12, el criterio es: log_loss y decisiones: best, y min: 44\n",
            "La precisión del modelo es: 0.7096774193548387 \n",
            "\n",
            "La profundidad es: 12, el criterio es: entropy y decisiones: best, y min: 44\n",
            "La precisión del modelo es: 0.7096774193548387 \n",
            "\n",
            "La profundidad es: 14, el criterio es: log_loss y decisiones: best, y min: 44\n",
            "La precisión del modelo es: 0.7096774193548387 \n",
            "\n",
            "La profundidad es: 14, el criterio es: entropy y decisiones: best, y min: 44\n",
            "La precisión del modelo es: 0.7096774193548387 \n",
            "\n",
            "La profundidad es: 16, el criterio es: log_loss y decisiones: best, y min: 44\n",
            "La precisión del modelo es: 0.7096774193548387 \n",
            "\n",
            "La profundidad es: 16, el criterio es: entropy y decisiones: best, y min: 44\n",
            "La precisión del modelo es: 0.7096774193548387 \n",
            "\n",
            "La profundidad es: 18, el criterio es: log_loss y decisiones: best, y min: 44\n",
            "La precisión del modelo es: 0.7096774193548387 \n",
            "\n",
            "La profundidad es: 18, el criterio es: entropy y decisiones: best, y min: 44\n",
            "La precisión del modelo es: 0.7096774193548387 \n",
            "\n",
            "La profundidad es: 6, el criterio es: log_loss y decisiones: best, y min: 46\n",
            "La precisión del modelo es: 0.7096774193548387 \n",
            "\n",
            "La profundidad es: 6, el criterio es: entropy y decisiones: best, y min: 46\n",
            "La precisión del modelo es: 0.7096774193548387 \n",
            "\n",
            "La profundidad es: 8, el criterio es: log_loss y decisiones: best, y min: 46\n",
            "La precisión del modelo es: 0.7096774193548387 \n",
            "\n",
            "La profundidad es: 8, el criterio es: entropy y decisiones: best, y min: 46\n",
            "La precisión del modelo es: 0.7096774193548387 \n",
            "\n",
            "La profundidad es: 10, el criterio es: log_loss y decisiones: best, y min: 46\n",
            "La precisión del modelo es: 0.7096774193548387 \n",
            "\n",
            "La profundidad es: 10, el criterio es: entropy y decisiones: best, y min: 46\n",
            "La precisión del modelo es: 0.7096774193548387 \n",
            "\n",
            "La profundidad es: 12, el criterio es: log_loss y decisiones: best, y min: 46\n",
            "La precisión del modelo es: 0.7096774193548387 \n",
            "\n",
            "La profundidad es: 12, el criterio es: entropy y decisiones: best, y min: 46\n",
            "La precisión del modelo es: 0.7096774193548387 \n",
            "\n",
            "La profundidad es: 14, el criterio es: log_loss y decisiones: best, y min: 46\n",
            "La precisión del modelo es: 0.7096774193548387 \n",
            "\n",
            "La profundidad es: 14, el criterio es: entropy y decisiones: best, y min: 46\n",
            "La precisión del modelo es: 0.7096774193548387 \n",
            "\n",
            "La profundidad es: 16, el criterio es: log_loss y decisiones: best, y min: 46\n",
            "La precisión del modelo es: 0.7096774193548387 \n",
            "\n",
            "La profundidad es: 16, el criterio es: entropy y decisiones: best, y min: 46\n",
            "La precisión del modelo es: 0.7096774193548387 \n",
            "\n",
            "La profundidad es: 18, el criterio es: log_loss y decisiones: best, y min: 46\n",
            "La precisión del modelo es: 0.7096774193548387 \n",
            "\n",
            "La profundidad es: 18, el criterio es: entropy y decisiones: best, y min: 46\n",
            "La precisión del modelo es: 0.7096774193548387 \n",
            "\n",
            "La profundidad es: 6, el criterio es: log_loss y decisiones: best, y min: 48\n",
            "La precisión del modelo es: 0.7096774193548387 \n",
            "\n",
            "La profundidad es: 6, el criterio es: entropy y decisiones: best, y min: 48\n",
            "La precisión del modelo es: 0.7096774193548387 \n",
            "\n",
            "La profundidad es: 8, el criterio es: log_loss y decisiones: best, y min: 48\n",
            "La precisión del modelo es: 0.7096774193548387 \n",
            "\n",
            "La profundidad es: 8, el criterio es: entropy y decisiones: best, y min: 48\n",
            "La precisión del modelo es: 0.7096774193548387 \n",
            "\n",
            "La profundidad es: 10, el criterio es: log_loss y decisiones: best, y min: 48\n",
            "La precisión del modelo es: 0.7096774193548387 \n",
            "\n",
            "La profundidad es: 10, el criterio es: entropy y decisiones: best, y min: 48\n",
            "La precisión del modelo es: 0.7096774193548387 \n",
            "\n",
            "La profundidad es: 12, el criterio es: log_loss y decisiones: best, y min: 48\n",
            "La precisión del modelo es: 0.7096774193548387 \n",
            "\n",
            "La profundidad es: 12, el criterio es: entropy y decisiones: best, y min: 48\n",
            "La precisión del modelo es: 0.7096774193548387 \n",
            "\n",
            "La profundidad es: 14, el criterio es: log_loss y decisiones: best, y min: 48\n",
            "La precisión del modelo es: 0.7096774193548387 \n",
            "\n",
            "La profundidad es: 14, el criterio es: entropy y decisiones: best, y min: 48\n",
            "La precisión del modelo es: 0.7096774193548387 \n",
            "\n",
            "La profundidad es: 16, el criterio es: log_loss y decisiones: best, y min: 48\n",
            "La precisión del modelo es: 0.7096774193548387 \n",
            "\n",
            "La profundidad es: 16, el criterio es: entropy y decisiones: best, y min: 48\n",
            "La precisión del modelo es: 0.7096774193548387 \n",
            "\n",
            "La profundidad es: 18, el criterio es: log_loss y decisiones: best, y min: 48\n",
            "La precisión del modelo es: 0.7096774193548387 \n",
            "\n",
            "La profundidad es: 18, el criterio es: entropy y decisiones: best, y min: 48\n",
            "La precisión del modelo es: 0.7096774193548387 \n",
            "\n"
          ]
        }
      ]
    },
    {
      "cell_type": "markdown",
      "source": [
        "Después del análisis, ponemos la mejor profundidad y el mejor criterio. En este caso, dado que la división al azar fluctua mucho entre 0.50 y 0.75, decidimos dejar el splitter \"best\", junto con profundidad 6 y criterio \"entropy\". Para el mínimo número de muestras al momento de dividirse dejamos 8 según lo que obtenido en la prueba, con el fin de mejorar la exactitud del modelo."
      ],
      "metadata": {
        "id": "_vKvktoCe89i"
      }
    },
    {
      "cell_type": "markdown",
      "source": [
        "**Creación del modelo**"
      ],
      "metadata": {
        "id": "5bz-FLe2P5U-"
      }
    },
    {
      "cell_type": "code",
      "source": [
        "tree = DecisionTreeClassifier(max_depth=6, criterion='entropy', splitter='best', min_samples_split=8)\n",
        "tree.fit(X_train_sc,y_train)\n",
        "y_pred_tree = tree.predict(X_test_sc)"
      ],
      "metadata": {
        "id": "anCpJupbP18T"
      },
      "execution_count": null,
      "outputs": []
    },
    {
      "cell_type": "markdown",
      "source": [
        "**Reporte y métricas**"
      ],
      "metadata": {
        "id": "EWb5L25kP5VG"
      }
    },
    {
      "cell_type": "code",
      "source": [
        "print(f'los diagnosticos predecidos son:\\n {y_pred_tree}')\n",
        "print(f'La precisión del modelo es: {accuracy_score(y_test,y_pred_tree)}')\n",
        "print(f'La matriz de confusión es:\\n {confusion_matrix(y_test,y_pred_tree)}')\n",
        "print(\"Classification Report:\\n\", classification_report(y_test,y_pred_tree))\n",
        "sum = 0\n",
        "for i in y_pred_tree:\n",
        "  if i == 0:\n",
        "    sum +=\n",
        "print(sum)"
      ],
      "metadata": {
        "id": "Rq6hmqmvcSKz",
        "colab": {
          "base_uri": "https://localhost:8080/"
        },
        "outputId": "a3c01e99-10b4-4464-be71-c69180bb3208"
      },
      "execution_count": null,
      "outputs": [
        {
          "output_type": "stream",
          "name": "stdout",
          "text": [
            "los diagnosticos predecidos son:\n",
            " [0 0 0 0 0 0 1 0 0 0 0 0 1 0 0 0 1 0 1 1 0 0 0 0 1 0 0 1 1 0 0 0 0 0 1 0 0\n",
            " 0 0 0 0 0 0 0 0 0 0 0 0 0 0 0 0 0 0 0 0 0 0 0 0 1 0 1 0 0 0 0 1 0 0 1 1 1\n",
            " 0 1 1 1 0 1 0 0 0 0 0 0 0 0 0 1 1 1 1]\n",
            "La precisión del modelo es: 0.7096774193548387\n",
            "La matriz de confusión es:\n",
            " [[51  8]\n",
            " [19 15]]\n",
            "Classification Report:\n",
            "               precision    recall  f1-score   support\n",
            "\n",
            "           0       0.73      0.86      0.79        59\n",
            "           1       0.65      0.44      0.53        34\n",
            "\n",
            "    accuracy                           0.71        93\n",
            "   macro avg       0.69      0.65      0.66        93\n",
            "weighted avg       0.70      0.71      0.69        93\n",
            "\n",
            "70\n"
          ]
        }
      ]
    },
    {
      "cell_type": "markdown",
      "source": [
        "Tenemos dos maneras distintas de visualizar el árbol obtenido:"
      ],
      "metadata": {
        "id": "SGJuTS3edarq"
      }
    },
    {
      "cell_type": "markdown",
      "source": [
        "*Forma de texto:*"
      ],
      "metadata": {
        "id": "7ziF3t-FrG0D"
      }
    },
    {
      "cell_type": "code",
      "source": [
        "print(export_text(tree, feature_names=['sbp', 'tobacco', 'ldl', 'adiposity', 'famhist', 'typea', 'alcohol', 'age']))"
      ],
      "metadata": {
        "id": "oHgFR-7ndWgk",
        "colab": {
          "base_uri": "https://localhost:8080/"
        },
        "outputId": "d5994d84-6cc3-4efe-95d5-86171535678d"
      },
      "execution_count": null,
      "outputs": [
        {
          "output_type": "stream",
          "name": "stdout",
          "text": [
            "|--- age <= 0.44\n",
            "|   |--- age <= -0.86\n",
            "|   |   |--- typea <= -1.13\n",
            "|   |   |   |--- tobacco <= -0.30\n",
            "|   |   |   |   |--- ldl <= -1.15\n",
            "|   |   |   |   |   |--- class: 0\n",
            "|   |   |   |   |--- ldl >  -1.15\n",
            "|   |   |   |   |   |--- class: 0\n",
            "|   |   |   |--- tobacco >  -0.30\n",
            "|   |   |   |   |--- class: 1\n",
            "|   |   |--- typea >  -1.13\n",
            "|   |   |   |--- class: 0\n",
            "|   |--- age >  -0.86\n",
            "|   |   |--- famhist <= 1.60\n",
            "|   |   |   |--- tobacco <= 0.92\n",
            "|   |   |   |   |--- typea <= -0.09\n",
            "|   |   |   |   |   |--- sbp <= 0.79\n",
            "|   |   |   |   |   |   |--- class: 0\n",
            "|   |   |   |   |   |--- sbp >  0.79\n",
            "|   |   |   |   |   |   |--- class: 1\n",
            "|   |   |   |   |--- typea >  -0.09\n",
            "|   |   |   |   |   |--- ldl <= -0.25\n",
            "|   |   |   |   |   |   |--- class: 0\n",
            "|   |   |   |   |   |--- ldl >  -0.25\n",
            "|   |   |   |   |   |   |--- class: 0\n",
            "|   |   |   |--- tobacco >  0.92\n",
            "|   |   |   |   |--- famhist <= 0.62\n",
            "|   |   |   |   |   |--- famhist <= -0.91\n",
            "|   |   |   |   |   |   |--- class: 1\n",
            "|   |   |   |   |   |--- famhist >  -0.91\n",
            "|   |   |   |   |   |   |--- class: 0\n",
            "|   |   |   |   |--- famhist >  0.62\n",
            "|   |   |   |   |   |--- class: 1\n",
            "|   |   |--- famhist >  1.60\n",
            "|   |   |   |--- class: 1\n",
            "|--- age >  0.44\n",
            "|   |--- ldl <= -1.13\n",
            "|   |   |--- class: 0\n",
            "|   |--- ldl >  -1.13\n",
            "|   |   |--- famhist <= 1.44\n",
            "|   |   |   |--- tobacco <= 0.83\n",
            "|   |   |   |   |--- adiposity <= 0.18\n",
            "|   |   |   |   |   |--- tobacco <= 0.25\n",
            "|   |   |   |   |   |   |--- class: 0\n",
            "|   |   |   |   |   |--- tobacco >  0.25\n",
            "|   |   |   |   |   |   |--- class: 0\n",
            "|   |   |   |   |--- adiposity >  0.18\n",
            "|   |   |   |   |   |--- ldl <= 0.88\n",
            "|   |   |   |   |   |   |--- class: 1\n",
            "|   |   |   |   |   |--- ldl >  0.88\n",
            "|   |   |   |   |   |   |--- class: 1\n",
            "|   |   |   |--- tobacco >  0.83\n",
            "|   |   |   |   |--- age <= 0.51\n",
            "|   |   |   |   |   |--- class: 0\n",
            "|   |   |   |   |--- age >  0.51\n",
            "|   |   |   |   |   |--- tobacco <= 1.11\n",
            "|   |   |   |   |   |   |--- class: 1\n",
            "|   |   |   |   |   |--- tobacco >  1.11\n",
            "|   |   |   |   |   |   |--- class: 1\n",
            "|   |   |--- famhist >  1.44\n",
            "|   |   |   |--- class: 1\n",
            "\n"
          ]
        }
      ]
    },
    {
      "cell_type": "markdown",
      "source": [
        "*Forma Gráfica*"
      ],
      "metadata": {
        "id": "OmB8ZNjgOktF"
      }
    },
    {
      "cell_type": "code",
      "source": [
        "plt.figure(figsize=(12,6))\n",
        "print(type(plot_tree(tree, feature_names=['sbp', 'tobacco', 'ldl', 'adiposity', 'famhist', 'typea', 'alcohol', 'age'])))"
      ],
      "metadata": {
        "id": "R-641d1ydXOF",
        "colab": {
          "base_uri": "https://localhost:8080/",
          "height": 516
        },
        "outputId": "4f41540a-fd65-4b70-8a1d-8fbe1252c306"
      },
      "execution_count": null,
      "outputs": [
        {
          "output_type": "stream",
          "name": "stdout",
          "text": [
            "<class 'list'>\n"
          ]
        },
        {
          "output_type": "display_data",
          "data": {
            "text/plain": [
              "<Figure size 1200x600 with 1 Axes>"
            ],
            "image/png": "[encoded data removed]"
          },
          "metadata": {}
        }
      ]
    },
    {
      "cell_type": "markdown",
      "source": [
        "###**KNN**"
      ],
      "metadata": {
        "id": "zG3HsRVHfMqB"
      }
    },
    {
      "cell_type": "markdown",
      "source": [
        "Previo a la creación del modelo final, veamos cuál es el mejor número de vecinos usando vecinos con peso. El peso a asignar será la distancia que tenga con cada vecino (si es menos distancia, menos peso, y si es más distancia, más peso)"
      ],
      "metadata": {
        "id": "juGF9qQ4fc4Y"
      }
    },
    {
      "cell_type": "code",
      "source": [
        "dist = []\n",
        "\n",
        "for i in range(10,30):\n",
        "  kn_prueba = KNeighborsClassifier(n_neighbors=i, weights = 'distance')\n",
        "  kn_prueba.fit(X_train, y_train)\n",
        "  dist.append(kn_prueba.score(X_test, y_test))\n",
        "\n",
        "plt.plot(range(10,30), dist, marker='o')\n",
        "plt.xlabel('número de vecinos')\n",
        "plt.ylabel('distancia con los vecinos de prueba')\n",
        "plt.show()"
      ],
      "metadata": {
        "id": "j3MDI2Q7fSrA",
        "colab": {
          "base_uri": "https://localhost:8080/",
          "height": 449
        },
        "outputId": "9a42d56a-8ca9-42ca-9d39-c5623c74e664"
      },
      "execution_count": null,
      "outputs": [
        {
          "output_type": "display_data",
          "data": {
            "text/plain": [
              "<Figure size 640x480 with 1 Axes>"
            ],
            "image/png": "[encoded data removed]"
          },
          "metadata": {}
        }
      ]
    },
    {
      "cell_type": "markdown",
      "source": [
        "vemos que uno de los intervalos con mejor número de vecinos está entre 18 y 21, así que usamos uno de estos, en este caso, 18."
      ],
      "metadata": {
        "id": "HDJdY5UsrL4S"
      }
    },
    {
      "cell_type": "markdown",
      "source": [
        "**Creación del modelo**"
      ],
      "metadata": {
        "id": "w9KH_MJ5PuPE"
      }
    },
    {
      "cell_type": "code",
      "source": [
        "knn = KNeighborsClassifier(n_neighbors=20, weights = 'distance')\n",
        "knn.fit(X_train_sc, y_train)\n",
        "y_pred_knn = knn.predict(X_test_sc)"
      ],
      "metadata": {
        "id": "zQqptTbsPnHx"
      },
      "execution_count": null,
      "outputs": []
    },
    {
      "cell_type": "markdown",
      "source": [
        "**Reporte y métricas**"
      ],
      "metadata": {
        "id": "CDUymO8MPeyb"
      }
    },
    {
      "cell_type": "code",
      "source": [
        "print(f'los diagnosticos predecidos son:\\n {y_pred_knn}')\n",
        "print(f'La precisión del modelo es: {accuracy_score(y_test,y_pred_knn)}')\n",
        "print(f'La matriz de confusión es:\\n {confusion_matrix(y_test,y_pred_knn)}')\n",
        "print(\"Classification Report:\\n\", classification_report(y_test, y_pred_knn))"
      ],
      "metadata": {
        "id": "whkgsvGRfpCE",
        "colab": {
          "base_uri": "https://localhost:8080/"
        },
        "outputId": "2ed984e2-e2b9-4aec-cab8-b8abf228a88d"
      },
      "execution_count": null,
      "outputs": [
        {
          "output_type": "stream",
          "name": "stdout",
          "text": [
            "los diagnosticos predecidos son:\n",
            " [0 0 0 0 0 0 1 0 0 0 0 0 0 0 0 0 0 0 0 0 0 0 0 0 0 0 0 0 0 0 0 0 0 0 0 0 0\n",
            " 0 0 0 0 0 0 0 0 0 0 0 0 0 0 1 0 0 0 0 1 0 0 0 0 1 0 0 0 0 0 0 0 0 0 0 1 1\n",
            " 0 0 1 1 0 1 0 0 0 0 0 0 0 0 0 1 0 0 1]\n",
            "La precisión del modelo es: 0.6666666666666666\n",
            "La matriz de confusión es:\n",
            " [[55  4]\n",
            " [27  7]]\n",
            "Classification Report:\n",
            "               precision    recall  f1-score   support\n",
            "\n",
            "           0       0.67      0.93      0.78        59\n",
            "           1       0.64      0.21      0.31        34\n",
            "\n",
            "    accuracy                           0.67        93\n",
            "   macro avg       0.65      0.57      0.55        93\n",
            "weighted avg       0.66      0.67      0.61        93\n",
            "\n"
          ]
        }
      ]
    },
    {
      "cell_type": "markdown",
      "source": [
        "###**Naive Bayes**"
      ],
      "metadata": {
        "id": "dVy_qF9wgtk6"
      }
    },
    {
      "cell_type": "markdown",
      "source": [
        "**Creación del modelo**"
      ],
      "metadata": {
        "id": "11f5PP3WPxpr"
      }
    },
    {
      "cell_type": "code",
      "source": [
        "naive = GaussianNB()\n",
        "naive.fit(X_train_sc, y_train)\n",
        "y_pred_naive = naive.predict(X_test_sc)"
      ],
      "metadata": {
        "id": "pt0Dj7uzPy3U"
      },
      "execution_count": null,
      "outputs": []
    },
    {
      "cell_type": "markdown",
      "source": [
        "**Reporte y métricas**"
      ],
      "metadata": {
        "id": "LORgPBn-Pxpz"
      }
    },
    {
      "cell_type": "code",
      "source": [
        "print(f'los diagnosticos predecidos son:\\n {y_pred_naive}')\n",
        "print(f'La precisión del modelo es: {accuracy_score(y_test,y_pred_naive)}')\n",
        "print(f'La matriz de confusión es:\\n {confusion_matrix(y_test,y_pred_naive)}')\n",
        "print(\"Classification Report:\\n\", classification_report(y_test, y_pred_naive))"
      ],
      "metadata": {
        "id": "V1tJ3LifhTYV",
        "colab": {
          "base_uri": "https://localhost:8080/"
        },
        "outputId": "89a1df3b-81ab-4a3d-babd-4fa41da129cf"
      },
      "execution_count": null,
      "outputs": [
        {
          "output_type": "stream",
          "name": "stdout",
          "text": [
            "los diagnosticos predecidos son:\n",
            " [0 0 1 0 0 0 1 0 0 0 0 0 0 1 0 0 1 0 1 0 0 0 0 0 1 0 0 1 1 0 0 1 0 0 0 0 0\n",
            " 0 1 0 0 0 0 0 0 0 0 1 0 0 0 1 0 0 0 0 1 0 0 0 0 1 1 0 0 1 0 0 0 1 0 0 1 1\n",
            " 0 0 0 1 0 1 0 1 0 0 0 0 0 0 0 1 0 0 1]\n",
            "La precisión del modelo es: 0.6559139784946236\n",
            "La matriz de confusión es:\n",
            " [[48 11]\n",
            " [21 13]]\n",
            "Classification Report:\n",
            "               precision    recall  f1-score   support\n",
            "\n",
            "           0       0.70      0.81      0.75        59\n",
            "           1       0.54      0.38      0.45        34\n",
            "\n",
            "    accuracy                           0.66        93\n",
            "   macro avg       0.62      0.60      0.60        93\n",
            "weighted avg       0.64      0.66      0.64        93\n",
            "\n"
          ]
        }
      ]
    },
    {
      "cell_type": "markdown",
      "source": [
        "###**Graficas de verificación y comparación de los resultados y el modelo**"
      ],
      "metadata": {
        "id": "65kYcLyWRjTD"
      }
    },
    {
      "cell_type": "markdown",
      "source": [
        "**Matriz de confusión**\n",
        "\n",
        "\n",
        "\n",
        "*   Verdadero Positivo (TP): Los casos que el modelo ha clasificado correctamente como positivos.\n",
        "*   Falso Negativo (FN): Los casos positivos que el modelo ha clasificado incorrectamente como negativos.\n",
        "*   Falso Positivo (FP): Los casos negativos que el modelo ha clasificado incorrectamente como positivos.\n",
        "*   Verdadero Negativo (TN): Los casos que el modelo ha clasificado correctamente como negativos.\n",
        "\n",
        "Se desea que los TP y TN sean los más altos."
      ],
      "metadata": {
        "id": "imtZGYTRMqU6"
      }
    },
    {
      "cell_type": "code",
      "source": [
        "plt.figure(figsize=(12, 4))\n",
        "\n",
        "#primera grafica\n",
        "plt.subplot(1, 3, 1)\n",
        "# Calcular la matriz de confusión\n",
        "cm = confusion_matrix(y_test, y_pred_tree)\n",
        "\n",
        "# Crear el gráfico de la matriz de confusión\n",
        "sns.heatmap(cm, annot=True, cmap='Blues', fmt='g', cbar=False)\n",
        "plt.xlabel('Predicción')\n",
        "plt.ylabel('Valores reales')\n",
        "plt.title('Matriz de confusión árbol')\n",
        "\n",
        "\n",
        "#segunda grafica\n",
        "plt.subplot(1, 3, 2)\n",
        "# Calcular la matriz de confusión\n",
        "cm = confusion_matrix(y_test, y_pred_knn)\n",
        "\n",
        "# Crear el gráfico de la matriz de confusión\n",
        "sns.heatmap(cm, annot=True, cmap='Blues', fmt='g', cbar=False)\n",
        "plt.xlabel('Predicción')\n",
        "plt.ylabel('Valores reales')\n",
        "plt.title('Matriz de confusión KNN')\n",
        "\n",
        "\n",
        "#tercera grafica\n",
        "plt.subplot(1, 3, 3)\n",
        "# Calcular la matriz de confusión\n",
        "cm = confusion_matrix(y_test, y_pred_naive)\n",
        "\n",
        "# Crear el gráfico de la matriz de confusión\n",
        "sns.heatmap(cm, annot=True, cmap='Blues', fmt='g', cbar=False)\n",
        "plt.xlabel('Predicción')\n",
        "plt.ylabel('Valores reales')\n",
        "plt.title('Matriz de confusión Naive-Bayes')\n",
        "\n",
        "\n",
        "\n",
        "plt.show()"
      ],
      "metadata": {
        "id": "h16Q3Q-zdhcP"
      },
      "execution_count": null,
      "outputs": []
    },
    {
      "cell_type": "markdown",
      "source": [
        "**Curva ROC**\n",
        "\n",
        "La curva ROC representa la tasa de verdaderos positivos en el eje y y la tasa de falsos positivos en el eje x para diferentes umbrales de clasificación.\n",
        "\n",
        "Nos dice que tan bueno es el modelo para distinguir entre dos clases.\n",
        "\n",
        "* Sensibilidad (recall): Proporción de identificados correctamente con 1. $$sensibilidad=\\frac{TP}{TP+FN}$$\n",
        "* Especificidad: Proporción de identificados correctamente con 0. $$especificidad=\\frac{TN}{TN+FP}$$\n",
        "\n",
        "La curva ROC es la gráfica que relaciona 1-especificidad y la sensibilidad.\n",
        "\n",
        "$AUC$ es el área bajo la curva ROC y nos dice el porcentaje para distinguir entre clases. Nunca se debe de aproximar a $0.5$."
      ],
      "metadata": {
        "id": "QDYENUnqM5FC"
      }
    },
    {
      "cell_type": "code",
      "source": [
        "plt.figure(figsize=(15, 4))\n",
        "\n",
        "#primera grafica\n",
        "plt.subplot(1, 3, 1)\n",
        "# Obtener las probabilidades de predicción para la clase positiva\n",
        "y_scores = tree.predict_proba(X_test_sc)[:, 1]\n",
        "\n",
        "# Calcular la curva ROC y el área bajo la curva (AUC)\n",
        "fpr, tpr, thresholds = roc_curve(y_test, y_scores)\n",
        "roc_auc = auc(fpr, tpr)\n",
        "\n",
        "# Graficar la curva ROC\n",
        "plt.plot(fpr, tpr, color='#03045e', lw=2, label='Curva ROC (AUC-ROC = %0.2f)' % roc_auc)\n",
        "plt.fill_between(fpr, tpr, alpha=0.2)\n",
        "plt.plot([0, 1], [0, 1], color='#0096c7', lw=2, linestyle='--', label='Recta del 50 (área = 0.5)')\n",
        "plt.xlim([0.0, 1.0])\n",
        "plt.ylim([0.0, 1.03])\n",
        "plt.xlabel('Tasa de falsos positivos (1-especificidad)')\n",
        "plt.ylabel('Tasa de verdaderos positivos (sensibilidad)')\n",
        "plt.title('Curva ROC del árbol')\n",
        "plt.grid(True)\n",
        "plt.legend(loc=\"lower right\")\n",
        "\n",
        "\n",
        "#segunda grafica\n",
        "plt.subplot(1, 3, 2)\n",
        "# Obtener las probabilidades de predicción para la clase positiva\n",
        "y_scores = knn.predict_proba(X_test_sc)[:, 1]\n",
        "\n",
        "# Calcular la curva ROC y el área bajo la curva (AUC)\n",
        "fpr, tpr, thresholds = roc_curve(y_test, y_scores)\n",
        "roc_auc = auc(fpr, tpr)\n",
        "\n",
        "# Graficar la curva ROC\n",
        "plt.plot(fpr, tpr, color='#03045e', lw=2, label='Curva ROC (AUC-ROC = %0.2f)' % roc_auc)\n",
        "plt.fill_between(fpr, tpr, alpha=0.2)\n",
        "plt.plot([0, 1], [0, 1], color='#0096c7', lw=2, linestyle='--', label='Recta del 50 (área = 0.5)')\n",
        "plt.xlim([0.0, 1.0])\n",
        "plt.ylim([0.0, 1.03])\n",
        "plt.xlabel('Tasa de falsos positivos (1-especificidad)')\n",
        "plt.ylabel('Tasa de verdaderos positivos (sensibilidad)')\n",
        "plt.title('Curva ROC del KNN')\n",
        "plt.grid(True)\n",
        "plt.legend(loc=\"lower right\")\n",
        "\n",
        "\n",
        "#tercera grafica\n",
        "plt.subplot(1, 3, 3)\n",
        "# Obtener las probabilidades de predicción para la clase positiva\n",
        "y_scores = naive.predict_proba(X_test_sc)[:, 1]\n",
        "\n",
        "# Calcular la curva ROC y el área bajo la curva (AUC)\n",
        "fpr, tpr, thresholds = roc_curve(y_test, y_scores)\n",
        "roc_auc = auc(fpr, tpr)\n",
        "\n",
        "# Graficar la curva ROC\n",
        "plt.plot(fpr, tpr, color='#03045e', lw=2, label='Curva ROC (AUC-ROC = %0.2f)' % roc_auc)\n",
        "plt.fill_between(fpr, tpr, alpha=0.2)\n",
        "plt.plot([0, 1], [0, 1], color='#0096c7', lw=2, linestyle='--', label='Recta del 50 (área = 0.5)')\n",
        "plt.xlim([0.0, 1.0])\n",
        "plt.ylim([0.0, 1.03])\n",
        "plt.xlabel('Tasa de falsos positivos (1-especificidad)')\n",
        "plt.ylabel('Tasa de verdaderos positivos (sensibilidad)')\n",
        "plt.title('Curva ROC de Naive-Bayes')\n",
        "plt.grid(True)\n",
        "plt.legend(loc=\"lower right\")\n",
        "\n",
        "\n",
        "\n",
        "plt.show()"
      ],
      "metadata": {
        "id": "hJEaZir6edqi"
      },
      "execution_count": null,
      "outputs": []
    },
    {
      "cell_type": "markdown",
      "source": [
        "**$F_{\\beta}$ score**\n",
        "\n",
        "$$F_\\beta = (1 + \\beta^{2}) \\cdot \\frac{precision \\times recall}{\\left(\\beta^{2} \\cdot precision\\right) + recall}$$\n",
        "\n",
        "$\\beta$ es un parámetro que controla la relación de la precisión con el recall.\n",
        "\n",
        "Un valor de $\\beta>1$ da más peso a la precisión.\n",
        "\n",
        "Un valor de $\\beta<1$ da más peso al recall."
      ],
      "metadata": {
        "id": "WCZDXqw_KjLP"
      }
    },
    {
      "cell_type": "code",
      "source": [
        "# Valores de beta\n",
        "betas = np.linspace(0, 2, 20)\n",
        "\n",
        "\n",
        "plt.figure(figsize=(15, 5))\n",
        "#primera grafica\n",
        "plt.subplot(1, 3, 1)\n",
        "\n",
        "#Matriz de confusión\n",
        "mc = confusion_matrix(y_test, y_pred_tree)\n",
        "\n",
        "# Precisión y recall\n",
        "precision = mc[0][0]/(mc[0][0] + mc[0][1])\n",
        "recall = mc[0][0]/(mc[0][0] + mc[1][0])\n",
        "\n",
        "# Calcular el F-beta score para cada valor de beta\n",
        "f_beta_scores = [(1 + beta**2) * (precision * recall) / ((beta**2 * precision) + recall) for beta in betas]\n",
        "\n",
        "# Graficar el F-beta score en función de beta\n",
        "plt.plot(betas, f_beta_scores)\n",
        "plt.xlabel('Valor de beta')\n",
        "plt.ylabel('F-beta score')\n",
        "plt.title(f'F-Beta score del árbol')\n",
        "plt.grid(True)\n",
        "\n",
        "\n",
        "#segunda grafica\n",
        "plt.subplot(1, 3, 2)\n",
        "\n",
        "#Matriz de confusión\n",
        "mc = confusion_matrix(y_test, y_pred_knn)\n",
        "\n",
        "# Precisión y recall\n",
        "precision = mc[0][0]/(mc[0][0] + mc[0][1])\n",
        "recall = mc[0][0]/(mc[0][0] + mc[1][0])\n",
        "\n",
        "# Calcular el F-beta score para cada valor de beta\n",
        "f_beta_scores = [(1 + beta**2) * (precision * recall) / ((beta**2 * precision) + recall) for beta in betas]\n",
        "\n",
        "# Graficar el F-beta score en función de beta\n",
        "plt.plot(betas, f_beta_scores)\n",
        "plt.xlabel('Valor de beta')\n",
        "plt.ylabel('F-beta score')\n",
        "plt.title(f'F-Beta score del KNN')\n",
        "plt.grid(True)\n",
        "\n",
        "\n",
        "#tercera grafica\n",
        "plt.subplot(1, 3, 3)\n",
        "\n",
        "#Matriz de confusión\n",
        "mc = confusion_matrix(y_test, y_pred_naive)\n",
        "\n",
        "# Precisión y recall\n",
        "precision = mc[0][0]/(mc[0][0] + mc[0][1])\n",
        "recall = mc[0][0]/(mc[0][0] + mc[1][0])\n",
        "\n",
        "# Calcular el F-beta score para cada valor de beta\n",
        "f_beta_scores = [(1 + beta**2) * (precision * recall) / ((beta**2 * precision) + recall) for beta in betas]\n",
        "\n",
        "# Graficar el F-beta score en función de beta\n",
        "plt.plot(betas, f_beta_scores)\n",
        "plt.xlabel('Valor de beta')\n",
        "plt.ylabel('F-beta score')\n",
        "plt.title(f'F-Beta score de Naive-Bayes')\n",
        "plt.grid(True)\n",
        "\n",
        "plt.show()"
      ],
      "metadata": {
        "id": "gH3bM_7W1Os3"
      },
      "execution_count": null,
      "outputs": []
    },
    {
      "cell_type": "code",
      "source": [
        "plt.scatter(X_test['alcohol'], y_pred_tree,marker='o',color='r')\n",
        "plt.scatter(X_test['alcohol'], y_test,marker='x',color='b')\n",
        "plt.title('Predicciones vs Valores reales')\n",
        "plt.legend(['Predicciones', 'Valores reales'])\n",
        "plt.show()"
      ],
      "metadata": {
        "colab": {
          "base_uri": "https://localhost:8080/",
          "height": 452
        },
        "id": "fLAk0evQ1P0v",
        "outputId": "e17af19e-c7b1-49a8-e4bb-7685bbeafacf"
      },
      "execution_count": null,
      "outputs": [
        {
          "output_type": "display_data",
          "data": {
            "text/plain": [
              "<Figure size 640x480 with 1 Axes>"
            ],
            "image/png": "[encoded data removed]"
          },
          "metadata": {}
        }
      ]
    },
    {
      "cell_type": "code",
      "source": [
        "plt.figure(figsize=(8, 6))\n",
        "plt.hist([y_pred_tree, y_test], bins=[-0.5, 0.5, 1.5], color=['r', 'b'], edgecolor='black', alpha=0.7, label=['Predicciones', 'Reales'])\n",
        "plt.xlabel('Diagnóstico')\n",
        "plt.ylabel('Frecuencia')\n",
        "plt.title('Histograma de Predicciones y Valores Reales (sanos y enfermos)')\n",
        "plt.legend()\n",
        "plt.xticks([0, 1])"
      ],
      "metadata": {
        "colab": {
          "base_uri": "https://localhost:8080/",
          "height": 617
        },
        "id": "rYPxradM3oiB",
        "outputId": "b3efb8e4-9127-4533-d40c-364ba4867f3f"
      },
      "execution_count": null,
      "outputs": [
        {
          "output_type": "execute_result",
          "data": {
            "text/plain": [
              "([<matplotlib.axis.XTick at 0x7f2accb7a0e0>,\n",
              "  <matplotlib.axis.XTick at 0x7f2accb7ace0>],\n",
              " [Text(0, 0, '0'), Text(1, 0, '1')])"
            ]
          },
          "metadata": {},
          "execution_count": 111
        },
        {
          "output_type": "display_data",
          "data": {
            "text/plain": [
              "<Figure size 800x600 with 1 Axes>"
            ],
            "image/png": "[encoded data removed]"
          },
          "metadata": {}
        }
      ]
    },
    {
      "cell_type": "code",
      "source": [
        "import numpy as np\n",
        "import matplotlib.pyplot as plt\n",
        "\n",
        "# Suponiendo que \"y_true\" son las etiquetas reales y \"y_pred\" son las etiquetas predichas por el modelo\n",
        "\n",
        "# Calcular la precisión del modelo\n",
        "correct_predictions = np.sum(y_pred_tree)\n",
        "\n",
        "# Calcular la precisión para cada clase\n",
        "classes = np.unique(y_test)\n",
        "class_accuracy = []\n",
        "for cls in classes:\n",
        "    correct_cls_pred = np.sum((y_test == cls) & (y_pred_tree == cls))\n",
        "    total_cls_samples = np.sum(y_test == cls)\n",
        "    class_accuracy.append(correct_cls_pred / total_cls_samples)\n",
        "\n",
        "# Crear la gráfica de barras\n",
        "plt.figure(figsize=(8, 6))\n",
        "plt.bar(classes, class_accuracy, color='skyblue')\n",
        "plt.xlabel('Clases')\n",
        "plt.ylabel('Precisión')\n",
        "plt.title('Precisión del Modelo por Clase')\n",
        "plt.xticks(classes)  # Asegura que las etiquetas del eje x sean las clases reales\n",
        "plt.ylim(0, 1)  # Ajusta el rango del eje y entre 0 y 1 para mostrar la precisión como porcentaje\n",
        "plt.grid(axis='y', linestyle='--', alpha=0.7)\n",
        "plt.show()"
      ],
      "metadata": {
        "colab": {
          "base_uri": "https://localhost:8080/",
          "height": 582
        },
        "id": "MX98d24t22H8",
        "outputId": "850f80a5-9f9c-4239-a582-ecfa2d300687"
      },
      "execution_count": null,
      "outputs": [
        {
          "output_type": "display_data",
          "data": {
            "text/plain": [
              "<Figure size 800x600 with 1 Axes>"
            ],
            "image/png": "[encoded data removed]"
          },
          "metadata": {}
        },
        {
          "output_type": "stream",
          "name": "stdout",
          "text": [
            "Precisión del Modelo: 0.25\n"
          ]
        }
      ]
    },
    {
      "cell_type": "code",
      "source": [
        "import numpy as np\n",
        "import matplotlib.pyplot as plt\n",
        "\n",
        "# Suponiendo que \"y_true\" son las etiquetas reales y \"y_pred\" son las etiquetas predichas por el modelo\n",
        "\n",
        "# Calcular la precisión del modelo\n",
        "correct_predictions = np.sum(y_test)\n",
        "\n",
        "# Calcular la precisión para cada clase\n",
        "classes = np.unique(y_test)\n",
        "class_accuracy = []\n",
        "for cls in classes:\n",
        "    correct_cls_pred = np.sum((y_test == cls) & (y_pred_tree == cls))\n",
        "    total_cls_samples = np.sum(y_test == cls)\n",
        "    class_accuracy.append(correct_cls_pred / total_cls_samples)\n",
        "\n",
        "# Crear la gráfica de barras\n",
        "plt.figure(figsize=(8, 6))\n",
        "plt.bar(classes, class_accuracy, color='skyblue')\n",
        "plt.xlabel('Clases')\n",
        "plt.ylabel('Precisión')\n",
        "plt.title('Precisión del Modelo por Clase')\n",
        "plt.xticks(classes)  # Asegura que las etiquetas del eje x sean las clases reales\n",
        "plt.ylim(0, 1)  # Ajusta el rango del eje y entre 0 y 1 para mostrar la precisión como porcentaje\n",
        "plt.grid(axis='y', linestyle='--', alpha=0.7)\n",
        "plt.show()"
      ],
      "metadata": {
        "colab": {
          "base_uri": "https://localhost:8080/",
          "height": 565
        },
        "outputId": "ad445f90-3b46-4a2f-ad14-84cce7e8d8e1",
        "id": "QA0hLgeW3U1Y"
      },
      "execution_count": null,
      "outputs": [
        {
          "output_type": "display_data",
          "data": {
            "text/plain": [
              "<Figure size 800x600 with 1 Axes>"
            ],
            "image/png": "[encoded data removed]"
          },
          "metadata": {}
        }
      ]
    }
  ]
}