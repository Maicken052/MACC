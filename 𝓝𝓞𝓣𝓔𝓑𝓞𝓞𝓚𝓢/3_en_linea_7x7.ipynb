{
 "cells": [
  {
   "cell_type": "markdown",
   "metadata": {},
   "source": [
    "<table>\n",
    "    <tr>\n",
    "        <td><img src=\"./img/Macc.png\" width=\"auto\"/></td>\n",
    "        <td>\n",
    "            <table><tr>\n",
    "            <h1 style=\"color:blue;text-align:center\">Lógica para Ciencias de la Computación</h1></td>\n",
    "            </tr></table>   \n",
    "        <td>&nbsp;</td>\n",
    "        <td>\n",
    "            <table><tr>\n",
    "            <tp><p style=\"font-size:150%;text-align:center\">Grupo 6</p></tp>\n",
    "            <tp><p style=\"font-size:150%;text-align:center\">Representación del problema</p></tp>\n",
    "            </tr></table>\n",
    "        </td>\n",
    "    </tr>\n",
    "</table>\n",
    "\n",
    "---"
   ]
  },
  {
   "cell_type": "markdown",
   "metadata": {},
   "source": [
    "# Objetivo <a class=\"anchor\" id=\"inicio\"></a>\n",
    "\n",
    "Implementar en Python la representación del problema que nuestro grupo desea abordar, esto de acuerdo a lo establecido en la primera entrega y a las modificaciones de la misma"
   ]
  },
  {
   "cell_type": "markdown",
   "metadata": {},
   "source": [
    "# Secciones\n",
    "\n",
    "1. [Problema a resolver.](#prob)\n",
    "2. [Descriptores.](#des)\n",
    "3. [Implementación de restricciones.](#imp)"
   ]
  },
  {
   "cell_type": "markdown",
   "metadata": {},
   "source": [
    "# Problema a resolver <a class=\"anchor\" id=\"prob\"></a>\n",
    "\n",
    "([Volver al inicio](#inicio))\n",
    "\n",
    "Trabajaremos sobre el siguiente problema. Se busca ubicar cierto número de $X$ en un tablero de 3 en linea de tamaño 7x7 de manera que no queden tres $X$ seguidas en ninguna dirección.\n",
    "\n",
    "Un ejemplo de una posible solución al problema sería la siguiente\n",
    "\n",
    "![ejemplo](img/tabla.png)\n",
    "\n",
    "Este problema cuenta con tres restricciones en total:\n",
    "\n",
    "1. Solo se permite una $X$ por casilla.\n",
    "2. No deben haber tres $X$ seguidas en ninguna dirección (horizontal, vertical o diagonales).\n",
    "3. Deben haber mínimo tres $X$ en cada fila y columna.\n"
   ]
  },
  {
   "cell_type": "markdown",
   "metadata": {},
   "source": [
    "# Descriptores <a class=\"anchor\" id=\"des\"></a>\n",
    "\n",
    "([Volver al inicio](#inicio))\n",
    "\n",
    "Para empezar, deben definirse las letras proposicionales, las cuales definen la posición de cada $X$ en el tablero:\n",
    "\n",
    "$XenC_{x,y}$ es verdadera sii hay una $X$ ubicada en la casilla $(x,y)$, siendo $x$ las filas y $y$ las columnas\n",
    "\n",
    "Para hacer la implementación en python, se usa la clase `Descriptor`, que se encuentra en la librería `Logica`.  Esta clase permite codificar un átomo, representándolo como un solo caracter (es decir, una cadena de longitud 1).\n",
    "\n",
    "Importamos la clase a partir de la librería:"
   ]
  },
  {
   "cell_type": "code",
   "execution_count": 18,
   "metadata": {},
   "outputs": [],
   "source": [
    "from Logica import *"
   ]
  },
  {
   "cell_type": "markdown",
   "metadata": {},
   "source": [
    "Ahora creamos un descriptor de dos argumentos, siendo ambos para representar la casilla $(x,y)$:"
   ]
  },
  {
   "cell_type": "code",
   "execution_count": 19,
   "metadata": {},
   "outputs": [],
   "source": [
    "Nx = 7\n",
    "Ny = 7\n",
    "X = list(range(Nx))\n",
    "Y = list(range(Ny))\n",
    "XenC = Descriptor([Nx, Ny])"
   ]
  },
  {
   "cell_type": "markdown",
   "metadata": {},
   "source": [
    "### Codificando en un solo caracter\n",
    "\n",
    "Mediante el método P() podemos crear las codificaciones. A continuación presentaremos cada uno de los caracteres que codifican los cruces de información de que una $X$ se encuentre en una casilla $(x,y)$ (donde $x,y\\in\\{0, 1, 2, 3, 4, 5, 6\\}$):"
   ]
  },
  {
   "cell_type": "code",
   "execution_count": 20,
   "metadata": {},
   "outputs": [
    {
     "name": "stdout",
     "output_type": "stream",
     "text": [
      "Cantidad de átomos XenC: 49\n",
      "Caracteres correspondientes a los átomos XenC:\n",
      "\n",
      "Hay una X en la casilla (0,0) es el átomo Ā\n",
      "Hay una X en la casilla (0,1) es el átomo ć\n",
      "Hay una X en la casilla (0,2) es el átomo Ď\n",
      "Hay una X en la casilla (0,3) es el átomo ĕ\n",
      "Hay una X en la casilla (0,4) es el átomo Ĝ\n",
      "Hay una X en la casilla (0,5) es el átomo ģ\n",
      "Hay una X en la casilla (0,6) es el átomo Ī\n",
      "\n",
      "Hay una X en la casilla (1,0) es el átomo ā\n",
      "Hay una X en la casilla (1,1) es el átomo Ĉ\n",
      "Hay una X en la casilla (1,2) es el átomo ď\n",
      "Hay una X en la casilla (1,3) es el átomo Ė\n",
      "Hay una X en la casilla (1,4) es el átomo ĝ\n",
      "Hay una X en la casilla (1,5) es el átomo Ĥ\n",
      "Hay una X en la casilla (1,6) es el átomo ī\n",
      "\n",
      "Hay una X en la casilla (2,0) es el átomo Ă\n",
      "Hay una X en la casilla (2,1) es el átomo ĉ\n",
      "Hay una X en la casilla (2,2) es el átomo Đ\n",
      "Hay una X en la casilla (2,3) es el átomo ė\n",
      "Hay una X en la casilla (2,4) es el átomo Ğ\n",
      "Hay una X en la casilla (2,5) es el átomo ĥ\n",
      "Hay una X en la casilla (2,6) es el átomo Ĭ\n",
      "\n",
      "Hay una X en la casilla (3,0) es el átomo ă\n",
      "Hay una X en la casilla (3,1) es el átomo Ċ\n",
      "Hay una X en la casilla (3,2) es el átomo đ\n",
      "Hay una X en la casilla (3,3) es el átomo Ę\n",
      "Hay una X en la casilla (3,4) es el átomo ğ\n",
      "Hay una X en la casilla (3,5) es el átomo Ħ\n",
      "Hay una X en la casilla (3,6) es el átomo ĭ\n",
      "\n",
      "Hay una X en la casilla (4,0) es el átomo Ą\n",
      "Hay una X en la casilla (4,1) es el átomo ċ\n",
      "Hay una X en la casilla (4,2) es el átomo Ē\n",
      "Hay una X en la casilla (4,3) es el átomo ę\n",
      "Hay una X en la casilla (4,4) es el átomo Ġ\n",
      "Hay una X en la casilla (4,5) es el átomo ħ\n",
      "Hay una X en la casilla (4,6) es el átomo Į\n",
      "\n",
      "Hay una X en la casilla (5,0) es el átomo ą\n",
      "Hay una X en la casilla (5,1) es el átomo Č\n",
      "Hay una X en la casilla (5,2) es el átomo ē\n",
      "Hay una X en la casilla (5,3) es el átomo Ě\n",
      "Hay una X en la casilla (5,4) es el átomo ġ\n",
      "Hay una X en la casilla (5,5) es el átomo Ĩ\n",
      "Hay una X en la casilla (5,6) es el átomo į\n",
      "\n",
      "Hay una X en la casilla (6,0) es el átomo Ć\n",
      "Hay una X en la casilla (6,1) es el átomo č\n",
      "Hay una X en la casilla (6,2) es el átomo Ĕ\n",
      "Hay una X en la casilla (6,3) es el átomo ě\n",
      "Hay una X en la casilla (6,4) es el átomo Ģ\n",
      "Hay una X en la casilla (6,5) es el átomo ĩ\n",
      "Hay una X en la casilla (6,6) es el átomo İ\n",
      "\n"
     ]
    }
   ],
   "source": [
    "print(\"Cantidad de átomos XenC:\", XenC.rango[1] - XenC.rango[0])\n",
    "print(\"Caracteres correspondientes a los átomos XenC:\\n\")\n",
    "for x in range(Nx):\n",
    "    for y in range(Ny):\n",
    "        atomo = XenC.P([x,y])\n",
    "        print(f\"Hay una X en la casilla ({X[x]},{Y[y]}) es el átomo {atomo}\")\n",
    "    print(\"\")"
   ]
  },
  {
   "cell_type": "markdown",
   "metadata": {},
   "source": [
    "### Decodificando el caracter\n",
    "\n",
    "Ahora podemos incluir un método para visualizar más fácilmente la información que porta cada letra proposicional. Esto es, en nuestro ejemplo en cuestión, nuestro objeto `XenC` representa el cruce de información de que una $X$ encuentra en un lugar. Entonces, al decodificar una letra proposicional, queremos que nos presente claramente esta información y no un caracter inpronunciable (aunque es precisamente este caracter el que usará la máquina). \n",
    "\n",
    "Para ello podemos usar el siguiente método `escribir`: "
   ]
  },
  {
   "cell_type": "code",
   "execution_count": 21,
   "metadata": {},
   "outputs": [],
   "source": [
    "def escribir(self, literal):\n",
    "    if '-' in literal:\n",
    "        atomo = literal[1:]\n",
    "        neg = 'No h'\n",
    "    else:\n",
    "        atomo = literal\n",
    "        neg = 'H'\n",
    "    x, y= self.inv(atomo)\n",
    "    return f\"{neg}ay una X en la casilla ({X[x]},{Y[y]})\"\n",
    "    \n",
    "from types import MethodType\n",
    "\n",
    "XenC.escribir = MethodType(escribir, XenC)"
   ]
  },
  {
   "cell_type": "markdown",
   "metadata": {},
   "source": [
    "---"
   ]
  },
  {
   "cell_type": "markdown",
   "metadata": {},
   "source": [
    "# Implementación de restricciones <a class=\"anchor\" id=\"imp\"></a>\n",
    "\n",
    "([Volver al inicio](#inicio))\n",
    "\n",
    "Ahora es necesario crear las reglas que limitarán los valores de verdad para las letras proposicionales. En nuestro problema tenemos tres restricciones:\n",
    "\n",
    "1. Solo se permite una $X$ por casilla.\n",
    "2. No deben haber tres $X$ seguidas en ninguna dirección (horizontal, vertical o diagonales).\n",
    "3. Deben haber mínimo tres $X$ en cada fila y columna."
   ]
  },
  {
   "cell_type": "markdown",
   "metadata": {},
   "source": [
    "---"
   ]
  },
  {
   "cell_type": "markdown",
   "metadata": {},
   "source": [
    "## Restricción 1\n",
    "\n",
    "Comencemos por considerar la restricción 1, que dice que sólo se permite una $X$ casilla. Note que esta restricción ya se cumple con la implementación del descriptor:\n",
    "\n",
    "$$\\large XenC_{x,y}$$\n",
    "\n",
    "Ya que el mismo se asegura de que en cierta posición solo se encuentre una sola $X$"
   ]
  },
  {
   "cell_type": "markdown",
   "metadata": {},
   "source": [
    "---"
   ]
  },
  {
   "cell_type": "markdown",
   "metadata": {},
   "source": [
    "## Restricción 2\n",
    "\n",
    "Ahora consideremos la restricción 2, que dice no puede haber 3 $X$ seguidas en ninguna dirección.\n",
    "\n",
    "En este caso, se deben revisar 4 direcciones, siendo horizontal, vertical y ambas diagonales. Para comenzar,  se define cada dirección por separado:"
   ]
  },
  {
   "cell_type": "markdown",
   "metadata": {},
   "source": [
    "---"
   ]
  },
  {
   "cell_type": "markdown",
   "metadata": {},
   "source": [
    "### Horizontal ($\\rightarrow$)\n",
    "\n",
    "La fórmula para representar que no pueden haber 3 $X$ seguidas en horizontal es la siguiente:\n",
    "\n",
    "$$\\large \\bigwedge_{x \\in Filas\\atop { y \\in\\{0, 4\\}}}\\biggl(XenC_{x, y}\\wedge XenC_{x, y+1}\\to\\neg\\left(XenC_{x, y+2}\\right)\\biggr)$$\n",
    "\n",
    "Esta fórmula se implementa en Python de la siguiente manera:"
   ]
  },
  {
   "cell_type": "code",
   "execution_count": 22,
   "metadata": {},
   "outputs": [
    {
     "name": "stdout",
     "output_type": "stream",
     "text": [
      "((((((((((((((((((((((((((((((((((((ĀYć)>-Ď)Y((ćYĎ)>-ĕ))Y((ĎYĕ)>-Ĝ))Y((ĕYĜ)>-ģ))Y((ĜYģ)>-Ī))Y((āYĈ)>-ď))Y((ĈYď)>-Ė))Y((ďYĖ)>-ĝ))Y((ĖYĝ)>-Ĥ))Y((ĝYĤ)>-ī))Y((ĂYĉ)>-Đ))Y((ĉYĐ)>-ė))Y((ĐYė)>-Ğ))Y((ėYĞ)>-ĥ))Y((ĞYĥ)>-Ĭ))Y((ăYĊ)>-đ))Y((ĊYđ)>-Ę))Y((đYĘ)>-ğ))Y((ĘYğ)>-Ħ))Y((ğYĦ)>-ĭ))Y((ĄYċ)>-Ē))Y((ċYĒ)>-ę))Y((ĒYę)>-Ġ))Y((ęYĠ)>-ħ))Y((ĠYħ)>-Į))Y((ąYČ)>-ē))Y((ČYē)>-Ě))Y((ēYĚ)>-ġ))Y((ĚYġ)>-Ĩ))Y((ġYĨ)>-į))Y((ĆYč)>-Ĕ))Y((čYĔ)>-ě))Y((ĔYě)>-Ģ))Y((ěYĢ)>-ĩ))Y((ĢYĩ)>-İ))\n",
      "((((((((((((((((((((((((((((((((((((Hay una X en la casilla (0,0) Y Hay una X en la casilla (0,1)) >  no Hay una X en la casilla (0,2)) Y ((Hay una X en la casilla (0,1) Y Hay una X en la casilla (0,2)) >  no Hay una X en la casilla (0,3))) Y ((Hay una X en la casilla (0,2) Y Hay una X en la casilla (0,3)) >  no Hay una X en la casilla (0,4))) Y ((Hay una X en la casilla (0,3) Y Hay una X en la casilla (0,4)) >  no Hay una X en la casilla (0,5))) Y ((Hay una X en la casilla (0,4) Y Hay una X en la casilla (0,5)) >  no Hay una X en la casilla (0,6))) Y ((Hay una X en la casilla (1,0) Y Hay una X en la casilla (1,1)) >  no Hay una X en la casilla (1,2))) Y ((Hay una X en la casilla (1,1) Y Hay una X en la casilla (1,2)) >  no Hay una X en la casilla (1,3))) Y ((Hay una X en la casilla (1,2) Y Hay una X en la casilla (1,3)) >  no Hay una X en la casilla (1,4))) Y ((Hay una X en la casilla (1,3) Y Hay una X en la casilla (1,4)) >  no Hay una X en la casilla (1,5))) Y ((Hay una X en la casilla (1,4) Y Hay una X en la casilla (1,5)) >  no Hay una X en la casilla (1,6))) Y ((Hay una X en la casilla (2,0) Y Hay una X en la casilla (2,1)) >  no Hay una X en la casilla (2,2))) Y ((Hay una X en la casilla (2,1) Y Hay una X en la casilla (2,2)) >  no Hay una X en la casilla (2,3))) Y ((Hay una X en la casilla (2,2) Y Hay una X en la casilla (2,3)) >  no Hay una X en la casilla (2,4))) Y ((Hay una X en la casilla (2,3) Y Hay una X en la casilla (2,4)) >  no Hay una X en la casilla (2,5))) Y ((Hay una X en la casilla (2,4) Y Hay una X en la casilla (2,5)) >  no Hay una X en la casilla (2,6))) Y ((Hay una X en la casilla (3,0) Y Hay una X en la casilla (3,1)) >  no Hay una X en la casilla (3,2))) Y ((Hay una X en la casilla (3,1) Y Hay una X en la casilla (3,2)) >  no Hay una X en la casilla (3,3))) Y ((Hay una X en la casilla (3,2) Y Hay una X en la casilla (3,3)) >  no Hay una X en la casilla (3,4))) Y ((Hay una X en la casilla (3,3) Y Hay una X en la casilla (3,4)) >  no Hay una X en la casilla (3,5))) Y ((Hay una X en la casilla (3,4) Y Hay una X en la casilla (3,5)) >  no Hay una X en la casilla (3,6))) Y ((Hay una X en la casilla (4,0) Y Hay una X en la casilla (4,1)) >  no Hay una X en la casilla (4,2))) Y ((Hay una X en la casilla (4,1) Y Hay una X en la casilla (4,2)) >  no Hay una X en la casilla (4,3))) Y ((Hay una X en la casilla (4,2) Y Hay una X en la casilla (4,3)) >  no Hay una X en la casilla (4,4))) Y ((Hay una X en la casilla (4,3) Y Hay una X en la casilla (4,4)) >  no Hay una X en la casilla (4,5))) Y ((Hay una X en la casilla (4,4) Y Hay una X en la casilla (4,5)) >  no Hay una X en la casilla (4,6))) Y ((Hay una X en la casilla (5,0) Y Hay una X en la casilla (5,1)) >  no Hay una X en la casilla (5,2))) Y ((Hay una X en la casilla (5,1) Y Hay una X en la casilla (5,2)) >  no Hay una X en la casilla (5,3))) Y ((Hay una X en la casilla (5,2) Y Hay una X en la casilla (5,3)) >  no Hay una X en la casilla (5,4))) Y ((Hay una X en la casilla (5,3) Y Hay una X en la casilla (5,4)) >  no Hay una X en la casilla (5,5))) Y ((Hay una X en la casilla (5,4) Y Hay una X en la casilla (5,5)) >  no Hay una X en la casilla (5,6))) Y ((Hay una X en la casilla (6,0) Y Hay una X en la casilla (6,1)) >  no Hay una X en la casilla (6,2))) Y ((Hay una X en la casilla (6,1) Y Hay una X en la casilla (6,2)) >  no Hay una X en la casilla (6,3))) Y ((Hay una X en la casilla (6,2) Y Hay una X en la casilla (6,3)) >  no Hay una X en la casilla (6,4))) Y ((Hay una X en la casilla (6,3) Y Hay una X en la casilla (6,4)) >  no Hay una X en la casilla (6,5))) Y ((Hay una X en la casilla (6,4) Y Hay una X en la casilla (6,5)) >  no Hay una X en la casilla (6,6)))\n"
     ]
    }
   ],
   "source": [
    "x = 0\n",
    "y = 0\n",
    "Direcciones = []\n",
    "formula1 = ''\n",
    "inicial = True\n",
    "for x in X:\n",
    "    for y in range(5):\n",
    "        if inicial:\n",
    "            formula1 = '(' + '(' + XenC.P([x,y]) + 'Y' + XenC.P([x,y+1]) + ')' + '>-' + XenC.P([x,y+2]) + ')'\n",
    "            inicial = False\n",
    "        else:\n",
    "            formula1 = \"(\" + formula1 + \"Y\" + '(' + '(' + XenC.P([x,y]) + 'Y' + XenC.P([x,y+1]) + ')' + '>-' + XenC.P([x,y+2]) + '))'\n",
    "\n",
    "print(formula1)\n",
    "print(visualizar_formula(formula1, XenC))\n",
    "Direcciones.append(formula1)\n",
    "A = inorder_to_tree(formula1)"
   ]
  },
  {
   "cell_type": "markdown",
   "metadata": {},
   "source": [
    "---"
   ]
  },
  {
   "cell_type": "markdown",
   "metadata": {},
   "source": [
    "### Vertical ($\\downarrow$)\n",
    "\n",
    "La fórmula para representar que no pueden haber 3 $X$ seguidas en vertical es la siguiente:\n",
    "\n",
    "$$\\large \\bigwedge_{x \\in\\{0, 4\\}\\atop { y \\in Columnas}}\\biggl(XenC_{x, y}\\wedge XenC_{x+1, y}\\to\\neg\\left(XenC_{x+2, y}\\right)\\biggr)$$\n",
    "\n",
    "Esta fórmula se implementa en Python de la siguiente manera:\n"
   ]
  },
  {
   "cell_type": "code",
   "execution_count": 24,
   "metadata": {},
   "outputs": [
    {
     "name": "stdout",
     "output_type": "stream",
     "text": [
      "((((((((((((((((((((((((((((((((((((ĀYā)>-Ă)Y((āYĂ)>-ă))Y((ĂYă)>-Ą))Y((ăYĄ)>-ą))Y((ĄYą)>-Ć))Y((ćYĈ)>-ĉ))Y((ĈYĉ)>-Ċ))Y((ĉYĊ)>-ċ))Y((ĊYċ)>-Č))Y((ċYČ)>-č))Y((ĎYď)>-Đ))Y((ďYĐ)>-đ))Y((ĐYđ)>-Ē))Y((đYĒ)>-ē))Y((ĒYē)>-Ĕ))Y((ĕYĖ)>-ė))Y((ĖYė)>-Ę))Y((ėYĘ)>-ę))Y((ĘYę)>-Ě))Y((ęYĚ)>-ě))Y((ĜYĝ)>-Ğ))Y((ĝYĞ)>-ğ))Y((ĞYğ)>-Ġ))Y((ğYĠ)>-ġ))Y((ĠYġ)>-Ģ))Y((ģYĤ)>-ĥ))Y((ĤYĥ)>-Ħ))Y((ĥYĦ)>-ħ))Y((ĦYħ)>-Ĩ))Y((ħYĨ)>-ĩ))Y((ĪYī)>-Ĭ))Y((īYĬ)>-ĭ))Y((ĬYĭ)>-Į))Y((ĭYĮ)>-į))Y((ĮYį)>-İ))\n",
      "((((((((((((((((((((((((((((((((((((Hay una X en la casilla (0,0) Y Hay una X en la casilla (1,0)) >  no Hay una X en la casilla (2,0)) Y ((Hay una X en la casilla (1,0) Y Hay una X en la casilla (2,0)) >  no Hay una X en la casilla (3,0))) Y ((Hay una X en la casilla (2,0) Y Hay una X en la casilla (3,0)) >  no Hay una X en la casilla (4,0))) Y ((Hay una X en la casilla (3,0) Y Hay una X en la casilla (4,0)) >  no Hay una X en la casilla (5,0))) Y ((Hay una X en la casilla (4,0) Y Hay una X en la casilla (5,0)) >  no Hay una X en la casilla (6,0))) Y ((Hay una X en la casilla (0,1) Y Hay una X en la casilla (1,1)) >  no Hay una X en la casilla (2,1))) Y ((Hay una X en la casilla (1,1) Y Hay una X en la casilla (2,1)) >  no Hay una X en la casilla (3,1))) Y ((Hay una X en la casilla (2,1) Y Hay una X en la casilla (3,1)) >  no Hay una X en la casilla (4,1))) Y ((Hay una X en la casilla (3,1) Y Hay una X en la casilla (4,1)) >  no Hay una X en la casilla (5,1))) Y ((Hay una X en la casilla (4,1) Y Hay una X en la casilla (5,1)) >  no Hay una X en la casilla (6,1))) Y ((Hay una X en la casilla (0,2) Y Hay una X en la casilla (1,2)) >  no Hay una X en la casilla (2,2))) Y ((Hay una X en la casilla (1,2) Y Hay una X en la casilla (2,2)) >  no Hay una X en la casilla (3,2))) Y ((Hay una X en la casilla (2,2) Y Hay una X en la casilla (3,2)) >  no Hay una X en la casilla (4,2))) Y ((Hay una X en la casilla (3,2) Y Hay una X en la casilla (4,2)) >  no Hay una X en la casilla (5,2))) Y ((Hay una X en la casilla (4,2) Y Hay una X en la casilla (5,2)) >  no Hay una X en la casilla (6,2))) Y ((Hay una X en la casilla (0,3) Y Hay una X en la casilla (1,3)) >  no Hay una X en la casilla (2,3))) Y ((Hay una X en la casilla (1,3) Y Hay una X en la casilla (2,3)) >  no Hay una X en la casilla (3,3))) Y ((Hay una X en la casilla (2,3) Y Hay una X en la casilla (3,3)) >  no Hay una X en la casilla (4,3))) Y ((Hay una X en la casilla (3,3) Y Hay una X en la casilla (4,3)) >  no Hay una X en la casilla (5,3))) Y ((Hay una X en la casilla (4,3) Y Hay una X en la casilla (5,3)) >  no Hay una X en la casilla (6,3))) Y ((Hay una X en la casilla (0,4) Y Hay una X en la casilla (1,4)) >  no Hay una X en la casilla (2,4))) Y ((Hay una X en la casilla (1,4) Y Hay una X en la casilla (2,4)) >  no Hay una X en la casilla (3,4))) Y ((Hay una X en la casilla (2,4) Y Hay una X en la casilla (3,4)) >  no Hay una X en la casilla (4,4))) Y ((Hay una X en la casilla (3,4) Y Hay una X en la casilla (4,4)) >  no Hay una X en la casilla (5,4))) Y ((Hay una X en la casilla (4,4) Y Hay una X en la casilla (5,4)) >  no Hay una X en la casilla (6,4))) Y ((Hay una X en la casilla (0,5) Y Hay una X en la casilla (1,5)) >  no Hay una X en la casilla (2,5))) Y ((Hay una X en la casilla (1,5) Y Hay una X en la casilla (2,5)) >  no Hay una X en la casilla (3,5))) Y ((Hay una X en la casilla (2,5) Y Hay una X en la casilla (3,5)) >  no Hay una X en la casilla (4,5))) Y ((Hay una X en la casilla (3,5) Y Hay una X en la casilla (4,5)) >  no Hay una X en la casilla (5,5))) Y ((Hay una X en la casilla (4,5) Y Hay una X en la casilla (5,5)) >  no Hay una X en la casilla (6,5))) Y ((Hay una X en la casilla (0,6) Y Hay una X en la casilla (1,6)) >  no Hay una X en la casilla (2,6))) Y ((Hay una X en la casilla (1,6) Y Hay una X en la casilla (2,6)) >  no Hay una X en la casilla (3,6))) Y ((Hay una X en la casilla (2,6) Y Hay una X en la casilla (3,6)) >  no Hay una X en la casilla (4,6))) Y ((Hay una X en la casilla (3,6) Y Hay una X en la casilla (4,6)) >  no Hay una X en la casilla (5,6))) Y ((Hay una X en la casilla (4,6) Y Hay una X en la casilla (5,6)) >  no Hay una X en la casilla (6,6)))\n"
     ]
    }
   ],
   "source": [
    "x = 0\n",
    "y = 0\n",
    "formula2 = ''\n",
    "inicial = True\n",
    "for y in Y:\n",
    "    for x in range(5):\n",
    "        if inicial:\n",
    "            formula2 = '(' + '(' + XenC.P([x,y]) + 'Y' + XenC.P([x+1,y]) + ')' + '>-' + XenC.P([x+2,y]) + ')'\n",
    "            inicial = False\n",
    "        else:\n",
    "            formula2 = \"(\" + formula2 + \"Y\" + '(' + '(' + XenC.P([x,y]) + 'Y' + XenC.P([x+1,y]) + ')' + '>-' + XenC.P([x+2,y]) + '))'\n",
    "\n",
    "print(formula2)\n",
    "print(visualizar_formula(formula2, XenC))\n",
    "Direcciones.append(formula2)"
   ]
  },
  {
   "cell_type": "markdown",
   "metadata": {},
   "source": [
    "---"
   ]
  },
  {
   "cell_type": "markdown",
   "metadata": {},
   "source": [
    "### Diagonal Derecha ($\\searrow$)\n",
    "\n",
    "La fórmula para representar que no pueden haber 3 $X$ seguidas en diagonal derecha ($\\searrow$) es la siguiente:\n",
    "\n",
    "$$\\large \\bigwedge_{x \\in\\{0, 4\\}\\atop { y \\in\\{0, 4\\}}}\\biggl(XenC_{x, y}\\wedge XenC_{x+1, y+1}\\to\\neg\\left(XenC_{x+2, y+2}\\right)\\biggr)$$\n",
    "\n",
    "Esta fórmula se implementa en Python de la siguiente manera:\n"
   ]
  },
  {
   "cell_type": "code",
   "execution_count": 25,
   "metadata": {},
   "outputs": [
    {
     "name": "stdout",
     "output_type": "stream",
     "text": [
      "((((((((((((((((((((((((((ĀYĈ)>-Đ)Y((ćYď)>-ė))Y((ĎYĖ)>-Ğ))Y((ĕYĝ)>-ĥ))Y((ĜYĤ)>-Ĭ))Y((āYĉ)>-đ))Y((ĈYĐ)>-Ę))Y((ďYė)>-ğ))Y((ĖYĞ)>-Ħ))Y((ĝYĥ)>-ĭ))Y((ĂYĊ)>-Ē))Y((ĉYđ)>-ę))Y((ĐYĘ)>-Ġ))Y((ėYğ)>-ħ))Y((ĞYĦ)>-Į))Y((ăYċ)>-ē))Y((ĊYĒ)>-Ě))Y((đYę)>-ġ))Y((ĘYĠ)>-Ĩ))Y((ğYħ)>-į))Y((ĄYČ)>-Ĕ))Y((ċYē)>-ě))Y((ĒYĚ)>-Ģ))Y((ęYġ)>-ĩ))Y((ĠYĨ)>-İ))\n",
      "((((((((((((((((((((((((((Hay una X en la casilla (0,0) Y Hay una X en la casilla (1,1)) >  no Hay una X en la casilla (2,2)) Y ((Hay una X en la casilla (0,1) Y Hay una X en la casilla (1,2)) >  no Hay una X en la casilla (2,3))) Y ((Hay una X en la casilla (0,2) Y Hay una X en la casilla (1,3)) >  no Hay una X en la casilla (2,4))) Y ((Hay una X en la casilla (0,3) Y Hay una X en la casilla (1,4)) >  no Hay una X en la casilla (2,5))) Y ((Hay una X en la casilla (0,4) Y Hay una X en la casilla (1,5)) >  no Hay una X en la casilla (2,6))) Y ((Hay una X en la casilla (1,0) Y Hay una X en la casilla (2,1)) >  no Hay una X en la casilla (3,2))) Y ((Hay una X en la casilla (1,1) Y Hay una X en la casilla (2,2)) >  no Hay una X en la casilla (3,3))) Y ((Hay una X en la casilla (1,2) Y Hay una X en la casilla (2,3)) >  no Hay una X en la casilla (3,4))) Y ((Hay una X en la casilla (1,3) Y Hay una X en la casilla (2,4)) >  no Hay una X en la casilla (3,5))) Y ((Hay una X en la casilla (1,4) Y Hay una X en la casilla (2,5)) >  no Hay una X en la casilla (3,6))) Y ((Hay una X en la casilla (2,0) Y Hay una X en la casilla (3,1)) >  no Hay una X en la casilla (4,2))) Y ((Hay una X en la casilla (2,1) Y Hay una X en la casilla (3,2)) >  no Hay una X en la casilla (4,3))) Y ((Hay una X en la casilla (2,2) Y Hay una X en la casilla (3,3)) >  no Hay una X en la casilla (4,4))) Y ((Hay una X en la casilla (2,3) Y Hay una X en la casilla (3,4)) >  no Hay una X en la casilla (4,5))) Y ((Hay una X en la casilla (2,4) Y Hay una X en la casilla (3,5)) >  no Hay una X en la casilla (4,6))) Y ((Hay una X en la casilla (3,0) Y Hay una X en la casilla (4,1)) >  no Hay una X en la casilla (5,2))) Y ((Hay una X en la casilla (3,1) Y Hay una X en la casilla (4,2)) >  no Hay una X en la casilla (5,3))) Y ((Hay una X en la casilla (3,2) Y Hay una X en la casilla (4,3)) >  no Hay una X en la casilla (5,4))) Y ((Hay una X en la casilla (3,3) Y Hay una X en la casilla (4,4)) >  no Hay una X en la casilla (5,5))) Y ((Hay una X en la casilla (3,4) Y Hay una X en la casilla (4,5)) >  no Hay una X en la casilla (5,6))) Y ((Hay una X en la casilla (4,0) Y Hay una X en la casilla (5,1)) >  no Hay una X en la casilla (6,2))) Y ((Hay una X en la casilla (4,1) Y Hay una X en la casilla (5,2)) >  no Hay una X en la casilla (6,3))) Y ((Hay una X en la casilla (4,2) Y Hay una X en la casilla (5,3)) >  no Hay una X en la casilla (6,4))) Y ((Hay una X en la casilla (4,3) Y Hay una X en la casilla (5,4)) >  no Hay una X en la casilla (6,5))) Y ((Hay una X en la casilla (4,4) Y Hay una X en la casilla (5,5)) >  no Hay una X en la casilla (6,6)))\n"
     ]
    }
   ],
   "source": [
    "x = 0\n",
    "y = 0\n",
    "formula3 = ''\n",
    "inicial = True\n",
    "for x in range(5):\n",
    "    for y in range(5):\n",
    "        if inicial:\n",
    "            formula3 = '(' + '(' + XenC.P([x,y]) + 'Y' + XenC.P([x+1,y+1]) + ')' + '>-' + XenC.P([x+2,y+2]) + ')'\n",
    "            inicial = False\n",
    "        else:\n",
    "            formula3 = \"(\" + formula3 + \"Y\" + '(' + '(' + XenC.P([x,y]) + 'Y' + XenC.P([x+1,y+1]) + ')' + '>-' + XenC.P([x+2,y+2]) + '))'\n",
    "\n",
    "print(formula3)\n",
    "print(visualizar_formula(formula3, XenC))\n",
    "Direcciones.append(formula3)"
   ]
  },
  {
   "cell_type": "markdown",
   "metadata": {},
   "source": [
    "---"
   ]
  },
  {
   "cell_type": "markdown",
   "metadata": {},
   "source": [
    "### Diagonal Izquierda ($\\swarrow$)\n",
    "\n",
    "La fórmula para representar que no pueden haber 3 $X$ seguidas en diagonal izquierda ($\\swarrow$) es la siguiente:\n",
    "\n",
    "$$\\large \\bigwedge_{x \\in\\{0, 4\\}\\atop { y \\in\\{2, 6\\}}}\\biggl(XenC_{x, y}\\wedge XenC_{x+1, y-1}\\to\\neg\\left(XenC_{x+2, y-2}\\right)\\biggr)$$\n",
    "\n",
    "Esta fórmula se implementa en Python de la siguiente manera:\n"
   ]
  },
  {
   "cell_type": "code",
   "execution_count": 26,
   "metadata": {},
   "outputs": [
    {
     "name": "stdout",
     "output_type": "stream",
     "text": [
      "((((((((((((((((((((((((((ĎYĈ)>-Ă)Y((ĕYď)>-ĉ))Y((ĜYĖ)>-Đ))Y((ģYĝ)>-ė))Y((ĪYĤ)>-Ğ))Y((ďYĉ)>-ă))Y((ĖYĐ)>-Ċ))Y((ĝYė)>-đ))Y((ĤYĞ)>-Ę))Y((īYĥ)>-ğ))Y((ĐYĊ)>-Ą))Y((ėYđ)>-ċ))Y((ĞYĘ)>-Ē))Y((ĥYğ)>-ę))Y((ĬYĦ)>-Ġ))Y((đYċ)>-ą))Y((ĘYĒ)>-Č))Y((ğYę)>-ē))Y((ĦYĠ)>-Ě))Y((ĭYħ)>-ġ))Y((ĒYČ)>-Ć))Y((ęYē)>-č))Y((ĠYĚ)>-Ĕ))Y((ħYġ)>-ě))Y((ĮYĨ)>-Ģ))\n",
      "((((((((((((((((((((((((((Hay una X en la casilla (0,2) Y Hay una X en la casilla (1,1)) >  no Hay una X en la casilla (2,0)) Y ((Hay una X en la casilla (0,3) Y Hay una X en la casilla (1,2)) >  no Hay una X en la casilla (2,1))) Y ((Hay una X en la casilla (0,4) Y Hay una X en la casilla (1,3)) >  no Hay una X en la casilla (2,2))) Y ((Hay una X en la casilla (0,5) Y Hay una X en la casilla (1,4)) >  no Hay una X en la casilla (2,3))) Y ((Hay una X en la casilla (0,6) Y Hay una X en la casilla (1,5)) >  no Hay una X en la casilla (2,4))) Y ((Hay una X en la casilla (1,2) Y Hay una X en la casilla (2,1)) >  no Hay una X en la casilla (3,0))) Y ((Hay una X en la casilla (1,3) Y Hay una X en la casilla (2,2)) >  no Hay una X en la casilla (3,1))) Y ((Hay una X en la casilla (1,4) Y Hay una X en la casilla (2,3)) >  no Hay una X en la casilla (3,2))) Y ((Hay una X en la casilla (1,5) Y Hay una X en la casilla (2,4)) >  no Hay una X en la casilla (3,3))) Y ((Hay una X en la casilla (1,6) Y Hay una X en la casilla (2,5)) >  no Hay una X en la casilla (3,4))) Y ((Hay una X en la casilla (2,2) Y Hay una X en la casilla (3,1)) >  no Hay una X en la casilla (4,0))) Y ((Hay una X en la casilla (2,3) Y Hay una X en la casilla (3,2)) >  no Hay una X en la casilla (4,1))) Y ((Hay una X en la casilla (2,4) Y Hay una X en la casilla (3,3)) >  no Hay una X en la casilla (4,2))) Y ((Hay una X en la casilla (2,5) Y Hay una X en la casilla (3,4)) >  no Hay una X en la casilla (4,3))) Y ((Hay una X en la casilla (2,6) Y Hay una X en la casilla (3,5)) >  no Hay una X en la casilla (4,4))) Y ((Hay una X en la casilla (3,2) Y Hay una X en la casilla (4,1)) >  no Hay una X en la casilla (5,0))) Y ((Hay una X en la casilla (3,3) Y Hay una X en la casilla (4,2)) >  no Hay una X en la casilla (5,1))) Y ((Hay una X en la casilla (3,4) Y Hay una X en la casilla (4,3)) >  no Hay una X en la casilla (5,2))) Y ((Hay una X en la casilla (3,5) Y Hay una X en la casilla (4,4)) >  no Hay una X en la casilla (5,3))) Y ((Hay una X en la casilla (3,6) Y Hay una X en la casilla (4,5)) >  no Hay una X en la casilla (5,4))) Y ((Hay una X en la casilla (4,2) Y Hay una X en la casilla (5,1)) >  no Hay una X en la casilla (6,0))) Y ((Hay una X en la casilla (4,3) Y Hay una X en la casilla (5,2)) >  no Hay una X en la casilla (6,1))) Y ((Hay una X en la casilla (4,4) Y Hay una X en la casilla (5,3)) >  no Hay una X en la casilla (6,2))) Y ((Hay una X en la casilla (4,5) Y Hay una X en la casilla (5,4)) >  no Hay una X en la casilla (6,3))) Y ((Hay una X en la casilla (4,6) Y Hay una X en la casilla (5,5)) >  no Hay una X en la casilla (6,4)))\n"
     ]
    }
   ],
   "source": [
    "x = 0\n",
    "y = 0\n",
    "formula4 = ''\n",
    "inicial = True\n",
    "for x in range(5):\n",
    "    for y in range(2,7):\n",
    "        if inicial:\n",
    "            formula4 = '(' + '(' + XenC.P([x,y]) + 'Y' + XenC.P([x+1,y-1]) + ')' + '>-' + XenC.P([x+2,y-2]) + ')'\n",
    "            inicial = False\n",
    "        else:\n",
    "            formula4 = \"(\" + formula4 + \"Y\" + '(' + '(' + XenC.P([x,y]) + 'Y' + XenC.P([x+1,y-1]) + ')' + '>-' + XenC.P([x+2,y-2]) + '))'\n",
    "\n",
    "print(formula4)\n",
    "print(visualizar_formula(formula4, XenC))\n",
    "Direcciones.append(formula4)"
   ]
  },
  {
   "cell_type": "markdown",
   "metadata": {},
   "source": [
    "### Fórmula general\n",
    "\n",
    "Para satisfacer completamente la restricción, se deben unir las 4 fórmulas anteriores de la siguiente manera:\n",
    "\n",
    "$$\\normalsize \\bigwedge_{x \\in Filas\\atop { y \\in\\{0, 4\\}}}\\biggl(XenC_{x, y}\\wedge XenC_{x, y+1}\\to\\neg\\left(XenC_{x, y+2}\\right)\\biggr) \\wedge \\bigwedge_{x \\in\\{0, 4\\}\\atop { y \\in Columnas}}\\biggl(XenC_{x, y}\\wedge XenC_{x+1, y}\\to\\neg\\left(XenC_{x+2, y}\\right)\\biggr) \\wedge \\bigwedge_{x \\in\\{0, 4\\}\\atop { y \\in\\{0, 4\\}}}\\biggl(XenC_{x, y}\\wedge XenC_{x+1, y+1}\\to\\neg\\left(XenC_{x+2, y+2}\\right)\\biggr) \\wedge \\bigwedge_{x \\in\\{0, 4\\}\\atop { y \\in\\{2, 6\\}}}\\biggl(XenC_{x, y}\\wedge XenC_{x+1, y-1}\\to\\neg\\left(XenC_{x+2, y-2}\\right)\\biggr)$$\n",
    "\n",
    "Esta fórmula se implementa en Python de la siguiente manera:"
   ]
  },
  {
   "cell_type": "code",
   "execution_count": 27,
   "metadata": {},
   "outputs": [
    {
     "name": "stdout",
     "output_type": "stream",
     "text": [
      "((((((((((((((((((((((((((((((((((((((((ĀYć)>-Ď)Y((ćYĎ)>-ĕ))Y((ĎYĕ)>-Ĝ))Y((ĕYĜ)>-ģ))Y((ĜYģ)>-Ī))Y((āYĈ)>-ď))Y((ĈYď)>-Ė))Y((ďYĖ)>-ĝ))Y((ĖYĝ)>-Ĥ))Y((ĝYĤ)>-ī))Y((ĂYĉ)>-Đ))Y((ĉYĐ)>-ė))Y((ĐYė)>-Ğ))Y((ėYĞ)>-ĥ))Y((ĞYĥ)>-Ĭ))Y((ăYĊ)>-đ))Y((ĊYđ)>-Ę))Y((đYĘ)>-ğ))Y((ĘYğ)>-Ħ))Y((ğYĦ)>-ĭ))Y((ĄYċ)>-Ē))Y((ċYĒ)>-ę))Y((ĒYę)>-Ġ))Y((ęYĠ)>-ħ))Y((ĠYħ)>-Į))Y((ąYČ)>-ē))Y((ČYē)>-Ě))Y((ēYĚ)>-ġ))Y((ĚYġ)>-Ĩ))Y((ġYĨ)>-į))Y((ĆYč)>-Ĕ))Y((čYĔ)>-ě))Y((ĔYě)>-Ģ))Y((ěYĢ)>-ĩ))Y((ĢYĩ)>-İ))Y((((((((((((((((((((((((((((((((((((ĀYā)>-(Ă))Y((āYĂ)>-(ă)))Y((ĂYă)>-(Ą)))Y((ăYĄ)>-(ą)))Y((ĄYą)>-(Ć)))Y((ćYĈ)>-(ĉ)))Y((ĈYĉ)>-(Ċ)))Y((ĉYĊ)>-(ċ)))Y((ĊYċ)>-(Č)))Y((ċYČ)>-(č)))Y((ĎYď)>-(Đ)))Y((ďYĐ)>-(đ)))Y((ĐYđ)>-(Ē)))Y((đYĒ)>-(ē)))Y((ĒYē)>-(Ĕ)))Y((ĕYĖ)>-(ė)))Y((ĖYė)>-(Ę)))Y((ėYĘ)>-(ę)))Y((ĘYę)>-(Ě)))Y((ęYĚ)>-(ě)))Y((ĜYĝ)>-(Ğ)))Y((ĝYĞ)>-(ğ)))Y((ĞYğ)>-(Ġ)))Y((ğYĠ)>-(ġ)))Y((ĠYġ)>-(Ģ)))Y((ģYĤ)>-(ĥ)))Y((ĤYĥ)>-(Ħ)))Y((ĥYĦ)>-(ħ)))Y((ĦYħ)>-(Ĩ)))Y((ħYĨ)>-(ĩ)))Y((ĪYī)>-(Ĭ)))Y((īYĬ)>-(ĭ)))Y((ĬYĭ)>-(Į)))Y((ĭYĮ)>-(į)))Y((ĮYį)>-(İ))))Y((((((((((((((((((((((((((((((((((((ĀYā)>-Ă)Y((āYĂ)>-ă))Y((ĂYă)>-Ą))Y((ăYĄ)>-ą))Y((ĄYą)>-Ć))Y((ćYĈ)>-ĉ))Y((ĈYĉ)>-Ċ))Y((ĉYĊ)>-ċ))Y((ĊYċ)>-Č))Y((ċYČ)>-č))Y((ĎYď)>-Đ))Y((ďYĐ)>-đ))Y((ĐYđ)>-Ē))Y((đYĒ)>-ē))Y((ĒYē)>-Ĕ))Y((ĕYĖ)>-ė))Y((ĖYė)>-Ę))Y((ėYĘ)>-ę))Y((ĘYę)>-Ě))Y((ęYĚ)>-ě))Y((ĜYĝ)>-Ğ))Y((ĝYĞ)>-ğ))Y((ĞYğ)>-Ġ))Y((ğYĠ)>-ġ))Y((ĠYġ)>-Ģ))Y((ģYĤ)>-ĥ))Y((ĤYĥ)>-Ħ))Y((ĥYĦ)>-ħ))Y((ĦYħ)>-Ĩ))Y((ħYĨ)>-ĩ))Y((ĪYī)>-Ĭ))Y((īYĬ)>-ĭ))Y((ĬYĭ)>-Į))Y((ĭYĮ)>-į))Y((ĮYį)>-İ)))Y((((((((((((((((((((((((((ĀYĈ)>-Đ)Y((ćYď)>-ė))Y((ĎYĖ)>-Ğ))Y((ĕYĝ)>-ĥ))Y((ĜYĤ)>-Ĭ))Y((āYĉ)>-đ))Y((ĈYĐ)>-Ę))Y((ďYė)>-ğ))Y((ĖYĞ)>-Ħ))Y((ĝYĥ)>-ĭ))Y((ĂYĊ)>-Ē))Y((ĉYđ)>-ę))Y((ĐYĘ)>-Ġ))Y((ėYğ)>-ħ))Y((ĞYĦ)>-Į))Y((ăYċ)>-ē))Y((ĊYĒ)>-Ě))Y((đYę)>-ġ))Y((ĘYĠ)>-Ĩ))Y((ğYħ)>-į))Y((ĄYČ)>-Ĕ))Y((ċYē)>-ě))Y((ĒYĚ)>-Ģ))Y((ęYġ)>-ĩ))Y((ĠYĨ)>-İ)))Y((((((((((((((((((((((((((ĎYĈ)>-Ă)Y((ĕYď)>-ĉ))Y((ĜYĖ)>-Đ))Y((ģYĝ)>-ė))Y((ĪYĤ)>-Ğ))Y((ďYĉ)>-ă))Y((ĖYĐ)>-Ċ))Y((ĝYė)>-đ))Y((ĤYĞ)>-Ę))Y((īYĥ)>-ğ))Y((ĐYĊ)>-Ą))Y((ėYđ)>-ċ))Y((ĞYĘ)>-Ē))Y((ĥYğ)>-ę))Y((ĬYĦ)>-Ġ))Y((đYċ)>-ą))Y((ĘYĒ)>-Č))Y((ğYę)>-ē))Y((ĦYĠ)>-Ě))Y((ĭYħ)>-ġ))Y((ĒYČ)>-Ć))Y((ęYē)>-č))Y((ĠYĚ)>-Ĕ))Y((ħYġ)>-ě))Y((ĮYĨ)>-Ģ)))\n",
      "((((((((((((((((((((((((((((((((((((((((Hay una X en la casilla (0,0) Y Hay una X en la casilla (0,1)) >  no Hay una X en la casilla (0,2)) Y ((Hay una X en la casilla (0,1) Y Hay una X en la casilla (0,2)) >  no Hay una X en la casilla (0,3))) Y ((Hay una X en la casilla (0,2) Y Hay una X en la casilla (0,3)) >  no Hay una X en la casilla (0,4))) Y ((Hay una X en la casilla (0,3) Y Hay una X en la casilla (0,4)) >  no Hay una X en la casilla (0,5))) Y ((Hay una X en la casilla (0,4) Y Hay una X en la casilla (0,5)) >  no Hay una X en la casilla (0,6))) Y ((Hay una X en la casilla (1,0) Y Hay una X en la casilla (1,1)) >  no Hay una X en la casilla (1,2))) Y ((Hay una X en la casilla (1,1) Y Hay una X en la casilla (1,2)) >  no Hay una X en la casilla (1,3))) Y ((Hay una X en la casilla (1,2) Y Hay una X en la casilla (1,3)) >  no Hay una X en la casilla (1,4))) Y ((Hay una X en la casilla (1,3) Y Hay una X en la casilla (1,4)) >  no Hay una X en la casilla (1,5))) Y ((Hay una X en la casilla (1,4) Y Hay una X en la casilla (1,5)) >  no Hay una X en la casilla (1,6))) Y ((Hay una X en la casilla (2,0) Y Hay una X en la casilla (2,1)) >  no Hay una X en la casilla (2,2))) Y ((Hay una X en la casilla (2,1) Y Hay una X en la casilla (2,2)) >  no Hay una X en la casilla (2,3))) Y ((Hay una X en la casilla (2,2) Y Hay una X en la casilla (2,3)) >  no Hay una X en la casilla (2,4))) Y ((Hay una X en la casilla (2,3) Y Hay una X en la casilla (2,4)) >  no Hay una X en la casilla (2,5))) Y ((Hay una X en la casilla (2,4) Y Hay una X en la casilla (2,5)) >  no Hay una X en la casilla (2,6))) Y ((Hay una X en la casilla (3,0) Y Hay una X en la casilla (3,1)) >  no Hay una X en la casilla (3,2))) Y ((Hay una X en la casilla (3,1) Y Hay una X en la casilla (3,2)) >  no Hay una X en la casilla (3,3))) Y ((Hay una X en la casilla (3,2) Y Hay una X en la casilla (3,3)) >  no Hay una X en la casilla (3,4))) Y ((Hay una X en la casilla (3,3) Y Hay una X en la casilla (3,4)) >  no Hay una X en la casilla (3,5))) Y ((Hay una X en la casilla (3,4) Y Hay una X en la casilla (3,5)) >  no Hay una X en la casilla (3,6))) Y ((Hay una X en la casilla (4,0) Y Hay una X en la casilla (4,1)) >  no Hay una X en la casilla (4,2))) Y ((Hay una X en la casilla (4,1) Y Hay una X en la casilla (4,2)) >  no Hay una X en la casilla (4,3))) Y ((Hay una X en la casilla (4,2) Y Hay una X en la casilla (4,3)) >  no Hay una X en la casilla (4,4))) Y ((Hay una X en la casilla (4,3) Y Hay una X en la casilla (4,4)) >  no Hay una X en la casilla (4,5))) Y ((Hay una X en la casilla (4,4) Y Hay una X en la casilla (4,5)) >  no Hay una X en la casilla (4,6))) Y ((Hay una X en la casilla (5,0) Y Hay una X en la casilla (5,1)) >  no Hay una X en la casilla (5,2))) Y ((Hay una X en la casilla (5,1) Y Hay una X en la casilla (5,2)) >  no Hay una X en la casilla (5,3))) Y ((Hay una X en la casilla (5,2) Y Hay una X en la casilla (5,3)) >  no Hay una X en la casilla (5,4))) Y ((Hay una X en la casilla (5,3) Y Hay una X en la casilla (5,4)) >  no Hay una X en la casilla (5,5))) Y ((Hay una X en la casilla (5,4) Y Hay una X en la casilla (5,5)) >  no Hay una X en la casilla (5,6))) Y ((Hay una X en la casilla (6,0) Y Hay una X en la casilla (6,1)) >  no Hay una X en la casilla (6,2))) Y ((Hay una X en la casilla (6,1) Y Hay una X en la casilla (6,2)) >  no Hay una X en la casilla (6,3))) Y ((Hay una X en la casilla (6,2) Y Hay una X en la casilla (6,3)) >  no Hay una X en la casilla (6,4))) Y ((Hay una X en la casilla (6,3) Y Hay una X en la casilla (6,4)) >  no Hay una X en la casilla (6,5))) Y ((Hay una X en la casilla (6,4) Y Hay una X en la casilla (6,5)) >  no Hay una X en la casilla (6,6))) Y ((((((((((((((((((((((((((((((((((((Hay una X en la casilla (0,0) Y Hay una X en la casilla (1,0)) >  no (Hay una X en la casilla (2,0))) Y ((Hay una X en la casilla (1,0) Y Hay una X en la casilla (2,0)) >  no (Hay una X en la casilla (3,0)))) Y ((Hay una X en la casilla (2,0) Y Hay una X en la casilla (3,0)) >  no (Hay una X en la casilla (4,0)))) Y ((Hay una X en la casilla (3,0) Y Hay una X en la casilla (4,0)) >  no (Hay una X en la casilla (5,0)))) Y ((Hay una X en la casilla (4,0) Y Hay una X en la casilla (5,0)) >  no (Hay una X en la casilla (6,0)))) Y ((Hay una X en la casilla (0,1) Y Hay una X en la casilla (1,1)) >  no (Hay una X en la casilla (2,1)))) Y ((Hay una X en la casilla (1,1) Y Hay una X en la casilla (2,1)) >  no (Hay una X en la casilla (3,1)))) Y ((Hay una X en la casilla (2,1) Y Hay una X en la casilla (3,1)) >  no (Hay una X en la casilla (4,1)))) Y ((Hay una X en la casilla (3,1) Y Hay una X en la casilla (4,1)) >  no (Hay una X en la casilla (5,1)))) Y ((Hay una X en la casilla (4,1) Y Hay una X en la casilla (5,1)) >  no (Hay una X en la casilla (6,1)))) Y ((Hay una X en la casilla (0,2) Y Hay una X en la casilla (1,2)) >  no (Hay una X en la casilla (2,2)))) Y ((Hay una X en la casilla (1,2) Y Hay una X en la casilla (2,2)) >  no (Hay una X en la casilla (3,2)))) Y ((Hay una X en la casilla (2,2) Y Hay una X en la casilla (3,2)) >  no (Hay una X en la casilla (4,2)))) Y ((Hay una X en la casilla (3,2) Y Hay una X en la casilla (4,2)) >  no (Hay una X en la casilla (5,2)))) Y ((Hay una X en la casilla (4,2) Y Hay una X en la casilla (5,2)) >  no (Hay una X en la casilla (6,2)))) Y ((Hay una X en la casilla (0,3) Y Hay una X en la casilla (1,3)) >  no (Hay una X en la casilla (2,3)))) Y ((Hay una X en la casilla (1,3) Y Hay una X en la casilla (2,3)) >  no (Hay una X en la casilla (3,3)))) Y ((Hay una X en la casilla (2,3) Y Hay una X en la casilla (3,3)) >  no (Hay una X en la casilla (4,3)))) Y ((Hay una X en la casilla (3,3) Y Hay una X en la casilla (4,3)) >  no (Hay una X en la casilla (5,3)))) Y ((Hay una X en la casilla (4,3) Y Hay una X en la casilla (5,3)) >  no (Hay una X en la casilla (6,3)))) Y ((Hay una X en la casilla (0,4) Y Hay una X en la casilla (1,4)) >  no (Hay una X en la casilla (2,4)))) Y ((Hay una X en la casilla (1,4) Y Hay una X en la casilla (2,4)) >  no (Hay una X en la casilla (3,4)))) Y ((Hay una X en la casilla (2,4) Y Hay una X en la casilla (3,4)) >  no (Hay una X en la casilla (4,4)))) Y ((Hay una X en la casilla (3,4) Y Hay una X en la casilla (4,4)) >  no (Hay una X en la casilla (5,4)))) Y ((Hay una X en la casilla (4,4) Y Hay una X en la casilla (5,4)) >  no (Hay una X en la casilla (6,4)))) Y ((Hay una X en la casilla (0,5) Y Hay una X en la casilla (1,5)) >  no (Hay una X en la casilla (2,5)))) Y ((Hay una X en la casilla (1,5) Y Hay una X en la casilla (2,5)) >  no (Hay una X en la casilla (3,5)))) Y ((Hay una X en la casilla (2,5) Y Hay una X en la casilla (3,5)) >  no (Hay una X en la casilla (4,5)))) Y ((Hay una X en la casilla (3,5) Y Hay una X en la casilla (4,5)) >  no (Hay una X en la casilla (5,5)))) Y ((Hay una X en la casilla (4,5) Y Hay una X en la casilla (5,5)) >  no (Hay una X en la casilla (6,5)))) Y ((Hay una X en la casilla (0,6) Y Hay una X en la casilla (1,6)) >  no (Hay una X en la casilla (2,6)))) Y ((Hay una X en la casilla (1,6) Y Hay una X en la casilla (2,6)) >  no (Hay una X en la casilla (3,6)))) Y ((Hay una X en la casilla (2,6) Y Hay una X en la casilla (3,6)) >  no (Hay una X en la casilla (4,6)))) Y ((Hay una X en la casilla (3,6) Y Hay una X en la casilla (4,6)) >  no (Hay una X en la casilla (5,6)))) Y ((Hay una X en la casilla (4,6) Y Hay una X en la casilla (5,6)) >  no (Hay una X en la casilla (6,6))))) Y ((((((((((((((((((((((((((((((((((((Hay una X en la casilla (0,0) Y Hay una X en la casilla (1,0)) >  no Hay una X en la casilla (2,0)) Y ((Hay una X en la casilla (1,0) Y Hay una X en la casilla (2,0)) >  no Hay una X en la casilla (3,0))) Y ((Hay una X en la casilla (2,0) Y Hay una X en la casilla (3,0)) >  no Hay una X en la casilla (4,0))) Y ((Hay una X en la casilla (3,0) Y Hay una X en la casilla (4,0)) >  no Hay una X en la casilla (5,0))) Y ((Hay una X en la casilla (4,0) Y Hay una X en la casilla (5,0)) >  no Hay una X en la casilla (6,0))) Y ((Hay una X en la casilla (0,1) Y Hay una X en la casilla (1,1)) >  no Hay una X en la casilla (2,1))) Y ((Hay una X en la casilla (1,1) Y Hay una X en la casilla (2,1)) >  no Hay una X en la casilla (3,1))) Y ((Hay una X en la casilla (2,1) Y Hay una X en la casilla (3,1)) >  no Hay una X en la casilla (4,1))) Y ((Hay una X en la casilla (3,1) Y Hay una X en la casilla (4,1)) >  no Hay una X en la casilla (5,1))) Y ((Hay una X en la casilla (4,1) Y Hay una X en la casilla (5,1)) >  no Hay una X en la casilla (6,1))) Y ((Hay una X en la casilla (0,2) Y Hay una X en la casilla (1,2)) >  no Hay una X en la casilla (2,2))) Y ((Hay una X en la casilla (1,2) Y Hay una X en la casilla (2,2)) >  no Hay una X en la casilla (3,2))) Y ((Hay una X en la casilla (2,2) Y Hay una X en la casilla (3,2)) >  no Hay una X en la casilla (4,2))) Y ((Hay una X en la casilla (3,2) Y Hay una X en la casilla (4,2)) >  no Hay una X en la casilla (5,2))) Y ((Hay una X en la casilla (4,2) Y Hay una X en la casilla (5,2)) >  no Hay una X en la casilla (6,2))) Y ((Hay una X en la casilla (0,3) Y Hay una X en la casilla (1,3)) >  no Hay una X en la casilla (2,3))) Y ((Hay una X en la casilla (1,3) Y Hay una X en la casilla (2,3)) >  no Hay una X en la casilla (3,3))) Y ((Hay una X en la casilla (2,3) Y Hay una X en la casilla (3,3)) >  no Hay una X en la casilla (4,3))) Y ((Hay una X en la casilla (3,3) Y Hay una X en la casilla (4,3)) >  no Hay una X en la casilla (5,3))) Y ((Hay una X en la casilla (4,3) Y Hay una X en la casilla (5,3)) >  no Hay una X en la casilla (6,3))) Y ((Hay una X en la casilla (0,4) Y Hay una X en la casilla (1,4)) >  no Hay una X en la casilla (2,4))) Y ((Hay una X en la casilla (1,4) Y Hay una X en la casilla (2,4)) >  no Hay una X en la casilla (3,4))) Y ((Hay una X en la casilla (2,4) Y Hay una X en la casilla (3,4)) >  no Hay una X en la casilla (4,4))) Y ((Hay una X en la casilla (3,4) Y Hay una X en la casilla (4,4)) >  no Hay una X en la casilla (5,4))) Y ((Hay una X en la casilla (4,4) Y Hay una X en la casilla (5,4)) >  no Hay una X en la casilla (6,4))) Y ((Hay una X en la casilla (0,5) Y Hay una X en la casilla (1,5)) >  no Hay una X en la casilla (2,5))) Y ((Hay una X en la casilla (1,5) Y Hay una X en la casilla (2,5)) >  no Hay una X en la casilla (3,5))) Y ((Hay una X en la casilla (2,5) Y Hay una X en la casilla (3,5)) >  no Hay una X en la casilla (4,5))) Y ((Hay una X en la casilla (3,5) Y Hay una X en la casilla (4,5)) >  no Hay una X en la casilla (5,5))) Y ((Hay una X en la casilla (4,5) Y Hay una X en la casilla (5,5)) >  no Hay una X en la casilla (6,5))) Y ((Hay una X en la casilla (0,6) Y Hay una X en la casilla (1,6)) >  no Hay una X en la casilla (2,6))) Y ((Hay una X en la casilla (1,6) Y Hay una X en la casilla (2,6)) >  no Hay una X en la casilla (3,6))) Y ((Hay una X en la casilla (2,6) Y Hay una X en la casilla (3,6)) >  no Hay una X en la casilla (4,6))) Y ((Hay una X en la casilla (3,6) Y Hay una X en la casilla (4,6)) >  no Hay una X en la casilla (5,6))) Y ((Hay una X en la casilla (4,6) Y Hay una X en la casilla (5,6)) >  no Hay una X en la casilla (6,6)))) Y ((((((((((((((((((((((((((Hay una X en la casilla (0,0) Y Hay una X en la casilla (1,1)) >  no Hay una X en la casilla (2,2)) Y ((Hay una X en la casilla (0,1) Y Hay una X en la casilla (1,2)) >  no Hay una X en la casilla (2,3))) Y ((Hay una X en la casilla (0,2) Y Hay una X en la casilla (1,3)) >  no Hay una X en la casilla (2,4))) Y ((Hay una X en la casilla (0,3) Y Hay una X en la casilla (1,4)) >  no Hay una X en la casilla (2,5))) Y ((Hay una X en la casilla (0,4) Y Hay una X en la casilla (1,5)) >  no Hay una X en la casilla (2,6))) Y ((Hay una X en la casilla (1,0) Y Hay una X en la casilla (2,1)) >  no Hay una X en la casilla (3,2))) Y ((Hay una X en la casilla (1,1) Y Hay una X en la casilla (2,2)) >  no Hay una X en la casilla (3,3))) Y ((Hay una X en la casilla (1,2) Y Hay una X en la casilla (2,3)) >  no Hay una X en la casilla (3,4))) Y ((Hay una X en la casilla (1,3) Y Hay una X en la casilla (2,4)) >  no Hay una X en la casilla (3,5))) Y ((Hay una X en la casilla (1,4) Y Hay una X en la casilla (2,5)) >  no Hay una X en la casilla (3,6))) Y ((Hay una X en la casilla (2,0) Y Hay una X en la casilla (3,1)) >  no Hay una X en la casilla (4,2))) Y ((Hay una X en la casilla (2,1) Y Hay una X en la casilla (3,2)) >  no Hay una X en la casilla (4,3))) Y ((Hay una X en la casilla (2,2) Y Hay una X en la casilla (3,3)) >  no Hay una X en la casilla (4,4))) Y ((Hay una X en la casilla (2,3) Y Hay una X en la casilla (3,4)) >  no Hay una X en la casilla (4,5))) Y ((Hay una X en la casilla (2,4) Y Hay una X en la casilla (3,5)) >  no Hay una X en la casilla (4,6))) Y ((Hay una X en la casilla (3,0) Y Hay una X en la casilla (4,1)) >  no Hay una X en la casilla (5,2))) Y ((Hay una X en la casilla (3,1) Y Hay una X en la casilla (4,2)) >  no Hay una X en la casilla (5,3))) Y ((Hay una X en la casilla (3,2) Y Hay una X en la casilla (4,3)) >  no Hay una X en la casilla (5,4))) Y ((Hay una X en la casilla (3,3) Y Hay una X en la casilla (4,4)) >  no Hay una X en la casilla (5,5))) Y ((Hay una X en la casilla (3,4) Y Hay una X en la casilla (4,5)) >  no Hay una X en la casilla (5,6))) Y ((Hay una X en la casilla (4,0) Y Hay una X en la casilla (5,1)) >  no Hay una X en la casilla (6,2))) Y ((Hay una X en la casilla (4,1) Y Hay una X en la casilla (5,2)) >  no Hay una X en la casilla (6,3))) Y ((Hay una X en la casilla (4,2) Y Hay una X en la casilla (5,3)) >  no Hay una X en la casilla (6,4))) Y ((Hay una X en la casilla (4,3) Y Hay una X en la casilla (5,4)) >  no Hay una X en la casilla (6,5))) Y ((Hay una X en la casilla (4,4) Y Hay una X en la casilla (5,5)) >  no Hay una X en la casilla (6,6)))) Y ((((((((((((((((((((((((((Hay una X en la casilla (0,2) Y Hay una X en la casilla (1,1)) >  no Hay una X en la casilla (2,0)) Y ((Hay una X en la casilla (0,3) Y Hay una X en la casilla (1,2)) >  no Hay una X en la casilla (2,1))) Y ((Hay una X en la casilla (0,4) Y Hay una X en la casilla (1,3)) >  no Hay una X en la casilla (2,2))) Y ((Hay una X en la casilla (0,5) Y Hay una X en la casilla (1,4)) >  no Hay una X en la casilla (2,3))) Y ((Hay una X en la casilla (0,6) Y Hay una X en la casilla (1,5)) >  no Hay una X en la casilla (2,4))) Y ((Hay una X en la casilla (1,2) Y Hay una X en la casilla (2,1)) >  no Hay una X en la casilla (3,0))) Y ((Hay una X en la casilla (1,3) Y Hay una X en la casilla (2,2)) >  no Hay una X en la casilla (3,1))) Y ((Hay una X en la casilla (1,4) Y Hay una X en la casilla (2,3)) >  no Hay una X en la casilla (3,2))) Y ((Hay una X en la casilla (1,5) Y Hay una X en la casilla (2,4)) >  no Hay una X en la casilla (3,3))) Y ((Hay una X en la casilla (1,6) Y Hay una X en la casilla (2,5)) >  no Hay una X en la casilla (3,4))) Y ((Hay una X en la casilla (2,2) Y Hay una X en la casilla (3,1)) >  no Hay una X en la casilla (4,0))) Y ((Hay una X en la casilla (2,3) Y Hay una X en la casilla (3,2)) >  no Hay una X en la casilla (4,1))) Y ((Hay una X en la casilla (2,4) Y Hay una X en la casilla (3,3)) >  no Hay una X en la casilla (4,2))) Y ((Hay una X en la casilla (2,5) Y Hay una X en la casilla (3,4)) >  no Hay una X en la casilla (4,3))) Y ((Hay una X en la casilla (2,6) Y Hay una X en la casilla (3,5)) >  no Hay una X en la casilla (4,4))) Y ((Hay una X en la casilla (3,2) Y Hay una X en la casilla (4,1)) >  no Hay una X en la casilla (5,0))) Y ((Hay una X en la casilla (3,3) Y Hay una X en la casilla (4,2)) >  no Hay una X en la casilla (5,1))) Y ((Hay una X en la casilla (3,4) Y Hay una X en la casilla (4,3)) >  no Hay una X en la casilla (5,2))) Y ((Hay una X en la casilla (3,5) Y Hay una X en la casilla (4,4)) >  no Hay una X en la casilla (5,3))) Y ((Hay una X en la casilla (3,6) Y Hay una X en la casilla (4,5)) >  no Hay una X en la casilla (5,4))) Y ((Hay una X en la casilla (4,2) Y Hay una X en la casilla (5,1)) >  no Hay una X en la casilla (6,0))) Y ((Hay una X en la casilla (4,3) Y Hay una X en la casilla (5,2)) >  no Hay una X en la casilla (6,1))) Y ((Hay una X en la casilla (4,4) Y Hay una X en la casilla (5,3)) >  no Hay una X en la casilla (6,2))) Y ((Hay una X en la casilla (4,5) Y Hay una X en la casilla (5,4)) >  no Hay una X en la casilla (6,3))) Y ((Hay una X en la casilla (4,6) Y Hay una X en la casilla (5,5)) >  no Hay una X en la casilla (6,4))))\n"
     ]
    }
   ],
   "source": [
    "regla2 = Ytoria(Direcciones)\n",
    "print(regla2)\n",
    "print(visualizar_formula(regla2, XenC))"
   ]
  },
  {
   "cell_type": "markdown",
   "metadata": {},
   "source": [
    "---"
   ]
  },
  {
   "cell_type": "markdown",
   "metadata": {},
   "source": [
    "## Restricción 3\n",
    "\n",
    "La tercera restricción indica que deben haber como mínimo 3 $X$ en cada fila y columna del tablero. Para satisfacer esta restricción, se debe implementar la misma en horizontal y vertical.\n",
    "\n",
    "$$\\bigwedge_{x\\in\\{0,1\\}}\\bigwedge_{y\\in\\{0,1\\}}\\bigwedge_{n\\in Numeros}\\left(OenCasilla_{x,y,n}\\to\\neg\\left(\\bigvee_{m\\neq n} OenCasilla_{x,y,m}\\right)\\right)$$\n"
   ]
  },
  {
   "cell_type": "markdown",
   "metadata": {},
   "source": [
    "**Ejercicio 3:** Implemente la fórmula anterior como un string de Python."
   ]
  },
  {
   "cell_type": "code",
   "execution_count": null,
   "metadata": {},
   "outputs": [],
   "source": [
    "formula1 = ''\n",
    "formula_n = '' \n",
    "formula_y = ''\n",
    "formula_x = ''\n",
    "for x in X:\n",
    "    for y in Y:\n",
    "        for n in numeros:\n",
    "            numero = n\n",
    "            otros_numeros = [m for m in numeros if m != n]\n",
    "            inicial = True\n",
    "            for numero in otros_numeros:\n",
    "                m = numero\n",
    "                if inicial:\n",
    "                    formula1 = OenCasilla.P([x,y,m])\n",
    "                    inicial = False\n",
    "                else:\n",
    "                    formula1 = \"(\" + formula1 + \"O\" + OenCasilla.P([x,y,m]) + \")\"\n",
    "            formula1 = \"(\" + OenCasilla.P([x,y,n]) + \">-\" + formula1 + \")\"\n",
    "            if n==0:\n",
    "                formula_n = formula1\n",
    "            else:\n",
    "                formula_n = \"(\" + formula_n + \"Y\" + formula1 + \")\"\n",
    "        if y==0:\n",
    "            formula_y = formula_n\n",
    "        else:\n",
    "            formula_y = \"(\" + formula_y + \"Y\" + formula_n + \")\"\n",
    "    if x==0:\n",
    "        formula_x = formula_y\n",
    "    else:\n",
    "        formula_x = \"(\" + formula_x + \"Y\" + formula_y + \")\"\n",
    "\n",
    "print(formula_x + \"\\n\")\n",
    "print(visualizar_formula(formula_x, OenCasilla))\n",
    "                "
   ]
  },
  {
   "cell_type": "markdown",
   "metadata": {},
   "source": [
    "---"
   ]
  }
 ],
 "metadata": {
  "kernelspec": {
   "display_name": "Python 3",
   "language": "python",
   "name": "python3"
  }
 },
 "nbformat": 4,
 "nbformat_minor": 4
}
